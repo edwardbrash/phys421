{
 "cells": [
  {
   "cell_type": "code",
   "execution_count": 1,
   "metadata": {},
   "outputs": [],
   "source": [
    "# example making a random walk and showing that the distribution after a number of\n",
    "# steps is a gaussian \n",
    "import numpy as np\n",
    "%matplotlib inline\n",
    "import matplotlib.pyplot as plt\n",
    "from scipy import stats # has lots of distribution functions in it\n",
    "import random\n",
    "\n",
    "from math import erfc   # complimentary error function \n",
    "\n",
    "# randomly walk nsteps and return the x value\n",
    "# starting at x=0\n",
    "#\n",
    "# each step has zero mean and a variance of 1\n",
    "#\n",
    "# so, sometimes the steps are forward, and sometimes the steps are backwards, and\n",
    "# the LENGTH of each step is variable, according to a Gaussian with a sigma of 1.\n",
    "\n",
    "def walkn(nsteps):  # random walk using a normal distribution for step sizes\n",
    "    r = stats.poisson.rvs(size=nsteps, mu=1)  # normal distribution mean=0 variance=1\n",
    "    \n",
    "    for num in r:\n",
    "        if(random.random() < 0.5):\n",
    "            temp = r[num-1]\n",
    "            neg_val = -temp\n",
    "            r[num-1] = neg_val\n",
    "\n",
    "    # r is a vector values randomly generated with a normal distribution\n",
    "    return sum(r)  # the sum of the entire vector!  If we just add up all the steps\n",
    "                   # we will get the final position!!!\n",
    "\n",
    "# walk npart numbers of particles (or sailors) nsteps and return a vector of x positions\n",
    "# the function that gives us a randomly generated position is walkn\n",
    "def npart_walkn(npart,nsteps):\n",
    "    xvec = np.zeros(0)\n",
    "    for i in range(npart):\n",
    "        x = walkn(nsteps)  # a single random walk value\n",
    "        xvec = np.append(xvec,x)  # append each random walk to the vector\n",
    "    return xvec  # we return a vector - each element is the final position of a sailors.\n",
    "\n",
    "nsteps = 100 # number of steps\n",
    "npart = 1000 # number of particles (sailors) to let walk around\n",
    "\n",
    "# fill a vector with npart walkers each walking nsteps\n",
    "xvec = npart_walkn(npart,nsteps)"
   ]
  },
  {
   "cell_type": "code",
   "execution_count": 2,
   "metadata": {},
   "outputs": [
    {
     "data": {
      "text/plain": [
       "[<matplotlib.lines.Line2D at 0x2e17f4e5640>]"
      ]
     },
     "execution_count": 2,
     "metadata": {},
     "output_type": "execute_result"
    },
    {
     "data": {
      "image/png": "[encoded data removed]",
      "text/plain": [
       "<Figure size 432x288 with 1 Axes>"
      ]
     },
     "metadata": {
      "needs_background": "light"
     },
     "output_type": "display_data"
    }
   ],
   "source": [
    "# plot the histogram, i.e., measured distribution of final positions \n",
    "#   after n steps of random walking \n",
    "n, bins, patches = plt.hist(xvec,bins=20,density=True)\n",
    "#\n",
    "# density = True will make it a normalized probability histogram\n",
    "#\n",
    "# this retuns as n the number of values counted, bins is the x values of the bins, \n",
    "# patches is for plotting the histogram\n",
    "#\n",
    "# bins will be the most important thing here - we will use that below\n",
    "#\n",
    "plt.xlabel(\"x\",fontsize=22)\n",
    "plt.ylabel(\"p(x)\",fontsize=22)  # probability!\n",
    "\n",
    "# a gaussian probability density distribution, this is a function!\n",
    "mygaus = stats.norm(0.0, np.sqrt(nsteps))  # should scale with sqrt(nsteps)\n",
    "y = mygaus.pdf(bins)  # evaluate the function at the bin locations\n",
    "plt.plot(bins,y,\"k\", lw=3 )  #plot the expected density distribution as a black line"
   ]
  },
  {
   "cell_type": "code",
   "execution_count": 3,
   "metadata": {},
   "outputs": [
    {
     "data": {
      "text/plain": [
       "[<matplotlib.lines.Line2D at 0x2e17f625ee0>]"
      ]
     },
     "execution_count": 3,
     "metadata": {},
     "output_type": "execute_result"
    },
    {
     "data": {
      "image/png": "[encoded data removed]",
      "text/plain": [
       "<Figure size 432x288 with 1 Axes>"
      ]
     },
     "metadata": {
      "needs_background": "light"
     },
     "output_type": "display_data"
    }
   ],
   "source": [
    "# check that if we increase the number of particles we get the same answer\n",
    "nsteps = 400 # number of steps\n",
    "npart = 4000   # number of particles to let walk around\n",
    "xvec = npart_walkn(npart,nsteps)\n",
    "\n",
    "# plot the histogram, i.e., measured distribution of final positions after n steps of random walking around\n",
    "n, bins, patches =plt.hist(xvec,bins=30,density=True)\n",
    "plt.xlabel(\"x\",fontsize=22)\n",
    "plt.ylabel(\"p(x)\",fontsize=22)\n",
    "\n",
    "# a gaussian probability density distribution - is a function!\n",
    "mygaus = stats.norm(0.0, np.sqrt(nsteps))  # should scale with sqrt(nsteps)\n",
    "y = mygaus.pdf(bins) # evaluate the probability distribution at the bin values\n",
    "plt.plot(bins,y,\"r\", lw=3 )  #plot the expected density distribution as a red line"
   ]
  },
  {
   "cell_type": "code",
   "execution_count": 4,
   "metadata": {},
   "outputs": [
    {
     "data": {
      "text/plain": [
       "2.465327508064692"
      ]
     },
     "execution_count": 4,
     "metadata": {},
     "output_type": "execute_result"
    }
   ],
   "source": [
    "# notes on the stats package\n",
    "n=0\n",
    "stats.norm.rvs(size=n)  # returns a vector n long that has random values from a normal distribution\n",
    "stats.norm.rvs()  # returns a single random number (generated from a normal distribution)\n",
    "func = stats.norm.pdf  # a probability density function that is normal!\n",
    "# you can call this with func(x)\n",
    "mean=0; std=1\n",
    "stats.norm(mean, std).rvs()  # uses a normal distribution with mean and standard deviation"
   ]
  },
  {
   "cell_type": "code",
   "execution_count": 5,
   "metadata": {},
   "outputs": [],
   "source": [
    "func = stats.norm.pdf"
   ]
  },
  {
   "cell_type": "code",
   "execution_count": 6,
   "metadata": {},
   "outputs": [
    {
     "data": {
      "text/plain": [
       "(array([ 0.,  0.,  0.,  0.,  0.,  0.,  0.,  0.,  0.,  0.,  0.,  0.,  0.,\n",
       "         0.,  0.,  0.,  0.,  0.,  0.,  0., 40.,  0.,  0.,  0.,  0.,  0.,\n",
       "         0.,  0.,  0.,  0.,  0.,  0.,  0.,  0.,  0.,  0.,  0.,  0.,  0.,\n",
       "         0.]),\n",
       " array([-0.5  , -0.475, -0.45 , -0.425, -0.4  , -0.375, -0.35 , -0.325,\n",
       "        -0.3  , -0.275, -0.25 , -0.225, -0.2  , -0.175, -0.15 , -0.125,\n",
       "        -0.1  , -0.075, -0.05 , -0.025,  0.   ,  0.025,  0.05 ,  0.075,\n",
       "         0.1  ,  0.125,  0.15 ,  0.175,  0.2  ,  0.225,  0.25 ,  0.275,\n",
       "         0.3  ,  0.325,  0.35 ,  0.375,  0.4  ,  0.425,  0.45 ,  0.475,\n",
       "         0.5  ]),\n",
       " <BarContainer object of 40 artists>)"
      ]
     },
     "execution_count": 6,
     "metadata": {},
     "output_type": "execute_result"
    },
    {
     "data": {
      "image/png": "[encoded data removed]",
      "text/plain": [
       "<Figure size 432x288 with 1 Axes>"
      ]
     },
     "metadata": {
      "needs_background": "light"
     },
     "output_type": "display_data"
    }
   ],
   "source": [
    "def walk_ditch(xditch,nsteps,sigma):  # random walk using a normal distribution for step sizes\n",
    "    r = stats.poisson.rvs(size=nsteps,mu=1)  # normal distribution mean=0 variance=sigma^2\n",
    "    # r is a vector values randomly generated with a normal distribution\n",
    "        \n",
    "    for num in r:\n",
    "        if(random.random() < 0.5):\n",
    "            temp = r[num-1]\n",
    "            neg_val = -temp\n",
    "            r[num-1] = neg_val\n",
    "            \n",
    "    xpos = 0.0\n",
    "    for i in range(nsteps):\n",
    "        xpos += r[i]\n",
    "        if xpos>xditch:\n",
    "            return False\n",
    "    return True\n",
    "    \n",
    "def npart_walk_ditch(npart,xditch,nsteps,sigma):\n",
    "    \n",
    "    survive_sum = 0.0\n",
    "    xvec = np.zeros(0)\n",
    "    for i in range(npart):\n",
    "        survive = walk_ditch(xditch,nsteps,sigma)  # a single random walk result\n",
    "        if survive:\n",
    "            survive_sum += 1\n",
    "\n",
    "    survive_prob = survive_sum/npart\n",
    "    return survive_prob\n",
    "\n",
    "nsteps = 100 # number of steps\n",
    "npart = 1000 # number of particles (sailors) to let walk around\n",
    "\n",
    "# fill a vector with npart walkers each walking nsteps\n",
    "\n",
    "sigma = 1.0\n",
    "xditch = 1.0*np.sqrt(nsteps)*sigma\n",
    "\n",
    "N_trials = 1000\n",
    "\n",
    "sprobdist = []\n",
    "\n",
    "for i in range(N_trials):\n",
    "    prob = npart_walk_ditch(npart,xditch,nsteps,sigma)\n",
    "    sprobdist.append(prob)\n",
    "\n",
    "plt.hist(sprobdist,bins=40,density=True)"
   ]
  },
  {
   "cell_type": "code",
   "execution_count": 7,
   "metadata": {},
   "outputs": [
    {
     "data": {
      "text/plain": [
       "[<matplotlib.lines.Line2D at 0x2e17f772430>]"
      ]
     },
     "execution_count": 7,
     "metadata": {},
     "output_type": "execute_result"
    },
    {
     "data": {
      "image/png": "[encoded data removed]",
      "text/plain": [
       "<Figure size 432x288 with 1 Axes>"
      ]
     },
     "metadata": {
      "needs_background": "light"
     },
     "output_type": "display_data"
    }
   ],
   "source": [
    "nstepsarray = np.array([20,40,60,80,100,120,140,160,180,200]) # number of steps\n",
    "npart = 1000 # number of particles (sailors) to let walk around\n",
    "\n",
    "from math import erfc\n",
    "\n",
    "# fill a vector with npart walkers each walking nsteps\n",
    "\n",
    "sigma = 1.0\n",
    "xditch = 10\n",
    "\n",
    "sprobdist = []\n",
    "sprobtheory = []\n",
    "\n",
    "for nsteps in nstepsarray:\n",
    "    prob = npart_walk_ditch(npart,xditch,nsteps,sigma)\n",
    "    sprobdist.append(1-prob)\n",
    "    \n",
    "    sigma_N = np.sqrt(nsteps)*sigma\n",
    "    sprobtheory.append(0.5*erfc(xditch/(np.sqrt(2)*sigma_N)))\n",
    "\n",
    "plt.plot(nstepsarray,sprobdist)\n",
    "plt.plot(nstepsarray,sprobtheory)"
   ]
  },
  {
   "cell_type": "code",
   "execution_count": null,
   "metadata": {},
   "outputs": [],
   "source": []
  }
 ],
 "metadata": {
  "kernelspec": {
   "display_name": "Python 3",
   "language": "python",
   "name": "python3"
  },
  "language_info": {
   "codemirror_mode": {
    "name": "ipython",
    "version": 3
   },
   "file_extension": ".py",
   "mimetype": "text/x-python",
   "name": "python",
   "nbconvert_exporter": "python",
   "pygments_lexer": "ipython3",
   "version": "3.8.6"
  }
 },
 "nbformat": 4,
 "nbformat_minor": 4
}
