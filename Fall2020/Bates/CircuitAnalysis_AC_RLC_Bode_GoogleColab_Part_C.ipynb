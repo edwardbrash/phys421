{
  "nbformat": 4,
  "nbformat_minor": 0,
  "metadata": {
    "kernelspec": {
      "display_name": "Python 3",
      "language": "python",
      "name": "python3"
    },
    "language_info": {
      "codemirror_mode": {
        "name": "ipython",
        "version": 3
      },
      "file_extension": ".py",
      "mimetype": "text/x-python",
      "name": "python",
      "nbconvert_exporter": "python",
      "pygments_lexer": "ipython3",
      "version": "3.6.8"
    },
    "colab": {
      "name": "CircuitAnalysis_AC_RLC_Bode_GoogleColab_Part_C.ipynb",
      "provenance": [],
      "collapsed_sections": []
    }
  },
  "cells": [
    {
      "cell_type": "code",
      "metadata": {
        "id": "-FR_f7YWFAil",
        "colab": {
          "base_uri": "https://localhost:8080/"
        },
        "outputId": "f3fbc2db-d1ef-496f-f88b-5f10d2ad721d"
      },
      "source": [
        "import math\n",
        "\n",
        "import numpy as np\n",
        "import matplotlib.pyplot as plt\n",
        "\n",
        "!pip install PySpice\n",
        "\n",
        "!cat /etc/*release \n",
        "!rm libngspice.so*\n",
        "!rm libngspice.la*\n",
        "!wget http://www.pcs.cnu.edu/~brash/libngspice.so\n",
        "!wget http://www.pcs.cnu.edu/~brash/libngspice.la\n",
        "\n",
        "!rm /usr/local/lib/libngspice.*\n",
        "!cp /content/libngspice.so /usr/local/lib/libngspice.so.0.0.0\n",
        "!ln -snf /usr/local/lib/libngspice.so.0.0.0 /usr/local/lib/libngspice.so.0\n",
        "!ln -snf /usr/local/lib/libngspice.so.0.0.0 /usr/local/lib/libngspice.so\n",
        "!cp /content/libngspice.la /usr/local/lib/libngspice.la\n",
        "!ls -al /usr/local/lib\n",
        "!sudo ldconfig\n",
        "\n",
        "import PySpice.Logging.Logging as Logging\n",
        "logger = Logging.setup_logging()\n",
        "\n",
        "from PySpice.Plot.BodeDiagram import bode_diagram\n",
        "from PySpice.Spice.Netlist import Circuit\n",
        "from PySpice.Unit import *"
      ],
      "execution_count": 1,
      "outputs": [
        {
          "output_type": "stream",
          "text": [
            "Requirement already satisfied: PySpice in /usr/local/lib/python3.6/dist-packages (1.4.3)\n",
            "Requirement already satisfied: cffi>=1.14 in /usr/local/lib/python3.6/dist-packages (from PySpice) (1.14.4)\n",
            "Requirement already satisfied: matplotlib>=3.2 in /usr/local/lib/python3.6/dist-packages (from PySpice) (3.2.2)\n",
            "Requirement already satisfied: requests>=2.23 in /usr/local/lib/python3.6/dist-packages (from PySpice) (2.23.0)\n",
            "Requirement already satisfied: numpy>=1.18 in /usr/local/lib/python3.6/dist-packages (from PySpice) (1.19.4)\n",
            "Requirement already satisfied: scipy>=1.4 in /usr/local/lib/python3.6/dist-packages (from PySpice) (1.4.1)\n",
            "Requirement already satisfied: PyYAML>=5.3 in /usr/local/lib/python3.6/dist-packages (from PySpice) (5.3.1)\n",
            "Requirement already satisfied: ply>=3.11 in /usr/local/lib/python3.6/dist-packages (from PySpice) (3.11)\n",
            "Requirement already satisfied: pycparser in /usr/local/lib/python3.6/dist-packages (from cffi>=1.14->PySpice) (2.20)\n",
            "Requirement already satisfied: cycler>=0.10 in /usr/local/lib/python3.6/dist-packages (from matplotlib>=3.2->PySpice) (0.10.0)\n",
            "Requirement already satisfied: kiwisolver>=1.0.1 in /usr/local/lib/python3.6/dist-packages (from matplotlib>=3.2->PySpice) (1.3.1)\n",
            "Requirement already satisfied: python-dateutil>=2.1 in /usr/local/lib/python3.6/dist-packages (from matplotlib>=3.2->PySpice) (2.8.1)\n",
            "Requirement already satisfied: pyparsing!=2.0.4,!=2.1.2,!=2.1.6,>=2.0.1 in /usr/local/lib/python3.6/dist-packages (from matplotlib>=3.2->PySpice) (2.4.7)\n",
            "Requirement already satisfied: urllib3!=1.25.0,!=1.25.1,<1.26,>=1.21.1 in /usr/local/lib/python3.6/dist-packages (from requests>=2.23->PySpice) (1.24.3)\n",
            "Requirement already satisfied: idna<3,>=2.5 in /usr/local/lib/python3.6/dist-packages (from requests>=2.23->PySpice) (2.10)\n",
            "Requirement already satisfied: certifi>=2017.4.17 in /usr/local/lib/python3.6/dist-packages (from requests>=2.23->PySpice) (2020.12.5)\n",
            "Requirement already satisfied: chardet<4,>=3.0.2 in /usr/local/lib/python3.6/dist-packages (from requests>=2.23->PySpice) (3.0.4)\n",
            "Requirement already satisfied: six in /usr/local/lib/python3.6/dist-packages (from cycler>=0.10->matplotlib>=3.2->PySpice) (1.15.0)\n",
            "DISTRIB_ID=Ubuntu\n",
            "DISTRIB_RELEASE=18.04\n",
            "DISTRIB_CODENAME=bionic\n",
            "DISTRIB_DESCRIPTION=\"Ubuntu 18.04.5 LTS\"\n",
            "NAME=\"Ubuntu\"\n",
            "VERSION=\"18.04.5 LTS (Bionic Beaver)\"\n",
            "ID=ubuntu\n",
            "ID_LIKE=debian\n",
            "PRETTY_NAME=\"Ubuntu 18.04.5 LTS\"\n",
            "VERSION_ID=\"18.04\"\n",
            "HOME_URL=\"https://www.ubuntu.com/\"\n",
            "SUPPORT_URL=\"https://help.ubuntu.com/\"\n",
            "BUG_REPORT_URL=\"https://bugs.launchpad.net/ubuntu/\"\n",
            "PRIVACY_POLICY_URL=\"https://www.ubuntu.com/legal/terms-and-policies/privacy-policy\"\n",
            "VERSION_CODENAME=bionic\n",
            "UBUNTU_CODENAME=bionic\n",
            "--2020-12-22 00:57:54--  http://www.pcs.cnu.edu/~brash/libngspice.so\n",
            "Resolving www.pcs.cnu.edu (www.pcs.cnu.edu)... 137.155.2.49\n",
            "Connecting to www.pcs.cnu.edu (www.pcs.cnu.edu)|137.155.2.49|:80... connected.\n",
            "HTTP request sent, awaiting response... 301 Moved Permanently\n",
            "Location: https://www.pcs.cnu.edu/~brash/libngspice.so [following]\n",
            "--2020-12-22 00:57:55--  https://www.pcs.cnu.edu/~brash/libngspice.so\n",
            "Connecting to www.pcs.cnu.edu (www.pcs.cnu.edu)|137.155.2.49|:443... connected.\n",
            "HTTP request sent, awaiting response... 200 OK\n",
            "Length: 7270088 (6.9M)\n",
            "Saving to: ‘libngspice.so’\n",
            "\n",
            "libngspice.so       100%[===================>]   6.93M  8.58MB/s    in 0.8s    \n",
            "\n",
            "2020-12-22 00:57:56 (8.58 MB/s) - ‘libngspice.so’ saved [7270088/7270088]\n",
            "\n",
            "--2020-12-22 00:57:56--  http://www.pcs.cnu.edu/~brash/libngspice.la\n",
            "Resolving www.pcs.cnu.edu (www.pcs.cnu.edu)... 137.155.2.49\n",
            "Connecting to www.pcs.cnu.edu (www.pcs.cnu.edu)|137.155.2.49|:80... connected.\n",
            "HTTP request sent, awaiting response... 301 Moved Permanently\n",
            "Location: https://www.pcs.cnu.edu/~brash/libngspice.la [following]\n",
            "--2020-12-22 00:57:56--  https://www.pcs.cnu.edu/~brash/libngspice.la\n",
            "Connecting to www.pcs.cnu.edu (www.pcs.cnu.edu)|137.155.2.49|:443... connected.\n",
            "HTTP request sent, awaiting response... 200 OK\n",
            "Length: 984\n",
            "Saving to: ‘libngspice.la’\n",
            "\n",
            "libngspice.la       100%[===================>]     984  --.-KB/s    in 0s      \n",
            "\n",
            "2020-12-22 00:57:56 (172 MB/s) - ‘libngspice.la’ saved [984/984]\n",
            "\n",
            "total 774636\n",
            "drwxr-xr-x 1 root root      4096 Dec 22 00:57 .\n",
            "drwxr-xr-x 1 root root      4096 Dec 16 17:37 ..\n",
            "-rwxr-xr-x 1 root root    623351 Dec 16 17:20 libiomp5_db.so\n",
            "-rwxr-xr-x 1 root root   2148379 Dec 16 17:30 libiomp5.so\n",
            "-rwxr-xr-x 1 root root    111367 Dec 16 17:30 libiompstubs5.so\n",
            "-rwxr-xr-x 1 root root  61284548 Dec 16 17:30 libmkl_avx2.so\n",
            "-rwxr-xr-x 1 root root  75349127 Dec 16 17:30 libmkl_avx512_mic.so\n",
            "-rwxr-xr-x 1 root root  67828158 Dec 16 17:30 libmkl_avx512.so\n",
            "-rwxr-xr-x 1 root root  52364520 Dec 16 17:30 libmkl_avx.so\n",
            "-rwxr-xr-x 1 root root    499647 Dec 16 17:30 libmkl_blacs_intelmpi_ilp64.so\n",
            "-rwxr-xr-x 1 root root    302138 Dec 16 17:30 libmkl_blacs_intelmpi_lp64.so\n",
            "-rwxr-xr-x 1 root root    500791 Dec 16 17:30 libmkl_blacs_openmpi_ilp64.so\n",
            "-rwxr-xr-x 1 root root    307346 Dec 16 17:30 libmkl_blacs_openmpi_lp64.so\n",
            "-rwxr-xr-x 1 root root    499968 Dec 16 17:30 libmkl_blacs_sgimpt_ilp64.so\n",
            "-rwxr-xr-x 1 root root    302427 Dec 16 17:30 libmkl_blacs_sgimpt_lp64.so\n",
            "-rwxr-xr-x 1 root root    169464 Dec 16 17:30 libmkl_cdft_core.so\n",
            "-rwxr-xr-x 1 root root  68880975 Dec 16 17:30 libmkl_core.so\n",
            "-rwxr-xr-x 1 root root  40782876 Dec 16 17:30 libmkl_def.so\n",
            "-rwxr-xr-x 1 root root  10069684 Dec 16 17:30 libmkl_gf_ilp64.so\n",
            "-rwxr-xr-x 1 root root  10906976 Dec 16 17:30 libmkl_gf_lp64.so\n",
            "-rwxr-xr-x 1 root root  24672078 Dec 16 17:30 libmkl_gnu_thread.so\n",
            "-rwxr-xr-x 1 root root  10124875 Dec 16 17:30 libmkl_intel_ilp64.so\n",
            "-rwxr-xr-x 1 root root  10962167 Dec 16 17:30 libmkl_intel_lp64.so\n",
            "-rwxr-xr-x 1 root root  39860456 Dec 16 17:30 libmkl_intel_thread.so\n",
            "-rwxr-xr-x 1 root root  48485743 Dec 16 17:30 libmkl_mc3.so\n",
            "-rwxr-xr-x 1 root root  47138981 Dec 16 17:30 libmkl_mc.so\n",
            "-rwxr-xr-x 1 root root  39426358 Dec 16 17:30 libmkl_pgi_thread.so\n",
            "-rwxr-xr-x 1 root root   6502823 Dec 16 17:30 libmkl_rt.so\n",
            "-rwxr-xr-x 1 root root   7535241 Dec 16 17:30 libmkl_scalapack_ilp64.so\n",
            "-rwxr-xr-x 1 root root   7540838 Dec 16 17:30 libmkl_scalapack_lp64.so\n",
            "-rwxr-xr-x 1 root root  21576868 Dec 16 17:30 libmkl_sequential.so\n",
            "-rwxr-xr-x 1 root root  27563526 Dec 16 17:30 libmkl_tbb_thread.so\n",
            "-rwxr-xr-x 1 root root  12560009 Dec 16 17:30 libmkl_vml_avx2.so\n",
            "-rwxr-xr-x 1 root root  13719372 Dec 16 17:30 libmkl_vml_avx512_mic.so\n",
            "-rwxr-xr-x 1 root root  12291901 Dec 16 17:30 libmkl_vml_avx512.so\n",
            "-rwxr-xr-x 1 root root  12586415 Dec 16 17:30 libmkl_vml_avx.so\n",
            "-rwxr-xr-x 1 root root   6363904 Dec 16 17:30 libmkl_vml_cmpt.so\n",
            "-rwxr-xr-x 1 root root   6741332 Dec 16 17:30 libmkl_vml_def.so\n",
            "-rwxr-xr-x 1 root root  11324915 Dec 16 17:30 libmkl_vml_mc2.so\n",
            "-rwxr-xr-x 1 root root  11402655 Dec 16 17:30 libmkl_vml_mc3.so\n",
            "-rwxr-xr-x 1 root root  11384936 Dec 16 17:30 libmkl_vml_mc.so\n",
            "-rw-r--r-- 1 root root       984 Dec 22 00:57 libngspice.la\n",
            "lrwxrwxrwx 1 root root        34 Dec 22 00:57 libngspice.so -> /usr/local/lib/libngspice.so.0.0.0\n",
            "lrwxrwxrwx 1 root root        34 Dec 22 00:57 libngspice.so.0 -> /usr/local/lib/libngspice.so.0.0.0\n",
            "-rw-r--r-- 1 root root   7270088 Dec 22 00:57 libngspice.so.0.0.0\n",
            "-rwxr-xr-x 1 root root   1068800 Dec 16 17:20 libomptarget.rtl.level0.so\n",
            "-rwxr-xr-x 1 root root   1102720 Dec 16 17:20 libomptarget.rtl.opencl.so\n",
            "-rwxr-xr-x 1 root root    331336 Dec 16 17:20 libomptarget.rtl.x86_64.so\n",
            "-rwxr-xr-x 1 root root    499464 Dec 16 17:20 libomptarget.so\n",
            "-rw-r--r-- 1 root root    114405 Dec 16 17:30 mkl_msg.cat\n",
            "drwxrwsr-x 1 root staff     4096 Dec  2 21:54 python2.7\n",
            "drwxrwsr-x 1 root staff     4096 Dec  2 21:52 python3.6\n",
            "drwxrwsr-x 1 root staff     4096 Dec  2 21:54 R\n",
            "/sbin/ldconfig.real: /usr/local/lib/python3.6/dist-packages/ideep4py/lib/libmkldnn.so.0 is not a symbolic link\n",
            "\n"
          ],
          "name": "stdout"
        }
      ]
    },
    {
      "cell_type": "code",
      "metadata": {
        "id": "25GxA7GRFAiu",
        "colab": {
          "base_uri": "https://localhost:8080/"
        },
        "outputId": "71d52693-d832-4cbf-c8f0-9a1cc70c7345"
      },
      "source": [
        "circuit1 = Circuit('Four double-pole Low-Pass RLC Filter')\n",
        "\n",
        "inductance = 2653000@u_mH\n",
        "capacitance = 1@u_uF\n",
        "\n",
        "circuit1.SinusoidalVoltageSource('input', 'in', circuit1.gnd, amplitude=1@u_V)\n",
        "# Q = .5\n",
        "circuit1.C(1, 'out5', circuit1.gnd, capacitance)\n",
        "circuit1.C(2, 'out1', circuit1.gnd, capacitance)\n",
        "circuit1.L(1, 1, 'out5', inductance)\n",
        "# Q = 1\n",
        "circuit1.R(1, 'in', 1, 200@u_Ω)\n",
        "circuit1.R(2, 'in', 2, 100@u_Ω)\n",
        "circuit1.R(3, 'in', 3, 50@u_Ω)\n",
        "circuit1.C(3, 'out2', circuit1.gnd, capacitance)\n",
        "circuit1.L(2, 2, 'out1', inductance)\n",
        "# Q = 2\n",
        "circuit1.L(3, 3, 'out2', inductance)\n",
        "# Q = 4\n",
        "R4 = circuit1.R(4, 'in', 4, 25@u_Ω)\n",
        "circuit1.L(4, 4, 'out4', inductance)\n",
        "circuit1.C(4, 'out4', circuit1.gnd, capacitance)"
      ],
      "execution_count": 2,
      "outputs": [
        {
          "output_type": "stream",
          "text": [
            "\u001b[1;32m2020-12-22 00:57:57,798\u001b[0m - \u001b[1;34mPySpice.Spice.Netlist.Node.__init__\u001b[0m - \u001b[1;31mWARNING\u001b[0m - Node name 'in' is a Python keyword\n"
          ],
          "name": "stdout"
        },
        {
          "output_type": "execute_result",
          "data": {
            "text/plain": [
              "Capacitor C4"
            ]
          },
          "metadata": {
            "tags": []
          },
          "execution_count": 2
        }
      ]
    },
    {
      "cell_type": "code",
      "metadata": {
        "id": "YTAZFDfFFAiw",
        "colab": {
          "base_uri": "https://localhost:8080/"
        },
        "outputId": "98c1e97b-4357-4bd8-fb23-d8165242fc74"
      },
      "source": [
        "simulator1 = circuit1.simulator(temperature=25, nominal_temperature=25)\n",
        "analysis1 = simulator1.ac(start_frequency=100@u_Hz, stop_frequency=10@u_kHz, number_of_points=100,  variation='dec')"
      ],
      "execution_count": 3,
      "outputs": [
        {
          "output_type": "stream",
          "text": [
            "\u001b[1;32m2020-12-22 00:57:57,927\u001b[0m - \u001b[1;34mPySpice.Spice.NgSpice.Shared.NgSpiceShared._send_char\u001b[0m - \u001b[1;31mWARNING\u001b[0m - spinit was not found\n",
            "\u001b[1;32m2020-12-22 00:57:57,928\u001b[0m - \u001b[1;34mPySpice.Spice.NgSpice.Shared.NgSpiceShared._send_char\u001b[0m - \u001b[1;31mERROR\u001b[0m - Note: can't find init file.\n"
          ],
          "name": "stdout"
        }
      ]
    },
    {
      "cell_type": "code",
      "metadata": {
        "id": "GQcpUSB3FAix",
        "colab": {
          "base_uri": "https://localhost:8080/"
        },
        "outputId": "bb23f1d5-3b60-4d6d-bd94-8bb26d489bcf"
      },
      "source": [
        "resonant_frequency = 1 / (2 * math.pi * inductance * capacitance)\n",
        "quality_factor = 1 / R4.resistance * math.sqrt(inductance / capacitance)\n",
        "print(\"notch frequency = {:.1f} Hz\".format(resonant_frequency))\n",
        "print(\"Factor of quality = {:.1f}\".format(quality_factor))"
      ],
      "execution_count": 4,
      "outputs": [
        {
          "output_type": "stream",
          "text": [
            "notch frequency = 60.0 Hz\n",
            "Factor of quality = 2060.3\n"
          ],
          "name": "stdout"
        }
      ]
    },
    {
      "cell_type": "code",
      "metadata": {
        "id": "DnpyfenlFAix",
        "colab": {
          "base_uri": "https://localhost:8080/",
          "height": 573
        },
        "outputId": "5423a97c-5e05-4a3d-bc34-ce3002741e17"
      },
      "source": [
        "figure = plt.figure(1, (20, 10))\n",
        "plt.title(\"Bode Diagrams of RLC Filters\")\n",
        "axes = (plt.subplot(211), plt.subplot(212))\n",
        "for out in ('out5', 'out1', 'out2', 'out4'):\n",
        "    bode_diagram(axes=axes,\n",
        "                 frequency=analysis1.frequency,\n",
        "                 gain=20*np.log10(np.absolute(analysis1[out])),\n",
        "                 phase=np.angle(analysis1[out], deg=False),\n",
        "                 marker='.',\n",
        "                 color='blue',\n",
        "                 linestyle='-',\n",
        "    )\n",
        "for axe in axes:\n",
        "    axe.axvline(x=resonant_frequency, color='red')"
      ],
      "execution_count": 5,
      "outputs": [
        {
          "output_type": "stream",
          "text": [
            "\u001b[1;32m2020-12-22 00:57:58,014\u001b[0m - \u001b[1;34mPySpice.Probe.WaveForm.WaveForm.__array_ufunc__\u001b[0m - \u001b[1;31mWARNING\u001b[0m - Should be unit less\n",
            "\u001b[1;32m2020-12-22 00:57:58,015\u001b[0m - \u001b[1;34mPySpice.Probe.WaveForm.WaveForm.__array_ufunc__\u001b[0m - \u001b[1;31mWARNING\u001b[0m - Should be unit less\n",
            "\u001b[1;32m2020-12-22 00:57:58,034\u001b[0m - \u001b[1;34mPySpice.Probe.WaveForm.WaveForm.__array_ufunc__\u001b[0m - \u001b[1;31mWARNING\u001b[0m - Should be unit less\n",
            "\u001b[1;32m2020-12-22 00:57:58,035\u001b[0m - \u001b[1;34mPySpice.Probe.WaveForm.WaveForm.__array_ufunc__\u001b[0m - \u001b[1;31mWARNING\u001b[0m - Should be unit less\n",
            "\u001b[1;32m2020-12-22 00:57:58,046\u001b[0m - \u001b[1;34mPySpice.Probe.WaveForm.WaveForm.__array_ufunc__\u001b[0m - \u001b[1;31mWARNING\u001b[0m - Should be unit less\n",
            "\u001b[1;32m2020-12-22 00:57:58,050\u001b[0m - \u001b[1;34mPySpice.Probe.WaveForm.WaveForm.__array_ufunc__\u001b[0m - \u001b[1;31mWARNING\u001b[0m - Should be unit less\n",
            "\u001b[1;32m2020-12-22 00:57:58,062\u001b[0m - \u001b[1;34mPySpice.Probe.WaveForm.WaveForm.__array_ufunc__\u001b[0m - \u001b[1;31mWARNING\u001b[0m - Should be unit less\n",
            "\u001b[1;32m2020-12-22 00:57:58,068\u001b[0m - \u001b[1;34mPySpice.Probe.WaveForm.WaveForm.__array_ufunc__\u001b[0m - \u001b[1;31mWARNING\u001b[0m - Should be unit less\n"
          ],
          "name": "stdout"
        },
        {
          "output_type": "display_data",
          "data": {
            "image/png": "[encoded data removed]",
            "text/plain": [
              "<Figure size 1440x720 with 2 Axes>"
            ]
          },
          "metadata": {
            "tags": [],
            "needs_background": "light"
          }
        }
      ]
    },
    {
      "cell_type": "code",
      "metadata": {
        "id": "4A8axRFSFAiy"
      },
      "source": [
        ""
      ],
      "execution_count": 5,
      "outputs": []
    },
    {
      "cell_type": "code",
      "metadata": {
        "id": "jsshDlpdFAiy"
      },
      "source": [
        ""
      ],
      "execution_count": 5,
      "outputs": []
    }
  ]
}