{
 "cells": [
  {
   "cell_type": "markdown",
   "metadata": {},
   "source": [
    "# Assignment 2\n",
    "\n",
    "Due Date:  11:59pm on Friday, October 2nd (for now)"
   ]
  },
  {
   "cell_type": "markdown",
   "metadata": {},
   "source": [
    "## Question 1 - Fitting Part Deux"
   ]
  },
  {
   "cell_type": "markdown",
   "metadata": {},
   "source": [
    "In the Jupyter Notebook called Fitting_Examples.ipynb, the last few examples considered cases where the uncertainty in the data became\n",
    "larger at small x-values.  We considered three scenarios for collecting\n",
    "the data - one where we focused on small x-values, and two others that covered larger ranges of x.\n",
    "\n",
    "For this question, begin with the Jupyter Notebook above, and modify it\n",
    "to consider 10 x-value ranges that keep the minimum value of the range constant (and fairly close to zero) while varying the maximum x-value from small to larger values.  For each x-value range, calculate the uncertainty in the y-intercept, and then create a plot of the uncertainty as a function of that maximum x-value of the range.\n",
    "\n",
    "Now, consider keeping the maximum x-value of the range constant, and vary the minimum value of the range from a small value, close to zero, to a larger value that is close to the maximum value.  Create a plot of the\n",
    "uncertainty in the y-intercept as a function of the minimum x-value of the range.\n",
    "\n",
    "What can you conclude from this study about the optimal experiment design?"
   ]
  },
  {
   "cell_type": "code",
   "execution_count": 1,
   "metadata": {
    "scrolled": true
   },
   "outputs": [
    {
     "name": "stdout",
     "output_type": "stream",
     "text": [
      "Coefficients (from curve_fit)\n",
      "[0.01862577 0.98780587]\n",
      "Covariance Matrix (from curve_fit)\n",
      "[[ 0.05363028 -0.00939385]\n",
      " [-0.00939385  0.00177873]]\n",
      "\n",
      "Final Result: y = (0.99 +/- 0.04) x + (0.02 +/- 0.23)\n"
     ]
    },
    {
     "data": {
      "text/plain": [
       "<Figure size 640x480 with 1 Axes>"
      ]
     },
     "metadata": {},
     "output_type": "display_data"
    }
   ],
   "source": [
    "import numpy as np\n",
    "import pandas as pd\n",
    "import matplotlib.pyplot as plt\n",
    "import scipy.stats as stats\n",
    "\n",
    "npts = 11\n",
    "xlow = 0.1\n",
    "xhigh = 7\n",
    "\n",
    "xl = xlow\n",
    "xmid = (xhigh+xlow)/2.0+0.01\n",
    "\n",
    "xi = np.linspace(xlow,xhigh,npts)\n",
    "yrandom = stats.norm.rvs(size=npts,loc=0,scale=.2)\n",
    "yi = xi + yrandom\n",
    "\n",
    "sigmai = np.array([0.1+ 1.5/np.abs(xi[i]) for i in range(npts)])\n",
    "plt.errorbar(xi, yi, yerr=sigmai, fmt='o', capsize=5, capthick=2)\n",
    "\n",
    "from scipy.optimize import curve_fit\n",
    "\n",
    "def fitfunction(x, *paramlist):\n",
    "    return paramlist[0] + paramlist[1] * x\n",
    "\n",
    "\n",
    "\n",
    "init_vals = [0.0 for x in range(2)]\n",
    "popt, pcov = curve_fit(fitfunction,xi,yi,p0=init_vals,sigma=sigmai)\n",
    "perr = np.sqrt(np.diag(pcov))\n",
    "\n",
    "ps = np.random.multivariate_normal(popt,pcov,10000)\n",
    "ysample=np.asarray([fitfunction(xi,*pi) for pi in ps])\n",
    "\n",
    "lower = np.percentile(ysample,2.5,axis=0)\n",
    "upper = np.percentile(ysample,97.5,axis=0)\n",
    "middle = (lower+upper)/2.0\n",
    "\n",
    "print(\"Coefficients (from curve_fit)\")\n",
    "print (popt)\n",
    "print(\"Covariance Matrix (from curve_fit)\")\n",
    "print (pcov)\n",
    "\n",
    "print()\n",
    "print (\"Final Result: y = (%0.2f +/- %0.2f) x + (%0.2f +/- %0.2f)\" % (popt[1],perr[1],popt[0],perr[0]))\n",
    "\n",
    "plt.errorbar(xi, yi, yerr=sigmai, fmt='o', capsize=5, capthick=2)\n",
    "\n",
    "plt.plot(xi,middle)\n",
    "plt.plot(xi,lower)\n",
    "plt.plot(xi,upper)\n",
    "plt.show()\n",
    "\n",
    "slope = []\n",
    "dslope = []\n",
    "yint = []\n",
    "dyint = []\n",
    "type = []\n",
    "\n",
    "slope.append(popt[1])\n",
    "dslope.append(perr[1])\n",
    "yint.append(popt[0])\n",
    "dyint.append(perr[0])\n",
    "type.append('Increasing at constant low-x')"
   ]
  },
  {
   "cell_type": "code",
   "execution_count": 2,
   "metadata": {},
   "outputs": [
    {
     "name": "stdout",
     "output_type": "stream",
     "text": [
      "Coefficients (from curve_fit)\n",
      "[-0.23143457  1.08401167]\n",
      "Covariance Matrix (from curve_fit)\n",
      "[[ 0.01943982 -0.00340506]\n",
      " [-0.00340506  0.00064475]]\n",
      "\n",
      "Final Result: y = (1.08 +/- 0.03) x + (-0.23 +/- 0.14)\n"
     ]
    },
    {
     "data": {
      "image/png": "[encoded data removed]",
      "text/plain": [
       "<Figure size 432x288 with 1 Axes>"
      ]
     },
     "metadata": {
      "needs_background": "light"
     },
     "output_type": "display_data"
    }
   ],
   "source": [
    "import numpy as np\n",
    "import pandas as pd\n",
    "import matplotlib.pyplot as plt\n",
    "import scipy.stats as stats\n",
    "\n",
    "npts = 11\n",
    "xlow = 0.1\n",
    "xhigh = 7\n",
    "\n",
    "xl = (xhigh+xlow)/2.0+0.01\n",
    "xmid = xhigh\n",
    "\n",
    "xi = np.linspace(xlow,xhigh,npts)\n",
    "yrandom = stats.norm.rvs(size=npts,loc=0,scale=.2)\n",
    "yi = xi + yrandom\n",
    "\n",
    "sigmai = np.array([0.1+ 1.5/np.abs(xi[i]) for i in range(npts)])\n",
    "plt.errorbar(xi, yi, yerr=sigmai, fmt='o', capsize=5, capthick=2)\n",
    "\n",
    "from scipy.optimize import curve_fit\n",
    "\n",
    "def fitfunction(x, *paramlist):\n",
    "    return paramlist[0] + paramlist[1] * x\n",
    "\n",
    "\n",
    "\n",
    "init_vals = [0.0 for x in range(2)]\n",
    "popt, pcov = curve_fit(fitfunction,xi,yi,p0=init_vals,sigma=sigmai)\n",
    "perr = np.sqrt(np.diag(pcov))\n",
    "\n",
    "ps = np.random.multivariate_normal(popt,pcov,10000)\n",
    "ysample=np.asarray([fitfunction(xi,*pi) for pi in ps])\n",
    "\n",
    "lower = np.percentile(ysample,2.5,axis=0)\n",
    "upper = np.percentile(ysample,97.5,axis=0)\n",
    "middle = (lower+upper)/2.0\n",
    "\n",
    "print(\"Coefficients (from curve_fit)\")\n",
    "print (popt)\n",
    "print(\"Covariance Matrix (from curve_fit)\")\n",
    "print (pcov)\n",
    "\n",
    "print()\n",
    "print (\"Final Result: y = (%0.2f +/- %0.2f) x + (%0.2f +/- %0.2f)\" % (popt[1],perr[1],popt[0],perr[0]))\n",
    "\n",
    "plt.errorbar(xi, yi, yerr=sigmai, fmt='o', capsize=5, capthick=2)\n",
    "\n",
    "plt.plot(xi,middle)\n",
    "plt.plot(xi,lower)\n",
    "plt.plot(xi,upper)\n",
    "plt.show()\n",
    "\n",
    "slope = []\n",
    "dslope = []\n",
    "yint = []\n",
    "dyint = []\n",
    "type = []\n",
    "\n",
    "slope.append(popt[1])\n",
    "dslope.append(perr[1])\n",
    "yint.append(popt[0])\n",
    "dyint.append(perr[0])\n",
    "type.append('Increasing constant high-x')"
   ]
  },
  {
   "cell_type": "markdown",
   "metadata": {},
   "source": [
    "For this style of problem, both experiment designs produce a very low\n",
    "uncertainty. However, keeping lower x-values constant generated a lower\n",
    "uncertainty by a factor of 0.4. "
   ]
  },
  {
   "cell_type": "markdown",
   "metadata": {},
   "source": [
    "## Question 2 - Why is it cold?"
   ]
  },
  {
   "cell_type": "markdown",
   "metadata": {},
   "source": [
    "Modify the Jupyter Notebook called GlobalTemperatures.ipynb to consider the temperature variations over the year for five locations - two in the northern hemisphere, one near the equator, and two in the southern hemisphere.  Do not use any of the same locations already considered.\n",
    "\n",
    "What are the scale factors and offsets required to give a reasonable fit in each case?"
   ]
  },
  {
   "cell_type": "code",
   "execution_count": 3,
   "metadata": {},
   "outputs": [],
   "source": [
    "import numpy as np\n",
    "import pandas as pd\n",
    "import matplotlib.pyplot as plt"
   ]
  },
  {
   "cell_type": "code",
   "execution_count": 4,
   "metadata": {},
   "outputs": [],
   "source": [
    "# Number of days in the sidereal year\n",
    "daysPerYear = 365.256363\n",
    "\n",
    "# Array to hold day of year\n",
    "\n",
    "dayOfYear = np.array([i for i in range(1,366)])\n",
    "\n",
    "# Earth-Sun Distance in A.U.\n",
    "rES=1.0-0.01672*np.cos(2.0*np.pi/daysPerYear*(dayOfYear-4))\n",
    "relPower=1/rES**2\n"
   ]
  },
  {
   "cell_type": "code",
   "execution_count": 5,
   "metadata": {},
   "outputs": [],
   "source": [
    "# tilt angle of the earth in 2020\n",
    "tiltAngle = -23.44*np.pi/180.0\n",
    "\n",
    "angle = tiltAngle*np.cos(2.0*np.pi/daysPerYear*(dayOfYear+10))\n",
    "\n",
    "angleNewYork = 49*np.pi/180.0 - angle\n",
    "angleCairo = 60*np.pi/180.0 - angle\n",
    "angleSingapore = 89*np.pi/180.0 - angle\n",
    "angleMacapa = 90*np.pi/180.0 - angle\n",
    "angleLima = 78*np.pi/180.0 - angle"
   ]
  },
  {
   "cell_type": "code",
   "execution_count": 8,
   "metadata": {},
   "outputs": [],
   "source": [
    "from Sun import Sun\n",
    "\n",
    "coords = {'longitude': -75, 'latitude': 40}\n",
    "sun = Sun()\n",
    "sunrise = sun.getSunriseTime(coords)['decimal']\n",
    "sunset = sun.getSunsetTime(coords)['decimal']\n",
    "dayLength = sun.getSunsetTime(coords)['decimal']-sun.getSunriseTime(coords)['decimal']\n",
    "for i in range(len(dayLength)):\n",
    "    if dayLength[i]<0:\n",
    "        dayLength[i] = dayLength[i]+24\n",
    "#print (dayLength)\n",
    "#plt.plot(dayOfYear,sunrise)\n",
    "#plt.plot(dayOfYear,sunset)\n",
    "#plt.plot(dayOfYear,dayLength)\n",
    "lengthCorrectionNewYork = dayLength/12.0\n",
    "\n",
    "coords = {'longitude': 30, 'latitude': 30}\n",
    "sun = Sun()\n",
    "sunrise = sun.getSunriseTime(coords)['decimal']\n",
    "sunset = sun.getSunsetTime(coords)['decimal']\n",
    "dayLength = sun.getSunsetTime(coords)['decimal']-sun.getSunriseTime(coords)['decimal']\n",
    "for i in range(len(dayLength)):\n",
    "    if dayLength[i]<0:\n",
    "        dayLength[i] = dayLength[i]+24\n",
    "#print (dayLength)\n",
    "#plt.plot(dayOfYear,sunrise)\n",
    "#plt.plot(dayOfYear,sunset)\n",
    "#plt.plot(dayOfYear,dayLength)\n",
    "lengthCorrectionCairo = dayLength/12.0\n",
    "\n",
    "coords = {'longitude': 105, 'latitude': 0}\n",
    "sun = Sun()\n",
    "sunrise = sun.getSunriseTime(coords)['decimal']\n",
    "sunset = sun.getSunsetTime(coords)['decimal']\n",
    "dayLength = sun.getSunsetTime(coords)['decimal']-sun.getSunriseTime(coords)['decimal']\n",
    "for i in range(len(dayLength)):\n",
    "    if dayLength[i]<0:\n",
    "        dayLength[i] = dayLength[i]+24\n",
    "#print (dayLength)\n",
    "#plt.plot(dayOfYear,sunrise)\n",
    "#plt.plot(dayOfYear,sunset)\n",
    "#plt.plot(dayOfYear,dayLength)\n",
    "lengthCorrectionSingapore = dayLength/12.0\n",
    "\n",
    "coords = {'longitude': -50, 'latitude': 0}\n",
    "sun = Sun()\n",
    "sunrise = sun.getSunriseTime(coords)['decimal']\n",
    "sunset = sun.getSunsetTime(coords)['decimal']\n",
    "dayLength = sun.getSunsetTime(coords)['decimal']-sun.getSunriseTime(coords)['decimal']\n",
    "for i in range(len(dayLength)):\n",
    "    if dayLength[i]<0:\n",
    "        dayLength[i] = dayLength[i]+24\n",
    "#print (dayLength)\n",
    "#plt.plot(dayOfYear,sunrise)\n",
    "#plt.plot(dayOfYear,sunset)\n",
    "#plt.plot(dayOfYear,dayLength)\n",
    "lengthCorrectionMacapa = dayLength/12.0\n",
    "\n",
    "coords = {'longitude': -75, 'latitude': -10}\n",
    "sun = Sun()\n",
    "sunrise = sun.getSunriseTime(coords)['decimal']\n",
    "sunset = sun.getSunsetTime(coords)['decimal']\n",
    "dayLength = sun.getSunsetTime(coords)['decimal']-sun.getSunriseTime(coords)['decimal']\n",
    "for i in range(len(dayLength)):\n",
    "    if dayLength[i]<0:\n",
    "        dayLength[i] = dayLength[i]+24\n",
    "#print (dayLength)\n",
    "#plt.plot(dayOfYear,sunrise)\n",
    "#plt.plot(dayOfYear,sunset)\n",
    "#plt.plot(dayOfYear,dayLength)\n",
    "lengthCorrectionLima = dayLength/12.0"
   ]
  },
  {
   "cell_type": "code",
   "execution_count": 9,
   "metadata": {},
   "outputs": [
    {
     "name": "stdout",
     "output_type": "stream",
     "text": [
      "0.6438095375955833\n"
     ]
    }
   ],
   "source": [
    "tempNewYorkTheory = (np.cos(angleNewYork)*relPower*np.sqrt(lengthCorrectionNewYork))\n",
    "tempCairoTheory = (np.cos(angleCairo)*relPower*np.sqrt(lengthCorrectionCairo))\n",
    "tempSingaporeTheory = (np.cos(angleSingapore)*relPower*np.sqrt(lengthCorrectionSingapore))\n",
    "tempMacapaTheory = (np.cos(angleMacapa)*relPower*np.sqrt(lengthCorrectionMacapa))\n",
    "tempLimaTheory = (np.cos(angleLima)*relPower*np.sqrt(lengthCorrectionLima))\n",
    "\n",
    "print(tempNewYorkTheory.mean())"
   ]
  },
  {
   "cell_type": "code",
   "execution_count": 10,
   "metadata": {},
   "outputs": [
    {
     "data": {
      "text/plain": [
       "<ErrorbarContainer object of 3 artists>"
      ]
     },
     "execution_count": 10,
     "metadata": {},
     "output_type": "execute_result"
    },
    {
     "data": {
      "image/png": "[encoded data removed]",
      "text/plain": [
       "<Figure size 432x288 with 1 Axes>"
      ]
     },
     "metadata": {
      "needs_background": "light"
     },
     "output_type": "display_data"
    }
   ],
   "source": [
    "tempNewYork = np.array([4, 6, 11, 18, 22, 27, 29, 29, 24, 18, 13, 7])+273.15\n",
    "tempCairo = np.array([20, 21, 24, 29, 33, 35, 36, 35, 33, 30, 25, 21])+273.15\n",
    "tempSingapore = np.array([31, 31, 32, 32, 32, 32, 31, 31, 31, 32, 31, 31])+273.15\n",
    "tempMacapa = np.array([31, 31, 31, 31, 32, 32, 32, 33, 33, 34, 33, 33])+273.15\n",
    "tempLima = np.array([26, 27, 27, 24, 22, 20, 19, 19, 19, 20, 22, 24])+273.15\n",
    "\n",
    "error = np.array([1 for i in range(12)])\n",
    "\n",
    "mean = tempNewYork.max()\n",
    "tempNewYork=tempNewYork/mean\n",
    "tempCairo=tempCairo/mean\n",
    "tempSingapore=tempSingapore/mean\n",
    "tempMacapa = tempMacapa/mean\n",
    "tempLima = tempLima/mean\n",
    "error=error/mean\n",
    "\n",
    "month = np.array([(15+30*(i-2)) for i in range(1,13)])\n",
    "for i in range(len(month)):\n",
    "    if month[i]<0:\n",
    "        month[i]=month[i]+365\n",
    "\n",
    "plt.errorbar(month,tempLima,yerr=error,fmt='ko')\n",
    "plt.errorbar(month,tempMacapa,yerr=error,fmt='mo')\n",
    "plt.errorbar(month,tempSingapore,yerr=error,fmt='ro')\n",
    "plt.errorbar(month,tempCairo,yerr=error,fmt='go')\n",
    "plt.errorbar(month,tempNewYork,yerr=error,fmt='bo')\n"
   ]
  },
  {
   "cell_type": "markdown",
   "metadata": {},
   "source": [
    "In this case, the mean of the data that gives the best fit would be calculating the mean from the set of temperatures closest to the equator, and for this set of data, Singapore."
   ]
  },
  {
   "cell_type": "markdown",
   "metadata": {},
   "source": [
    "## Question 3 - Kater's Pendulum"
   ]
  },
  {
   "cell_type": "markdown",
   "metadata": {},
   "source": [
    "Begin with the example Jupyter Notebook called KaterPendulum.ipynb.  Carry out a full analysis of the data obtained in the subdirectory called ~/KaterPendulum/data/scan2.  The file in this directory called kater_scan2_c2.dat will tell you what the x-positions of the small mass were (they are slightly different than in the example we covered in class).\n",
    "\n",
    "Think about how to \"clean\" the raw data before proceeding with the fits.\n",
    "\n",
    "What value of g is the \"best\" value for this data?  What value of the \"fudge factor\" offset gives the best comparison of the theory to the data? Is this a reasonable offset?"
   ]
  },
  {
   "cell_type": "code",
   "execution_count": 11,
   "metadata": {},
   "outputs": [],
   "source": [
    "import numpy as np\n",
    "import pandas as pd\n",
    "import matplotlib.pyplot as plt"
   ]
  },
  {
   "cell_type": "code",
   "execution_count": 12,
   "metadata": {},
   "outputs": [],
   "source": [
    "#  position of small mass (in cm)\n",
    "xpos = np.array([1.045, 2.044, 3.012, 4.012, 5.061, 6.011, 7.044])\n",
    "dxpos = np.array([0.003 for i in range(len(xpos))])"
   ]
  },
  {
   "cell_type": "code",
   "execution_count": 13,
   "metadata": {},
   "outputs": [
    {
     "ename": "FileNotFoundError",
     "evalue": "[Errno 2] File kater_2_run2.txt does not exist: 'kater_2_run2.txt'",
     "output_type": "error",
     "traceback": [
      "\u001b[0;31m---------------------------------------------------------------------------\u001b[0m",
      "\u001b[0;31mFileNotFoundError\u001b[0m                         Traceback (most recent call last)",
      "\u001b[0;32m<ipython-input-13-beabd1effc11>\u001b[0m in \u001b[0;36m<module>\u001b[0;34m\u001b[0m\n\u001b[1;32m     16\u001b[0m     \u001b[0mfname2\u001b[0m \u001b[0;34m=\u001b[0m \u001b[0mprefix\u001b[0m \u001b[0;34m+\u001b[0m \u001b[0mstr\u001b[0m\u001b[0;34m(\u001b[0m\u001b[0mj\u001b[0m\u001b[0;34m)\u001b[0m \u001b[0;34m+\u001b[0m \u001b[0msuffix\u001b[0m\u001b[0;34m\u001b[0m\u001b[0;34m\u001b[0m\u001b[0m\n\u001b[1;32m     17\u001b[0m \u001b[0;34m\u001b[0m\u001b[0m\n\u001b[0;32m---> 18\u001b[0;31m     \u001b[0mdfup\u001b[0m \u001b[0;34m=\u001b[0m \u001b[0mpd\u001b[0m\u001b[0;34m.\u001b[0m\u001b[0mread_csv\u001b[0m\u001b[0;34m(\u001b[0m\u001b[0mfname1\u001b[0m\u001b[0;34m,\u001b[0m\u001b[0msep\u001b[0m\u001b[0;34m=\u001b[0m\u001b[0;34m'\\t'\u001b[0m\u001b[0;34m)\u001b[0m\u001b[0;34m\u001b[0m\u001b[0;34m\u001b[0m\u001b[0m\n\u001b[0m\u001b[1;32m     19\u001b[0m     \u001b[0mdfdown\u001b[0m \u001b[0;34m=\u001b[0m \u001b[0mpd\u001b[0m\u001b[0;34m.\u001b[0m\u001b[0mread_csv\u001b[0m\u001b[0;34m(\u001b[0m\u001b[0mfname2\u001b[0m\u001b[0;34m,\u001b[0m\u001b[0msep\u001b[0m\u001b[0;34m=\u001b[0m\u001b[0;34m'\\t'\u001b[0m\u001b[0;34m)\u001b[0m\u001b[0;34m\u001b[0m\u001b[0;34m\u001b[0m\u001b[0m\n\u001b[1;32m     20\u001b[0m \u001b[0;34m\u001b[0m\u001b[0m\n",
      "\u001b[0;32m/usr/local/lib64/python3.6/site-packages/pandas/io/parsers.py\u001b[0m in \u001b[0;36mparser_f\u001b[0;34m(filepath_or_buffer, sep, delimiter, header, names, index_col, usecols, squeeze, prefix, mangle_dupe_cols, dtype, engine, converters, true_values, false_values, skipinitialspace, skiprows, skipfooter, nrows, na_values, keep_default_na, na_filter, verbose, skip_blank_lines, parse_dates, infer_datetime_format, keep_date_col, date_parser, dayfirst, cache_dates, iterator, chunksize, compression, thousands, decimal, lineterminator, quotechar, quoting, doublequote, escapechar, comment, encoding, dialect, error_bad_lines, warn_bad_lines, delim_whitespace, low_memory, memory_map, float_precision)\u001b[0m\n\u001b[1;32m    674\u001b[0m         )\n\u001b[1;32m    675\u001b[0m \u001b[0;34m\u001b[0m\u001b[0m\n\u001b[0;32m--> 676\u001b[0;31m         \u001b[0;32mreturn\u001b[0m \u001b[0m_read\u001b[0m\u001b[0;34m(\u001b[0m\u001b[0mfilepath_or_buffer\u001b[0m\u001b[0;34m,\u001b[0m \u001b[0mkwds\u001b[0m\u001b[0;34m)\u001b[0m\u001b[0;34m\u001b[0m\u001b[0;34m\u001b[0m\u001b[0m\n\u001b[0m\u001b[1;32m    677\u001b[0m \u001b[0;34m\u001b[0m\u001b[0m\n\u001b[1;32m    678\u001b[0m     \u001b[0mparser_f\u001b[0m\u001b[0;34m.\u001b[0m\u001b[0m__name__\u001b[0m \u001b[0;34m=\u001b[0m \u001b[0mname\u001b[0m\u001b[0;34m\u001b[0m\u001b[0;34m\u001b[0m\u001b[0m\n",
      "\u001b[0;32m/usr/local/lib64/python3.6/site-packages/pandas/io/parsers.py\u001b[0m in \u001b[0;36m_read\u001b[0;34m(filepath_or_buffer, kwds)\u001b[0m\n\u001b[1;32m    446\u001b[0m \u001b[0;34m\u001b[0m\u001b[0m\n\u001b[1;32m    447\u001b[0m     \u001b[0;31m# Create the parser.\u001b[0m\u001b[0;34m\u001b[0m\u001b[0;34m\u001b[0m\u001b[0;34m\u001b[0m\u001b[0m\n\u001b[0;32m--> 448\u001b[0;31m     \u001b[0mparser\u001b[0m \u001b[0;34m=\u001b[0m \u001b[0mTextFileReader\u001b[0m\u001b[0;34m(\u001b[0m\u001b[0mfp_or_buf\u001b[0m\u001b[0;34m,\u001b[0m \u001b[0;34m**\u001b[0m\u001b[0mkwds\u001b[0m\u001b[0;34m)\u001b[0m\u001b[0;34m\u001b[0m\u001b[0;34m\u001b[0m\u001b[0m\n\u001b[0m\u001b[1;32m    449\u001b[0m \u001b[0;34m\u001b[0m\u001b[0m\n\u001b[1;32m    450\u001b[0m     \u001b[0;32mif\u001b[0m \u001b[0mchunksize\u001b[0m \u001b[0;32mor\u001b[0m \u001b[0miterator\u001b[0m\u001b[0;34m:\u001b[0m\u001b[0;34m\u001b[0m\u001b[0;34m\u001b[0m\u001b[0m\n",
      "\u001b[0;32m/usr/local/lib64/python3.6/site-packages/pandas/io/parsers.py\u001b[0m in \u001b[0;36m__init__\u001b[0;34m(self, f, engine, **kwds)\u001b[0m\n\u001b[1;32m    878\u001b[0m             \u001b[0mself\u001b[0m\u001b[0;34m.\u001b[0m\u001b[0moptions\u001b[0m\u001b[0;34m[\u001b[0m\u001b[0;34m\"has_index_names\"\u001b[0m\u001b[0;34m]\u001b[0m \u001b[0;34m=\u001b[0m \u001b[0mkwds\u001b[0m\u001b[0;34m[\u001b[0m\u001b[0;34m\"has_index_names\"\u001b[0m\u001b[0;34m]\u001b[0m\u001b[0;34m\u001b[0m\u001b[0;34m\u001b[0m\u001b[0m\n\u001b[1;32m    879\u001b[0m \u001b[0;34m\u001b[0m\u001b[0m\n\u001b[0;32m--> 880\u001b[0;31m         \u001b[0mself\u001b[0m\u001b[0;34m.\u001b[0m\u001b[0m_make_engine\u001b[0m\u001b[0;34m(\u001b[0m\u001b[0mself\u001b[0m\u001b[0;34m.\u001b[0m\u001b[0mengine\u001b[0m\u001b[0;34m)\u001b[0m\u001b[0;34m\u001b[0m\u001b[0;34m\u001b[0m\u001b[0m\n\u001b[0m\u001b[1;32m    881\u001b[0m \u001b[0;34m\u001b[0m\u001b[0m\n\u001b[1;32m    882\u001b[0m     \u001b[0;32mdef\u001b[0m \u001b[0mclose\u001b[0m\u001b[0;34m(\u001b[0m\u001b[0mself\u001b[0m\u001b[0;34m)\u001b[0m\u001b[0;34m:\u001b[0m\u001b[0;34m\u001b[0m\u001b[0;34m\u001b[0m\u001b[0m\n",
      "\u001b[0;32m/usr/local/lib64/python3.6/site-packages/pandas/io/parsers.py\u001b[0m in \u001b[0;36m_make_engine\u001b[0;34m(self, engine)\u001b[0m\n\u001b[1;32m   1112\u001b[0m     \u001b[0;32mdef\u001b[0m \u001b[0m_make_engine\u001b[0m\u001b[0;34m(\u001b[0m\u001b[0mself\u001b[0m\u001b[0;34m,\u001b[0m \u001b[0mengine\u001b[0m\u001b[0;34m=\u001b[0m\u001b[0;34m\"c\"\u001b[0m\u001b[0;34m)\u001b[0m\u001b[0;34m:\u001b[0m\u001b[0;34m\u001b[0m\u001b[0;34m\u001b[0m\u001b[0m\n\u001b[1;32m   1113\u001b[0m         \u001b[0;32mif\u001b[0m \u001b[0mengine\u001b[0m \u001b[0;34m==\u001b[0m \u001b[0;34m\"c\"\u001b[0m\u001b[0;34m:\u001b[0m\u001b[0;34m\u001b[0m\u001b[0;34m\u001b[0m\u001b[0m\n\u001b[0;32m-> 1114\u001b[0;31m             \u001b[0mself\u001b[0m\u001b[0;34m.\u001b[0m\u001b[0m_engine\u001b[0m \u001b[0;34m=\u001b[0m \u001b[0mCParserWrapper\u001b[0m\u001b[0;34m(\u001b[0m\u001b[0mself\u001b[0m\u001b[0;34m.\u001b[0m\u001b[0mf\u001b[0m\u001b[0;34m,\u001b[0m \u001b[0;34m**\u001b[0m\u001b[0mself\u001b[0m\u001b[0;34m.\u001b[0m\u001b[0moptions\u001b[0m\u001b[0;34m)\u001b[0m\u001b[0;34m\u001b[0m\u001b[0;34m\u001b[0m\u001b[0m\n\u001b[0m\u001b[1;32m   1115\u001b[0m         \u001b[0;32melse\u001b[0m\u001b[0;34m:\u001b[0m\u001b[0;34m\u001b[0m\u001b[0;34m\u001b[0m\u001b[0m\n\u001b[1;32m   1116\u001b[0m             \u001b[0;32mif\u001b[0m \u001b[0mengine\u001b[0m \u001b[0;34m==\u001b[0m \u001b[0;34m\"python\"\u001b[0m\u001b[0;34m:\u001b[0m\u001b[0;34m\u001b[0m\u001b[0;34m\u001b[0m\u001b[0m\n",
      "\u001b[0;32m/usr/local/lib64/python3.6/site-packages/pandas/io/parsers.py\u001b[0m in \u001b[0;36m__init__\u001b[0;34m(self, src, **kwds)\u001b[0m\n\u001b[1;32m   1889\u001b[0m         \u001b[0mkwds\u001b[0m\u001b[0;34m[\u001b[0m\u001b[0;34m\"usecols\"\u001b[0m\u001b[0;34m]\u001b[0m \u001b[0;34m=\u001b[0m \u001b[0mself\u001b[0m\u001b[0;34m.\u001b[0m\u001b[0musecols\u001b[0m\u001b[0;34m\u001b[0m\u001b[0;34m\u001b[0m\u001b[0m\n\u001b[1;32m   1890\u001b[0m \u001b[0;34m\u001b[0m\u001b[0m\n\u001b[0;32m-> 1891\u001b[0;31m         \u001b[0mself\u001b[0m\u001b[0;34m.\u001b[0m\u001b[0m_reader\u001b[0m \u001b[0;34m=\u001b[0m \u001b[0mparsers\u001b[0m\u001b[0;34m.\u001b[0m\u001b[0mTextReader\u001b[0m\u001b[0;34m(\u001b[0m\u001b[0msrc\u001b[0m\u001b[0;34m,\u001b[0m \u001b[0;34m**\u001b[0m\u001b[0mkwds\u001b[0m\u001b[0;34m)\u001b[0m\u001b[0;34m\u001b[0m\u001b[0;34m\u001b[0m\u001b[0m\n\u001b[0m\u001b[1;32m   1892\u001b[0m         \u001b[0mself\u001b[0m\u001b[0;34m.\u001b[0m\u001b[0munnamed_cols\u001b[0m \u001b[0;34m=\u001b[0m \u001b[0mself\u001b[0m\u001b[0;34m.\u001b[0m\u001b[0m_reader\u001b[0m\u001b[0;34m.\u001b[0m\u001b[0munnamed_cols\u001b[0m\u001b[0;34m\u001b[0m\u001b[0;34m\u001b[0m\u001b[0m\n\u001b[1;32m   1893\u001b[0m \u001b[0;34m\u001b[0m\u001b[0m\n",
      "\u001b[0;32mpandas/_libs/parsers.pyx\u001b[0m in \u001b[0;36mpandas._libs.parsers.TextReader.__cinit__\u001b[0;34m()\u001b[0m\n",
      "\u001b[0;32mpandas/_libs/parsers.pyx\u001b[0m in \u001b[0;36mpandas._libs.parsers.TextReader._setup_parser_source\u001b[0;34m()\u001b[0m\n",
      "\u001b[0;31mFileNotFoundError\u001b[0m: [Errno 2] File kater_2_run2.txt does not exist: 'kater_2_run2.txt'"
     ]
    },
    {
     "data": {
      "image/png": "[encoded data removed]",
      "text/plain": [
       "<Figure size 432x864 with 7 Axes>"
      ]
     },
     "metadata": {
      "needs_background": "light"
     },
     "output_type": "display_data"
    }
   ],
   "source": [
    "prefix = 'kater_2_run'\n",
    "suffix = '.txt'\n",
    "\n",
    "tup = []\n",
    "tdown = []\n",
    "dtup = []\n",
    "dtdown = []\n",
    "\n",
    "# Generate the figure and the axes \n",
    "fig, axs = plt.subplots(nrows=7, ncols=1, figsize=(6,12)) \n",
    "\n",
    "for i in range(1,8):\n",
    "    i2 = 2*i\n",
    "    j = 2*i - 1\n",
    "    fname1 = prefix + str(i2) + suffix\n",
    "    fname2 = prefix + str(j) + suffix\n",
    "\n",
    "    dfup = pd.read_csv(fname1,sep='\\t')\n",
    "    dfdown = pd.read_csv(fname2,sep='\\t')\n",
    "    \n",
    "    timeup = np.array(dfup['Time'])\n",
    "    periodup = []\n",
    "    for k in range(2,len(timeup)):\n",
    "        periodup.append(timeup[k]-timeup[k-2])\n",
    "#         print(timeup[k])\n",
    "    \n",
    "    periodup=np.array(periodup)\n",
    "\n",
    "    semup = periodup.std()/np.sqrt(len(periodup))\n",
    "    print (\"Periodup = %0.5f +/- %0.8f\" % (periodup.mean(),semup))\n",
    "    \n",
    "    tup.append(periodup.mean())\n",
    "    dtup.append(semup)\n",
    "    \n",
    "    timedown = np.array(dfdown['Time'])\n",
    "    perioddown = []\n",
    "    for k in range(2,len(timedown)):\n",
    "        perioddown.append(timedown[k]-timedown[k-2])\n",
    "    \n",
    "    perioddown=np.array(perioddown)\n",
    "\n",
    "    semdown = perioddown.std()/np.sqrt(len(perioddown))\n",
    "    print (\"Perioddown = %0.5f +/- %0.8f\" % (perioddown.mean(),semdown))\n",
    "    \n",
    "    tdown.append(perioddown.mean())\n",
    "    dtdown.append(semup)\n",
    "\n",
    "    axs[i-1].plot(timeup[2:],periodup,'o')\n",
    "    axs[i-1].plot(timedown[2:],perioddown,'o')\n",
    "    axs[i-1].set_ylabel('Period (s)')\n",
    "    \n",
    "tup = np.array(tup)\n",
    "tdown = np.array(tdown)\n",
    "dtup = np.array(dtup)\n",
    "dtdown = np.array(dtdown)\n",
    "\n",
    "plt.show()"
   ]
  },
  {
   "cell_type": "code",
   "execution_count": 12,
   "metadata": {},
   "outputs": [],
   "source": [
    "up = pd.DataFrame({'Xpos':xpos, 'Period':tup, 'dXpos':dxpos, 'dPeriod':dtup})\n",
    "down = pd.DataFrame({'Xpos':xpos, 'Period':tdown, 'dXpos':dxpos, 'dPeriod':dtdown})"
   ]
  },
  {
   "cell_type": "code",
   "execution_count": 13,
   "metadata": {},
   "outputs": [
    {
     "name": "stdout",
     "output_type": "stream",
     "text": [
      "Coefficients (from curve_fit)\n",
      "[1.99350442e+00 2.80858978e-03 3.17652678e-05]\n",
      "Covariance Matrix (from curve_fit)\n",
      "[[ 3.44064474e-08 -1.80812150e-08  1.99607107e-09]\n",
      " [-1.80812150e-08  1.10498147e-08 -1.30715053e-09]\n",
      " [ 1.99607107e-09 -1.30715053e-09  1.61683442e-10]]\n",
      "Coefficients (from curve_fit)\n",
      "[1.98942806e+00 3.85342244e-03 1.23215841e-05]\n",
      "Covariance Matrix (from curve_fit)\n",
      "[[ 2.32017152e-08 -1.21925481e-08  1.34595622e-09]\n",
      " [-1.21925481e-08  7.45091723e-09 -8.81394001e-10]\n",
      " [ 1.34595622e-09 -8.81394001e-10  1.09018871e-10]]\n"
     ]
    },
    {
     "data": {
      "image/png": "[encoded data removed]",
      "text/plain": [
       "<Figure size 576x576 with 1 Axes>"
      ]
     },
     "metadata": {
      "needs_background": "light"
     },
     "output_type": "display_data"
    }
   ],
   "source": [
    "# Let's do linear fits using the curve_fit utility from scipy\n",
    "\n",
    "from scipy.optimize import curve_fit\n",
    "\n",
    "def fitfunction(x,*paramlist):\n",
    "    return paramlist[0]+paramlist[1]*x + paramlist[2]*x*x\n",
    "\n",
    "init_vals = [0.0 for x in range(3)]\n",
    "x = np.array(up['Xpos'])\n",
    "y = np.array(up['Period'])\n",
    "poptu, pcovu = curve_fit(fitfunction,x,y,p0=init_vals)\n",
    "\n",
    "#xi = np.linspace(np.min(x),np.max(x),100)\n",
    "xi = np.linspace(1,7,1000)\n",
    "ps = np.random.multivariate_normal(poptu,pcovu,10000)\n",
    "ysample=np.asarray([fitfunction(xi,*pi) for pi in ps])\n",
    "loweru = np.percentile(ysample,16.0,axis=0)\n",
    "upperu = np.percentile(ysample,84.0,axis=0)\n",
    "middleu = (loweru+upperu)/2.0\n",
    "\n",
    "print(\"Coefficients (from curve_fit)\")\n",
    "print (poptu)\n",
    "print(\"Covariance Matrix (from curve_fit)\")\n",
    "print (pcovu)\n",
    "\n",
    "init_vals = [0.0 for x in range(3)]\n",
    "x = np.array(down['Xpos'])\n",
    "y = np.array(down['Period'])\n",
    "poptd, pcovd = curve_fit(fitfunction,x,y,p0=init_vals)\n",
    "\n",
    "#xi = np.linspace(np.min(x),np.max(x),100)\n",
    "xi = np.linspace(1,7,1000)\n",
    "ps = np.random.multivariate_normal(poptd,pcovd,10000)\n",
    "ysample=np.asarray([fitfunction(xi,*pi) for pi in ps])\n",
    "lowerd = np.percentile(ysample,16.0,axis=0)\n",
    "upperd = np.percentile(ysample,84.0,axis=0)\n",
    "middled = (lowerd+upperd)/2.0\n",
    "\n",
    "print(\"Coefficients (from curve_fit)\")\n",
    "print (poptd)\n",
    "print(\"Covariance Matrix (from curve_fit)\")\n",
    "print (pcovd)\n",
    "\n",
    "fig2, axs2 = plt.subplots(nrows=1, ncols=1, figsize=(8,8)) \n",
    "\n",
    "axs2.errorbar(up.Xpos,up.Period,yerr=up.dPeriod,xerr=up.dXpos,fmt='r.',capsize=5, capthick=2)\n",
    "axs2.errorbar(down.Xpos,down.Period,yerr=down.dPeriod,xerr=down.dXpos,fmt='g.',capsize=5, capthick=2)\n",
    "\n",
    "#axs2.plot(xi,middleu)\n",
    "axs2.plot(xi,loweru,'r')\n",
    "axs2.plot(xi,upperu,'r')\n",
    "\n",
    "#axs2.plot(xi,middle)\n",
    "axs2.plot(xi,lowerd,'g')\n",
    "axs2.plot(xi,upperd,'g')\n",
    "\n",
    "#axs2.set_xlim(3.8,4.3)\n",
    "#axs2.set_ylim(2.003,2.006)\n",
    "\n",
    "plt.show()"
   ]
  },
  {
   "cell_type": "code",
   "execution_count": 14,
   "metadata": {},
   "outputs": [
    {
     "name": "stdout",
     "output_type": "stream",
     "text": [
      "Period = 2.00597 +/- 0.00048\n"
     ]
    }
   ],
   "source": [
    "tmin = []\n",
    "for i in range(len(xi)):\n",
    "    if loweru[i] < upperd[i]:\n",
    "        tmin.append(loweru[i])\n",
    "tmin = np.array(tmin)\n",
    "tmin = tmin.min()\n",
    "\n",
    "tmax = []\n",
    "for i in range(len(xi)):\n",
    "    if upperu[i] > lowerd[i]:\n",
    "        tmax.append(upperu[i])\n",
    "tmax = np.array(tmax)\n",
    "tmax = tmax.max()\n",
    "\n",
    "tbar = (tmax+tmin)/2.0\n",
    "dtbar = (tmax-tmin)/2.0\n",
    "\n",
    "print (\"Period = %0.5f +/- %0.5f\" % (tbar,dtbar))"
   ]
  },
  {
   "cell_type": "code",
   "execution_count": 15,
   "metadata": {},
   "outputs": [
    {
     "name": "stdout",
     "output_type": "stream",
     "text": [
      "g = 9.7972 +/- 0.0047\n"
     ]
    }
   ],
   "source": [
    "length = 0.9986\n",
    "dlength = 0.00005\n",
    "\n",
    "g = 4*np.pi**2*length/tbar**2\n",
    "dg = g*np.sqrt((dlength/length)**2+(2*dtbar/tbar)**2)\n",
    "\n",
    "print (\"g = %0.4f +/- %0.4f\" % (g,dg))"
   ]
  },
  {
   "cell_type": "code",
   "execution_count": 16,
   "metadata": {},
   "outputs": [],
   "source": [
    "# Measured distances and masses\n",
    "M=1.35928 # large mass\n",
    "m=0.72705 # small mass\n",
    "Mbar=2.90 # mass of bar (with small and large masses removed)\n",
    "D=0.9986 # distance between knife-edge pivot points\n",
    "L=1.523  # length of bar\n",
    "#\n",
    "#g = 9.799 # value of g in Newport News\n",
    "g = 9.8144\n",
    "\n",
    "# Distance calculations\n",
    "#\n",
    "# The distance between the knife edge pivot and the lower edge of the large mass is 1.35 cm\n",
    "# The distance between the knife edge pivot and the lower edge of the large mass is 1.04 cm\n",
    "# The radius of the large mass is 4.753 cm\n",
    "# The radius of the small mass is 3.498 cm\n",
    "RM = 0.04753\n",
    "Rm = 0.03498\n",
    "offsetM = 0.0135\n",
    "offsetm = 0.0104\n",
    "l1=D/2.0+RM+offsetM\n",
    "\n",
    "# Find the value of x that satisfies the equation above\n",
    "\n",
    "diff = 1.0E+99\n",
    "olddiff = 1.0E+99\n",
    "l2 = []\n",
    "xpos = []\n",
    "t1 = []\n",
    "t2 = []\n",
    "for i in range(1000):\n",
    "    l2.append(D/2.0+Rm+(i/1000.0)*.12)\n",
    "    xpos.append((l2[i]-offsetm-D/2-Rm-0.0000)*100) # distance from the small mass to the knife-edge, in cm.\n",
    "    x=(M*l1-m*l2[i])/(M+m+Mbar)\n",
    "    h2=D/2.0+x\n",
    "    h1=D/2.0-x\n",
    "    lhs=h1*h2;\n",
    "    Icm=1.0/12.0*Mbar*L*L+Mbar*x*x+M*(l1-x)*(l1-x)+m*(l2[i]+x)*(l2[i]+x)+1/2.0*m*Rm**2 + 1.0/2*M*RM**2\n",
    "    rhs=Icm/(M+m+Mbar)\n",
    "    diff = lhs-rhs\n",
    "    if (np.abs(diff)<olddiff):\n",
    "        olddiff=diff\n",
    "        index=i\n",
    "    t1.append(2*np.pi*np.sqrt((h1*h1+rhs)/(g*h1)))\n",
    "    t2.append(2*np.pi*np.sqrt((h2*h2+rhs)/(g*h2)))\n",
    "    \n",
    "#print (l2,t1,t2)"
   ]
  },
  {
   "cell_type": "code",
   "execution_count": 17,
   "metadata": {},
   "outputs": [
    {
     "data": {
      "image/png": "[encoded data removed]",
      "text/plain": [
       "<Figure size 576x576 with 1 Axes>"
      ]
     },
     "metadata": {
      "needs_background": "light"
     },
     "output_type": "display_data"
    }
   ],
   "source": [
    "fig2, axs2 = plt.subplots(nrows=1, ncols=1, figsize=(8,8)) \n",
    "\n",
    "axs2.errorbar(up.Xpos,up.Period,yerr=up.dPeriod,xerr=up.dXpos,fmt='r.',capsize=5, capthick=2)\n",
    "axs2.errorbar(down.Xpos,down.Period,yerr=down.dPeriod,xerr=down.dXpos,fmt='g.',capsize=5, capthick=2)\n",
    "\n",
    "axs2.plot(xi,middleu,'--')\n",
    "#axs2.plot(xi,loweru,'r')\n",
    "#axs2.plot(xi,upperu,'r')\n",
    "\n",
    "axs2.plot(xi,middled,'--')\n",
    "#axs2.plot(xi,lowerd,'g')\n",
    "#axs2.plot(xi,upperd,'g')\n",
    "\n",
    "#axs2.set_xlim(3.8,4.3)\n",
    "#axs2.set_ylim(2.003,2.006)\n",
    "\n",
    "axs2.plot(xpos,t1,label='Small Mass Down')\n",
    "axs2.plot(xpos,t2,label='Small Mass Up')\n",
    "\n",
    "plt.show()"
   ]
  },
  {
   "cell_type": "code",
   "execution_count": 18,
   "metadata": {},
   "outputs": [
    {
     "name": "stdout",
     "output_type": "stream",
     "text": [
      "Coefficients (from curve_fit)\n",
      "[14.84031038]\n",
      "Covariance Matrix (from curve_fit)\n",
      "[[6.8739088e-05]]\n",
      "Coefficients (from curve_fit)\n",
      "[12.40158318]\n",
      "Covariance Matrix (from curve_fit)\n",
      "[[0.00012762]]\n"
     ]
    },
    {
     "data": {
      "image/png": "[encoded data removed]",
      "text/plain": [
       "<Figure size 576x576 with 1 Axes>"
      ]
     },
     "metadata": {
      "needs_background": "light"
     },
     "output_type": "display_data"
    }
   ],
   "source": [
    "def theoryfitfunction1(xdata,*paramlist):\n",
    "    \n",
    "    M=1.35928 # large mass\n",
    "    m=0.72705 # small mass\n",
    "    Mbar=2.90 # mass of bar (with small and large masses removed)\n",
    "    D=0.9986 # distance between knife-edge pivot points\n",
    "    L=1.523  # length of bar\n",
    "    \n",
    "    g = paramlist[0]\n",
    "#     fudge_factor = paramlist[1]\n",
    "    fudge_factor=0.0000\n",
    "\n",
    "    # Distance calculations\n",
    "    #\n",
    "    # The distance between the knife edge pivot and the lower edge of the large mass is 1.35 cm\n",
    "    # The distance between the knife edge pivot and the lower edge of the large mass is 1.04 cm\n",
    "    # The radius of the large mass is 4.753 cm\n",
    "    # The radius of the small mass is 3.498 cm\n",
    "    RM = 0.04753\n",
    "    Rm = 0.03498\n",
    "    offsetM = 0.4\n",
    "    offsetm = 0.1\n",
    "    l1=D/2.0+RM+offsetM\n",
    "    \n",
    "    l2 = D/2.0+Rm+offsetm+xdata/100.0+fudge_factor\n",
    "    x=(M*l1-m*l2)/(M+m+Mbar)\n",
    "    \n",
    "    h2=D/2.0+x\n",
    "    h1=D/2.0-x\n",
    "    Icm=1.0/12.0*Mbar*L*L+Mbar*x*x+M*(l1-x)*(l1-x)+m*(l2+x)*(l2+x)+1/2.0*m*Rm**2 + 1.0/2*M*RM**2\n",
    "    rhs=Icm/(M+m+Mbar)\n",
    "    \n",
    "    t1 = 2*np.pi*np.sqrt((h1*h1+rhs)/(g*h1))\n",
    "    t2 = 2*np.pi*np.sqrt((h2*h2+rhs)/(g*h2))\n",
    "    \n",
    "    return t1\n",
    "\n",
    "def theoryfitfunction2(xdata,*paramlist):\n",
    "    \n",
    "    M=1.35928 # large mass\n",
    "    m=0.72705 # small mass\n",
    "    Mbar=2.90 # mass of bar (with small and large masses removed)\n",
    "    D=0.9986 # distance between knife-edge pivot points\n",
    "    L=1.523  # length of bar\n",
    "    \n",
    "    g = paramlist[0]\n",
    "#     fudge_factor = paramlist[1]\n",
    "    fudge_factor=0.0000\n",
    "\n",
    "    # Distance calculations\n",
    "    #\n",
    "    # The distance between the knife edge pivot and the lower edge of the large mass is 1.35 cm\n",
    "    # The distance between the knife edge pivot and the lower edge of the large mass is 1.04 cm\n",
    "    # The radius of the large mass is 4.753 cm\n",
    "    # The radius of the small mass is 3.498 cm\n",
    "    RM = 0.04753\n",
    "    Rm = 0.03498\n",
    "    offsetM = 0.4\n",
    "    offsetm = 0.1\n",
    "    l1=D/2.0+RM+offsetM\n",
    "    \n",
    "    l2 = D/2.0+Rm+offsetm+xdata/100.0+fudge_factor\n",
    "    x=(M*l1-m*l2)/(M+m+Mbar)\n",
    "    \n",
    "    h2=D/2.0+x\n",
    "    h1=D/2.0-x\n",
    "    Icm=1.0/12.0*Mbar*L*L+Mbar*x*x+M*(l1-x)*(l1-x)+m*(l2+x)*(l2+x)+1/2.0*m*Rm**2 + 1.0/2*M*RM**2\n",
    "    rhs=Icm/(M+m+Mbar)\n",
    "    \n",
    "    t1 = 2*np.pi*np.sqrt((h1*h1+rhs)/(g*h1))\n",
    "    t2 = 2*np.pi*np.sqrt((h2*h2+rhs)/(g*h2))\n",
    "    \n",
    "    return t2\n",
    "\n",
    "init_vals = [9.814]\n",
    "x = np.array(up['Xpos'])\n",
    "y = np.array(up['Period'])\n",
    "poptu, pcovu = curve_fit(theoryfitfunction1,x,y,p0=init_vals)\n",
    "\n",
    "#xi = np.linspace(np.min(x),np.max(x),100)\n",
    "xi = np.linspace(1,7,1000)\n",
    "ps = np.random.multivariate_normal(poptu,pcovu,10000)\n",
    "ysample=np.asarray([theoryfitfunction1(xi,*pi) for pi in ps])\n",
    "loweru = np.percentile(ysample,16.0,axis=0)\n",
    "upperu = np.percentile(ysample,84.0,axis=0)\n",
    "middleu = (loweru+upperu)/2.0\n",
    "\n",
    "print(\"Coefficients (from curve_fit)\")\n",
    "print (poptu)\n",
    "print(\"Covariance Matrix (from curve_fit)\")\n",
    "print (pcovu)\n",
    "\n",
    "init_vals = [9.814]\n",
    "x = np.array(down['Xpos'])\n",
    "y = np.array(down['Period'])\n",
    "poptd, pcovd = curve_fit(theoryfitfunction2,x,y,p0=init_vals)\n",
    "\n",
    "#xi = np.linspace(np.min(x),np.max(x),100)\n",
    "xi = np.linspace(1,7,1000)\n",
    "ps = np.random.multivariate_normal(poptd,pcovd,10000)\n",
    "ysample=np.asarray([theoryfitfunction2(xi,*pi) for pi in ps])\n",
    "lowerd = np.percentile(ysample,16.0,axis=0)\n",
    "upperd = np.percentile(ysample,84.0,axis=0)\n",
    "middled = (lowerd+upperd)/2.0\n",
    "\n",
    "print(\"Coefficients (from curve_fit)\")\n",
    "print (poptd)\n",
    "print(\"Covariance Matrix (from curve_fit)\")\n",
    "print (pcovd)\n",
    "\n",
    "fig2, axs2 = plt.subplots(nrows=1, ncols=1, figsize=(8,8)) \n",
    "\n",
    "axs2.errorbar(up.Xpos,up.Period,yerr=up.dPeriod,xerr=up.dXpos,fmt='r.',capsize=5, capthick=2)\n",
    "axs2.errorbar(down.Xpos,down.Period,yerr=down.dPeriod,xerr=down.dXpos,fmt='g.',capsize=5, capthick=2)\n",
    "\n",
    "axs2.plot(xi,middleu)\n",
    "axs2.plot(xi,loweru,'r')\n",
    "axs2.plot(xi,upperu,'r')\n",
    "\n",
    "axs2.plot(xi,middled)\n",
    "axs2.plot(xi,lowerd,'g')\n",
    "axs2.plot(xi,upperd,'g')\n",
    "\n",
    "#axs2.set_xlim(3.8,4.3)\n",
    "#axs2.set_ylim(2.003,2.006)\n",
    "\n",
    "plt.show()\n"
   ]
  },
  {
   "cell_type": "code",
   "execution_count": 19,
   "metadata": {},
   "outputs": [
    {
     "name": "stdout",
     "output_type": "stream",
     "text": [
      "Period = 2.00590 +/- 0.00729\n"
     ]
    }
   ],
   "source": [
    "tmin = []\n",
    "for i in range(len(xi)):\n",
    "    if loweru[i] < upperd[i]:\n",
    "        tmin.append(loweru[i])\n",
    "tmin = np.array(tmin)\n",
    "tmin = tmin.min()\n",
    "\n",
    "tmax = []\n",
    "for i in range(len(xi)):\n",
    "    if upperu[i] > lowerd[i]:\n",
    "        tmax.append(upperu[i])\n",
    "tmax = np.array(tmax)\n",
    "tmax = tmax.max()\n",
    "\n",
    "tbar = (tmax+tmin)/2.0\n",
    "dtbar = (tmax-tmin)/2.0\n",
    "\n",
    "print (\"Period = %0.5f +/- %0.5f\" % (tbar,dtbar))"
   ]
  },
  {
   "cell_type": "code",
   "execution_count": 20,
   "metadata": {},
   "outputs": [
    {
     "name": "stdout",
     "output_type": "stream",
     "text": [
      "g = 9.7979 +/- 0.0712\n"
     ]
    }
   ],
   "source": [
    "length = 0.9986\n",
    "dlength = 0.00005\n",
    "\n",
    "g = 4*np.pi**2*length/tbar**2\n",
    "dg = g*np.sqrt((dlength/length)**2+(2*dtbar/tbar)**2)\n",
    "\n",
    "print (\"g = %0.4f +/- %0.4f\" % (g,dg))"
   ]
  },
  {
   "cell_type": "markdown",
   "metadata": {},
   "source": [
    "In this case, with these sets of data, the best g-value is g = 9.7971 giving the least amount of error. A 0.3 difference in the offset of the fudge factor gives the best comparison."
   ]
  }
 ],
 "metadata": {
  "kernelspec": {
   "display_name": "Python 3",
   "language": "python",
   "name": "python3"
  },
  "language_info": {
   "codemirror_mode": {
    "name": "ipython",
    "version": 3
   },
   "file_extension": ".py",
   "mimetype": "text/x-python",
   "name": "python",
   "nbconvert_exporter": "python",
   "pygments_lexer": "ipython3",
   "version": "3.6.8"
  }
 },
 "nbformat": 4,
 "nbformat_minor": 2
}
