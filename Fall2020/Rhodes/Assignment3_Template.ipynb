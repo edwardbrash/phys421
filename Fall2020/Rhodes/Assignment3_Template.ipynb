{
  "nbformat": 4,
  "nbformat_minor": 0,
  "metadata": {
    "kernelspec": {
      "display_name": "Python 3",
      "language": "python",
      "name": "python3"
    },
    "language_info": {
      "codemirror_mode": {
        "name": "ipython",
        "version": 3
      },
      "file_extension": ".py",
      "mimetype": "text/x-python",
      "name": "python",
      "nbconvert_exporter": "python",
      "pygments_lexer": "ipython3",
      "version": "3.6.8"
    },
    "colab": {
      "name": "Assignment3_Template.ipynb",
      "provenance": [],
      "collapsed_sections": []
    }
  },
  "cells": [
    {
      "cell_type": "markdown",
      "metadata": {
        "id": "yXGMN0iGkq5K"
      },
      "source": [
        "# Assignment 3\n",
        "\n",
        "Due Date:  11:59pm on Friday, November 13th (for now)\n",
        "\n",
        "There are some subtle issues to worry about in each of these questions, and thus I\n",
        "will be discussing each problem in class on Monday, November 9th."
      ]
    },
    {
      "cell_type": "markdown",
      "metadata": {
        "id": "922n6eiKkq5N"
      },
      "source": [
        "## Question 1 - Fourier Analysis"
      ]
    },
    {
      "cell_type": "markdown",
      "metadata": {
        "id": "qh_NRzrDkq5O"
      },
      "source": [
        "Consider the following triangular pulse signal:"
      ]
    },
    {
      "cell_type": "code",
      "metadata": {
        "id": "I1qHAegwkq5O",
        "colab": {
          "base_uri": "https://localhost:8080/",
          "height": 282
        },
        "outputId": "3e9e6410-2b7d-4390-daf1-5af6c9d57d6f"
      },
      "source": [
        "import numpy as np\n",
        "import matplotlib.pyplot as plt\n",
        "from scipy.fftpack import fft\n",
        "import random\n",
        "\n",
        "N_samples = 1000\n",
        "t_low = -np.pi\n",
        "t_high = 2.0*np.pi\n",
        "\n",
        "t = np.linspace(t_low,t_high,N_samples)\n",
        "y = np.zeros(N_samples)\n",
        "\n",
        "for i in range(N_samples):\n",
        "    if t[i] < 0.0:\n",
        "        y[i] = 0.0 + 0.1*random.uniform(-1,1)\n",
        "    if t[i] >= 0.0 and t[i] < np.pi:\n",
        "        y[i] = t[i] + 0.1*random.uniform(-1,1)\n",
        "    if t[i] >= np.pi:\n",
        "        y[i] = 0.0 + 0.1*random.uniform(-1,1)\n",
        "    \n",
        "plt.plot(t,y)"
      ],
      "execution_count": null,
      "outputs": [
        {
          "output_type": "execute_result",
          "data": {
            "text/plain": [
              "[<matplotlib.lines.Line2D at 0x7f67e0f5ee10>]"
            ]
          },
          "metadata": {
            "tags": []
          },
          "execution_count": 6
        },
        {
          "output_type": "display_data",
          "data": {
            "image/png": "[encoded data removed]",
            "text/plain": [
              "<Figure size 432x288 with 1 Axes>"
            ]
          },
          "metadata": {
            "tags": [],
            "needs_background": "light"
          }
        }
      ]
    },
    {
      "cell_type": "markdown",
      "metadata": {
        "id": "BgaYu8Yfkq5V"
      },
      "source": [
        "(a) Using the jupyter notebooks called graph_fourier_basic.ipynb and graph_fourier_guitar.ipynb to help you, calcuate the Fourier transform of this signal.\n",
        "\n",
        "You should create plots of both the real and imaginary Fourier components as a function\n",
        "of frequency, a plot of the Fourier power spectrum as a function of frequency, and also\n",
        "a plot of the time spectrum using the Fourier components as compared to the original time spectrum.\n",
        "\n",
        "(b) Discuss the resulting Fourier spectrum. Which Fourier components do you expect to be small (or zero), based on the theory?  What is the Nyquist frequency, and how many terms in the Fourier series is necessary to give a good approximation to the original signal?"
      ]
    },
    {
      "cell_type": "code",
      "metadata": {
        "id": "kr8cEAPyS6Ew"
      },
      "source": [
        "f_s = 0.2\n",
        "period = 1/f_s\n",
        "T = 2*period\n",
        "N_terms = int(N_samples / 2)\n",
        "dt = period/N_samples\n",
        "\n",
        "f = np.zeros(N_terms)\n",
        "for i in range(N_terms):\n",
        "    f[i] = i/(N_terms*dt)\n",
        "\n",
        "yhigh = np.zeros(1000)\n",
        "ylow = np.zeros(1000)\n",
        "time = np.zeros(1000)\n",
        "\n",
        "ytReal = np.zeros(N_terms)\n",
        "ytImag = np.zeros(N_terms)\n",
        "\n",
        "twopiT=2.0*np.pi/T\n",
        "epsilon = 0.000001\n",
        "\n",
        "for n in range(N_terms):\n",
        "    ytReal[n]=epsilon\n",
        "    ytImag[n]=epsilon\n",
        "    for i in range(N_samples):\n",
        "        ytReal[n] = ytReal[n] + 2.0/T*y[i]*np.cos(twopiT*n*i*dt)*dt\n",
        "        ytImag[n] = ytImag[n] + 2.0/T*y[i]*np.sin(twopiT*n*i*dt)*dt  \n",
        "    power[n]=(ytReal[n]**2+ytImag[n]**2)\n",
        "\n",
        "ymaxr = max(ytReal)\n",
        "ymaxi = max(ytImag)\n",
        "ymax = 1.2*max(ymaxr,ymaxi)"
      ],
      "execution_count": null,
      "outputs": []
    },
    {
      "cell_type": "code",
      "metadata": {
        "id": "3Hgrj0Aa_j49",
        "colab": {
          "base_uri": "https://localhost:8080/"
        },
        "outputId": "39cfa983-a9f3-4123-f483-591993f544d6"
      },
      "source": [
        "integral = 0.0\n",
        "N_real = int(N_terms)\n",
        "\n",
        "for n in range(N_real):\n",
        "    integral = integral + power[n]\n",
        "print(\"Average Power = %.2f Watts.\" % (integral/2.0))\n",
        "\n",
        "#Nyquist frequency is 1/2 the sampling rate frequency\n",
        "f_nyquist = 0.5*(1.0/dt)\n",
        "print(\"Nyquist frequency = %.2f Hz.\" % f_nyquist)\n",
        "\n",
        "for i in range(1000):\n",
        "    time[i] = i*T/1000.0\n",
        "    ylow[i] = np.sin(2.0*np.pi*time[i]*f_s)\n",
        "    yhigh[i] = -np.sin(2.0*np.pi*time[i]*(2.0*f_nyquist-f_s))"
      ],
      "execution_count": null,
      "outputs": [
        {
          "output_type": "stream",
          "text": [
            "Average Power = 0.62 Watts.\n",
            "Nyquist frequency = 100.00 Hz.\n"
          ],
          "name": "stdout"
        }
      ]
    },
    {
      "cell_type": "code",
      "metadata": {
        "id": "q-xi99d3ATOO"
      },
      "source": [
        "N_fft = len(y)\n",
        "yfft = fft(y)\n",
        "yfftReal = 2.0/N_fft*yfft.real\n",
        "yfftImag = 2.0/N_fft*yfft.imag\n",
        "powerfft = 4.0/N_fft**2*abs(yfft)**2"
      ],
      "execution_count": null,
      "outputs": []
    },
    {
      "cell_type": "code",
      "metadata": {
        "id": "pBpBWgAAAf4J",
        "colab": {
          "base_uri": "https://localhost:8080/",
          "height": 681
        },
        "outputId": "cb77488e-f9a2-404e-dd1d-4118a0fb911d"
      },
      "source": [
        "fig2, axs2 = plt.subplots(nrows=2, ncols=2, figsize=(8,11))\n",
        "\n",
        "axs2[0,0].plot(t,y,'.-')\n",
        "axs2[0,0].set_ylabel('Y')\n",
        "axs2[0,0].set_xlabel('Frequency')\n",
        "axs2[0,0].set_ylim(-.5, 3.5)\n",
        "\n",
        "axs2[0,1].plot(f,yfftReal[0:N_terms],'r-')\n",
        "axs2[0,1].plot(f,ytReal,'.')\n",
        "axs2[0,1].set_ylabel('Real')\n",
        "axs2[0,1].set_xlabel('Frequency')\n",
        "axs2[0,1].set_ylim(-1.5,1.5)\n",
        "axs2[0,1].set_xlim(-10,50)\n",
        "\n",
        "axs2[1,0].plot(f,-yfftImag[0:N_terms],'r-')\n",
        "axs2[1,0].plot(f,ytImag,'.')\n",
        "axs2[1,0].set_ylabel('Imaginary')\n",
        "axs2[1,0].set_xlabel('Frequency')\n",
        "axs2[1,0].set_ylim(-1.5,1.5)\n",
        "axs2[1,0].set_xlim(-100,100)\n",
        "\n",
        "axs2[1,1].plot(f,powerfft[0:N_terms],'r-')\n",
        "axs2[1,1].plot(f,power,'.')\n",
        "axs2[1,1].set_ylabel('Power')\n",
        "axs2[1,1].set_xlabel('Frequency')\n",
        "axs2[1,1].set_ylim(-1.5,1.5)\n",
        "axs2[1,1].set_xlim(-100,100)"
      ],
      "execution_count": null,
      "outputs": [
        {
          "output_type": "execute_result",
          "data": {
            "text/plain": [
              "(-100.0, 100.0)"
            ]
          },
          "metadata": {
            "tags": []
          },
          "execution_count": 61
        },
        {
          "output_type": "display_data",
          "data": {
            "image/png": "[encoded data removed]",
            "text/plain": [
              "<Figure size 576x792 with 4 Axes>"
            ]
          },
          "metadata": {
            "tags": [],
            "needs_background": "light"
          }
        }
      ]
    },
    {
      "cell_type": "markdown",
      "metadata": {
        "id": "gqd6o4Qekq5a"
      },
      "source": [
        "## Question 2 - Frogs and Lily Pads"
      ]
    },
    {
      "cell_type": "markdown",
      "metadata": {
        "id": "9KG6Cb7Pkq5b"
      },
      "source": [
        "Modify the Jupyter Notebook called frogger.ipynb to include the possibility that the frog can jump in either direction (not just forward). Use the following algorithm:\n",
        "\n",
        "From wherever the frog is currently sitting (i.e. anywhere from the starting position to the last lily pad), it can jump to any other available position, including back to the starting position, or to the other side of the stream.  The frog should continue jumping until that moment when it gets to the other side of the stream.  The probability should be uniform/equal for jumping to any available position.\n",
        "\n",
        "The goal here is to calculate the average number of jumps, as function of the number of lily pads.\n",
        "\n",
        "Does the final result surprise you?  \n",
        "\n",
        "As a final check that your simulation is reasonable, plot the DISTRIBUTION of the number of jumps taken for N$_{lily~pads}$ = 30."
      ]
    },
    {
      "cell_type": "code",
      "metadata": {
        "id": "UqU07dddUYgg"
      },
      "source": [
        "import numpy as np\n",
        "import matplotlib.pyplot as plt\n",
        "import scipy.stats as stats\n",
        "import random\n",
        "import seaborn as sns"
      ],
      "execution_count": null,
      "outputs": []
    },
    {
      "cell_type": "code",
      "metadata": {
        "id": "NDTvvX7qVMSm"
      },
      "source": [
        "n = 30\n",
        "random.seed(1)\n",
        "start = 0\n",
        "jumpsum = 0\n",
        "total_jumps = 0\n",
        "n_trys = 10000\n",
        "\n",
        "x = []\n",
        "y = []\n",
        "sigma = []"
      ],
      "execution_count": null,
      "outputs": []
    },
    {
      "cell_type": "code",
      "metadata": {
        "id": "zdAJdK0Edqmc"
      },
      "source": [
        "for npad in range(1,n+1): \n",
        "    x.append(npad)\n",
        "    end = npad\n",
        "    for j in range(n_trys):\n",
        "        while start < npad:\n",
        "            jump = int(random.uniform(1,(end-start+1)))\n",
        "            start = start + jump\n",
        "            jumpsum = jumpsum + 1\n",
        "        start = 0\n",
        "        total_jumps = total_jumps + jumpsum\n",
        "        jumpsum = 0\n",
        "\n",
        "    expectation_value = total_jumps/n_trys*1.0\n",
        "    y.append(expectation_value)\n",
        "    sigma.append(expectation_value*1/np.sqrt(n_trys))\n",
        "    total_jumps = 0"
      ],
      "execution_count": null,
      "outputs": []
    },
    {
      "cell_type": "code",
      "metadata": {
        "id": "YPsUhHMld5qT",
        "colab": {
          "base_uri": "https://localhost:8080/",
          "height": 747
        },
        "outputId": "49bb0bde-56de-4bbb-8a5b-516f7cb6c896"
      },
      "source": [
        "fig = plt.figure(figsize=(15,12))\n",
        "ax1 = fig.add_subplot(111)\n",
        "\n",
        "ax1.set_title(\"Frog Problem\")\n",
        "ax1.set_xlabel('N')\n",
        "ax1.set_ylabel('Expected Number of Jumps / N')\n",
        "ax1.set_xlim(0,n+1)\n",
        "ax1.grid(True)\n",
        "\n",
        "ax1.errorbar(x,y,yerr=sigma,fmt='o')"
      ],
      "execution_count": null,
      "outputs": [
        {
          "output_type": "execute_result",
          "data": {
            "text/plain": [
              "<ErrorbarContainer object of 3 artists>"
            ]
          },
          "metadata": {
            "tags": []
          },
          "execution_count": 6
        },
        {
          "output_type": "display_data",
          "data": {
            "image/png": "[encoded data removed]",
            "text/plain": [
              "<Figure size 1080x864 with 1 Axes>"
            ]
          },
          "metadata": {
            "tags": [],
            "needs_background": "light"
          }
        }
      ]
    },
    {
      "cell_type": "code",
      "metadata": {
        "id": "QLpUDvbceA_m"
      },
      "source": [
        "n = 30\n",
        "random.seed(1)\n",
        "start = 0\n",
        "jumpsum = 0\n",
        "n_trys = 10000\n",
        "\n",
        "jumps = []"
      ],
      "execution_count": null,
      "outputs": []
    },
    {
      "cell_type": "code",
      "metadata": {
        "id": "RYLVpBNGVZRs"
      },
      "source": [
        "for j in range(n_trys):\n",
        "    while start < n:\n",
        "        jump = int(random.uniform(-start,(n-start+1)))\n",
        "        if jump == 0:\n",
        "          continue\n",
        "        #print (\"Jump = \",jump)\n",
        "        start = start + jump\n",
        "        #print (\"Now at \",start)\n",
        "        jumpsum = jumpsum + 1\n",
        "    jumps.append(jumpsum)\n",
        "    # print(jumpsum)\n",
        "    start = 0\n",
        "    jumpsum = 0\n"
      ],
      "execution_count": null,
      "outputs": []
    },
    {
      "cell_type": "code",
      "metadata": {
        "id": "x-AzeKdjXIgy",
        "colab": {
          "base_uri": "https://localhost:8080/",
          "height": 265
        },
        "outputId": "115cf579-39de-4873-b3bf-31f533e788eb"
      },
      "source": [
        "plt.hist(jumps, range=(0, 200))\n",
        "plt.show()"
      ],
      "execution_count": null,
      "outputs": [
        {
          "output_type": "display_data",
          "data": {
            "image/png": "[encoded data removed]",
            "text/plain": [
              "<Figure size 432x288 with 1 Axes>"
            ]
          },
          "metadata": {
            "tags": [],
            "needs_background": "light"
          }
        }
      ]
    },
    {
      "cell_type": "markdown",
      "metadata": {
        "id": "-e1NS72Jkq5b"
      },
      "source": [
        "## Question 3 - Random Walk"
      ]
    },
    {
      "cell_type": "markdown",
      "metadata": {
        "id": "xgpRDvg3kq5c"
      },
      "source": [
        "Begin with the example Jupyter Notebook called drunken_sailor.ipynb  \n",
        "\n",
        "In the first example, we considered random walk in one dimension.  For each step that a sailor took, we sampled from a random Gaussian distribution with a mean value of 0 and a standard deviation of 1.  \n",
        "\n",
        "In this question, we would like to consider a different underlying distribution for the step size.  Instead of using a Gaussian, choose the step size from a Poisson distribution with an average value of 1.  Remember that the Poisson distribution is defined for positive values of $x$ only, and so you will also have to randomly choose the direction of the step.\n",
        "\n",
        "How do the results compare to choosing a Gaussian distribution of step size?  Do your results agree with the predictions of the central limit theorem?"
      ]
    },
    {
      "cell_type": "code",
      "metadata": {
        "id": "CR5AAlNXkq5c"
      },
      "source": [
        "import numpy as np\n",
        "%matplotlib inline\n",
        "import matplotlib.pyplot as plt\n",
        "from scipy import stats # has lots of distribution functions in it\n",
        "import random\n",
        "\n",
        "from math import erfc   # complimentary error function \n",
        "\n",
        "def walkn(nsteps):\n",
        "    r = stats.poisson.rvs(1, size=nsteps)\n",
        "    for i in range(len(r)):\n",
        "      r[i] *= (1 if random.random() < 0.5 else -1)\n",
        "    return sum(r)\n",
        "\n",
        "def npart_walkn(npart,nsteps):\n",
        "    xvec = np.zeros(0)\n",
        "    for i in range(npart):\n",
        "        x = walkn(nsteps)  \n",
        "        xvec = np.append(xvec,x)  \n",
        "    return xvec  \n",
        "\n",
        "nsteps = 100 \n",
        "npart = 1000 \n",
        "\n",
        "xvec = npart_walkn(npart,nsteps)"
      ],
      "execution_count": null,
      "outputs": []
    },
    {
      "cell_type": "code",
      "metadata": {
        "id": "9BLVweWc_6jT",
        "colab": {
          "base_uri": "https://localhost:8080/",
          "height": 306
        },
        "outputId": "813d06f6-b6aa-4675-ece2-fbb72b279816"
      },
      "source": [
        "n, bins, patches = plt.hist(xvec,bins=20,density=True)\n",
        "#\n",
        "# density = True will make it a normalized probability histogram\n",
        "#\n",
        "# this retuns as n the number of values counted, bins is the x values of the bins, \n",
        "# patches is for plotting the histogram\n",
        "#\n",
        "# bins will be the most important thing here - we will use that below\n",
        "#\n",
        "plt.xlabel(\"x\",fontsize=22)\n",
        "plt.ylabel(\"p(x)\",fontsize=22)  # probability!\n",
        "\n",
        "# a gaussian probability density distribution, this is a function!\n",
        "mygaus = stats.norm(0.0, np.sqrt(nsteps))  # should scale with sqrt(nsteps)\n",
        "y = mygaus.pdf(bins)  # evaluate the function at the bin locations\n",
        "plt.plot(bins,y,\"k\", lw=3 )  #plot the expected density distribution as a black line"
      ],
      "execution_count": null,
      "outputs": [
        {
          "output_type": "execute_result",
          "data": {
            "text/plain": [
              "[<matplotlib.lines.Line2D at 0x7f8f16ac5c18>]"
            ]
          },
          "metadata": {
            "tags": []
          },
          "execution_count": 26
        },
        {
          "output_type": "display_data",
          "data": {
            "image/png": "[encoded data removed]",
            "text/plain": [
              "<Figure size 432x288 with 1 Axes>"
            ]
          },
          "metadata": {
            "tags": [],
            "needs_background": "light"
          }
        }
      ]
    },
    {
      "cell_type": "code",
      "metadata": {
        "id": "cxhDBYwFABuz",
        "colab": {
          "base_uri": "https://localhost:8080/",
          "height": 306
        },
        "outputId": "67854ad2-2cdd-4c86-a7d3-e95449deeb34"
      },
      "source": [
        "# check that if we increase the number of particles we get the same answer\n",
        "nsteps = 400 # number of steps\n",
        "npart = 4000   # number of particles to let walk around\n",
        "xvec = npart_walkn(npart,nsteps)\n",
        "\n",
        "# plot the histogram, i.e., measured distribution of final positions after n steps of random walking around\n",
        "n, bins, patches =plt.hist(xvec,bins=30,density=True)\n",
        "plt.xlabel(\"x\",fontsize=22)\n",
        "plt.ylabel(\"p(x)\",fontsize=22)\n",
        "\n",
        "# a gaussian probability density distribution - is a function!\n",
        "mygaus = stats.norm(0.0, np.sqrt(nsteps))  # should scale with sqrt(nsteps)\n",
        "y = mygaus.pdf(bins) # evaluate the probability distribution at the bin values\n",
        "plt.plot(bins,y,\"r\", lw=3 )  #plot the expected density distribution as a red line"
      ],
      "execution_count": null,
      "outputs": [
        {
          "output_type": "execute_result",
          "data": {
            "text/plain": [
              "[<matplotlib.lines.Line2D at 0x7f8f16bb6c18>]"
            ]
          },
          "metadata": {
            "tags": []
          },
          "execution_count": 27
        },
        {
          "output_type": "display_data",
          "data": {
            "image/png": "[encoded data removed]",
            "text/plain": [
              "<Figure size 432x288 with 1 Axes>"
            ]
          },
          "metadata": {
            "tags": [],
            "needs_background": "light"
          }
        }
      ]
    },
    {
      "cell_type": "markdown",
      "metadata": {
        "id": "Qld7nx1NEXpL"
      },
      "source": [
        "The results somewhat agree with the Central Limit Theorem, but not as closely as when using a normal distribution of the steps. This could have something to do with the method of determining whether the step is positive or negative, but since all runs followed a similar pattern, this difference could be considered negligable."
      ]
    }
  ]
}