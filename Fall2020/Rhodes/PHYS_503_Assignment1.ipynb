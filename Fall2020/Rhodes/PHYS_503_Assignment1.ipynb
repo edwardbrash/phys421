{
  "nbformat": 4,
  "nbformat_minor": 0,
  "metadata": {
    "kernelspec": {
      "display_name": "Python 3",
      "language": "python",
      "name": "python3"
    },
    "language_info": {
      "codemirror_mode": {
        "name": "ipython",
        "version": 3
      },
      "file_extension": ".py",
      "mimetype": "text/x-python",
      "name": "python",
      "nbconvert_exporter": "python",
      "pygments_lexer": "ipython3",
      "version": "3.6.8"
    },
    "colab": {
      "name": "PHYS 503 Assignment1.ipynb",
      "provenance": [],
      "collapsed_sections": []
    }
  },
  "cells": [
    {
      "cell_type": "markdown",
      "metadata": {
        "id": "7LC8aN9t8nTX"
      },
      "source": [
        "# Assignment 1"
      ]
    },
    {
      "cell_type": "markdown",
      "metadata": {
        "id": "cekc0yRh8nTZ"
      },
      "source": [
        "## Question 1 - Root finding using bisection method"
      ]
    },
    {
      "cell_type": "markdown",
      "metadata": {
        "id": "-DZ6l9t08nTa"
      },
      "source": [
        "Begin by considering the polynomial:\n",
        "\n",
        "$f(x) = 1.80 - 4.05x + 0.40x^2 + x^3$\n",
        " \n",
        "which has three real roots at $x=-2.5,0.5,1.5$.\n",
        "\n",
        "a)\tCalculate the roots of this polynomial using the bisection algorithm. You can start with the file called root_find_basic.ipynb and then modify as appropriate.  The program should fill an array of 10,000 data points between $x=-4.0$ and $x=4.0$.  Then, the program should do a sparse search of this array, i.e. once every n_search elements, to look for sign changes, and subsequently using the bisection algorithm to find the root.  The program should also keep track of the time taken to find the roots.\n",
        "\n",
        "b)\tCreate a plot of the time taken to find the roots vs. the sparsification size (n_search), for n_search values between 1 and 10,000.  You can start with root_find_complete.ipynb and then modify it.\n",
        "\n",
        "c)\tDeduce the source of the various patterns that you observe in part b).  Hint:  You might consider adjusting the number of data points in the original array, as well as the coefficients of the polynomial, slightly.\n",
        "\n",
        "d)\tModify the code created in part a) to allow for the possibility to find the roots of other polynomials or functions."
      ]
    },
    {
      "cell_type": "code",
      "metadata": {
        "id": "QtDwdQZq8nTb"
      },
      "source": [
        "import numpy as np\n",
        "import matplotlib.pyplot as plt\n",
        "\n",
        "import time"
      ],
      "execution_count": null,
      "outputs": []
    },
    {
      "cell_type": "code",
      "metadata": {
        "id": "mJhxYP239WCX"
      },
      "source": [
        "# define a generator function for the polynomial\n",
        "def generator_function(x,coe,expo):\n",
        "  func = 0\n",
        "  for i in range(0, len(coe)):\n",
        "    func += coe[i]*(x**expo[i])\n",
        "  return func\n",
        "\n",
        "# Set the x limits, and the number of points, and calculate the interval\n",
        "xl = -4.0\n",
        "xh = 4.0\n",
        "npoints = 10000\n",
        "\n",
        "dx = (xh-xl)/npoints\n",
        "\n",
        "xroots = []\n",
        "yroots = []\n",
        "xstep = []\n",
        "ystep = []\n",
        "\n",
        "coe = np.array([1.80,-4.05,0.4,1.0]) # Set function coefficients\n",
        "expo = np.array([0,1,2,3]) # Set function exponents\n",
        "nroots_expected = 3"
      ],
      "execution_count": null,
      "outputs": []
    },
    {
      "cell_type": "code",
      "metadata": {
        "id": "ew-SjNAy9s1M"
      },
      "source": [
        "# Define the data arrays (x and y)\n",
        "xval = np.arange(xl,xh,dx)\n",
        "yval = generator_function(xval,coe,expo)"
      ],
      "execution_count": null,
      "outputs": []
    },
    {
      "cell_type": "code",
      "metadata": {
        "id": "yHYV9DW69vH7",
        "colab": {
          "base_uri": "https://localhost:8080/",
          "height": 158
        },
        "outputId": "9af956b5-e0f1-424a-ef4b-82f8ae7b882c"
      },
      "source": [
        "for nsearch in range(1,10000):\n",
        "    \n",
        "    start = time.time()\n",
        "\n",
        "    niter = npoints/nsearch\n",
        "    ycomp = yval[0]\n",
        "    nroots_found = 0\n",
        "\n",
        "    for i in range(0,int(niter)):\n",
        "        y = yval[nsearch*i]\n",
        "        if (y==0):\n",
        "            if (nsearch == 1):\n",
        "                print (\"Found exact root at x = %f\\n\" % xval[nsearch*i])\n",
        "            nroots_found = nroots_found + 1\n",
        "        if (y*ycomp<0.0):\n",
        "            xlow = xval[nsearch*(i-1)]\n",
        "            xhigh = xval[nsearch*i]\n",
        "            epsilon = 1.0E-10\n",
        "            diff = 1.0E12\n",
        "            while (diff>epsilon):\n",
        "                fa = generator_function(xlow,coe,expo)\n",
        "                fb = generator_function(xhigh,coe,expo)\n",
        "                xmid = (xhigh+xlow)/2.0\n",
        "                fc = generator_function(xmid,coe,expo)\n",
        "                product = fa*fc\n",
        "                if (product < 0):\n",
        "                    xhigh = xmid\n",
        "                else:\n",
        "                    xlow = xmid\n",
        "\n",
        "                diff = np.abs(fc)\n",
        "\n",
        "            if (nsearch == 1):\n",
        "                print (\"Found root at x = %f\\n\" % xmid)\n",
        "            nroots_found = nroots_found + 1\n",
        "            ycomp = y\n",
        "        else:\n",
        "            ycomp = y\n",
        "\n",
        "    if (nsearch == 1):\n",
        "        print (\"Total number of roots found = %d\\n\" % nroots_found)\n",
        "    \n",
        "    xstep.append(nsearch)\n",
        "    \n",
        "    end = time.time()\n",
        "    \n",
        "    if (nroots_found == nroots_expected):\n",
        "        ystep.append(1000.0*(end-start))\n",
        "    else:\n",
        "        ystep.append(30)\n",
        "        # print(\"Incorrect roots\")"
      ],
      "execution_count": null,
      "outputs": [
        {
          "output_type": "stream",
          "text": [
            "Found root at x = -2.451530\n",
            "\n",
            "Found root at x = 0.508987\n",
            "\n",
            "Found root at x = 1.442544\n",
            "\n",
            "Total number of roots found = 3\n",
            "\n"
          ],
          "name": "stdout"
        }
      ]
    },
    {
      "cell_type": "code",
      "metadata": {
        "id": "-aKjSq8z9xcv",
        "colab": {
          "base_uri": "https://localhost:8080/",
          "height": 283
        },
        "outputId": "978590de-1c42-44db-e3cd-0f59ea50bd92"
      },
      "source": [
        "# Generate the figure and the axes \n",
        "fig, axs = plt.subplots(nrows=1, ncols=1) \n",
        "\n",
        "# On the first axis, plot the sine and label the ordinate\n",
        "plt.yscale('log')\n",
        "plt.xscale('log')\n",
        "axs.plot(xstep,ystep,'.')\n",
        "axs.set_ylabel('Time (ms)')\n",
        "axs.set_xlabel('Interval size')\n",
        "axs.axhline()\n",
        "plt.grid(True)\n",
        "# axs.set_xlim(1100,1200)\n",
        "plt.show()"
      ],
      "execution_count": null,
      "outputs": [
        {
          "output_type": "display_data",
          "data": {
            "image/png": "[encoded data removed]",
            "text/plain": [
              "<Figure size 432x288 with 1 Axes>"
            ]
          },
          "metadata": {
            "tags": [],
            "needs_background": "light"
          }
        }
      ]
    },
    {
      "cell_type": "markdown",
      "metadata": {
        "id": "hKeoAvT6QuP_"
      },
      "source": [
        "# Source of Patterns\n",
        "I did not notice much of a change when adjusting the values of the coefficients (assuming that \"slightly\" meant less than +/- 1.0 change.\n",
        "\n",
        "However, I did notice significant changes when adjusting the number of points in the original array. In these changes, I notice that if there were more points, it took significantly less time at higher interval sizes. Conversely, lower number of points caused higher interval sizes to \"flat-line\" at approximately 1.5 ms."
      ]
    },
    {
      "cell_type": "markdown",
      "metadata": {
        "id": "0AAJtFS98nTj"
      },
      "source": [
        "## Question 2 - Fitting data"
      ]
    },
    {
      "cell_type": "markdown",
      "metadata": {
        "id": "5UvVBpR18nTk"
      },
      "source": [
        "a) Go to the following site and retrieve data on the density of air as a function of altitude:\n",
        "\n",
        "http://www.engineeringtoolbox.com/standard-atmosphere-d_604.html\n",
        "\n",
        "Make sure to use the second table, in SI units.  \n",
        "\n",
        "b) Modify the Jupyter Notebook that we went through in class for Linear Regression to fit the density data as a function of altitude using a function of the form:\n",
        "\n",
        "$f(x)= Ae^{Bx+C\\sqrt{x}}$\n",
        "\n",
        "c) Determine the parameters A, B, and C, as well as the uncertainties on these parameters.\n",
        "\n",
        "d) Plot the fit, including 95% confidence interval error bands, along with the data.  What is your evaluation of the quality of the fit?  Can you think of a different approach that might yield a better fit?"
      ]
    },
    {
      "cell_type": "code",
      "metadata": {
        "id": "OP4hLYAd8nTl",
        "colab": {
          "base_uri": "https://localhost:8080/",
          "height": 72
        },
        "outputId": "8b4ed5d7-3b2f-46a8-f275-adfd3432ab8c"
      },
      "source": [
        "import numpy as np\n",
        "import pandas as pd\n",
        "import matplotlib.pyplot as plt\n",
        "import statsmodels.formula.api as sm\n",
        "from statsmodels.stats.anova import anova_lm\n",
        "import scipy.stats as stats\n",
        "from sklearn.linear_model import LinearRegression\n",
        "from scipy.optimize import curve_fit"
      ],
      "execution_count": null,
      "outputs": [
        {
          "output_type": "stream",
          "text": [
            "/usr/local/lib/python3.6/dist-packages/statsmodels/tools/_testing.py:19: FutureWarning: pandas.util.testing is deprecated. Use the functions in the public API at pandas.testing instead.\n",
            "  import pandas.util.testing as tm\n"
          ],
          "name": "stderr"
        }
      ]
    },
    {
      "cell_type": "code",
      "metadata": {
        "id": "AKStbPKx8nTp"
      },
      "source": [
        "# Read in the data\n",
        "\n",
        "url = 'https://raw.githubusercontent.com/AlexTheM8/phys421/master/JupyterNotebooks/standard_atmosphere.txt'\n",
        "df = pd.read_csv(url)\n",
        "df = df[['Altitude', 'Density']]\n",
        "df.head(100)\n",
        "result = sm.ols('Altitude ~ Density',df,).fit()\n",
        "yint = result.params[0]\n",
        "slope = result.params[1]\n",
        "\n",
        "r2 = result.rsquared"
      ],
      "execution_count": null,
      "outputs": []
    },
    {
      "cell_type": "code",
      "metadata": {
        "id": "ehKmKB_XQ9gA",
        "colab": {
          "base_uri": "https://localhost:8080/",
          "height": 295
        },
        "outputId": "5473a876-911b-47b4-d4b9-115e03ed54f6"
      },
      "source": [
        "x = df['Density']\n",
        "\n",
        "df.plot('Density','Altitude',style='o')\n",
        "plt.ylabel('Altitude')\n",
        "plt.title('Density of Air as a Function of Altitude')\n",
        "plt.show()"
      ],
      "execution_count": null,
      "outputs": [
        {
          "output_type": "display_data",
          "data": {
            "image/png": "[encoded data removed]",
            "text/plain": [
              "<Figure size 432x288 with 1 Axes>"
            ]
          },
          "metadata": {
            "tags": [],
            "needs_background": "light"
          }
        }
      ]
    },
    {
      "cell_type": "code",
      "metadata": {
        "id": "lItQtGe0c2R_",
        "colab": {
          "base_uri": "https://localhost:8080/",
          "height": 385
        },
        "outputId": "7cbc31c4-1aff-4aa2-b244-4c18af22ec08"
      },
      "source": [
        "def fitfunction(x, *paramlist):\n",
        "  return paramlist[0] * np.exp(paramlist[1]*x + paramlist[2]*(x**(1/2)))\n",
        "\n",
        "init_vals = [0.0 for x in range(3)]\n",
        "x = np.array(df['Density'])\n",
        "y = np.array(df['Altitude'])\n",
        "popt, pcov = curve_fit(fitfunction,x,y,p0=init_vals)\n",
        "\n",
        "print(\"Coefficients (from curve_fit)\")\n",
        "print (popt)\n",
        "print(\"Covariance Matrix (from curve_fit)\")\n",
        "print (pcov)\n",
        "\n",
        "xi = np.linspace(0.0,1.5,100)\n",
        "ps = np.random.multivariate_normal(popt,pcov,10000)\n",
        "ysample=np.asarray([fitfunction(xi,*pi) for pi in ps])\n",
        "lower = np.percentile(ysample,0.5,axis=0)\n",
        "upper = np.percentile(ysample,99.5,axis=0)\n",
        "\n",
        "yfit = fitfunction(x, *popt)\n",
        "\n",
        "df.plot('Density','Altitude',style='o')\n",
        "plt.plot(xi,lower)\n",
        "plt.plot(xi,upper)\n",
        "plt.plot(x, yfit)\n",
        "axes = plt.gca()\n",
        "# axes.set_xlim([-0.1,1.5])\n",
        "axes.set_ylim([-10000,85000.0])\n",
        "plt.show()"
      ],
      "execution_count": null,
      "outputs": [
        {
          "output_type": "stream",
          "text": [
            "Coefficients (from curve_fit)\n",
            "[ 6.99084729e+04  2.84513773e+00 -5.82953505e+00]\n",
            "Covariance Matrix (from curve_fit)\n",
            "[[ 9.50176786e+06  1.43819299e+03 -1.44067875e+03]\n",
            " [ 1.43819299e+03  1.00474865e+00 -7.23497856e-01]\n",
            " [-1.44067875e+03 -7.23497856e-01  6.50366218e-01]]\n"
          ],
          "name": "stdout"
        },
        {
          "output_type": "display_data",
          "data": {
            "image/png": "[encoded data removed]",
            "text/plain": [
              "<Figure size 432x288 with 1 Axes>"
            ]
          },
          "metadata": {
            "tags": [],
            "needs_background": "light"
          }
        }
      ]
    },
    {
      "cell_type": "markdown",
      "metadata": {
        "id": "frzt0n0UcxK0"
      },
      "source": [
        "# Evaluation\n",
        "\n",
        "I believe this fit accurately plots the data at 95% confidence. There are slight deviations from this fit, but not to a significant degree that I believe warrants any changes to the model. However, the upper-bound seems to significantly curve up at higher densities which may cause an overacceptance of outliers in the data. "
      ]
    }
  ]
}