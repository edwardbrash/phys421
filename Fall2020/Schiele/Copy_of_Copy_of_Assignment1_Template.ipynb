{
 "cells": [
  {
   "cell_type": "markdown",
   "metadata": {
    "colab_type": "text",
    "id": "K1gfG0-xr_7N"
   },
   "source": [
    "# Assignment 1"
   ]
  },
  {
   "cell_type": "markdown",
   "metadata": {
    "colab_type": "text",
    "id": "5_j87Fhcr_7O"
   },
   "source": [
    "## Question 1 - Root finding using bisection method"
   ]
  },
  {
   "cell_type": "markdown",
   "metadata": {
    "colab_type": "text",
    "id": "IjAmRvTJr_7P"
   },
   "source": [
    "Begin by considering the polynomial:\n",
    "\n",
    "$f(x) = 1.80 - 4.05x + 0.40x^2 + x^3$\n",
    " \n",
    "which has three real roots at $x=-2.5,0.5,1.5$.\n",
    "\n",
    "a)\tCalculate the roots of this polynomial using the bisection algorithm. You can start with the file called root_find_basic.ipynb and then modify as appropriate.  The program should fill an array of 10,000 data points between $x=-4.0$ and $x=4.0$.  Then, the program should do a sparse search of this array, i.e. once every n_search elements, to look for sign changes, and subsequently using the bisection algorithm to find the root.  The program should also keep track of the time taken to find the roots.\n",
    "\n",
    "b)\tCreate a plot of the time taken to find the roots vs. the sparsification size (n_search), for n_search values between 1 and 10,000.  You can start with root_find_complete.ipynb and then modify it.\n",
    "\n",
    "c)\tDeduce the source of the various patterns that you observe in part b).  Hint:  You might consider adjusting the number of data points in the original array, as well as the coefficients of the polynomial, slightly.\n",
    "\n",
    "d)\tModify the code created in part a) to allow for the possibility to find the roots of other polynomials or functions."
   ]
  },
  {
   "cell_type": "markdown",
   "metadata": {
    "colab_type": "text",
    "id": "xvx7V6b4ux25"
   },
   "source": []
  },
  {
   "cell_type": "markdown",
   "metadata": {
    "colab_type": "text",
    "id": "H3ybdgb4u04B"
   },
   "source": [
    "A)Found root at x = -2.400000\n",
    "\n",
    "Found root at x = 0.500000\n",
    "\n",
    "Found root at x = 1.500000\n",
    "\n",
    "Total number of roots found = 3\n",
    "\n",
    "0.0017969608306884766\n",
    "\n",
    "![image.png](data:image/png;base64,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)\n"
   ]
  },
  {
   "cell_type": "markdown",
   "metadata": {
    "colab_type": "text",
    "id": "C_ENJWhByDfR"
   },
   "source": [
    "B)![image.png](data:image/png;base64,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)"
   ]
  },
  {
   "cell_type": "markdown",
   "metadata": {
    "colab_type": "text",
    "id": "12vMVhNE2uK-"
   },
   "source": [
    "C) for graph B, at around 3500 points, the time jumps up significantly. When increasing the number of points the time becomes more clear and concise. "
   ]
  },
  {
   "cell_type": "markdown",
   "metadata": {
    "colab_type": "text",
    "id": "eR05DrJ83QBY"
   },
   "source": [
    "D) def generator_function(x,*par):\n",
    "  y = 0\n",
    "  for i in range(len(par)):\n",
    "    z = par[i]*x**i\n",
    "    y = y + z\n",
    "  return y\n"
   ]
  },
  {
   "cell_type": "code",
   "execution_count": null,
   "metadata": {
    "colab": {},
    "colab_type": "code",
    "id": "uaSTTc2nr_7P"
   },
   "outputs": [],
   "source": [
    "\n"
   ]
  },
  {
   "cell_type": "markdown",
   "metadata": {
    "colab_type": "text",
    "id": "ljIW0TK7r_7S"
   },
   "source": [
    "## Question 2 - Fitting data"
   ]
  },
  {
   "cell_type": "markdown",
   "metadata": {
    "colab_type": "text",
    "id": "0gc2dhjyr_7T"
   },
   "source": [
    "*a*) Go to the following site and retrieve data on the density of air as a function of altitude:\n",
    "\n",
    "http://www.engineeringtoolbox.com/standard-atmosphere-d_604.html\n",
    "\n",
    "Make sure to use the second table, in SI units.  \n",
    "\n",
    "b) Modify the Jupyter Notebook that we went through in class for Linear Regression to fit the density data as a function of altitude using a function of the form:\n",
    "\n",
    "$f(x)= Ae^{Bx+C\\sqrt{x}}$\n",
    "\n",
    "c) Determine the parameters A, B, and C, as well as the uncertainties on these parameters.\n",
    "\n",
    "d) Plot the fit, including 95% confidence interval error bands, along with the data.  What is your evaluation of the quality of the fit?  Can you think of a different approach that might yield a better fit?"
   ]
  },
  {
   "cell_type": "code",
   "execution_count": 2,
   "metadata": {
    "colab": {},
    "colab_type": "code",
    "id": "FmhcxqdNr_7T"
   },
   "outputs": [
    {
     "ename": "NameError",
     "evalue": "name 'df' is not defined",
     "output_type": "error",
     "traceback": [
      "\u001b[0;31m---------------------------------------------------------------------------\u001b[0m",
      "\u001b[0;31mNameError\u001b[0m                                 Traceback (most recent call last)",
      "\u001b[0;32m<ipython-input-2-0b5150730ba9>\u001b[0m in \u001b[0;36m<module>\u001b[0;34m\u001b[0m\n\u001b[1;32m      1\u001b[0m \u001b[0;32mimport\u001b[0m \u001b[0mseaborn\u001b[0m \u001b[0;32mas\u001b[0m \u001b[0msns\u001b[0m\u001b[0;34m\u001b[0m\u001b[0;34m\u001b[0m\u001b[0m\n\u001b[0;32m----> 2\u001b[0;31m \u001b[0msns\u001b[0m\u001b[0;34m.\u001b[0m\u001b[0mregplot\u001b[0m\u001b[0;34m(\u001b[0m\u001b[0;34m'Altitude'\u001b[0m\u001b[0;34m,\u001b[0m \u001b[0;34m'Density'\u001b[0m\u001b[0;34m,\u001b[0m \u001b[0mdf\u001b[0m\u001b[0;34m,\u001b[0m \u001b[0mci\u001b[0m\u001b[0;34m=\u001b[0m\u001b[0;36m99.99\u001b[0m\u001b[0;34m)\u001b[0m\u001b[0;34m\u001b[0m\u001b[0;34m\u001b[0m\u001b[0m\n\u001b[0m\u001b[1;32m      3\u001b[0m \u001b[0;34m\u001b[0m\u001b[0m\n\u001b[1;32m      4\u001b[0m \u001b[0;31m# Let's do a linear fit using the curve_fit utility from scipy, for comparision with seaborn regplot.\u001b[0m\u001b[0;34m\u001b[0m\u001b[0;34m\u001b[0m\u001b[0;34m\u001b[0m\u001b[0m\n\u001b[1;32m      5\u001b[0m \u001b[0;34m\u001b[0m\u001b[0m\n",
      "\u001b[0;31mNameError\u001b[0m: name 'df' is not defined"
     ]
    }
   ],
   "source": [
    "import seaborn as sns\n",
    "sns.regplot('Altitude', 'Density', df, ci=99.99)\n",
    "\n",
    "# Let's do a linear fit using the curve_fit utility from scipy, for comparision with seaborn regplot.\n",
    "\n",
    "from scipy.optimize import curve_fit\n",
    "\n",
    "def fitfunction(x,*paramlist):\n",
    "    return paramlist[0]*np.exp(paramlist[1]*x+paramlist[2]*np.sqrt(x))\n",
    "\n",
    "init_vals = [0.0 for x in range(3)]\n",
    "x = np.array(df['Altitude'])\n",
    "y = np.array(df['Density'])\n",
    "popt, pcov = curve_fit(fitfunction,x,y,p0=init_vals)\n",
    "\n",
    "xi = np.linspace(np.min(x),np.max(x),100)\n",
    "#xi = np.linspace(2.5,5,100)\n",
    "ps = np.random.multivariate_normal(popt,pcov,10000)\n",
    "ysample=np.asarray([fitfunction(xi,*pi) for pi in ps])\n",
    "lower = np.percentile(ysample,.5,axis=0)\n",
    "upper = np.percentile(ysample,99.5,axis=0)\n",
    "\n",
    "print(\"Coefficients (from curve_fit)\")\n",
    "print (popt)\n",
    "print(\"Covariance Matrix (from curve_fit)\")\n",
    "print (pcov)\n",
    "\n",
    "plt.plot(xi,lower)\n",
    "plt.plot(xi,upper)\n",
    "plt.show()"
   ]
  },
  {
   "cell_type": "code",
   "execution_count": null,
   "metadata": {
    "colab": {},
    "colab_type": "code",
    "id": "XoZEZYVzr_7W"
   },
   "outputs": [],
   "source": []
  }
 ],
 "metadata": {
  "colab": {
   "name": "Copy of Copy of Assignment1_Template.ipynb",
   "provenance": []
  },
  "kernelspec": {
   "display_name": "Python 3",
   "language": "python",
   "name": "python3"
  },
  "language_info": {
   "codemirror_mode": {
    "name": "ipython",
    "version": 3
   },
   "file_extension": ".py",
   "mimetype": "text/x-python",
   "name": "python",
   "nbconvert_exporter": "python",
   "pygments_lexer": "ipython3",
   "version": "3.6.8"
  }
 },
 "nbformat": 4,
 "nbformat_minor": 1
}
