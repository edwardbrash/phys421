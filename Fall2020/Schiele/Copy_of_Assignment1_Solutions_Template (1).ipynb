{
  "nbformat": 4,
  "nbformat_minor": 0,
  "metadata": {
    "kernelspec": {
      "display_name": "Python 3",
      "language": "python",
      "name": "python3"
    },
    "language_info": {
      "codemirror_mode": {
        "name": "ipython",
        "version": 3
      },
      "file_extension": ".py",
      "mimetype": "text/x-python",
      "name": "python",
      "nbconvert_exporter": "python",
      "pygments_lexer": "ipython3",
      "version": "3.6.8"
    },
    "colab": {
      "name": "Copy of Assignment1_Solutions_Template.ipynb",
      "provenance": []
    }
  },
  "cells": [
    {
      "cell_type": "markdown",
      "metadata": {
        "id": "YWHj0BgGgInO",
        "colab_type": "text"
      },
      "source": [
        "# Assignment 1 Solutions"
      ]
    },
    {
      "cell_type": "code",
      "metadata": {
        "id": "Csvhv3oggInP",
        "colab_type": "code",
        "colab": {}
      },
      "source": [
        "# Import the required packages, \n",
        "# with their conventional names \n",
        "import matplotlib.pyplot as plt \n",
        "import numpy as np \n",
        "import scipy.stats as stats\n",
        "import math"
      ],
      "execution_count": 86,
      "outputs": []
    },
    {
      "cell_type": "markdown",
      "metadata": {
        "id": "OYInfC9YgInT",
        "colab_type": "text"
      },
      "source": [
        "# Question 1:  \n",
        "\n",
        "A cat is launched from the top of the Trible library with zero initial velocity, and lands, unharmed, on the ground below time later. The height of the Trible library is measured to be (21.2 +/- 0.4) m. The time is measured to be (2.04 +/- 0.05) s.\n",
        "\n",
        "(a) What is the measured value of the acceleration due to gravity, ignoring air resistance?\n",
        "\n",
        "(b) Assuming that the uncertainties quoted above follow a uniform error distribution, what is the measured uncertainty in the acceleration due to gravity?\n",
        "\n",
        "(c) Assuming that the uncertainties quoted above follow a Gaussian error distribution, what is the measured uncertainty in the acceleration due to gravity?"
      ]
    },
    {
      "cell_type": "code",
      "metadata": {
        "id": "1ICdyF93gInT",
        "colab_type": "code",
        "colab": {
          "base_uri": "https://localhost:8080/",
          "height": 51
        },
        "outputId": "190c972f-2283-431e-d718-c75eada8075c"
      },
      "source": [
        "a = 0\n",
        "h= 21.2\n",
        "v0=0\n",
        "t=2.04\n",
        "v1= (math.sqrt(abs(2*9.81*h)))\n",
        "\n",
        "a = ((v1-v0)/t)\n",
        "print(\"the acceleration of the cat:\")\n",
        "print(a)"
      ],
      "execution_count": 87,
      "outputs": [
        {
          "output_type": "stream",
          "text": [
            "the acceleration of the cat:\n",
            "9.997404507461582\n"
          ],
          "name": "stdout"
        }
      ]
    },
    {
      "cell_type": "code",
      "metadata": {
        "id": "i77MIuJhgInW",
        "colab_type": "code",
        "colab": {
          "base_uri": "https://localhost:8080/",
          "height": 51
        },
        "outputId": "8e8c26b5-67fd-4992-b349-5b4bff733b42"
      },
      "source": [
        "dg = 0\n",
        "dg = ((1/12)*(0.8*0.8)+ (1/12)*(.08*.08))*9.997\n",
        "print(\"Uniform error distribution\")\n",
        "print(dg)"
      ],
      "execution_count": 88,
      "outputs": [
        {
          "output_type": "stream",
          "text": [
            "Uniform error distribution\n",
            "0.5385050666666668\n"
          ],
          "name": "stdout"
        }
      ]
    },
    {
      "cell_type": "code",
      "metadata": {
        "id": "a-xR1vqfgInY",
        "colab_type": "code",
        "colab": {
          "base_uri": "https://localhost:8080/",
          "height": 51
        },
        "outputId": "97923328-cf60-40ab-a3d5-592fb6124224"
      },
      "source": [
        "x = 0\n",
        "x = 1/2*((0.4/21.2))+(0.04/2.04)\n",
        "x = x*9.997\n",
        "print(\"the Uncertainty is \")\n",
        "print(x)"
      ],
      "execution_count": 89,
      "outputs": [
        {
          "output_type": "stream",
          "text": [
            "the Uncertainty is \n",
            "0.29033092859785425\n"
          ],
          "name": "stdout"
        }
      ]
    },
    {
      "cell_type": "code",
      "metadata": {
        "id": "FbOy8mLFgIna",
        "colab_type": "code",
        "colab": {}
      },
      "source": [
        ""
      ],
      "execution_count": 89,
      "outputs": []
    },
    {
      "cell_type": "markdown",
      "metadata": {
        "id": "5I833dvCgInd",
        "colab_type": "text"
      },
      "source": [
        "# Question 2: \n",
        "\n",
        "Airlines sometimes overbook flights. Suppose that for a plane with 50 seats, 55 passengers have tickets. Define the random variable Y as the number of ticketed passengers who actually show up for the flight. The probability mass function of Y appears in the accompanying table.\n",
        "\n",
        "(a) What is the probability that the flight will accommodate all ticketed passengers who show up?\n",
        "\n",
        "(b) What is the probability that not all ticketed passengers who show up can be accommodated?\n",
        "\n",
        "(c) If you are the first person on the standby list (which means you will be the first one to get on the plane if there are any seats available after all ticketed passengers have been accommodated), what is the probability that you will be able to take the flight? \n",
        "\n",
        "What is this probability if you are the third person on the standby list?"
      ]
    },
    {
      "cell_type": "code",
      "metadata": {
        "id": "fItZR1hugInd",
        "colab_type": "code",
        "colab": {
          "base_uri": "https://localhost:8080/",
          "height": 34
        },
        "outputId": "ae49e4cb-5e7c-4543-8877-98db6994bde6"
      },
      "source": [
        "Px = 0.04+ 0.1+0.13+0.14+0.25+0.17\n",
        "print(Px)"
      ],
      "execution_count": 90,
      "outputs": [
        {
          "output_type": "stream",
          "text": [
            "0.8300000000000001\n"
          ],
          "name": "stdout"
        }
      ]
    },
    {
      "cell_type": "code",
      "metadata": {
        "id": "Xh-JwnR7gIng",
        "colab_type": "code",
        "colab": {
          "base_uri": "https://localhost:8080/",
          "height": 34
        },
        "outputId": "a744d95b-b631-482e-de33-7a61364ef44f"
      },
      "source": [
        "Py = 0.06+0.05+0.03+0.02+0.01\n",
        "print (Py)"
      ],
      "execution_count": 91,
      "outputs": [
        {
          "output_type": "stream",
          "text": [
            "0.17\n"
          ],
          "name": "stdout"
        }
      ]
    },
    {
      "cell_type": "code",
      "metadata": {
        "id": "yeHhNRcwgInj",
        "colab_type": "code",
        "colab": {
          "base_uri": "https://localhost:8080/",
          "height": 34
        },
        "outputId": "27e88c5f-d912-4f62-cb75-8d306f046715"
      },
      "source": [
        "Pz= 0.04+0.1+0.13+0.14+0.25\n",
        "print(Pz)"
      ],
      "execution_count": 92,
      "outputs": [
        {
          "output_type": "stream",
          "text": [
            "0.66\n"
          ],
          "name": "stdout"
        }
      ]
    },
    {
      "cell_type": "code",
      "metadata": {
        "id": "Oh9bUAvVgInl",
        "colab_type": "code",
        "colab": {
          "base_uri": "https://localhost:8080/",
          "height": 34
        },
        "outputId": "86cebb8e-0c3e-46a5-c6a1-3ffe942b8f06"
      },
      "source": [
        "Pw= 0.04+0.1+0.13\n",
        "print(Pw)"
      ],
      "execution_count": 93,
      "outputs": [
        {
          "output_type": "stream",
          "text": [
            "0.27\n"
          ],
          "name": "stdout"
        }
      ]
    },
    {
      "cell_type": "markdown",
      "metadata": {
        "id": "lOF3e9MzgInn",
        "colab_type": "text"
      },
      "source": [
        "# Question 3: \n",
        "\n",
        "A mail-order company business has six telephone lines. Let X denote the number of lines in use at a specified time. Suppose the pmf of X is as given in the accompanying table.\n",
        "\n",
        "\n",
        "Calculate the probability of each of the following events.\n",
        "\n",
        "(a) {at most three lines are in use}\n",
        "\n",
        "(b) {fewer than three lines are in use}\n",
        "\n",
        "(c) {at least three lines are in use}\n",
        "\n",
        "(d) {between two and five lines, inclusive, are in use}\n",
        "\n",
        "(e) {between two and four lines, inclusive, are not in use}\n",
        "\n",
        "(f) {at least four lines are not in use}"
      ]
    },
    {
      "cell_type": "code",
      "metadata": {
        "id": "RwF35CFP_QMu",
        "colab_type": "code",
        "colab": {
          "base_uri": "https://localhost:8080/",
          "height": 221
        },
        "outputId": "f0993e47-2c12-4bcb-8d04-02790439d37b"
      },
      "source": [
        "P0=0.12\n",
        "P1=0.15\n",
        "P2=0.2\n",
        "P3=0.25\n",
        "P4=0.18\n",
        "P5=0.08\n",
        "P6=0.02\n",
        "\n",
        "Pa = P0+P1+P2+P3\n",
        "print(\"P(x<=3) =\")\n",
        "print(Pa)\n",
        "\n",
        "Pb = P0+P1+P2\n",
        "print(\"P(x<3) =\")\n",
        "print(Pb)\n",
        "\n",
        "Pc = P3+P4+P5+P6\n",
        "print(\"P(x>=3) =\")\n",
        "\n",
        "print(Pc)\n",
        "\n",
        "Pd = P2+P3+P4+P5\n",
        "print(\"P(2<=x<=5) =\")\n",
        "\n",
        "print(Pd)\n",
        "\n",
        "Pe = P2+P3+P4\n",
        "print(\"P(2<=x<=4) =\")\n",
        "\n",
        "print(Pe)\n",
        "\n",
        "Pf = P0+P1+P2\n",
        "print(\"P(x<=2) =\")\n",
        "\n",
        "print(Pf)\n"
      ],
      "execution_count": 94,
      "outputs": [
        {
          "output_type": "stream",
          "text": [
            "P(x<=3) =\n",
            "0.72\n",
            "P(x<3) =\n",
            "0.47000000000000003\n",
            "P(x>=3) =\n",
            "0.53\n",
            "P(2<=x<=5) =\n",
            "0.71\n",
            "P(2<=x<=4) =\n",
            "0.63\n",
            "P(x<=2) =\n",
            "0.47000000000000003\n"
          ],
          "name": "stdout"
        }
      ]
    },
    {
      "cell_type": "code",
      "metadata": {
        "id": "5lX5UYIFgIno",
        "colab_type": "code",
        "colab": {}
      },
      "source": [
        ""
      ],
      "execution_count": 94,
      "outputs": []
    },
    {
      "cell_type": "code",
      "metadata": {
        "id": "RIGkr8OkgInr",
        "colab_type": "code",
        "colab": {}
      },
      "source": [
        ""
      ],
      "execution_count": 94,
      "outputs": []
    },
    {
      "cell_type": "markdown",
      "metadata": {
        "id": "D659hYw_gInu",
        "colab_type": "text"
      },
      "source": [
        "# Question 4: \n",
        "\n",
        "Compute the following binomial probabilities directly from the formula for b(x; n, p).\n",
        "\n",
        "(a) b(3; 5, 0.48)\n",
        "\n",
        "(b) b(2; 7, 0.77)\n",
        "\n",
        "(c) P(3 <= X <= 5) when n = 9 and p = 0.76\n",
        "\n",
        "(d) P(1 <= X) when n = 12 and p = 0.14"
      ]
    },
    {
      "cell_type": "code",
      "metadata": {
        "id": "fyIMmpSygInu",
        "colab_type": "code",
        "colab": {
          "base_uri": "https://localhost:8080/",
          "height": 51
        },
        "outputId": "b882e739-9f9a-4247-b475-75a471356801"
      },
      "source": [
        "#A\n",
        "import math\n",
        "x= 3\n",
        "n= 5\n",
        "p= 0.48\n",
        "b = ((math.factorial(n))/(math.factorial(x)*math.factorial(n-x)))*(p**x)*((1-p)**(n-x))\n",
        "print(\"b(3; 5, 0.48) is\")\n",
        "print(b)"
      ],
      "execution_count": 95,
      "outputs": [
        {
          "output_type": "stream",
          "text": [
            "b(3; 5, 0.48) is\n",
            "0.29904076799999996\n"
          ],
          "name": "stdout"
        }
      ]
    },
    {
      "cell_type": "code",
      "metadata": {
        "id": "BvtZD7gagInw",
        "colab_type": "code",
        "colab": {
          "base_uri": "https://localhost:8080/",
          "height": 51
        },
        "outputId": "b1df513d-ab8d-4944-ae6c-58b7ed249621"
      },
      "source": [
        "#B\n",
        "import math\n",
        "x= 2\n",
        "n= 7\n",
        "p= 0.77\n",
        "b = ((math.factorial(n))/(math.factorial(x)*math.factorial(n-x)))*(p**x)*((1-p)**(n-x))\n",
        "print(\"b(2; 7, 0.77) is\")\n",
        "print(b)"
      ],
      "execution_count": 96,
      "outputs": [
        {
          "output_type": "stream",
          "text": [
            "b(2; 7, 0.77) is\n",
            "0.008013826305869998\n"
          ],
          "name": "stdout"
        }
      ]
    },
    {
      "cell_type": "code",
      "metadata": {
        "id": "O5a-dDiagIny",
        "colab_type": "code",
        "colab": {
          "base_uri": "https://localhost:8080/",
          "height": 51
        },
        "outputId": "3d7d8d07-54d0-437e-c949-df2d34efb2be"
      },
      "source": [
        "#C\n",
        "import math\n",
        "x= 3\n",
        "x1 = 4\n",
        "x2 = 5\n",
        "n= 9\n",
        "p= 0.76\n",
        "b = (((math.factorial(n))/(math.factorial(x)*math.factorial(n-x)))*(p**x)*((1-p)**(n-x)))\n",
        "+(((math.factorial(n))/(math.factorial(x1)*math.factorial(n-x1)))*(p**x1)*((1-p)**(n-x1)))\n",
        "+(((math.factorial(n))/(math.factorial(x2)*math.factorial(n-x2)))*(p**x2)*((1-p)**(n-x2)))\n",
        "print(\"P(3 <= X <= 5)\")\n",
        "print(b)"
      ],
      "execution_count": 97,
      "outputs": [
        {
          "output_type": "stream",
          "text": [
            "P(3 <= X <= 5)\n",
            "0.007046728079376383\n"
          ],
          "name": "stdout"
        }
      ]
    },
    {
      "cell_type": "code",
      "metadata": {
        "id": "8nJt3qsagIn1",
        "colab_type": "code",
        "colab": {
          "base_uri": "https://localhost:8080/",
          "height": 51
        },
        "outputId": "aebe51bc-d4d7-41be-93c6-e626a329cb39"
      },
      "source": [
        "#D\n",
        "x= 0\n",
        "x1=1\n",
        "n= 12\n",
        "p= 0.14\n",
        "b = (((math.factorial(n))/(math.factorial(x)*math.factorial(n-x)))*(p**x)*((1-p)**(n-x)) + (((math.factorial(n))/(math.factorial(x1)*math.factorial(n-x1)))*(p**x1)*((1-p)**(n-x1))))\n",
        "print(\" P(1 <= X)\")\n",
        "print(b)"
      ],
      "execution_count": 98,
      "outputs": [
        {
          "output_type": "stream",
          "text": [
            " P(1 <= X)\n",
            "0.4834111689230142\n"
          ],
          "name": "stdout"
        }
      ]
    },
    {
      "cell_type": "code",
      "metadata": {
        "id": "1xvzU6asgIn3",
        "colab_type": "code",
        "colab": {}
      },
      "source": [
        ""
      ],
      "execution_count": 98,
      "outputs": []
    },
    {
      "cell_type": "markdown",
      "metadata": {
        "id": "vR9zh1gXgIn5",
        "colab_type": "text"
      },
      "source": [
        "# Question 5:\n",
        "\n",
        "When circuit boards used in the manufacture of compact disc players are tested, the long-run percentage of defectives is 10%. Let X = the number of defective boards in a random sample of size n = 25, so X ~ Bin(25, 0.10).\n",
        "\n",
        "(a) Determine P(X <= 2).\n",
        "\n",
        "(b) Determine P(X >= 5).\n",
        "\n",
        "(c) Determine P(1 <= X <= 4).\n",
        "\n",
        "(d) What is the probability that none of the 25 boards is defective?\n",
        "\n",
        "(e) Calculate the expected value and standard deviation of X."
      ]
    },
    {
      "cell_type": "code",
      "metadata": {
        "id": "UkZ0Hi6XgIn5",
        "colab_type": "code",
        "colab": {
          "base_uri": "https://localhost:8080/",
          "height": 0
        },
        "outputId": "f31cbd75-8de8-427b-e506-e3d9524a1bde"
      },
      "source": [
        "x= 0\n",
        "x1=1\n",
        "x2=2\n",
        "n= 25\n",
        "p= 0.1\n",
        "b = (((math.factorial(n))/(math.factorial(x)*math.factorial(n-x)))*(p**x)*((1-p)**(n-x)) + (((math.factorial(n))/(math.factorial(x1)*math.factorial(n-x1)))*(p**x1)*((1-p)**(n-x1)))+ ((math.factorial(n))/(math.factorial(x2)*math.factorial(n-x2)))*(p**x2)*((1-p)**(n-x2)))\n",
        "print(b)"
      ],
      "execution_count": 99,
      "outputs": [
        {
          "output_type": "stream",
          "text": [
            "0.5370940500509419\n"
          ],
          "name": "stdout"
        }
      ]
    },
    {
      "cell_type": "code",
      "metadata": {
        "id": "LmBUmfSRgIn7",
        "colab_type": "code",
        "colab": {
          "base_uri": "https://localhost:8080/",
          "height": 0
        },
        "outputId": "8f14e00d-41c5-4a49-fac0-d8184463d53a"
      },
      "source": [
        "x= 0\n",
        "x1=1\n",
        "x2=2\n",
        "x3=3\n",
        "x4=4\n",
        "n= 25\n",
        "p= 0.1\n",
        "b = (((math.factorial(n))/(math.factorial(x)*math.factorial(n-x)))*(p**x)*((1-p)**(n-x)) + (((math.factorial(n))/(math.factorial(x1)*math.factorial(n-x1)))*(p**x1)*((1-p)**(n-x1)))+ ((math.factorial(n))/(math.factorial(x2)*math.factorial(n-x2)))*(p**x2)*((1-p)**(n-x2))+ ((math.factorial(n))/(math.factorial(x3)*math.factorial(n-x3)))*(p**x3)*((1-p)**(n-x3))+ ((math.factorial(n))/(math.factorial(x4)*math.factorial(n-x4)))*(p**x4)*((1-p)**(n-x4)))\n",
        "result = 1-b\n",
        "print(result)"
      ],
      "execution_count": 100,
      "outputs": [
        {
          "output_type": "stream",
          "text": [
            "0.09799362119546395\n"
          ],
          "name": "stdout"
        }
      ]
    },
    {
      "cell_type": "code",
      "metadata": {
        "id": "Kyqc-cp6gIn-",
        "colab_type": "code",
        "colab": {
          "base_uri": "https://localhost:8080/",
          "height": 0
        },
        "outputId": "7124b6da-dfa2-4c44-cd2f-c51b4445462e"
      },
      "source": [
        "\n",
        "x1=1\n",
        "x2=2\n",
        "x3=3\n",
        "x4=4\n",
        "n= 25\n",
        "p= 0.1\n",
        "b = ((((math.factorial(n))/(math.factorial(x1)*math.factorial(n-x1)))*(p**x1)*((1-p)**(n-x1)))+ ((math.factorial(n))/(math.factorial(x2)*math.factorial(n-x2)))*(p**x2)*((1-p)**(n-x2))+ ((math.factorial(n))/(math.factorial(x3)*math.factorial(n-x3)))*(p**x3)*((1-p)**(n-x3))+ ((math.factorial(n))/(math.factorial(x4)*math.factorial(n-x4)))*(p**x4)*((1-p)**(n-x4)))\n",
        "print(b) "
      ],
      "execution_count": 101,
      "outputs": [
        {
          "output_type": "stream",
          "text": [
            "0.8302165800353507\n"
          ],
          "name": "stdout"
        }
      ]
    },
    {
      "cell_type": "code",
      "metadata": {
        "id": "oCa35mN4gIoA",
        "colab_type": "code",
        "colab": {
          "base_uri": "https://localhost:8080/",
          "height": 0
        },
        "outputId": "f43c399f-54e6-4832-bbcb-ef7aa21a9f37"
      },
      "source": [
        "x= 0\n",
        "x1=1\n",
        "n= 25\n",
        "p= 0.1\n",
        "b = (((math.factorial(n))/(math.factorial(x)*math.factorial(n-x)))*(p**x)*((1-p)**(n-x)) + (((math.factorial(n))/(math.factorial(x)*math.factorial(n-x)))*(p**x)*((1-p)**(n-x))))\n",
        "print(\" P(X= 0)\")\n",
        "print(b)"
      ],
      "execution_count": 102,
      "outputs": [
        {
          "output_type": "stream",
          "text": [
            " P(X= 0)\n",
            "0.1435795975383706\n"
          ],
          "name": "stdout"
        }
      ]
    },
    {
      "cell_type": "code",
      "metadata": {
        "id": "QTvyNu-UgIoC",
        "colab_type": "code",
        "colab": {
          "base_uri": "https://localhost:8080/",
          "height": 0
        },
        "outputId": "1d9b4ecb-9d92-4fbd-e59f-acfbf4b48178"
      },
      "source": [
        "n= 25\n",
        "p= 0.1\n",
        "exp = n*p\n",
        "print(\"the expected value is: \")\n",
        "print(exp)\n",
        "\n",
        "var = (n*p)*(1-p)\n",
        "std = math.sqrt(var)\n",
        "print(\"the standard deviation is: \")\n",
        "print(std)"
      ],
      "execution_count": 103,
      "outputs": [
        {
          "output_type": "stream",
          "text": [
            "the expected value is: \n",
            "2.5\n",
            "the standard deviation is: \n",
            "1.5\n"
          ],
          "name": "stdout"
        }
      ]
    },
    {
      "cell_type": "code",
      "metadata": {
        "id": "fL0IqJGfgIoE",
        "colab_type": "code",
        "colab": {}
      },
      "source": [
        ""
      ],
      "execution_count": 103,
      "outputs": []
    },
    {
      "cell_type": "code",
      "metadata": {
        "id": "Z2gDj8uSgIoG",
        "colab_type": "code",
        "colab": {}
      },
      "source": [
        ""
      ],
      "execution_count": 103,
      "outputs": []
    },
    {
      "cell_type": "markdown",
      "metadata": {
        "id": "EfWbhgPpgIoJ",
        "colab_type": "text"
      },
      "source": [
        "# Question 6:\n",
        "\n",
        "An airport limousine can accommodate up to four passengers on any one trip. The company will accept a maximum of six reservations for a trip, and a passenger must have a reservation. From previous records, 40% of all those making reservations do not appear for the trip. Answer the following questions, assuming independence wherever appropriate.\n",
        "\n",
        "(a) If six reservations are made, what is the probability that at least one individual with a reservation cannot be accommodated on the trip?\n",
        "\n",
        "(b) If six reservations are made, what is the expected number of available places when the limousine departs?\n",
        "Your answer is incorrect.\n",
        "\n",
        "(c) Suppose the probability distribution of the number of reservations made is given in the accompanying table.\n",
        "\n",
        "Number of reservations    \t3      4\t 5\t   6\n",
        "\n",
        "Probability\t                0.09   0.24  0.33  0.34    \n",
        "\n",
        "Let X denote the number of passengers on a randomly selected trip. Obtain the probability mass function of X."
      ]
    },
    {
      "cell_type": "code",
      "metadata": {
        "id": "j70QO-Aavh40",
        "colab_type": "code",
        "colab": {}
      },
      "source": [
        ""
      ],
      "execution_count": 103,
      "outputs": []
    },
    {
      "cell_type": "code",
      "metadata": {
        "id": "pukXHPMYgIoJ",
        "colab_type": "code",
        "colab": {
          "base_uri": "https://localhost:8080/",
          "height": 0
        },
        "outputId": "8c16c839-8482-41e4-8cd0-caddf0a435ba"
      },
      "source": [
        "x= 5\n",
        "x1=6\n",
        "n= 6\n",
        "p= 0.55\n",
        "b = (((math.factorial(n))/(math.factorial(x)*math.factorial(n-x)))*(p**x)*((1-p)**(n-x)) + (((math.factorial(n))/(math.factorial(x1)*math.factorial(n-x1)))*(p**x1)*((1-p)**(n-x1))))\n",
        "print(\" P(X >= 4)\")\n",
        "print(b)"
      ],
      "execution_count": 104,
      "outputs": [
        {
          "output_type": "stream",
          "text": [
            " P(X >= 4)\n",
            "0.16356742187500004\n"
          ],
          "name": "stdout"
        }
      ]
    },
    {
      "cell_type": "code",
      "metadata": {
        "id": "BpDJRAZkgIoL",
        "colab_type": "code",
        "colab": {
          "base_uri": "https://localhost:8080/",
          "height": 0
        },
        "outputId": "e5854eed-5ab3-4012-b98a-2beb7d17033f"
      },
      "source": [
        "x=0\n",
        "x1=1\n",
        "x2=2\n",
        "x3=3\n",
        "x4=4\n",
        "x5=5\n",
        "x6=6\n",
        "n= 6\n",
        "p= 0.55\n",
        "b = (((math.factorial(n))/(math.factorial(x)*math.factorial(n-x)))*(p**x)*((1-p)**(n-x)))\n",
        "b1 = (((math.factorial(n))/(math.factorial(x1)*math.factorial(n-x1)))*(p**x1)*((1-p)**(n-x1)))\n",
        "b2 = (((math.factorial(n))/(math.factorial(x2)*math.factorial(n-x2)))*(p**x2)*((1-p)**(n-x2)))\n",
        "b3 = (((math.factorial(n))/(math.factorial(x3)*math.factorial(n-x3)))*(p**x3)*((1-p)**(n-x3)))\n",
        "b4 = (((math.factorial(n))/(math.factorial(x4)*math.factorial(n-x4)))*(p**x4)*((1-p)**(n-x4)))\n",
        "b5 = (((math.factorial(n))/(math.factorial(x5)*math.factorial(n-x5)))*(p**x5)*((1-p)**(n-x5)))\n",
        "b6 = (((math.factorial(n))/(math.factorial(x6)*math.factorial(n-x6)))*(p**x6)*((1-p)**(n-x6)))\n",
        "\n",
        "print(\" P(X = 6)\")\n",
        "print(b)\n",
        "\n",
        "print(\" P(X = 6)\")\n",
        "print(b1)\n",
        "\n",
        "print(\" P(X = 6)\")\n",
        "print(b2)\n",
        "\n",
        "print(\" P(X = 6)\")\n",
        "print(b3)\n",
        "\n",
        "print(\" P(X = 6)\")\n",
        "print(b4)\n",
        "\n",
        "print(\" P(X = 6)\")\n",
        "print(b5)\n",
        "\n",
        "print(\" P(X = 6)\")\n",
        "print(b6)\n",
        "\n",
        "b7= (0*0.008)+(0*0.06)+(0*0.18)+(1*0.30)+(2*0.28)+(3*0.14)+(4*0.03)\n",
        "print(\"Availible seats\")\n",
        "print(b7)"
      ],
      "execution_count": 105,
      "outputs": [
        {
          "output_type": "stream",
          "text": [
            " P(X = 6)\n",
            "0.008303765624999996\n",
            " P(X = 6)\n",
            "0.06089428124999998\n",
            " P(X = 6)\n",
            "0.18606585937499998\n",
            " P(X = 6)\n",
            "0.3032184375\n",
            " P(X = 6)\n",
            "0.277950234375\n",
            " P(X = 6)\n",
            "0.13588678125000003\n",
            " P(X = 6)\n",
            "0.027680640625000013\n",
            "Availible seats\n",
            "1.4000000000000004\n"
          ],
          "name": "stdout"
        }
      ]
    },
    {
      "cell_type": "code",
      "metadata": {
        "id": "JvwACxlBgIoN",
        "colab_type": "code",
        "colab": {
          "base_uri": "https://localhost:8080/",
          "height": 0
        },
        "outputId": "092fd3ce-f526-4123-d2d6-8b7b995710e8"
      },
      "source": [
        "\n",
        "x= 0\n",
        "x1=1\n",
        "x2=2\n",
        "x3=3\n",
        "\n",
        "n=3\n",
        "n1=4\n",
        "n2=5\n",
        "n3= 6\n",
        "p= 0.55\n",
        "b = (((math.factorial(n))/(math.factorial(x)*math.factorial(n-x))*(p**x)*(((1-p)**(n-x))*(0.09))) + (((math.factorial(n1))/(math.factorial(x)*math.factorial(n1-x)))*(p**x)*(((1-p)**(n1-x))*(0.25))) + ((math.factorial(n2))/(math.factorial(x)*math.factorial(n2-x))*(p**x)*(((1-p)**(n2-x))*(0.32))) + (((math.factorial(n3))/(math.factorial(x)*math.factorial(n3-x)))*(p**x)*(((1-p)**(n3-x))*(0.34))))\n",
        "print(\" P(X = 0)\")\n",
        "print(b)\n",
        "\n",
        "b1 = (((math.factorial(n))/(math.factorial(x1)*math.factorial(n-x1))*(p**x1)*(((1-p)**(n-x1))*(0.09))) + (((math.factorial(n1))/(math.factorial(x1)*math.factorial(n1-x1)))*(p**x1)*(((1-p)**(n1-x1))*(0.25))) + ((math.factorial(n2))/(math.factorial(x1)*math.factorial(n2-x1))*(p**x1)*(((1-p)**(n2-x1))*(0.32))) + (((math.factorial(n3))/(math.factorial(x1)*math.factorial(n3-x1)))*(p**x1)*(((1-p)**(n3-x1))*(0.34))))\n",
        "print(\" P(X = 1)\")\n",
        "print(b1)\n",
        "\n",
        "b2 = (((math.factorial(n))/(math.factorial(x2)*math.factorial(n-x2))*(p**x2)*(((1-p)**(n-x2))*(0.09))) + (((math.factorial(n1))/(math.factorial(x2)*math.factorial(n1-x2)))*(p**x2)*(((1-p)**(n1-x2))*(0.25))) + ((math.factorial(n2))/(math.factorial(x2)*math.factorial(n2-x2))*(p**x2)*(((1-p)**(n2-x2))*(0.32))) + (((math.factorial(n3))/(math.factorial(x2)*math.factorial(n3-x2)))*(p**x2)*(((1-p)**(n3-x2))*(0.34))))\n",
        "print(\" P(X = 2)\")\n",
        "print(b2)\n",
        "\n",
        "b3 = (((math.factorial(n))/(math.factorial(x3)*math.factorial(n-x3))*(p**x3)*(((1-p)**(n-x3))*(0.09))) + (((math.factorial(n1))/(math.factorial(x3)*math.factorial(n1-x3)))*(p**x3)*(((1-p)**(n1-x3))*(0.25))) + ((math.factorial(n2))/(math.factorial(x3)*math.factorial(n2-x3))*(p**x3)*(((1-p)**(n2-x3))*(0.32))) + (((math.factorial(n3))/(math.factorial(x3)*math.factorial(n3-x3)))*(p**x3)*(((1-p)**(n3-x3))*(0.34))))\n",
        "print(\" P(X = 3)\")\n",
        "print(b3)\n",
        "\n",
        "\n",
        "b4 = 1-(b+b1+b2+b3)\n",
        "print(\"probability mass function of x:\")\n",
        "print(\"P(X = 0) = \")\n",
        "print(b)\n",
        "print(\"P(X = 1) = \")\n",
        "print(b1)\n",
        "print(\"P(X = 2) = \")\n",
        "print(b2)\n",
        "print(\"P(X = 3) = \")\n",
        "print(b3)\n",
        "print(\"P(X = 4) = \")\n",
        "print(b4)"
      ],
      "execution_count": 106,
      "outputs": [
        {
          "output_type": "stream",
          "text": [
            " P(X = 0)\n",
            "0.02718099281249999\n",
            " P(X = 1)\n",
            "0.13697955562499997\n",
            " P(X = 2)\n",
            "0.2801095171875\n",
            " P(X = 3)\n",
            "0.30074776875000003\n",
            "probability mass function of x:\n",
            "P(X = 0) = \n",
            "0.02718099281249999\n",
            "P(X = 1) = \n",
            "0.13697955562499997\n",
            "P(X = 2) = \n",
            "0.2801095171875\n",
            "P(X = 3) = \n",
            "0.30074776875000003\n",
            "P(X = 4) = \n",
            "0.254982165625\n"
          ],
          "name": "stdout"
        }
      ]
    },
    {
      "cell_type": "code",
      "metadata": {
        "id": "KAws1ZimgIoP",
        "colab_type": "code",
        "colab": {}
      },
      "source": [
        ""
      ],
      "execution_count": 106,
      "outputs": []
    },
    {
      "cell_type": "markdown",
      "metadata": {
        "id": "A2c67ZsegIoR",
        "colab_type": "text"
      },
      "source": [
        "# Question 7:\n",
        "\n",
        "Let X, the number of flaws on the surface of a randomly selected boiler of a certain type, have a Poisson distribution with parameter λ = 3. Compute the following probabilities.\n",
        "\n",
        "(a) P(X ≤ 8)\n",
        "\n",
        "(b) P(X = 8)\n",
        "\n",
        "(c) P(9 ≤ X)\n",
        "\n",
        "(d) P(5 ≤ X ≤ 8)\n",
        "\n",
        "(e) P(5 < X < 8)"
      ]
    },
    {
      "cell_type": "code",
      "metadata": {
        "id": "mYKsLbMhgIoS",
        "colab_type": "code",
        "colab": {
          "base_uri": "https://localhost:8080/",
          "height": 187
        },
        "outputId": "8f7bba72-7f78-4c65-f626-f3c81c77d5ba"
      },
      "source": [
        "p= 0\n",
        "n= 4\n",
        "x= 0\n",
        "x1= 1\n",
        "x2= 2\n",
        "x3= 3\n",
        "x4= 4\n",
        "x5= 5\n",
        "x6= 6\n",
        "x7= 7\n",
        "x8= 8\n",
        "\n",
        "b = ((n**x)*math.exp(-n))/math.factorial(x)\n",
        "b1 = ((n**x1)*math.exp(-n))/math.factorial(x1)\n",
        "b2= ((n**x2)*math.exp(-n))/math.factorial(x2)\n",
        "b3 = ((n**x3)*math.exp(-n))/math.factorial(x3)\n",
        "b4 = ((n**x4)*math.exp(-n))/math.factorial(x4)\n",
        "b5 = ((n**x5)*math.exp(-n))/math.factorial(x5)\n",
        "b6 = ((n**x6)*math.exp(-n))/math.factorial(x6)\n",
        "b7 = ((n**x7)*math.exp(-n))/math.factorial(x7)\n",
        "b8 = ((n**x8)*math.exp(-n))/math.factorial(x8)\n",
        "all= b+b1+b2+b3+b4+b5+b6+b7+b8\n",
        "print(\"P(x<=8) = \")\n",
        "print(all)\n",
        "\n",
        "\n",
        "print(\"P(X=8) = \")\n",
        "print(b8)\n",
        "\n",
        "print(\"P(X>=9) = \")\n",
        "print(1-all)\n",
        "\n",
        "print(\"P()5<=X<=8 = \")\n",
        "print(b5+b6+b7+b8)\n",
        "\n",
        "print(\"P(5<X<8) = \")\n",
        "print(b6+b7)\n",
        "\n"
      ],
      "execution_count": 107,
      "outputs": [
        {
          "output_type": "stream",
          "text": [
            "P(x<=8) = \n",
            "0.9786365655120157\n",
            "P(X=8) = \n",
            "0.029770181304863173\n",
            "P(X>=9) = \n",
            "0.02136343448798428\n",
            "P()5<=X<=8 = \n",
            "0.3497996303321423\n",
            "P(5<X<8) = \n",
            "0.16373599717674744\n"
          ],
          "name": "stdout"
        }
      ]
    },
    {
      "cell_type": "code",
      "metadata": {
        "id": "yFG3tVH0gIoU",
        "colab_type": "code",
        "colab": {}
      },
      "source": [
        ""
      ],
      "execution_count": 107,
      "outputs": []
    },
    {
      "cell_type": "markdown",
      "metadata": {
        "id": "YY-8T2PugIoW",
        "colab_type": "text"
      },
      "source": [
        "# Question 8\n",
        "\n",
        "Consider writing onto a computer disk and then sending it through a certifier that counts the number of missing pulses. Suppose this number X has a Poisson distribution with parameter λ = 0.19.\n",
        "\n",
        "(a) What is the probability that a disk has exactly one missing pulse?\n",
        "\n",
        "(b) What is the probability that a disk has at least two missing pulses?\n",
        "\n",
        "(c) If two disks are independently selected, what is the probability that neither contains a missing pulse?"
      ]
    },
    {
      "cell_type": "code",
      "metadata": {
        "id": "Xjl5nxDogIoX",
        "colab_type": "code",
        "colab": {
          "base_uri": "https://localhost:8080/",
          "height": 51
        },
        "outputId": "0a75b8cb-5073-44b0-a41a-a24c36ed7cae"
      },
      "source": [
        "x=0\n",
        "x1=0\n",
        "n=0.19\n",
        "print(\"P(X=0)*P(X1=0)\")\n",
        "b=((n**x)*math.exp(-n))/math.factorial(x)\n",
        "b1=((n**x1)*math.exp(-n))/math.factorial(x1)\n",
        "b2= b*b1\n",
        "print(b2)"
      ],
      "execution_count": 108,
      "outputs": [
        {
          "output_type": "stream",
          "text": [
            "P(X=0)*P(X1=0)\n",
            "0.6838614092123558\n"
          ],
          "name": "stdout"
        }
      ]
    },
    {
      "cell_type": "code",
      "metadata": {
        "id": "P0zYzyMFgIoZ",
        "colab_type": "code",
        "colab": {
          "base_uri": "https://localhost:8080/",
          "height": 51
        },
        "outputId": "f25ccf49-214c-44af-e68f-0d570a346fe4"
      },
      "source": [
        "x=0\n",
        "n=0.19\n",
        "x1=1\n",
        "print(\"P(X>=2)\")\n",
        "b=((n**x)*math.exp(-n))/math.factorial(x)\n",
        "b1=((n**x1)*math.exp(-n))/math.factorial(x1)\n",
        "b2= 1-b-b1\n",
        "print(b2)"
      ],
      "execution_count": 109,
      "outputs": [
        {
          "output_type": "stream",
          "text": [
            "P(X>=2)\n",
            "0.01591863060739887\n"
          ],
          "name": "stdout"
        }
      ]
    },
    {
      "cell_type": "code",
      "metadata": {
        "id": "-B0aVqTkD76V",
        "colab_type": "code",
        "colab": {
          "base_uri": "https://localhost:8080/",
          "height": 51
        },
        "outputId": "0c1d4deb-b0e7-4c83-8f2e-b095f7e54931"
      },
      "source": [
        "\n",
        "n=0.19\n",
        "\n",
        "print(\"neither contain missing pulse\")\n",
        "b3 =math.exp(-n)*math.exp(-n)\n",
        "print(b3) "
      ],
      "execution_count": 110,
      "outputs": [
        {
          "output_type": "stream",
          "text": [
            "neither contain missing pulse\n",
            "0.6838614092123558\n"
          ],
          "name": "stdout"
        }
      ]
    },
    {
      "cell_type": "code",
      "metadata": {
        "id": "V5Qb-B5QuA1p",
        "colab_type": "code",
        "colab": {}
      },
      "source": [
        ""
      ],
      "execution_count": 110,
      "outputs": []
    },
    {
      "cell_type": "markdown",
      "metadata": {
        "id": "IQB-TsVkgIoa",
        "colab_type": "text"
      },
      "source": [
        "# Question 9\n",
        "\n",
        "In proof testing of circuit boards, the probability that any particular diode will fail is 0.01. Suppose a circuit board contains 150 diodes.\n",
        "\n",
        "(a) How many diodes would you expect to fail?\n",
        "\n",
        "What is the standard deviation of the number that are expected to fail?\n",
        "\n",
        "(b) What is the (approximate) probability that at least four diodes will fail on a randomly selected board? (Use binomial approximation.)\n",
        "\n",
        "(c) If five boards are shipped to a particular customer, how likely is it that at least four of them will work properly? (A board works properly only if all its diodes work.)"
      ]
    },
    {
      "cell_type": "code",
      "metadata": {
        "id": "G27EWepBgIob",
        "colab_type": "code",
        "colab": {
          "base_uri": "https://localhost:8080/",
          "height": 85
        },
        "outputId": "94d85bb9-13f8-4234-fcec-72dace0b420c"
      },
      "source": [
        "p= 0.01\n",
        "n= 150\n",
        "print(\"diodes expected to fail:\")\n",
        "print(p*n)\n",
        "\n",
        "print(\"the standard deviation is :\")\n",
        "print(math.sqrt(n*p*(1-p)))\n",
        "\n",
        "\n"
      ],
      "execution_count": 111,
      "outputs": [
        {
          "output_type": "stream",
          "text": [
            "diodes expected to fail:\n",
            "1.5\n",
            "the standard deviation is :\n",
            "1.218605760695394\n"
          ],
          "name": "stdout"
        }
      ]
    },
    {
      "cell_type": "code",
      "metadata": {
        "id": "T4GA4bNvFxMw",
        "colab_type": "code",
        "colab": {
          "base_uri": "https://localhost:8080/",
          "height": 85
        },
        "outputId": "7a648eb7-b60d-4bab-d793-258c2900fdc8"
      },
      "source": [
        "n=150\n",
        "p=0.01\n",
        "print(\"p(X>=4)\")\n",
        "print(1-(1-0.01)**150 - 150*(1-0.01)**149 * 0.01 - ((2**150)*math.exp(-2))/math.factorial(150)*0.01**2*(1-0.01)**148 - ((3**150)*math.exp(-3))/math.factorial(150)*0.01**2*(1-0.01)**147)\n",
        "\n",
        "b = (((5**4)*math.exp(-5))/math.factorial(4)*0.01**5)*(1-0.134)+(0.134)**5\n",
        "print(\"probability:\")\n",
        "print(b)"
      ],
      "execution_count": 112,
      "outputs": [
        {
          "output_type": "stream",
          "text": [
            "p(X>=4)\n",
            "0.443015201793168\n",
            "probability:\n",
            "4.320401861947423e-05\n"
          ],
          "name": "stdout"
        }
      ]
    },
    {
      "cell_type": "code",
      "metadata": {
        "id": "hBhsQXJkgIod",
        "colab_type": "code",
        "colab": {}
      },
      "source": [
        ""
      ],
      "execution_count": 112,
      "outputs": []
    },
    {
      "cell_type": "code",
      "metadata": {
        "id": "Kj7R2ea3gIof",
        "colab_type": "code",
        "colab": {}
      },
      "source": [
        ""
      ],
      "execution_count": 112,
      "outputs": []
    },
    {
      "cell_type": "code",
      "metadata": {
        "id": "dGQILLs6gIog",
        "colab_type": "code",
        "colab": {}
      },
      "source": [
        ""
      ],
      "execution_count": 112,
      "outputs": []
    },
    {
      "cell_type": "code",
      "metadata": {
        "id": "3iHe1qXrgIoj",
        "colab_type": "code",
        "colab": {}
      },
      "source": [
        ""
      ],
      "execution_count": 112,
      "outputs": []
    },
    {
      "cell_type": "code",
      "metadata": {
        "id": "9SZ79EkpgIol",
        "colab_type": "code",
        "colab": {}
      },
      "source": [
        ""
      ],
      "execution_count": 112,
      "outputs": []
    },
    {
      "cell_type": "code",
      "metadata": {
        "id": "RbRZkzZngIon",
        "colab_type": "code",
        "colab": {}
      },
      "source": [
        ""
      ],
      "execution_count": 112,
      "outputs": []
    }
  ]
}