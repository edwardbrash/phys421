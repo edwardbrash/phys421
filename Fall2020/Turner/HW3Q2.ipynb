{
 "cells": [
  {
   "cell_type": "code",
   "execution_count": 1,
   "metadata": {
    "id": "gkddgwE0SyGb"
   },
   "outputs": [],
   "source": [
    "import numpy as np\n",
    "import matplotlib.pyplot as plt\n",
    "import scipy.stats as stats\n",
    "import random"
   ]
  },
  {
   "cell_type": "code",
   "execution_count": 2,
   "metadata": {
    "id": "iLRi8-1nSyGk"
   },
   "outputs": [],
   "source": [
    "n = 10"
   ]
  },
  {
   "cell_type": "code",
   "execution_count": 3,
   "metadata": {
    "id": "SKKCKuXiSyGp"
   },
   "outputs": [],
   "source": [
    "random.seed(1)"
   ]
  },
  {
   "cell_type": "code",
   "execution_count": 4,
   "metadata": {
    "id": "8iWCsDAySyGr"
   },
   "outputs": [],
   "source": [
    "start = 0\n",
    "jumpsum = 0\n",
    "total_jumps = 0\n",
    "n_trys = 10000\n",
    "\n",
    "x = []\n",
    "y = []\n",
    "eval = []\n",
    "evalr = []\n",
    "evalr2 = []\n",
    "evalr3 = []\n",
    "sigma = []"
   ]
  },
  {
   "cell_type": "code",
   "execution_count": 10,
   "metadata": {
    "id": "k414hk--SyGu"
   },
   "outputs": [
    {
     "ename": "ZeroDivisionError",
     "evalue": "float division by zero",
     "output_type": "error",
     "traceback": [
      "\u001b[0;31m---------------------------------------------------------------------------\u001b[0m",
      "\u001b[0;31mZeroDivisionError\u001b[0m                         Traceback (most recent call last)",
      "\u001b[0;32m<ipython-input-10-e545e7d44145>\u001b[0m in \u001b[0;36m<module>\u001b[0;34m\u001b[0m\n\u001b[1;32m      9\u001b[0m             \u001b[0;31m#print(i,npad,eval[npad-i-1])\u001b[0m\u001b[0;34m\u001b[0m\u001b[0;34m\u001b[0m\u001b[0;34m\u001b[0m\u001b[0m\n\u001b[1;32m     10\u001b[0m             \u001b[0msum\u001b[0m \u001b[0;34m=\u001b[0m \u001b[0msum\u001b[0m \u001b[0;34m+\u001b[0m \u001b[0;36m1.0\u001b[0m\u001b[0;34m/\u001b[0m\u001b[0mnpad\u001b[0m\u001b[0;34m*\u001b[0m\u001b[0;34m(\u001b[0m\u001b[0;36m1.0\u001b[0m\u001b[0;34m+\u001b[0m\u001b[0meval\u001b[0m\u001b[0;34m[\u001b[0m\u001b[0mnpad\u001b[0m\u001b[0;34m-\u001b[0m\u001b[0mi\u001b[0m\u001b[0;34m-\u001b[0m\u001b[0;36m1\u001b[0m\u001b[0;34m]\u001b[0m\u001b[0;34m)\u001b[0m\u001b[0;34m\u001b[0m\u001b[0;34m\u001b[0m\u001b[0m\n\u001b[0;32m---> 11\u001b[0;31m         \u001b[0msum\u001b[0m \u001b[0;34m=\u001b[0m \u001b[0msum\u001b[0m \u001b[0;34m+\u001b[0m \u001b[0;36m1.0\u001b[0m\u001b[0;34m/\u001b[0m\u001b[0mnpad\u001b[0m\u001b[0;34m\u001b[0m\u001b[0;34m\u001b[0m\u001b[0m\n\u001b[0m\u001b[1;32m     12\u001b[0m         \u001b[0meval\u001b[0m\u001b[0;34m.\u001b[0m\u001b[0mappend\u001b[0m\u001b[0;34m(\u001b[0m\u001b[0msum\u001b[0m\u001b[0;34m)\u001b[0m\u001b[0;34m\u001b[0m\u001b[0;34m\u001b[0m\u001b[0m\n\u001b[1;32m     13\u001b[0m         \u001b[0;31m#evalr.append(eval[npad-1]/npad)\u001b[0m\u001b[0;34m\u001b[0m\u001b[0;34m\u001b[0m\u001b[0;34m\u001b[0m\u001b[0m\n",
      "\u001b[0;31mZeroDivisionError\u001b[0m: float division by zero"
     ]
    }
   ],
   "source": [
    "for npad in range(1,n+1): \n",
    "\n",
    "    if (npad == 1):\n",
    "        eval.append(1)\n",
    "        evalr.append(1)\n",
    "    else:\n",
    "        sum = 0.0\n",
    "        for i in range(30,npad):\n",
    "            #print(i,npad,eval[npad-i-1])\n",
    "            sum = sum + 1.0/npad*(1.0+eval[npad-i-1])\n",
    "        sum = sum + 1.0/npad\n",
    "        eval.append(sum)\n",
    "        #evalr.append(eval[npad-1]/npad)\n",
    "        evalr.append(eval[npad-1])\n",
    "    print(\"Theory: \",npad,eval[npad-1])\n",
    "    \n",
    "    sum = 0.0\n",
    "    for i in range(0,npad+1):\n",
    "        sum = sum + 1.0/i\n",
    "    evalr2.append(sum)\n",
    "    \n",
    "    x.append(npad)\n",
    "    \n",
    "    sum2 = 1.0/stats.hmean(x)*npad\n",
    "    evalr3.append(sum2)\n",
    "    \n",
    "    #print (npad,sum2)\n",
    "    \n",
    "    end = npad\n",
    "    for j in range(n_trys):\n",
    "        while start < npad:\n",
    "            jump = int(random.uniform(1,(end-start+1)))\n",
    "            #print (\"Jump = \",jump)\n",
    "            start = start + jump\n",
    "            #print (\"Now at \",start)\n",
    "            jumpsum = jumpsum + 1\n",
    "        start = 0\n",
    "        #print (\"j = %d, Total_jumps = %d\" % (j,jumpsum))\n",
    "        total_jumps = total_jumps + jumpsum\n",
    "        jumpsum = 0\n",
    "    \n",
    "    #print (npad,total_jumps,n_trys)\n",
    "\n",
    "    expectation_value = total_jumps/n_trys*1.0\n",
    "    y.append(expectation_value)\n",
    "    sigma.append(expectation_value*1/np.sqrt(n_trys))\n",
    "    total_jumps = 0\n",
    "    \n",
    "    print (\"Expectation value for n = %d is %f\" % (npad,expectation_value))\n",
    "    "
   ]
  },
  {
   "cell_type": "code",
   "execution_count": 13,
   "metadata": {
    "colab": {
     "base_uri": "https://localhost:8080/",
     "height": 747
    },
    "executionInfo": {
     "elapsed": 825,
     "status": "ok",
     "timestamp": 1605500833463,
     "user": {
      "displayName": "",
      "photoUrl": "",
      "userId": ""
     },
     "user_tz": 300
    },
    "id": "YzzlNlnLSyGx",
    "outputId": "f2e4ab11-6c94-4b6e-f91e-beea7f8ce044"
   },
   "outputs": [
    {
     "data": {
      "text/plain": [
       "[<matplotlib.lines.Line2D at 0x7f12f01ac470>]"
      ]
     },
     "execution_count": 13,
     "metadata": {},
     "output_type": "execute_result"
    },
    {
     "data": {
      "image/png": "[encoded data removed]",
      "text/plain": [
       "<Figure size 1080x864 with 1 Axes>"
      ]
     },
     "metadata": {
      "needs_background": "light"
     },
     "output_type": "display_data"
    }
   ],
   "source": [
    "def fitfunction(x,*paramlist):\n",
    "    return paramlist[0]+paramlist[1]*x+paramlist[2]*x*x+paramlist[3]*x*x*x\n",
    "\n",
    "\n",
    "fig = plt.figure(figsize=(15,12))\n",
    "ax1 = fig.add_subplot(111)\n",
    "\n",
    "ax1.set_title(\"Frog Problem\")\n",
    "ax1.set_xlabel('N')\n",
    "ax1.set_ylabel('Expected Number of Jumps / N')\n",
    "ax1.set_xlim(0,n+1)\n",
    "#ax1.set_yscale(\"log\")\n",
    "#ax1.set_xscale(\"log\")\n",
    "ax1.grid(True)\n",
    "\n",
    "ax1.errorbar(x,y,yerr=sigma,fmt='o')\n",
    "ax1.plot(x,evalr,'r--')\n",
    "ax1.plot(x,evalr2,'b--')\n",
    "ax1.plot(x,evalr3,'g--')\n"
   ]
  },
  {
   "cell_type": "code",
   "execution_count": null,
   "metadata": {
    "id": "6ORGjqH0SyG0"
   },
   "outputs": [],
   "source": []
  },
  {
   "cell_type": "code",
   "execution_count": null,
   "metadata": {
    "id": "fqFTV6TeSyG2"
   },
   "outputs": [],
   "source": []
  },
  {
   "cell_type": "code",
   "execution_count": null,
   "metadata": {
    "id": "fKRcwUKxSyG6"
   },
   "outputs": [],
   "source": []
  },
  {
   "cell_type": "code",
   "execution_count": null,
   "metadata": {
    "id": "54Ofk4HaSyG8"
   },
   "outputs": [],
   "source": []
  }
 ],
 "metadata": {
  "colab": {
   "name": "HW3Q2.ipynb",
   "provenance": [
    {
     "file_id": "https://github.com/brash99/phys421/blob/master/JupyterNotebooks/frogger.ipynb",
     "timestamp": 1605501466830
    }
   ]
  },
  "kernelspec": {
   "display_name": "Python 3",
   "language": "python",
   "name": "python3"
  },
  "language_info": {
   "codemirror_mode": {
    "name": "ipython",
    "version": 3
   },
   "file_extension": ".py",
   "mimetype": "text/x-python",
   "name": "python",
   "nbconvert_exporter": "python",
   "pygments_lexer": "ipython3",
   "version": "3.6.8"
  }
 },
 "nbformat": 4,
 "nbformat_minor": 1
}
