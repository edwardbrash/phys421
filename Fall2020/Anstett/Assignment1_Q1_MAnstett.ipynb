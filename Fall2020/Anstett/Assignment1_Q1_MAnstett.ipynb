{
 "cells": [
  {
   "cell_type": "code",
   "execution_count": 5,
   "metadata": {},
   "outputs": [],
   "source": [
    "import matplotlib.pyplot as plt\n",
    "import numpy as np\n",
    "import time"
   ]
  },
  {
   "cell_type": "code",
   "execution_count": 6,
   "metadata": {},
   "outputs": [],
   "source": [
    "import matplotlib.pyplot as plt\n",
    "import numpy as np\n",
    "import time"
   ]
  },
  {
   "cell_type": "code",
   "execution_count": 7,
   "metadata": {},
   "outputs": [],
   "source": [
    "def generate_xvals(start, stop, num_steps):\n",
    "    #generates x value basis\n",
    "    step=(stop-start)/num_steps\n",
    "    return np.arange(start, stop, step)"
   ]
  },
  {
   "cell_type": "code",
   "execution_count": 8,
   "metadata": {},
   "outputs": [],
   "source": [
    "def findRoots(start, stop, npoints, nsearch, func):\n",
    "    \"\"\"Takes a starting x point, stopping x point, \n",
    "    number of points, size of search slices, and function to find roots of.\n",
    "    Returns x-values of roots, y-values (zeros), time elapsed, and number of \n",
    "    roots.\"\"\"\n",
    "    tic=time.time()\n",
    "    xvals=generate_xvals(start, stop, npoints)\n",
    "    yvals=func(xvals)\n",
    "\n",
    "    niter=int(npoints/nsearch)\n",
    "    \n",
    "    xroots=[]\n",
    "    yroots=[]\n",
    "    \n",
    "    num_roots=0\n",
    "    \n",
    "    y0=yvals[0]\n",
    "    \n",
    "    for i in np.arange(0, niter, 1):\n",
    "        xi=xvals[i*nsearch]\n",
    "        yi=yvals[i*nsearch]\n",
    "        \n",
    "        if(yi==0):\n",
    "            xroots.append(xi)\n",
    "            yroots.append(yi)\n",
    "            \n",
    "            num_roots=num_roots+1\n",
    "            \n",
    "        elif(y0*yi<0.0):\n",
    "            tolerance=1.0E-10\n",
    "            diff=1\n",
    "            \n",
    "            xlow=xvals[nsearch*(i-1)]\n",
    "            xhigh=xvals[nsearch*i]\n",
    "            \n",
    "            while diff>tolerance:\n",
    "                xmid=(xhigh+xlow)/2.0\n",
    "                \n",
    "                ylow=func(xlow)\n",
    "                ymid=func(xmid)\n",
    "                \n",
    "                if(ylow*ymid<0):\n",
    "                    xhigh=xmid\n",
    "                else:\n",
    "                    xlow=xmid\n",
    "                    \n",
    "                diff=np.abs(ymid)\n",
    "                    \n",
    "            num_roots=num_roots+1\n",
    "            \n",
    "            xroots.append(xmid)\n",
    "            yroots.append(func(xmid))\n",
    "            y0=yi\n",
    "        else:\n",
    "            y0=yi\n",
    "            \n",
    "    tok=time.time()\n",
    "    telapse=tok-tic\n",
    "    \n",
    "    return xroots, yroots, telapse, num_roots"
   ]
  },
  {
   "cell_type": "markdown",
   "metadata": {},
   "source": [
    "Question 1\n",
    "a) Calculate the roots of the polynomial $f(x)=1.80-4.05x+0.40x^2+x^3$"
   ]
  },
  {
   "cell_type": "code",
   "execution_count": 9,
   "metadata": {},
   "outputs": [
    {
     "name": "stdout",
     "output_type": "stream",
     "text": [
      "3 roots:\n",
      "Root at -2.400000\n",
      "\n",
      "Root at 0.500000\n",
      "\n",
      "Root at 1.500000\n",
      "\n",
      "Time Elapsed:0.0010209083557128906\n"
     ]
    }
   ],
   "source": [
    "def funcA(x):\n",
    "    return 1.80-4.05*x+0.40*x**2+x**3\n",
    "\n",
    "xroots, yroots, timechange, num_roots=findRoots(-4.0, 4.0, 10000, 1000, funcA)\n",
    "\n",
    "print(str(num_roots)+\" roots:\")\n",
    "for i in xroots:\n",
    "    print(\"Root at %f\\n\" % i)\n",
    "print(\"Time Elapsed:\" +str(timechange)d+\"s\")"
   ]
  },
  {
   "cell_type": "markdown",
   "metadata": {},
   "source": [
    "1b) Create a plot of the time take to find the roots vs. sparsification size, for n_search values between 1 and 10,000."
   ]
  },
  {
   "cell_type": "code",
   "execution_count": 10,
   "metadata": {},
   "outputs": [
    {
     "data": {
      "image/png": "[encoded data removed]",
      "text/plain": [
       "<Figure size 432x288 with 1 Axes>"
      ]
     },
     "metadata": {
      "needs_background": "light"
     },
     "output_type": "display_data"
    }
   ],
   "source": [
    "nsearch_basis=np.arange(1, 10000)\n",
    "nroots_expected=3\n",
    "\n",
    "nsearch_vals=[]\n",
    "time_vals=[]\n",
    "\n",
    "for i in nsearch_basis:\n",
    "    null,null,timeElapse,num_roots=findRoots(-4.0, 4.0, 10000, i, funcA)\n",
    "    if(num_roots==nroots_expected):\n",
    "        time_vals.append(1000.0*timeElapse)\n",
    "        nsearch_vals.append(i)\n",
    "    \n",
    "fig, axs = plt.subplots(nrows=1, ncols=1)\n",
    "\n",
    "plt.yscale('log')\n",
    "axs.plot(nsearch_vals, time_vals,'.')\n",
    "axs.set_ylabel('Time (ms)')\n",
    "axs.set_xlabel('Interval size')\n",
    "axs.axhline()\n",
    "plt.grid(True)\n",
    "axs.set_xlim(1,2500)\n",
    "plt.title(\"Interval Size vs Calculation Time\")\n",
    "plt.show()"
   ]
  },
  {
   "cell_type": "markdown",
   "metadata": {},
   "source": [
    "1c) Deduce the source of the various patterns that you observe in part b).\n",
    "\n",
    "Changing n_search affects the size of the slice the program uses to search. Starting with 1, the program takes longer because it is searching through all points in defined in the x-axis. As the slice becomes larger, there is a risk that the sign of the function will change, then change back within one slice, which means it will go unnoticed by the program. Results which do not return the full number of expected roots are discarded. There is a gap between ~1700 and ~1900 where the slicing excludes the data points. In addition, above ~2000 the program is unable to capture all the roots. "
   ]
  },
  {
   "cell_type": "markdown",
   "metadata": {},
   "source": [
    "d) Modify the code created in part a) to allow for the possibility to find the roots of other poynomials or functions"
   ]
  },
  {
   "cell_type": "code",
   "execution_count": 13,
   "metadata": {},
   "outputs": [
    {
     "name": "stdout",
     "output_type": "stream",
     "text": [
      "3 roots:\n",
      "Root at -3.926991\n",
      "\n",
      "Root at -0.785398\n",
      "\n",
      "Root at 2.356194\n",
      "\n"
     ]
    }
   ],
   "source": [
    "def customFunction(x):\n",
    "    #custom functions can be entered here\n",
    "    return np.cos(x)+np.sin(x)\n",
    "\n",
    "xroots, yroots, telapse, num_roots=findRoots(-4.0, 4.0, 10000, 1000, customFunction)\n",
    "print(str(num_roots)+\" roots:\")\n",
    "for i in xroots:\n",
    "    print(\"Root at %f\\n\" % i)"
   ]
  },
  {
   "cell_type": "code",
   "execution_count": null,
   "metadata": {},
   "outputs": [],
   "source": []
  }
 ],
 "metadata": {
  "kernelspec": {
   "display_name": "Python 3",
   "language": "python",
   "name": "python3"
  },
  "language_info": {
   "codemirror_mode": {
    "name": "ipython",
    "version": 3
   },
   "file_extension": ".py",
   "mimetype": "text/x-python",
   "name": "python",
   "nbconvert_exporter": "python",
   "pygments_lexer": "ipython3",
   "version": "3.7.6"
  }
 },
 "nbformat": 4,
 "nbformat_minor": 4
}
