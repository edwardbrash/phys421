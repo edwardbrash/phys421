{
 "cells": [
  {
   "cell_type": "code",
   "execution_count": 46,
   "metadata": {},
   "outputs": [],
   "source": [
    "import numpy as np\n",
    "import matplotlib.pyplot as plt\n",
    "\n",
    "import time"
   ]
  },
  {
   "cell_type": "code",
   "execution_count": 104,
   "metadata": {},
   "outputs": [],
   "source": [
    "# define a generator function for the polynomial\n",
    "def generator_function(x,*par):\n",
    "    return par[0]+par[1]*x+par[2]*x*x+par[3]*x*x*x\n",
    "\n",
    "# Set the x limits, and the number of points, and calculate the interval\n",
    "xl = -4.0\n",
    "xh = 4.0\n",
    "npoints = 10000\n",
    "\n",
    "dx = (xh-xl)/npoints\n",
    "\n",
    "xroots = []\n",
    "yroots = []\n",
    "xstep = []\n",
    "ystep = []\n",
    "\n",
    "#par = np.array([1.80,-4.05,0.4,1.0])\n",
    "par = np.array([1.80,-4.05,0.40,1.0])\n",
    "\n",
    "nroots_expected = 1"
   ]
  },
  {
   "cell_type": "code",
   "execution_count": 105,
   "metadata": {},
   "outputs": [],
   "source": [
    "# Define the data arrays (x and y)\n",
    "xval = np.arange(xl,xh,dx)\n",
    "yval = generator_function(xval,*par)"
   ]
  },
  {
   "cell_type": "code",
   "execution_count": 106,
   "metadata": {},
   "outputs": [
    {
     "name": "stdout",
     "output_type": "stream",
     "text": [
      "Found root at x = -2.400000\n",
      "\n",
      "Found root at x = 0.500000\n",
      "\n",
      "Found root at x = 1.500000\n",
      "\n",
      "Total number of roots found = 3\n",
      "\n"
     ]
    }
   ],
   "source": [
    "for nsearch in range(1,int(npoints/2)):\n",
    "    \n",
    "    start = time.time()\n",
    "\n",
    "    niter = npoints/nsearch\n",
    "    ycomp = yval[0]\n",
    "    nroots_found = 0\n",
    "\n",
    "    for i in range(0,int(niter)):\n",
    "        y = yval[nsearch*i]\n",
    "        if (y==0):\n",
    "            if (nsearch == 1):\n",
    "                print (\"Found exact root at x = %f\\n\" % xval[nsearch*i])\n",
    "            nroots_found = nroots_found + 1\n",
    "        if (y*ycomp<0.0):\n",
    "            xlow = xval[nsearch*(i-1)]\n",
    "            xhigh = xval[nsearch*i]\n",
    "            epsilon = 1.0E-10\n",
    "            diff = 1.0E12\n",
    "            while (diff>epsilon):\n",
    "                fa = generator_function(xlow,*par)\n",
    "                fb = generator_function(xhigh,*par)\n",
    "                xmid = (xhigh+xlow)/2.0\n",
    "                fc = generator_function(xmid,*par)\n",
    "                product = fa*fc\n",
    "                if (product < 0):\n",
    "                    xhigh = xmid\n",
    "                else:\n",
    "                    xlow = xmid\n",
    "\n",
    "                diff = np.abs(fc)\n",
    "\n",
    "            if (nsearch == 1):\n",
    "                print (\"Found root at x = %f\\n\" % xmid)\n",
    "            nroots_found = nroots_found + 1\n",
    "            ycomp = y\n",
    "        else:\n",
    "            ycomp = y\n",
    "\n",
    "    if (nsearch == 1):\n",
    "        print (\"Total number of roots found = %d\\n\" % nroots_found)\n",
    "    \n",
    "    xstep.append(nsearch)\n",
    "    \n",
    "    end = time.time()\n",
    "    \n",
    "    if (nroots_found == nroots_expected):\n",
    "        ystep.append(1000.0*(end-start))\n",
    "    else:\n",
    "        ystep.append(30)\n",
    "    "
   ]
  },
  {
   "cell_type": "code",
   "execution_count": 107,
   "metadata": {},
   "outputs": [
    {
     "data": {
      "image/png": "[encoded data removed]",
      "text/plain": [
       "<Figure size 432x288 with 1 Axes>"
      ]
     },
     "metadata": {
      "needs_background": "light"
     },
     "output_type": "display_data"
    }
   ],
   "source": [
    "# Generate the figure and the axes \n",
    "fig, axs = plt.subplots(nrows=1, ncols=1) \n",
    "\n",
    "# On the first axis, plot the sine and label the ordinate\n",
    "plt.yscale('log')\n",
    "#plt.xscale('log')\n",
    "axs.plot(xstep,ystep,'.')\n",
    "axs.set_ylabel('Time (ms)')\n",
    "axs.set_xlabel('Sparsification size')\n",
    "axs.axhline()\n",
    "plt.grid(True)\n",
    "axs.set_xlim(1,10000)\n",
    "plt.show()"
   ]
  },
  {
   "cell_type": "markdown",
   "metadata": {},
   "source": [
    "Part C:\n",
    "When the number of data points are adjusted the incontinuity in the graph looks similar but is at different times. It appears uneffected by the changing the coeffeicients. I believe the incontiunity is becuase of the zeros (roots) are being found at the breaks.\n"
   ]
  },
  {
   "cell_type": "code",
   "execution_count": null,
   "metadata": {},
   "outputs": [],
   "source": []
  },
  {
   "cell_type": "code",
   "execution_count": 6,
   "metadata": {},
   "outputs": [],
   "source": [
    "# part D\n",
    "import numpy as np\n",
    "import matplotlib.pyplot as plt\n",
    "\n",
    "import time"
   ]
  },
  {
   "cell_type": "code",
   "execution_count": 80,
   "metadata": {},
   "outputs": [
    {
     "name": "stdout",
     "output_type": "stream",
     "text": [
      "Enter coefficient x_1:\n",
      "13\n",
      "Enter coefficient x_2:\n",
      "5\n",
      "Enter coefficient X_3:\n",
      "-7\n",
      "Enter coefficient x_4:\n",
      "1\n"
     ]
    }
   ],
   "source": [
    "# define a generator function for the polynomial\n",
    "def generator_function(x,*par):\n",
    "    return par[0]+par[1]*x+par[2]*x*x+par[3]*x*x*x\n",
    "\n",
    "# Set the x limits, and the number of points, and calculate the interval\n",
    "xl = -10\n",
    "xh = 10\n",
    "npoints = 10000\n",
    "\n",
    "dx = (xh-xl)/npoints\n",
    "\n",
    "xroots = []\n",
    "yroots = []\n",
    "xstep = []\n",
    "ystep = []\n",
    "\n",
    "#par = np.array([x_1,x_2,x_3,x_4])\n",
    "x_1 = float(input('Enter coefficient x_1:\\n'))\n",
    "x_2 = float(input('Enter coefficient x_2:\\n'))\n",
    "x_3 = float(input('Enter coefficient X_3:\\n'))\n",
    "x_4 = float(input('Enter coefficient x_4:\\n'))\n",
    "par = np.array([x_1, x_2, x_3, x_4])\n",
    "\n",
    "\n",
    "nroots_expected = 1"
   ]
  },
  {
   "cell_type": "code",
   "execution_count": 81,
   "metadata": {},
   "outputs": [],
   "source": [
    "# Define the data arrays (x and y)\n",
    "xval = np.arange(xl,xh,dx)\n",
    "yval = generator_function(xval,*par)"
   ]
  },
  {
   "cell_type": "code",
   "execution_count": 82,
   "metadata": {},
   "outputs": [
    {
     "name": "stdout",
     "output_type": "stream",
     "text": [
      "Found root at x = -1.000000\n",
      "\n",
      "Found root at x = 2.267949\n",
      "\n",
      "Found root at x = 5.732051\n",
      "\n",
      "Total number of roots found = 3\n",
      "\n"
     ]
    }
   ],
   "source": [
    "for nsearch in range(1,int(npoints/2)):\n",
    "    \n",
    "    start = time.time()\n",
    "\n",
    "    niter = npoints/nsearch\n",
    "    ycomp = yval[0]\n",
    "    nroots_found = 0\n",
    "\n",
    "    for i in range(0,int(niter)):\n",
    "        y = yval[nsearch*i]\n",
    "        if (y==0):\n",
    "            if (nsearch == 1):\n",
    "                print (\"Found exact root at x = %f\\n\" % xval[nsearch*i])\n",
    "            nroots_found = nroots_found + 1\n",
    "        if (y*ycomp<0.0):\n",
    "            xlow = xval[nsearch*(i-1)]\n",
    "            xhigh = xval[nsearch*i]\n",
    "            epsilon = 1.0E-10\n",
    "            diff = 1.0E12\n",
    "            while (diff>epsilon):\n",
    "                fa = generator_function(xlow,*par)\n",
    "                fb = generator_function(xhigh,*par)\n",
    "                xmid = (xhigh+xlow)/2.0\n",
    "                fc = generator_function(xmid,*par)\n",
    "                product = fa*fc\n",
    "                if (product < 0):\n",
    "                    xhigh = xmid\n",
    "                else:\n",
    "                    xlow = xmid\n",
    "\n",
    "                diff = np.abs(fc)\n",
    "\n",
    "            if (nsearch == 1):\n",
    "                print (\"Found root at x = %f\\n\" % xmid)\n",
    "            nroots_found = nroots_found + 1\n",
    "            ycomp = y\n",
    "        else:\n",
    "            ycomp = y\n",
    "\n",
    "    if (nsearch == 1):\n",
    "        print (\"Total number of roots found = %d\\n\" % nroots_found)\n",
    "    \n",
    "    xstep.append(nsearch)\n",
    "    \n",
    "    end = time.time()\n",
    "    \n",
    "    if (nroots_found == nroots_expected):\n",
    "        ystep.append(1000.0*(end-start))\n",
    "    else:\n",
    "        ystep.append(30)"
   ]
  },
  {
   "cell_type": "markdown",
   "metadata": {},
   "source": [
    "I simply added an input for the array parm. This way the user can add different values for the coefficients. I extended the range from -4,4 to -10,10"
   ]
  },
  {
   "cell_type": "code",
   "execution_count": null,
   "metadata": {},
   "outputs": [],
   "source": []
  },
  {
   "cell_type": "code",
   "execution_count": null,
   "metadata": {},
   "outputs": [],
   "source": [
    "import numpy as np\n",
    "import pandas as pd\n",
    "import matplotlib.pyplot as plt\n",
    "import statsmodels.formula.api as sm\n",
    "from statsmodels.stats.anova import anova_lm\n",
    "import scipy.stats as stats\n",
    "from sklearn.linear_model import LinearRegression"
   ]
  },
  {
   "cell_type": "code",
   "execution_count": null,
   "metadata": {},
   "outputs": [],
   "source": [
    "url = 'https://raw.githubusercontent.com/ZacharyMeador/phys421/master/AltitudeVsDensity%20(2).txt'\n",
    "df = pd.read_csv(url)\n",
    "df.head(100)"
   ]
  },
  {
   "cell_type": "code",
   "execution_count": null,
   "metadata": {},
   "outputs": [],
   "source": [
    "df.plot('Altitude','Density',style='o')\n",
    "plt.ylabel('Density')\n",
    "plt.title('Density as a Function of Altitude')\n",
    "plt.show()"
   ]
  },
  {
   "cell_type": "code",
   "execution_count": null,
   "metadata": {},
   "outputs": [],
   "source": [
    "result = sm.ols('Density ~ Altitude',df,).fit()\n",
    "print (result.summary())"
   ]
  },
  {
   "cell_type": "code",
   "execution_count": null,
   "metadata": {},
   "outputs": [],
   "source": [
    "yint = result.params[0]\n",
    "slope = result.params[1]\n",
    "\n",
    "r2 = result.rsquared\n",
    "\n",
    "print (yint,slope,r2)"
   ]
  },
  {
   "cell_type": "code",
   "execution_count": null,
   "metadata": {},
   "outputs": [],
   "source": [
    "yint = result.params[0]\n",
    "slope = result.params[1]\n",
    "\n",
    "r2 = result.rsquared\n",
    "\n",
    "print (yint,slope,r2)\n",
    "\n",
    "import seaborn as sns\n",
    "sns.regplot('Altitude', 'Density', df[:-1], ci=95)\n",
    "\n",
    "\n",
    "from scipy.optimize import curve_fit\n",
    "\n",
    "def fitfunction(x,*paramlist):\n",
    "    return paramlist[0] * np.exp(paramlist[1] * x )\n",
    "\n",
    "init_vals = [0.0 for x in range(2)]\n",
    "x = np.array(df['Altitude'][:-1])\n",
    "y = np.array(df['Density'][:-1])\n",
    "popt, pcov = curve_fit(fitfunction,x,y,p0=init_vals)\n",
    "\n",
    "#xi = np.linspace(np.min(x),np.max(x),100)\n",
    "xi = np.linspace(2.5,5.0,100)\n",
    "ps = np.random.multivariate_normal(popt,pcov,10000)\n",
    "ysample=np.asarray([fitfunction(xi,*pi) for pi in ps])\n",
    "lower = np.percentile(ysample,2.5,axis=0)\n",
    "upper = np.percentile(ysample,97.5,axis=0)\n",
    "middle = (lower+upper)/2.0\n",
    "\n",
    "print(\"Coefficients (from curve_fit)\")\n",
    "print (popt)\n",
    "print(\"Covariance Matrix (from curve_fit)\")\n",
    "print (pcov)\n",
    "\n",
    "plt.plot(xi,middle)\n",
    "plt.plot(xi,lower)\n",
    "plt.plot(xi,upper)\n",
    "plt.show()"
   ]
  },
  {
   "cell_type": "code",
   "execution_count": null,
   "metadata": {},
   "outputs": [],
   "source": [
    "N_model = 2\n",
    "v_model = N_model - 1\n",
    "\n",
    "print (df['Altitude'][:-1])\n",
    "\n",
    "N = len(df['Altitude'][:-1])\n",
    "v_total = N - 1\n",
    "v_error = v_total - v_model\n",
    "\n",
    "print (\"v_total, v_model, v_error = \", v_total,v_model,v_error)"
   ]
  },
  {
   "cell_type": "code",
   "execution_count": null,
   "metadata": {},
   "outputs": [],
   "source": [
    "SS_total = (N-1)*df['Density'][:-1].var()\n",
    "\n",
    "SS_model = r2*SS_total\n",
    "\n",
    "SS_error = SS_total - SS_model\n",
    "\n",
    "print (SS_total, SS_model, SS_error)"
   ]
  },
  {
   "cell_type": "code",
   "execution_count": null,
   "metadata": {},
   "outputs": [],
   "source": [
    "# Proceed with normal ANOVA from here\n",
    "MS_model = SS_model/v_model\n",
    "MS_error = SS_error/v_error\n",
    "\n",
    "fSN = MS_model/MS_error\n",
    "\n",
    "print (\"F Signal/Noise = %0.2f \" % fSN)\n",
    "\n",
    "alpha = 0.05\n",
    "\n",
    "fdist = stats.f(v_model,v_error)\n",
    "fhigh = fdist.ppf(1-alpha)\n",
    "\n",
    "print (\"Critical F-value = %0.2f\" % (fhigh))\n",
    "\n",
    "pvalue = (1-fdist.cdf(fSN))\n",
    "    \n",
    "print (\"Pvalue = %0.3f\" % (pvalue))\n",
    "\n",
    "# print table\n",
    "\n",
    "print (\"Source     df     Sum of Squares Mean Square     f     P-value\")\n",
    "print (\"Model      %0.0f       %0.2f           %0.2f        %0.2f    %0.3f\" %(v_model,SS_model,MS_model,fSN,pvalue))\n",
    "print (\"Error      %0.0f       %0.2f           %0.2f\" %(v_error,SS_error,MS_error))\n",
    "print (\"Total      %0.0f       %0.2f\" %(v_total,SS_total))"
   ]
  },
  {
   "cell_type": "code",
   "execution_count": null,
   "metadata": {},
   "outputs": [],
   "source": [
    "yint = result.params[0]\n",
    "slope = result.params[1]\n",
    "\n",
    "r2 = result.rsquared\n",
    "\n",
    "N_model = 2\n",
    "v_model = N_model - 1\n",
    "\n",
    "N = len(df['Altitude'])\n",
    "v_total = N - 1\n",
    "v_error = v_total - v_model\n",
    "\n",
    "print (\"v_total, v_model, v_error = \", v_total,v_model,v_error)\n",
    "\n",
    "SS_total = (N-1)*df['Density'].var()\n",
    "\n",
    "SS_model = r2*SS_total\n",
    "\n",
    "SS_error = SS_total - SS_model\n",
    "\n",
    "print (SS_total, SS_model, SS_error)\n",
    "\n",
    "# Proceed with normal ANOVA from here\n",
    "MS_model = SS_model/v_model\n",
    "MS_error = SS_error/v_error\n",
    "\n",
    "fSN = MS_model/MS_error\n",
    "\n",
    "print (\"F Signal/Noise = %0.2f \" % fSN)\n",
    "\n",
    "alpha = 0.05\n",
    "\n",
    "fdist = stats.f(v_model,v_error)\n",
    "fhigh = fdist.ppf(1-alpha)\n",
    "\n",
    "print (\"Critical F-value = %0.2f\" % (fhigh))\n",
    "\n",
    "pvalue = 1-fdist.cdf(fSN)\n",
    "    \n",
    "print (\"Pvalue = %0.3f\" % (pvalue))\n",
    "\n",
    "# print table\n",
    "\n",
    "print (\"Source     df     Sum of Squares Mean Square     f     P-value\")\n",
    "print (\"Model      %0.0f       %0.2f           %0.2f        %0.2f    %0.3f\" %(v_model,SS_model,MS_model,fSN,pvalue))\n",
    "print (\"Error      %0.0f       %0.2f           %0.2f\" %(v_error,SS_error,MS_error))\n",
    "print (\"Total      %0.0f       %0.2f\" %(v_total,SS_total))"
   ]
  },
  {
   "cell_type": "markdown",
   "metadata": {},
   "source": [
    "I don't know how to fit the curve using the data from the chart. The fit could obviously be better. However, from the data given by the graph we can assume that most data points are within reason. The only questionable data point is the first one. If I could fit the data we could know for certain. I am sure there is a much better way to fit the data."
   ]
  }
 ],
 "metadata": {
  "kernelspec": {
   "display_name": "Python 3",
   "language": "python",
   "name": "python3"
  },
  "language_info": {
   "codemirror_mode": {
    "name": "ipython",
    "version": 3
   },
   "file_extension": ".py",
   "mimetype": "text/x-python",
   "name": "python",
   "nbconvert_exporter": "python",
   "pygments_lexer": "ipython3",
   "version": "3.8.3"
  }
 },
 "nbformat": 4,
 "nbformat_minor": 2
}
