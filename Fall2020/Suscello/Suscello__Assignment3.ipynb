{
  "nbformat": 4,
  "nbformat_minor": 0,
  "metadata": {
    "kernelspec": {
      "display_name": "Python 3",
      "language": "python",
      "name": "python3"
    },
    "language_info": {
      "codemirror_mode": {
        "name": "ipython",
        "version": 3
      },
      "file_extension": ".py",
      "mimetype": "text/x-python",
      "name": "python",
      "nbconvert_exporter": "python",
      "pygments_lexer": "ipython3",
      "version": "3.6.8"
    },
    "colab": {
      "name": "Suscello_ Assignment3.ipynb",
      "provenance": [],
      "collapsed_sections": []
    }
  },
  "cells": [
    {
      "cell_type": "markdown",
      "metadata": {
        "id": "u6laUk-4f4FB"
      },
      "source": [
        "# Assignment 3\n",
        "\n",
        "Due Date:  11:59pm on Friday, November 13th (for now)\n",
        "\n",
        "There are some subtle issues to worry about in each of these questions, and thus I\n",
        "will be discussing each problem in class on Monday, November 9th."
      ]
    },
    {
      "cell_type": "markdown",
      "metadata": {
        "id": "3_15r1HDf4FE"
      },
      "source": [
        "## Question 1 - Fourier Analysis"
      ]
    },
    {
      "cell_type": "markdown",
      "metadata": {
        "id": "32JekE_kf4FG"
      },
      "source": [
        "Consider the following triangular pulse signal:"
      ]
    },
    {
      "cell_type": "code",
      "metadata": {
        "id": "bhBG_PdWf4FH",
        "outputId": "4761950b-69e4-4086-9b87-c324a434a880",
        "colab": {
          "base_uri": "https://localhost:8080/",
          "height": 282
        }
      },
      "source": [
        "import numpy as np\n",
        "import matplotlib.pyplot as plt\n",
        "import random\n",
        "\n",
        "#AA\n",
        "N_samples = 1000\n",
        "#starts at T = -pi \n",
        "t_low = -np.pi\n",
        "t_high = 2.0*np.pi\n",
        "\n",
        "t = np.linspace(t_low,t_high,N_samples)\n",
        "y = np.zeros(N_samples)\n",
        "\n",
        "for i in range(N_samples):\n",
        "    if t[i] < 0.0:\n",
        "        y[i] = 0.0 + 0.1*random.uniform(-1,1)\n",
        "    if t[i] >= 0.0 and t[i] < np.pi:\n",
        "        y[i] = t[i] + 0.1*random.uniform(-1,1)\n",
        "    if t[i] >= np.pi:\n",
        "        y[i] = 0.0 + 0.1*random.uniform(-1,1)\n",
        "    \n",
        "plt.plot(t,y)"
      ],
      "execution_count": 202,
      "outputs": [
        {
          "output_type": "execute_result",
          "data": {
            "text/plain": [
              "[<matplotlib.lines.Line2D at 0x7f8a5f396978>]"
            ]
          },
          "metadata": {
            "tags": []
          },
          "execution_count": 202
        },
        {
          "output_type": "display_data",
          "data": {
            "image/png": "[encoded data removed]",
            "text/plain": [
              "<Figure size 432x288 with 1 Axes>"
            ]
          },
          "metadata": {
            "tags": [],
            "needs_background": "light"
          }
        }
      ]
    },
    {
      "cell_type": "markdown",
      "metadata": {
        "id": "uOZWby0nf4FQ"
      },
      "source": [
        "(a) Using the jupyter notebooks called graph_fourier_basic.ipynb and graph_fourier_guitar.ipynb to help you, calcuate the Fourier transform of this signal.\n",
        "\n",
        "You should create plots of both the real and imaginary Fourier components as a function\n",
        "of frequency, a plot of the Fourier power spectrum as a function of frequency, and also\n",
        "**a plot of the time spectrum using the Fourier components as compared to the original time spectrum**.(not done in class)\n",
        "\n",
        "(b) Discuss the resulting Fourier spectrum. Which Fourier components do you expect to be small (or zero), based on the theory?  What is the Nyquist frequency, and how many terms in the Fourier series is necessary to give a good approximation to the original signal?"
      ]
    },
    {
      "cell_type": "markdown",
      "metadata": {
        "id": "cKeX-kDnh0sD"
      },
      "source": [
        "Notes From class: Starts at T = -pi"
      ]
    },
    {
      "cell_type": "code",
      "metadata": {
        "id": "bk1ioEJfejeT"
      },
      "source": [
        "import numpy as np\n",
        "from scipy.fftpack import fft\n",
        "import matplotlib.pyplot as plt\n",
        "import random"
      ],
      "execution_count": 203,
      "outputs": []
    },
    {
      "cell_type": "code",
      "metadata": {
        "id": "fbqQ2TYSejeg",
        "outputId": "b7dbdff1-db9b-4d9c-db0e-ede5ea7b43f1",
        "colab": {
          "base_uri": "https://localhost:8080/"
        }
      },
      "source": [
        "# Choose the signal frequency (0.2Hz) and the number of cycles to sample over (2) and the number of samples (50)\n",
        "\n",
        "f_s = 0.2\n",
        "N_cycles = 2.0\n",
        "N_samples =1000\n",
        "\n",
        "# Calculate the timespan\n",
        "period = 1/f_s\n",
        "T =  N_cycles*period\n",
        "\n",
        "# Set the number of terms in the Fourier series (initially, equal to the number of samples, which is bad!)\n",
        "\n",
        "N_terms = int(N_samples/25)\n",
        "print(N_terms)\n",
        "random.seed(1)"
      ],
      "execution_count": 204,
      "outputs": [
        {
          "output_type": "stream",
          "text": [
            "40\n"
          ],
          "name": "stdout"
        }
      ]
    },
    {
      "cell_type": "code",
      "metadata": {
        "id": "JPQG-q6Dejel"
      },
      "source": [
        "# Calculate the spacing (in time) between data points\n",
        "dt = T/N_samples\n",
        "\n",
        "# Set up arrays to hold the time (x-axis), amplitude (y-axis), and frequencies (Fourier transform)\n",
        "t_low = -np.pi\n",
        "t_high = 2.0*np.pi\n",
        "\n",
        "t = np.linspace(t_low,t_high,N_samples)\n",
        "y = np.zeros(N_samples)\n",
        "f = np.zeros(N_terms)\n",
        "\n",
        "yhigh = np.zeros(1000)\n",
        "ylow = np.zeros(1000)\n",
        "time = np.zeros(1000)\n",
        "\n",
        "ytReal = np.zeros(N_terms)\n",
        "ytImag = np.zeros(N_terms)\n",
        "\n",
        "yfftReal = np.zeros(N_terms)\n",
        "yfftImag = np.zeros(N_terms)\n",
        "\n",
        "power = np.zeros(N_terms)\n",
        "powerfft = np.zeros(N_terms)"
      ],
      "execution_count": 205,
      "outputs": []
    },
    {
      "cell_type": "markdown",
      "metadata": {
        "id": "aYh2GBkFejeo"
      },
      "source": [
        "## Theory\n",
        "\n",
        "The function that we will choose is:\n",
        "\n",
        "$y(t) = sin(2 \\pi f_s t)$\n",
        "\n",
        "The Fourier approximation is given by:\n",
        "\n",
        "$y(t) \\approx \\frac{a_0}{2} + \\sum_{n=1}^{\\infty} \\left ( a_n cos(\\frac{2 \\pi n t}{T}) + b_n sin(\\frac{2 \\pi n t}{T}) \\right )$\n",
        "\n",
        "where $T$ is the time-span.\n",
        "\n",
        "For the chosen function, we expect:\n",
        "\n",
        "$a_0 = 0$\n",
        "\n",
        "$a_n = 0,~for~all~n$\n",
        "\n",
        "Since we have a single sine wave with with frequency, $f_s$, we would expect one of the $b_n$ values to be non-zero, and the rest zero.  The value of n for the single non-zero $b_n$ value can be calculated from:\n",
        "\n",
        "$2 \\pi f_s = \\frac{2 \\pi n}{T}$\n",
        "\n",
        "$n = T\\cdot f_s = (0.2)(10.0) = 2$\n",
        "\n",
        "Thus, we expect:\n",
        "\n",
        "$b_2 = 1, and~all~other~b_n=0$"
      ]
    },
    {
      "cell_type": "code",
      "metadata": {
        "id": "7zRhipBcejep",
        "outputId": "07ccb596-d4fc-477e-cbc8-846521ea29ae",
        "colab": {
          "base_uri": "https://localhost:8080/"
        }
      },
      "source": [
        "# Create the data set.  Add a little bit of random noise into the signal.\n",
        "\n",
        "for i in range(N_samples):\n",
        "    if t[i] < 0.0:\n",
        "        y[i] = 0.0 + 0.1*random.uniform(-1,1)\n",
        "    if t[i] >= 0.0 and t[i] < np.pi:\n",
        "        y[i] = t[i] + 0.1*random.uniform(-1,1)\n",
        "    if t[i] >= np.pi:\n",
        "        y[i] = 0.0 + 0.1*random.uniform(-1,1)\n",
        "    \n",
        "for i in range(N_terms):\n",
        "    f[i] = i/(N_terms*dt)\n",
        "    \n",
        "    \n",
        "print (y,f,t)"
      ],
      "execution_count": 206,
      "outputs": [
        {
          "output_type": "stream",
          "text": [
            "[-7.31271512e-02  6.94867474e-02  5.27549238e-02 -4.89861949e-02\n",
            " -9.12982582e-04 -1.01017870e-02  3.03185945e-02  5.77446702e-02\n",
            " -8.12280826e-02 -9.43305047e-02  6.71530208e-02 -1.34465864e-02\n",
            "  5.24560165e-02 -9.95787893e-02 -1.09225612e-02  4.43080065e-02\n",
            " -5.42475557e-02  8.90541391e-02  8.02854915e-02 -9.38820034e-02\n",
            " -9.49108278e-02  8.28249456e-03  8.78298326e-02 -2.37591525e-02\n",
            " -5.66801206e-02 -1.55766849e-02 -9.41918425e-02 -5.56616667e-02\n",
            " -1.24224813e-02 -8.37551724e-04 -5.33831099e-02 -5.38266917e-02\n",
            " -5.62437925e-02 -8.07930685e-03 -4.20436771e-02 -9.57020589e-02\n",
            "  6.75155951e-02  1.12908645e-02  2.84588726e-02 -6.28187468e-02\n",
            "  9.85086824e-02  7.19893058e-02 -7.58220080e-02 -3.34609629e-02\n",
            "  4.42968815e-02  4.22383539e-02  8.72881174e-02 -1.55786000e-02\n",
            "  6.60071387e-02  3.40611133e-02 -3.93262978e-02  1.75161212e-02\n",
            "  7.64958002e-02  6.92394837e-02  1.05676412e-03  1.78004516e-02\n",
            " -9.30948340e-02 -5.14520053e-02  5.94808495e-02 -1.71372001e-02\n",
            " -6.53985197e-02  9.75975228e-03  4.06081524e-02  3.48971661e-02\n",
            " -2.50593959e-02 -1.22076740e-02  1.68529765e-03  5.56885230e-02\n",
            "  4.18768352e-03 -2.13489810e-02 -2.06129591e-03 -9.40850072e-02\n",
            " -9.13025419e-02  4.06764177e-02  9.66375435e-02  1.86367461e-02\n",
            " -2.12800627e-02 -6.59301606e-02  4.47711687e-04  9.64153275e-02\n",
            "  5.41046280e-02  7.92348969e-03  7.20579558e-02 -5.35647744e-02\n",
            "  2.75433264e-03  9.04934777e-02  1.55589616e-02 -8.17365362e-03\n",
            " -4.61441045e-02  9.59926189e-03  9.14232563e-02 -9.88581741e-02\n",
            "  5.67310465e-02  6.40971824e-02  7.72359162e-02  4.81006824e-02\n",
            "  6.18279802e-02  3.73565670e-03  1.22715730e-02 -1.47818641e-02\n",
            " -8.87753405e-02  7.40020310e-02  1.39998668e-02 -6.00321160e-02\n",
            "  9.44093486e-04 -3.01497755e-03 -2.86420071e-02 -3.07844162e-02\n",
            "  7.69575915e-03  2.46978906e-02  2.24904930e-02 -8.37063998e-03\n",
            " -9.44050032e-02 -5.40789937e-02 -6.45577482e-02  1.68921742e-02\n",
            "  7.22017722e-02  5.96877881e-02  5.94195125e-02  6.32874741e-02\n",
            " -4.89411920e-02  6.83489665e-02  3.46227051e-02 -8.33531724e-02\n",
            " -9.66618740e-02 -9.70880050e-02  5.11173551e-02 -5.00881549e-02\n",
            " -7.81022745e-02  2.49604168e-02 -3.11154272e-02 -8.60969243e-02\n",
            " -6.80748951e-02  5.47607981e-03 -6.63710108e-02 -4.54171126e-02\n",
            "  4.23179854e-02 -9.05967399e-03 -3.55996467e-02 -5.24579717e-03\n",
            " -9.52730845e-02 -2.26885790e-02 -1.58162642e-02 -6.23921390e-02\n",
            " -7.82476615e-02  7.99637001e-02  2.02319619e-03 -5.81818015e-02\n",
            "  2.11297280e-02  6.34079337e-02 -9.58363783e-02 -9.64270958e-02\n",
            " -7.07076519e-02  4.37670946e-02 -6.79544815e-02  4.09211256e-02\n",
            "  3.56351591e-02  8.94043272e-03 -5.58800504e-02  9.51189036e-02\n",
            "  5.95621715e-02  3.31990339e-03 -5.53608440e-02  2.97012836e-02\n",
            " -2.10203980e-02  1.51691926e-02 -3.57508381e-02  2.61895723e-02\n",
            " -8.82429768e-02 -4.02788101e-02  9.35806620e-02  7.51068488e-02\n",
            " -3.87226759e-02  7.17028813e-02 -3.79272745e-02  8.78576864e-02\n",
            "  4.87684237e-02 -1.67655474e-02 -4.95283795e-02 -9.83039475e-02\n",
            "  7.57435796e-02 -9.24166939e-02  6.38828221e-02  9.24402250e-02\n",
            "  1.40561140e-02 -6.56965810e-02  7.35562129e-02  9.47550472e-02\n",
            "  4.08046285e-02  1.77474922e-03 -2.44062331e-02 -3.06138231e-02\n",
            " -5.88476485e-02  3.48306028e-02 -1.34099758e-02 -6.11762710e-02\n",
            " -7.91151554e-02  3.31915057e-02 -4.07854654e-02 -4.00155526e-05\n",
            " -3.49308690e-02  7.43243015e-02  7.99356539e-02 -9.63814033e-02\n",
            " -5.98293977e-02 -3.44518590e-02  9.74099436e-02  5.65400751e-02\n",
            " -3.21808704e-02 -5.73940407e-02  3.48910139e-02  6.75402140e-02\n",
            "  8.64374944e-02 -3.12300370e-02  7.64786405e-02  3.74220364e-02\n",
            " -3.10025548e-03  9.71016460e-02 -5.30719130e-02  4.50930372e-02\n",
            " -8.30639539e-02 -6.60611716e-02  8.21975567e-02 -5.74063610e-02\n",
            "  5.18232365e-02  2.00417660e-02  6.82264391e-02 -2.63784001e-02\n",
            " -3.19429530e-02 -4.17569425e-02  7.34839647e-02  2.07965058e-02\n",
            "  9.08614914e-02  7.74530209e-02 -7.29308045e-02  1.02340948e-02\n",
            " -7.91450004e-02 -9.21724403e-02 -8.53613162e-02  7.32336715e-02\n",
            "  5.76232897e-02  6.57011943e-02 -3.18205072e-02  2.30372065e-02\n",
            "  5.63807203e-02 -2.43920742e-02  1.41563051e-02 -5.52571855e-02\n",
            " -8.36513475e-02 -4.66552714e-02  7.81536256e-02  1.28893666e-02\n",
            "  8.50134404e-02 -8.44614819e-03 -4.45634468e-02  5.74029327e-02\n",
            "  6.55536313e-02 -9.75236511e-02  3.40823278e-02 -8.16633755e-02\n",
            " -7.69795003e-02  7.70120141e-02 -9.19952926e-02 -5.20733270e-02\n",
            "  9.76316997e-02 -1.57972825e-02 -7.68883639e-02 -6.65233125e-02\n",
            " -5.17159430e-02  4.88012833e-02 -7.94331708e-02  8.21528837e-02\n",
            " -2.43445459e-02  9.40528073e-02  8.18445456e-02 -4.11952830e-02\n",
            " -4.93179728e-02 -4.59798081e-03 -7.99741712e-02  3.04100399e-02\n",
            " -9.20759573e-02 -9.78987697e-02  9.65167253e-02 -4.08900280e-02\n",
            "  1.93141286e-02 -1.00310931e-02 -3.73438278e-02 -8.74070420e-02\n",
            "  8.26784034e-02  9.39626554e-02  9.39593009e-02 -7.77275380e-02\n",
            " -5.69613460e-02  2.35613760e-02  9.59905772e-02  8.58263950e-03\n",
            "  3.76379616e-02  3.23668858e-02 -4.81828016e-02  8.32045258e-03\n",
            " -3.85357764e-02 -5.07237608e-02 -8.37262469e-02 -4.38426553e-02\n",
            "  9.66753434e-02 -1.04195519e-02  3.04021069e-02  2.86932161e-02\n",
            "  8.81469044e-02 -2.19042898e-02 -3.86431410e-02 -3.45517171e-02\n",
            " -3.66529706e-02  6.94269532e-02  7.87000491e-02 -3.94381341e-02\n",
            " -3.31333189e-02  8.84508284e-03  1.57970873e-02  1.91925080e-02\n",
            " -5.09803992e-02 -9.59251943e-02 -5.12481400e-02 -8.55344932e-02\n",
            "  1.02409510e-02 -8.58167265e-02 -8.49740415e-02  2.70764187e-02\n",
            " -4.18356899e-02  5.84369516e-02 -1.34779145e-03  7.25297956e-02\n",
            " -6.91640808e-02  2.85917189e-04  6.84309109e-02 -6.57101784e-02\n",
            "  1.18148226e-01 -2.76147296e-02  1.02412857e-01  1.53584447e-01\n",
            "  1.30349514e-01  3.94304979e-02  6.28345647e-03  9.72137719e-02\n",
            "  1.87647722e-01  7.19084449e-02  2.01396518e-01  6.04150998e-02\n",
            "  2.23609517e-01  5.72993839e-02  1.23595342e-01  2.50433476e-01\n",
            "  2.40021287e-01  2.70114997e-01  2.66262160e-01  2.56789645e-01\n",
            "  2.54905916e-01  1.62052065e-01  2.22382905e-01  1.76868905e-01\n",
            "  2.97688619e-01  2.97713689e-01  2.24109435e-01  1.95909204e-01\n",
            "  3.85137754e-01  3.63545315e-01  3.21182988e-01  3.29038744e-01\n",
            "  4.00455959e-01  3.30293574e-01  3.28207939e-01  3.26233892e-01\n",
            "  3.19528093e-01  2.82250187e-01  4.16090468e-01  3.79573688e-01\n",
            "  4.19791850e-01  3.27569662e-01  3.95528237e-01  3.61630583e-01\n",
            "  3.68433775e-01  4.04664778e-01  5.28063273e-01  4.51270071e-01\n",
            "  4.61361251e-01  5.13068018e-01  4.46719176e-01  4.10942892e-01\n",
            "  5.24622017e-01  5.28495806e-01  5.67518012e-01  5.34847697e-01\n",
            "  5.93921144e-01  6.12337120e-01  5.23161878e-01  5.83935605e-01\n",
            "  5.90120744e-01  5.48801996e-01  5.95673018e-01  6.34739490e-01\n",
            "  7.13480116e-01  7.25067745e-01  6.06005713e-01  6.89677887e-01\n",
            "  5.79468533e-01  5.93573554e-01  6.91035830e-01  7.73616517e-01\n",
            "  6.39459459e-01  7.70205697e-01  8.03036251e-01  6.98228956e-01\n",
            "  7.83814155e-01  8.24535198e-01  7.38494052e-01  8.13861931e-01\n",
            "  8.30323234e-01  8.11389383e-01  8.73163462e-01  8.90663121e-01\n",
            "  9.12792222e-01  8.44457210e-01  7.74900062e-01  7.99198177e-01\n",
            "  8.02037045e-01  8.81850990e-01  9.28931755e-01  7.97242588e-01\n",
            "  9.32577448e-01  9.49115021e-01  8.84714882e-01  9.27563954e-01\n",
            "  8.66946636e-01  9.89400447e-01  8.60997167e-01  1.05853385e+00\n",
            "  1.03331260e+00  1.00684777e+00  9.44097527e-01  1.08259907e+00\n",
            "  1.10134847e+00  9.46720146e-01  1.08348058e+00  1.10614951e+00\n",
            "  1.07914102e+00  1.09671332e+00  1.05507772e+00  1.16036175e+00\n",
            "  1.17917591e+00  1.07083927e+00  1.16434513e+00  1.09982135e+00\n",
            "  1.05562209e+00  1.09719892e+00  1.06680569e+00  1.23275084e+00\n",
            "  1.25229291e+00  1.09367966e+00  1.19941234e+00  1.17035555e+00\n",
            "  1.12176295e+00  1.16667426e+00  1.16665664e+00  1.27636294e+00\n",
            "  1.13668359e+00  1.18328375e+00  1.24250483e+00  1.16839137e+00\n",
            "  1.29912396e+00  1.30417836e+00  1.35955354e+00  1.24324244e+00\n",
            "  1.26831181e+00  1.32925759e+00  1.28486906e+00  1.35680575e+00\n",
            "  1.29926879e+00  1.39523198e+00  1.42617891e+00  1.43912590e+00\n",
            "  1.48155241e+00  1.40533880e+00  1.40385947e+00  1.48627137e+00\n",
            "  1.47837952e+00  1.44810918e+00  1.42008574e+00  1.40967816e+00\n",
            "  1.38393073e+00  1.53324692e+00  1.40478562e+00  1.54005857e+00\n",
            "  1.50909715e+00  1.60246301e+00  1.57112129e+00  1.62304633e+00\n",
            "  1.46509539e+00  1.54728509e+00  1.57116067e+00  1.52832951e+00\n",
            "  1.57611993e+00  1.55631140e+00  1.60006065e+00  1.50398501e+00\n",
            "  1.60171315e+00  1.61259492e+00  1.59307854e+00  1.62143347e+00\n",
            "  1.70760459e+00  1.69710392e+00  1.66831538e+00  1.70882342e+00\n",
            "  1.66423562e+00  1.63894100e+00  1.60836753e+00  1.67255087e+00\n",
            "  1.74609367e+00  1.81222763e+00  1.81121350e+00  1.75695551e+00\n",
            "  1.86160131e+00  1.76594808e+00  1.84998480e+00  1.77429338e+00\n",
            "  1.85086065e+00  1.90888708e+00  1.78187027e+00  1.76429973e+00\n",
            "  1.86367812e+00  1.85529682e+00  1.83042420e+00  1.76867786e+00\n",
            "  1.85524075e+00  1.87201633e+00  1.87732706e+00  1.97795992e+00\n",
            "  1.93203068e+00  1.97134544e+00  2.01359533e+00  1.99320240e+00\n",
            "  1.95142233e+00  2.01146980e+00  1.99982142e+00  2.01093364e+00\n",
            "  2.01655384e+00  1.98145278e+00  2.03533960e+00  2.04566791e+00\n",
            "  2.11577921e+00  2.09428457e+00  2.11647765e+00  2.11015821e+00\n",
            "  2.12915764e+00  2.09661916e+00  2.05485091e+00  2.04731175e+00\n",
            "  2.14543332e+00  2.18805194e+00  2.13154709e+00  2.06254594e+00\n",
            "  2.20816122e+00  2.14790899e+00  2.15385511e+00  2.07894641e+00\n",
            "  2.18135920e+00  2.23768676e+00  2.18269100e+00  2.17864111e+00\n",
            "  2.24840857e+00  2.13042235e+00  2.23734100e+00  2.33456792e+00\n",
            "  2.29286623e+00  2.24459567e+00  2.31142678e+00  2.30407813e+00\n",
            "  2.23429144e+00  2.24348944e+00  2.38858704e+00  2.27463004e+00\n",
            "  2.24522736e+00  2.40582014e+00  2.35375838e+00  2.33219468e+00\n",
            "  2.37029104e+00  2.42476661e+00  2.32056640e+00  2.42690329e+00\n",
            "  2.44841150e+00  2.47815901e+00  2.37854466e+00  2.45596001e+00\n",
            "  2.38988373e+00  2.46510410e+00  2.39680197e+00  2.52971711e+00\n",
            "  2.55454137e+00  2.45656073e+00  2.44452994e+00  2.60225812e+00\n",
            "  2.56027271e+00  2.59712739e+00  2.44390997e+00  2.62711595e+00\n",
            "  2.58116191e+00  2.52941154e+00  2.56189305e+00  2.63729273e+00\n",
            "  2.65149074e+00  2.54182273e+00  2.63845407e+00  2.55583689e+00\n",
            "  2.72675516e+00  2.63029472e+00  2.73364262e+00  2.70609740e+00\n",
            "  2.69113403e+00  2.63171306e+00  2.69406893e+00  2.62590863e+00\n",
            "  2.63523849e+00  2.76020306e+00  2.69870527e+00  2.78619679e+00\n",
            "  2.69345446e+00  2.79842158e+00  2.80791955e+00  2.73475756e+00\n",
            "  2.70436968e+00  2.77192837e+00  2.80043332e+00  2.73139007e+00\n",
            "  2.75818169e+00  2.74133226e+00  2.85920058e+00  2.92690730e+00\n",
            "  2.80187785e+00  2.77494319e+00  2.91821943e+00  2.94985104e+00\n",
            "  2.98912745e+00  2.92837314e+00  2.88366019e+00  2.99217950e+00\n",
            "  2.85765341e+00  2.98200159e+00  2.87195458e+00  2.94228377e+00\n",
            "  2.97078141e+00  2.95678990e+00  2.92436477e+00  2.94642293e+00\n",
            "  3.07354368e+00  3.01146306e+00  3.04436866e+00  2.98019772e+00\n",
            "  3.09023754e+00  3.02270820e+00  3.08484267e+00  3.15745058e+00\n",
            "  3.18386606e+00  3.00366518e+00  3.16334435e+00  3.18480758e+00\n",
            "  3.08663912e+00  3.10878797e+00  1.60507519e-02  8.37680462e-02\n",
            " -2.00142813e-02  7.60060338e-02  5.17121056e-02 -6.95453841e-02\n",
            "  8.27359841e-02 -9.69637895e-02 -7.09643500e-02  3.29622426e-02\n",
            " -8.85760627e-02 -2.41020229e-02 -7.40042283e-02 -7.42214523e-03\n",
            "  6.79960688e-02  8.12168703e-02 -9.29060719e-02 -8.78296487e-02\n",
            "  6.81248071e-02 -9.14370433e-02 -4.52819470e-02 -7.65126565e-02\n",
            " -8.17924586e-02 -9.44754221e-02  2.75026025e-02  4.89228536e-02\n",
            "  3.73542753e-02  6.91245544e-02  3.26032377e-02 -2.20596145e-02\n",
            "  2.62126047e-02  9.39189617e-02  2.83206666e-02 -5.13816532e-02\n",
            " -8.79631809e-02  8.70331999e-02  1.80990997e-02 -3.00770515e-02\n",
            "  2.10705499e-02  1.20515192e-02  4.43435456e-03 -8.78390716e-02\n",
            " -2.93544895e-02 -1.74699954e-02 -6.01263319e-02  7.60210462e-02\n",
            " -1.51760445e-02  3.24771331e-02  4.27092899e-02  4.86566121e-02\n",
            "  4.42230582e-02  5.04417003e-02 -4.96838612e-02  9.52807353e-02\n",
            " -6.97980492e-02  8.37294790e-02  7.09137550e-02  7.04328582e-02\n",
            " -8.94377490e-02 -8.17563833e-02  6.26111604e-02 -6.16663471e-03\n",
            " -2.59493618e-02  9.69374944e-02 -9.19764129e-02  6.29301076e-03\n",
            " -1.13300448e-02 -7.43593754e-02 -2.09623474e-02  4.15294810e-02\n",
            "  7.64631218e-02 -9.50760577e-02  4.90191172e-03 -8.19246810e-02\n",
            "  6.00786914e-02 -8.28429441e-02 -9.31613358e-02 -2.31527596e-02\n",
            "  4.65212349e-02 -3.73586614e-02 -7.39990201e-02  5.89144444e-02\n",
            "  6.13838764e-02  7.11719598e-02 -3.92511053e-02 -1.50339278e-02\n",
            " -5.09220011e-02  1.14354986e-02 -3.39785666e-02 -3.22673328e-02\n",
            "  5.67242837e-02  9.12592320e-02  1.68280638e-02 -7.90624140e-02\n",
            "  3.05149865e-02 -1.02776564e-02  9.76061114e-02  4.38762990e-02\n",
            "  6.69572213e-02  4.02572520e-02  7.12380116e-03  7.93636784e-02\n",
            "  6.63234129e-02 -4.17348225e-02 -6.85936210e-02 -2.59296262e-02\n",
            "  4.21553451e-03 -8.05239820e-02 -3.09241427e-02  1.49811328e-02\n",
            " -9.12850763e-02  6.29897353e-02  3.02234091e-02 -3.72699657e-02\n",
            " -4.03358037e-02 -2.94767718e-02 -3.49422608e-02  4.97027554e-02\n",
            "  2.11371494e-04  5.22567946e-03 -7.02487002e-02  8.28836005e-02\n",
            " -3.48854143e-02 -3.44871095e-02 -8.62307721e-02  9.58823164e-02\n",
            " -4.06043164e-03  8.25769475e-02  8.55234485e-02  9.39504286e-02\n",
            "  6.31258575e-02  8.50886450e-02  8.44578647e-02  6.02735356e-02\n",
            " -7.30837568e-02  4.74234446e-03  1.51208026e-02  9.84995056e-02\n",
            "  5.67897100e-02  4.05832433e-02  4.93298074e-02 -2.76844472e-02\n",
            "  8.84627116e-02  2.87001779e-02 -1.94850783e-02 -7.08568454e-03\n",
            "  9.59509855e-02  6.42567949e-03 -6.64404928e-02 -7.03290012e-02\n",
            "  3.74484393e-02  1.25551062e-02  8.13612522e-02 -6.30799312e-02\n",
            " -1.77782373e-02  4.55920437e-02 -8.99789932e-02 -8.01555187e-02\n",
            "  9.14158029e-03 -4.68541567e-02 -7.86124808e-02 -4.76604863e-02\n",
            "  2.64282175e-02  5.27548736e-03 -8.43006479e-02 -8.54377109e-02\n",
            "  7.01253984e-02  2.86477921e-02 -6.53265484e-02  7.23668135e-02\n",
            " -9.56301233e-02 -2.63790415e-02  6.95259474e-02  4.20556826e-02\n",
            " -4.32495188e-02  7.82562989e-02  1.96156002e-02  7.30986638e-02\n",
            "  7.85586748e-02 -1.49111845e-02  3.51200675e-02  8.89526295e-03\n",
            "  8.89470476e-02  5.96321486e-02  4.51637001e-02  6.28064749e-02\n",
            "  9.96319905e-02 -4.86877629e-02 -5.97272739e-02  4.93565627e-02\n",
            "  5.40665021e-02  2.85675954e-03 -2.58483726e-03 -1.92513859e-02\n",
            "  7.65393861e-02  5.92463755e-02  1.69195196e-02 -9.19761831e-02\n",
            "  7.02283189e-02 -8.30926447e-03 -6.20478944e-02 -4.01291449e-02\n",
            "  3.82668952e-02 -9.88985843e-02 -7.59910705e-02 -3.94692726e-02\n",
            "  7.74382710e-02  4.93720879e-02  9.41583451e-02  8.60574789e-03\n",
            "  1.43936455e-02  1.02753614e-02  5.12544276e-03  8.40811422e-03\n",
            "  6.37135102e-02  9.06737469e-02 -1.83398461e-02  2.59930485e-02\n",
            " -3.84481185e-02 -3.96179227e-02  1.26347012e-03  1.72535317e-02\n",
            "  9.99889340e-03  9.53159406e-02 -6.74057525e-02  2.73328826e-02\n",
            "  9.89062018e-02  4.72270573e-02  1.31817028e-02 -2.63273695e-02\n",
            " -1.95722233e-02  8.73046184e-02  7.90660899e-02  3.39352578e-02\n",
            "  7.97495784e-02  8.50327299e-02  6.92687139e-02 -2.33167615e-02\n",
            " -7.12707151e-03  5.91815006e-02 -2.54733940e-02  4.98727617e-02\n",
            " -3.71592377e-03 -3.26917389e-02 -8.77034246e-03 -7.66981088e-02\n",
            " -2.91006488e-02 -1.69611139e-02 -9.63672847e-02 -6.55852052e-02\n",
            " -4.79533905e-02  7.15768056e-02  1.79154274e-02 -4.25710187e-02\n",
            "  9.95453394e-02 -4.84158800e-02  2.75766743e-03  4.79039571e-02\n",
            "  3.82641081e-02 -1.32994632e-02  5.53995384e-02 -2.84117875e-03\n",
            "  4.30930135e-02 -1.72469176e-03  9.42989370e-02  4.32359881e-02\n",
            " -8.17245527e-02 -7.41059747e-02  9.33029594e-02 -5.41543249e-02\n",
            " -9.47727902e-02 -4.93552504e-02 -4.04258851e-03  9.04337125e-02\n",
            " -2.01740196e-02  4.47011176e-02  6.68725044e-02 -8.21675965e-02\n",
            "  2.23783910e-02  9.91568715e-02  9.91919371e-03  6.89723555e-03\n",
            " -3.06594922e-02  8.92210791e-02  9.39198478e-02 -7.93660302e-02\n",
            "  1.05667720e-02 -1.60741540e-02  3.43292322e-02 -7.62706727e-02\n",
            " -4.69331418e-02 -4.42493242e-02 -4.05741214e-03  5.86565669e-02\n",
            "  7.15695024e-02  5.72847280e-02  3.53613669e-02 -8.25614484e-02\n",
            " -2.20565854e-02  3.37403244e-02 -4.11504437e-02  1.56367942e-03\n",
            "  8.10156724e-02 -7.67685926e-02  7.07753308e-02 -7.88340656e-02\n",
            " -2.27271130e-02  8.10778807e-02 -5.97599876e-02  4.14852538e-03\n",
            " -1.66791935e-02  7.75894566e-02  9.84129392e-02 -4.22814878e-02\n",
            " -1.50469149e-03  7.90010300e-02  8.95913528e-03 -5.70750120e-02\n",
            "  5.19324625e-02 -3.25821402e-02 -2.80512556e-03 -9.82876185e-02\n",
            "  9.77934088e-02  3.14564725e-02  8.51625694e-02  9.37370564e-02\n",
            " -4.64932635e-02  8.10719524e-03 -1.19497533e-02  5.19710435e-02\n",
            "  6.84771331e-02 -5.42879678e-02 -4.50870674e-02  4.12523095e-02] [ 0.   2.5  5.   7.5 10.  12.5 15.  17.5 20.  22.5 25.  27.5 30.  32.5\n",
            " 35.  37.5 40.  42.5 45.  47.5 50.  52.5 55.  57.5 60.  62.5 65.  67.5\n",
            " 70.  72.5 75.  77.5 80.  82.5 85.  87.5 90.  92.5 95.  97.5] [-3.14159265 -3.13215844 -3.12272423 -3.11329002 -3.1038558  -3.09442159\n",
            " -3.08498738 -3.07555317 -3.06611896 -3.05668474 -3.04725053 -3.03781632\n",
            " -3.02838211 -3.0189479  -3.00951368 -3.00007947 -2.99064526 -2.98121105\n",
            " -2.97177683 -2.96234262 -2.95290841 -2.9434742  -2.93403999 -2.92460577\n",
            " -2.91517156 -2.90573735 -2.89630314 -2.88686892 -2.87743471 -2.8680005\n",
            " -2.85856629 -2.84913208 -2.83969786 -2.83026365 -2.82082944 -2.81139523\n",
            " -2.80196102 -2.7925268  -2.78309259 -2.77365838 -2.76422417 -2.75478995\n",
            " -2.74535574 -2.73592153 -2.72648732 -2.71705311 -2.70761889 -2.69818468\n",
            " -2.68875047 -2.67931626 -2.66988204 -2.66044783 -2.65101362 -2.64157941\n",
            " -2.6321452  -2.62271098 -2.61327677 -2.60384256 -2.59440835 -2.58497414\n",
            " -2.57553992 -2.56610571 -2.5566715  -2.54723729 -2.53780307 -2.52836886\n",
            " -2.51893465 -2.50950044 -2.50006623 -2.49063201 -2.4811978  -2.47176359\n",
            " -2.46232938 -2.45289516 -2.44346095 -2.43402674 -2.42459253 -2.41515832\n",
            " -2.4057241  -2.39628989 -2.38685568 -2.37742147 -2.36798726 -2.35855304\n",
            " -2.34911883 -2.33968462 -2.33025041 -2.32081619 -2.31138198 -2.30194777\n",
            " -2.29251356 -2.28307935 -2.27364513 -2.26421092 -2.25477671 -2.2453425\n",
            " -2.23590828 -2.22647407 -2.21703986 -2.20760565 -2.19817144 -2.18873722\n",
            " -2.17930301 -2.1698688  -2.16043459 -2.15100038 -2.14156616 -2.13213195\n",
            " -2.12269774 -2.11326353 -2.10382931 -2.0943951  -2.08496089 -2.07552668\n",
            " -2.06609247 -2.05665825 -2.04722404 -2.03778983 -2.02835562 -2.01892141\n",
            " -2.00948719 -2.00005298 -1.99061877 -1.98118456 -1.97175034 -1.96231613\n",
            " -1.95288192 -1.94344771 -1.9340135  -1.92457928 -1.91514507 -1.90571086\n",
            " -1.89627665 -1.88684243 -1.87740822 -1.86797401 -1.8585398  -1.84910559\n",
            " -1.83967137 -1.83023716 -1.82080295 -1.81136874 -1.80193453 -1.79250031\n",
            " -1.7830661  -1.77363189 -1.76419768 -1.75476346 -1.74532925 -1.73589504\n",
            " -1.72646083 -1.71702662 -1.7075924  -1.69815819 -1.68872398 -1.67928977\n",
            " -1.66985555 -1.66042134 -1.65098713 -1.64155292 -1.63211871 -1.62268449\n",
            " -1.61325028 -1.60381607 -1.59438186 -1.58494765 -1.57551343 -1.56607922\n",
            " -1.55664501 -1.5472108  -1.53777658 -1.52834237 -1.51890816 -1.50947395\n",
            " -1.50003974 -1.49060552 -1.48117131 -1.4717371  -1.46230289 -1.45286867\n",
            " -1.44343446 -1.43400025 -1.42456604 -1.41513183 -1.40569761 -1.3962634\n",
            " -1.38682919 -1.37739498 -1.36796077 -1.35852655 -1.34909234 -1.33965813\n",
            " -1.33022392 -1.3207897  -1.31135549 -1.30192128 -1.29248707 -1.28305286\n",
            " -1.27361864 -1.26418443 -1.25475022 -1.24531601 -1.23588179 -1.22644758\n",
            " -1.21701337 -1.20757916 -1.19814495 -1.18871073 -1.17927652 -1.16984231\n",
            " -1.1604081  -1.15097389 -1.14153967 -1.13210546 -1.12267125 -1.11323704\n",
            " -1.10380282 -1.09436861 -1.0849344  -1.07550019 -1.06606598 -1.05663176\n",
            " -1.04719755 -1.03776334 -1.02832913 -1.01889491 -1.0094607  -1.00002649\n",
            " -0.99059228 -0.98115807 -0.97172385 -0.96228964 -0.95285543 -0.94342122\n",
            " -0.93398701 -0.92455279 -0.91511858 -0.90568437 -0.89625016 -0.88681594\n",
            " -0.87738173 -0.86794752 -0.85851331 -0.8490791  -0.83964488 -0.83021067\n",
            " -0.82077646 -0.81134225 -0.80190803 -0.79247382 -0.78303961 -0.7736054\n",
            " -0.76417119 -0.75473697 -0.74530276 -0.73586855 -0.72643434 -0.71700013\n",
            " -0.70756591 -0.6981317  -0.68869749 -0.67926328 -0.66982906 -0.66039485\n",
            " -0.65096064 -0.64152643 -0.63209222 -0.622658   -0.61322379 -0.60378958\n",
            " -0.59435537 -0.58492115 -0.57548694 -0.56605273 -0.55661852 -0.54718431\n",
            " -0.53775009 -0.52831588 -0.51888167 -0.50944746 -0.50001325 -0.49057903\n",
            " -0.48114482 -0.47171061 -0.4622764  -0.45284218 -0.44340797 -0.43397376\n",
            " -0.42453955 -0.41510534 -0.40567112 -0.39623691 -0.3868027  -0.37736849\n",
            " -0.36793427 -0.35850006 -0.34906585 -0.33963164 -0.33019743 -0.32076321\n",
            " -0.311329   -0.30189479 -0.29246058 -0.28302637 -0.27359215 -0.26415794\n",
            " -0.25472373 -0.24528952 -0.2358553  -0.22642109 -0.21698688 -0.20755267\n",
            " -0.19811846 -0.18868424 -0.17925003 -0.16981582 -0.16038161 -0.15094739\n",
            " -0.14151318 -0.13207897 -0.12264476 -0.11321055 -0.10377633 -0.09434212\n",
            " -0.08490791 -0.0754737  -0.06603949 -0.05660527 -0.04717106 -0.03773685\n",
            " -0.02830264 -0.01886842 -0.00943421  0.          0.00943421  0.01886842\n",
            "  0.02830264  0.03773685  0.04717106  0.05660527  0.06603949  0.0754737\n",
            "  0.08490791  0.09434212  0.10377633  0.11321055  0.12264476  0.13207897\n",
            "  0.14151318  0.15094739  0.16038161  0.16981582  0.17925003  0.18868424\n",
            "  0.19811846  0.20755267  0.21698688  0.22642109  0.2358553   0.24528952\n",
            "  0.25472373  0.26415794  0.27359215  0.28302637  0.29246058  0.30189479\n",
            "  0.311329    0.32076321  0.33019743  0.33963164  0.34906585  0.35850006\n",
            "  0.36793427  0.37736849  0.3868027   0.39623691  0.40567112  0.41510534\n",
            "  0.42453955  0.43397376  0.44340797  0.45284218  0.4622764   0.47171061\n",
            "  0.48114482  0.49057903  0.50001325  0.50944746  0.51888167  0.52831588\n",
            "  0.53775009  0.54718431  0.55661852  0.56605273  0.57548694  0.58492115\n",
            "  0.59435537  0.60378958  0.61322379  0.622658    0.63209222  0.64152643\n",
            "  0.65096064  0.66039485  0.66982906  0.67926328  0.68869749  0.6981317\n",
            "  0.70756591  0.71700013  0.72643434  0.73586855  0.74530276  0.75473697\n",
            "  0.76417119  0.7736054   0.78303961  0.79247382  0.80190803  0.81134225\n",
            "  0.82077646  0.83021067  0.83964488  0.8490791   0.85851331  0.86794752\n",
            "  0.87738173  0.88681594  0.89625016  0.90568437  0.91511858  0.92455279\n",
            "  0.93398701  0.94342122  0.95285543  0.96228964  0.97172385  0.98115807\n",
            "  0.99059228  1.00002649  1.0094607   1.01889491  1.02832913  1.03776334\n",
            "  1.04719755  1.05663176  1.06606598  1.07550019  1.0849344   1.09436861\n",
            "  1.10380282  1.11323704  1.12267125  1.13210546  1.14153967  1.15097389\n",
            "  1.1604081   1.16984231  1.17927652  1.18871073  1.19814495  1.20757916\n",
            "  1.21701337  1.22644758  1.23588179  1.24531601  1.25475022  1.26418443\n",
            "  1.27361864  1.28305286  1.29248707  1.30192128  1.31135549  1.3207897\n",
            "  1.33022392  1.33965813  1.34909234  1.35852655  1.36796077  1.37739498\n",
            "  1.38682919  1.3962634   1.40569761  1.41513183  1.42456604  1.43400025\n",
            "  1.44343446  1.45286867  1.46230289  1.4717371   1.48117131  1.49060552\n",
            "  1.50003974  1.50947395  1.51890816  1.52834237  1.53777658  1.5472108\n",
            "  1.55664501  1.56607922  1.57551343  1.58494765  1.59438186  1.60381607\n",
            "  1.61325028  1.62268449  1.63211871  1.64155292  1.65098713  1.66042134\n",
            "  1.66985555  1.67928977  1.68872398  1.69815819  1.7075924   1.71702662\n",
            "  1.72646083  1.73589504  1.74532925  1.75476346  1.76419768  1.77363189\n",
            "  1.7830661   1.79250031  1.80193453  1.81136874  1.82080295  1.83023716\n",
            "  1.83967137  1.84910559  1.8585398   1.86797401  1.87740822  1.88684243\n",
            "  1.89627665  1.90571086  1.91514507  1.92457928  1.9340135   1.94344771\n",
            "  1.95288192  1.96231613  1.97175034  1.98118456  1.99061877  2.00005298\n",
            "  2.00948719  2.01892141  2.02835562  2.03778983  2.04722404  2.05665825\n",
            "  2.06609247  2.07552668  2.08496089  2.0943951   2.10382931  2.11326353\n",
            "  2.12269774  2.13213195  2.14156616  2.15100038  2.16043459  2.1698688\n",
            "  2.17930301  2.18873722  2.19817144  2.20760565  2.21703986  2.22647407\n",
            "  2.23590828  2.2453425   2.25477671  2.26421092  2.27364513  2.28307935\n",
            "  2.29251356  2.30194777  2.31138198  2.32081619  2.33025041  2.33968462\n",
            "  2.34911883  2.35855304  2.36798726  2.37742147  2.38685568  2.39628989\n",
            "  2.4057241   2.41515832  2.42459253  2.43402674  2.44346095  2.45289516\n",
            "  2.46232938  2.47176359  2.4811978   2.49063201  2.50006623  2.50950044\n",
            "  2.51893465  2.52836886  2.53780307  2.54723729  2.5566715   2.56610571\n",
            "  2.57553992  2.58497414  2.59440835  2.60384256  2.61327677  2.62271098\n",
            "  2.6321452   2.64157941  2.65101362  2.66044783  2.66988204  2.67931626\n",
            "  2.68875047  2.69818468  2.70761889  2.71705311  2.72648732  2.73592153\n",
            "  2.74535574  2.75478995  2.76422417  2.77365838  2.78309259  2.7925268\n",
            "  2.80196102  2.81139523  2.82082944  2.83026365  2.83969786  2.84913208\n",
            "  2.85856629  2.8680005   2.87743471  2.88686892  2.89630314  2.90573735\n",
            "  2.91517156  2.92460577  2.93403999  2.9434742   2.95290841  2.96234262\n",
            "  2.97177683  2.98121105  2.99064526  3.00007947  3.00951368  3.0189479\n",
            "  3.02838211  3.03781632  3.04725053  3.05668474  3.06611896  3.07555317\n",
            "  3.08498738  3.09442159  3.1038558   3.11329002  3.12272423  3.13215844\n",
            "  3.14159265  3.15102687  3.16046108  3.16989529  3.1793295   3.18876371\n",
            "  3.19819793  3.20763214  3.21706635  3.22650056  3.23593478  3.24536899\n",
            "  3.2548032   3.26423741  3.27367162  3.28310584  3.29254005  3.30197426\n",
            "  3.31140847  3.32084268  3.3302769   3.33971111  3.34914532  3.35857953\n",
            "  3.36801375  3.37744796  3.38688217  3.39631638  3.40575059  3.41518481\n",
            "  3.42461902  3.43405323  3.44348744  3.45292166  3.46235587  3.47179008\n",
            "  3.48122429  3.4906585   3.50009272  3.50952693  3.51896114  3.52839535\n",
            "  3.53782956  3.54726378  3.55669799  3.5661322   3.57556641  3.58500063\n",
            "  3.59443484  3.60386905  3.61330326  3.62273747  3.63217169  3.6416059\n",
            "  3.65104011  3.66047432  3.66990854  3.67934275  3.68877696  3.69821117\n",
            "  3.70764538  3.7170796   3.72651381  3.73594802  3.74538223  3.75481644\n",
            "  3.76425066  3.77368487  3.78311908  3.79255329  3.80198751  3.81142172\n",
            "  3.82085593  3.83029014  3.83972435  3.84915857  3.85859278  3.86802699\n",
            "  3.8774612   3.88689542  3.89632963  3.90576384  3.91519805  3.92463226\n",
            "  3.93406648  3.94350069  3.9529349   3.96236911  3.97180332  3.98123754\n",
            "  3.99067175  4.00010596  4.00954017  4.01897439  4.0284086   4.03784281\n",
            "  4.04727702  4.05671123  4.06614545  4.07557966  4.08501387  4.09444808\n",
            "  4.1038823   4.11331651  4.12275072  4.13218493  4.14161914  4.15105336\n",
            "  4.16048757  4.16992178  4.17935599  4.1887902   4.19822442  4.20765863\n",
            "  4.21709284  4.22652705  4.23596127  4.24539548  4.25482969  4.2642639\n",
            "  4.27369811  4.28313233  4.29256654  4.30200075  4.31143496  4.32086918\n",
            "  4.33030339  4.3397376   4.34917181  4.35860602  4.36804024  4.37747445\n",
            "  4.38690866  4.39634287  4.40577708  4.4152113   4.42464551  4.43407972\n",
            "  4.44351393  4.45294815  4.46238236  4.47181657  4.48125078  4.49068499\n",
            "  4.50011921  4.50955342  4.51898763  4.52842184  4.53785606  4.54729027\n",
            "  4.55672448  4.56615869  4.5755929   4.58502712  4.59446133  4.60389554\n",
            "  4.61332975  4.62276396  4.63219818  4.64163239  4.6510666   4.66050081\n",
            "  4.66993503  4.67936924  4.68880345  4.69823766  4.70767187  4.71710609\n",
            "  4.7265403   4.73597451  4.74540872  4.75484294  4.76427715  4.77371136\n",
            "  4.78314557  4.79257978  4.802014    4.81144821  4.82088242  4.83031663\n",
            "  4.83975084  4.84918506  4.85861927  4.86805348  4.87748769  4.88692191\n",
            "  4.89635612  4.90579033  4.91522454  4.92465875  4.93409297  4.94352718\n",
            "  4.95296139  4.9623956   4.97182982  4.98126403  4.99069824  5.00013245\n",
            "  5.00956666  5.01900088  5.02843509  5.0378693   5.04730351  5.05673772\n",
            "  5.06617194  5.07560615  5.08504036  5.09447457  5.10390879  5.113343\n",
            "  5.12277721  5.13221142  5.14164563  5.15107985  5.16051406  5.16994827\n",
            "  5.17938248  5.1888167   5.19825091  5.20768512  5.21711933  5.22655354\n",
            "  5.23598776  5.24542197  5.25485618  5.26429039  5.2737246   5.28315882\n",
            "  5.29259303  5.30202724  5.31146145  5.32089567  5.33032988  5.33976409\n",
            "  5.3491983   5.35863251  5.36806673  5.37750094  5.38693515  5.39636936\n",
            "  5.40580358  5.41523779  5.424672    5.43410621  5.44354042  5.45297464\n",
            "  5.46240885  5.47184306  5.48127727  5.49071148  5.5001457   5.50957991\n",
            "  5.51901412  5.52844833  5.53788255  5.54731676  5.55675097  5.56618518\n",
            "  5.57561939  5.58505361  5.59448782  5.60392203  5.61335624  5.62279046\n",
            "  5.63222467  5.64165888  5.65109309  5.6605273   5.66996152  5.67939573\n",
            "  5.68882994  5.69826415  5.70769836  5.71713258  5.72656679  5.736001\n",
            "  5.74543521  5.75486943  5.76430364  5.77373785  5.78317206  5.79260627\n",
            "  5.80204049  5.8114747   5.82090891  5.83034312  5.83977734  5.84921155\n",
            "  5.85864576  5.86807997  5.87751418  5.8869484   5.89638261  5.90581682\n",
            "  5.91525103  5.92468524  5.93411946  5.94355367  5.95298788  5.96242209\n",
            "  5.97185631  5.98129052  5.99072473  6.00015894  6.00959315  6.01902737\n",
            "  6.02846158  6.03789579  6.04733     6.05676422  6.06619843  6.07563264\n",
            "  6.08506685  6.09450106  6.10393528  6.11336949  6.1228037   6.13223791\n",
            "  6.14167212  6.15110634  6.16054055  6.16997476  6.17940897  6.18884319\n",
            "  6.1982774   6.20771161  6.21714582  6.22658003  6.23601425  6.24544846\n",
            "  6.25488267  6.26431688  6.2737511   6.28318531]\n"
          ],
          "name": "stdout"
        }
      ]
    },
    {
      "cell_type": "markdown",
      "metadata": {
        "id": "FnvVGPrGejeu"
      },
      "source": [
        "# Calculating the coefficients\n",
        "\n",
        "We will determine the coefficients by numerical integration, according to:\n",
        "\n",
        "$a_0 = \\frac{2}{T} \\int_0^T f(t) dt$\n",
        "\n",
        "$a_n = \\frac{2}{T} \\int_0^T f(t) cos(\\frac{2 \\pi n}{T} t) dt$\n",
        "\n",
        "$b_n = \\frac{2}{T} \\int_0^T f(t) sin(\\frac{2 \\pi n}{T} t) dt$"
      ]
    },
    {
      "cell_type": "code",
      "metadata": {
        "id": "9sIXvjvhejew",
        "outputId": "97457be3-2166-4003-e19b-c66f6a29ebf9",
        "colab": {
          "base_uri": "https://localhost:8080/"
        }
      },
      "source": [
        "from timeit import default_timer as timer\n",
        "\n",
        "start = timer()\n",
        "\n",
        "# Define a useful constant, because I am sick of typing it so many times!\n",
        "\n",
        "twopiT=2.0*np.pi/T\n",
        "\n",
        "# rather than just making things exactly zero, make them a small number, so that logarithmic plots do not fail.\n",
        "epsilon = 0.000001\n",
        "\n",
        "for n in range(N_terms):\n",
        "    ytReal[n]=epsilon\n",
        "    ytImag[n]=epsilon\n",
        "    for i in range(N_samples):\n",
        "        ytReal[n] = ytReal[n] + 2.0/T*y[i]*np.cos(twopiT*n*i*dt)*dt\n",
        "        ytImag[n] = ytImag[n] + 2.0/T*y[i]*np.sin(twopiT*n*i*dt)*dt  \n",
        "    power[n]=(ytReal[n]**2+ytImag[n]**2)\n",
        "    \n",
        "end = timer()\n",
        "btime = end-start\n",
        "print (\"Suscello: \",btime)\n",
        "ymaxr = max(ytReal)\n",
        "ymaxi = max(ytImag)\n",
        "ymax = 1.2*max(ymaxr,ymaxi)"
      ],
      "execution_count": 207,
      "outputs": [
        {
          "output_type": "stream",
          "text": [
            "Suscello:  0.19269674899987876\n"
          ],
          "name": "stdout"
        }
      ]
    },
    {
      "cell_type": "code",
      "metadata": {
        "id": "7naGXjekeje0",
        "outputId": "b3b1e29e-aa8e-4aba-cc92-394976a0fc4b",
        "colab": {
          "base_uri": "https://localhost:8080/"
        }
      },
      "source": [
        "integral = 0.0\n",
        "N_real = int(N_terms)\n",
        "\n",
        "for n in range(N_real):\n",
        "    integral = integral + power[n]\n",
        "print(\"Average Power = %.2f Watts.\" % (integral/2.0))\n",
        "\n",
        "#Nyquist frequency is 1/2 the sampling rate frequency\n",
        "f_nyquist = 0.5*(1.0/dt)\n",
        "print(\"Nyquist frequency = %.2f Hz.\" % f_nyquist)\n",
        "\n",
        "for i in range(1000):\n",
        "    time[i] = i*T/1000.0\n",
        "    ylow[i] = np.sin(2.0*np.pi*time[i]*f_s)\n",
        "    yhigh[i] = -np.sin(2.0*np.pi*time[i]*(2.0*f_nyquist-f_s))\n"
      ],
      "execution_count": 208,
      "outputs": [
        {
          "output_type": "stream",
          "text": [
            "Average Power = 1.36 Watts.\n",
            "Nyquist frequency = 50.00 Hz.\n"
          ],
          "name": "stdout"
        }
      ]
    },
    {
      "cell_type": "code",
      "metadata": {
        "id": "dQci43Apeje3",
        "outputId": "f6133f80-6e82-4df6-f0e6-f2aa64b20a15",
        "colab": {
          "base_uri": "https://localhost:8080/"
        }
      },
      "source": [
        "start = timer()\n",
        "N_fft = len(y)\n",
        "yfft = fft(y)\n",
        "yfftReal = 2.0/N_fft*yfft.real\n",
        "yfftImag = 2.0/N_fft*yfft.imag\n",
        "powerfft = 4.0/N_fft**2*abs(yfft)**2\n",
        "end = timer()\n",
        "print (\"Python: \",(end-start))\n",
        "print(\"Ratio = \",btime/(end-start))\n",
        "\n",
        "for i in range(N_terms):\n",
        "    print (ytReal[i],yfftReal[i],ytImag[i],yfftImag[i],power[i],powerfft[i])\n",
        "    "
      ],
      "execution_count": 209,
      "outputs": [
        {
          "output_type": "stream",
          "text": [
            "Python:  0.0004226059991196962\n",
            "Ratio =  455.9725829762785\n",
            "1.0486645721367653 1.0486635721367652 1e-06 -0.0 1.0996973848557852 1.0996952875266406\n",
            "-0.864585381457186 -0.8645863814571851 -0.32454833671806393 0.3245493367180633 0.8528395046959296 0.852841882965364\n",
            "0.4402161617174964 0.4402151617174967 0.4474703970864946 -0.4474693970864944 0.3940200253060301 0.39401824993491247\n",
            "-0.010854059274104943 -0.010855059274105213 -0.33557068628894204 0.33557168628894185 0.11272549609915734 0.11272618895064834\n",
            "-0.21260921511349506 -0.21261021511349504 0.08076571807409205 -0.080764718074092 0.051725779567200134 0.05172604325619419\n",
            "0.17845181195238444 0.1784508119523841 0.1273504431371036 -0.12734944313710408 0.04806318455630584 0.048062572953795665\n",
            "-0.009701997452690046 -0.009702997452690309 -0.16396778685836383 0.1639687868583639 0.026979563881801834 0.026979911223370484\n",
            "-0.12186040180764034 -0.12186140180764034 0.06054516284366198 -0.06054416284366191 0.0185156742724851 0.018515796904963022\n",
            "0.10828475021051723 0.10828375021051748 0.06717195799469088 -0.06717095799469079 0.016237659068994627 0.016237308157578255\n",
            "-0.0043220112884059985 -0.00432301128840592 -0.11545722190226433 0.11545822190226436 0.013349049870965815 0.0133492894314322\n",
            "-0.08158665120348212 -0.08158765120348202 0.04634513496342493 -0.046344134963424946 0.008804253189376722 0.008804323674409188\n",
            "0.08384302969863777 0.0838420296986381 0.040721068583682705 -0.04072006858368283 0.008687859055643645 0.008687609929447147\n",
            "-0.0069950177455000585 -0.006996017745500002 -0.0823584373006787 0.08235943730067893 0.006831842467869685 0.006832021176779815\n",
            "-0.06402365400053253 -0.06402465400053224 0.04102707236378094 -0.04102607236378067 0.005782248938322823 0.005782294933486036\n",
            "0.06767158326837461 0.06767058326837451 0.03389395961180454 -0.03389295961180464 0.005728243680215196 0.005728040551129429\n",
            "-0.007747685459157186 -0.00774868545915709 -0.06500870925618175 0.06500970925618162 0.004286158909128807 0.004286304423918217\n",
            "-0.054389122620911216 -0.05439012262091095 0.027088042206331174 -0.027087042206331458 0.0036919386900444956 0.00369199329420531\n",
            "0.05733467451419665 0.057333674514196846 0.026849974742176628 -0.026848974742176637 0.004008186045304394 0.004008017678005903\n",
            "-0.005007024574186248 -0.005008024574186193 -0.05671024803683814 0.056711248036838496 0.003241122527486209 0.0032412459640314703\n",
            "-0.04232069111548232 -0.04232169111548195 0.0321595944105456 -0.032158594410547 0.0028252804091428597 0.002825300733336329\n",
            "0.055244688644270096 0.055243688644270164 0.019989102321658424 -0.01998810232165872 0.0034515398350280753 0.003451389369446163\n",
            "-0.005478241660652213 -0.005479241660651925 -0.05069371009381625 0.050694710093816084 0.002599863374768393 0.002599975720671881\n",
            "-0.03887664439003601 -0.03887764439003608 0.01922301190788801 -0.019222011907888012 0.0018809176658401228 0.0018809569751050922\n",
            "0.03947276256765547 0.03947176256765555 0.019546419887595014 -0.019545419887595162 0.001940161515144673 0.001940043478779774\n",
            "-0.007791217112411114 -0.007792217112411117 -0.036735910876643775 0.03673691087664349 0.0014102302120294421 0.0014103192682853993\n",
            "-0.026129005258433403 -0.0261300052584334 0.029025296848620753 -0.029024296848620828 0.0015251927729457943 0.001525186982362618\n",
            "0.036416816347183446 0.03641581634718341 0.013661043397443009 -0.013660043397443158 0.0015128086195713086 0.0015127084658518209\n",
            "-0.005608466306392715 -0.005609466306392719 -0.03686766836899127 0.036868668368991324 0.0013906798652758615 0.0013907648195452163\n",
            "-0.03122114677470391 -0.031222146774703995 0.02566448664185831 -0.025663486641858288 0.0016334258805177282 0.0016334369958379978\n",
            "0.03500691495937599 0.03500591495937577 0.01324134062635234 -0.013240340626352366 0.0014008171965560713 0.0014007207020448856\n",
            "-0.010967557987215519 -0.010968557987215577 -0.03182586420311326 0.03182686420311324 0.0011331729604779407 0.0011332585493223214\n",
            "-0.025299103520351637 -0.025300103520351787 0.017426099667364896 -0.01742509966736483 0.0009437135885504036 0.0009437293365581146\n",
            "0.02719969017358058 0.027198690173579974 0.010418641037260914 -0.010417641037261309 0.0008483712266020732 0.0008482959919396268\n",
            "-0.0034415450188394325 -0.003442545018839525 -0.031342590896026895 0.03134359089602709 0.0009942022361924066 0.000994271806464249\n",
            "-0.02428631898843507 -0.024287318988436706 0.01911307373583173 -0.019112073735833873 0.0009551348776393626 0.0009551452261300292\n",
            "0.02410947672167969 0.02410847672167957 0.009188570932817431 -0.009187570932817413 0.0006656967035806322 0.0006656301094853168\n",
            "-0.006702373186905869 -0.006703373186905955 -0.026640342683934944 0.026641342683934612 0.0007546296646540409 0.0007546963520857658\n",
            "-0.023519904200583582 -0.02352090420058372 0.020537200062522323 -0.02053620006252198 0.000974962480012696 0.0009749684474209646\n",
            "0.02716848802703836 0.027167488027036994 0.00711258673723906 -0.00711158673723977 0.0007887156317700755 0.0007886470716204832\n",
            "-0.003720066131290092 -0.003721066131289566 -0.021768478900774085 0.021769478900774172 0.0004877055656746181 0.0004877565447646821\n"
          ],
          "name": "stdout"
        }
      ]
    },
    {
      "cell_type": "code",
      "metadata": {
        "id": "023-6E1Heje6",
        "outputId": "f6cd459c-9fb7-4fac-be7d-d396208f28a2",
        "colab": {
          "base_uri": "https://localhost:8080/",
          "height": 681
        }
      },
      "source": [
        "fig2, axs2 = plt.subplots(nrows=2, ncols=2, figsize=(8,11))\n",
        "\n",
        "axs2[0,0].plot(t,y,'.-')\n",
        "axs2[0,0].set_ylabel('Y')\n",
        "axs2[0,0].set_xlabel('Frequency')\n",
        "axs2[0,0].set_ylim(-1.5,3)\n",
        "\n",
        "axs2[0,1].plot(f,yfftReal[0:N_terms],'r-')\n",
        "axs2[0,1].plot(f,ytReal,'.')\n",
        "axs2[0,1].set_ylabel('Real')\n",
        "axs2[0,1].set_xlabel('Frequency')\n",
        "axs2[0,1].set_ylim(-1.5,1.5)\n",
        "\n",
        "axs2[1,0].plot(f,-yfftImag[0:N_terms],'r-')\n",
        "axs2[1,0].plot(f,ytImag,'.')\n",
        "axs2[1,0].set_ylabel('Imaginary')\n",
        "axs2[1,0].set_xlabel('Frequency')\n",
        "axs2[1,0].set_ylim(-1.5,1.5)\n",
        "\n",
        "axs2[1,1].plot(f,powerfft[0:N_terms],'r-')\n",
        "axs2[1,1].plot(f,power,'.')\n",
        "axs2[1,1].set_ylabel('Power')\n",
        "axs2[1,1].set_xlabel('Frequency')\n",
        "axs2[1,1].set_ylim(-1.5,1.5)"
      ],
      "execution_count": 210,
      "outputs": [
        {
          "output_type": "execute_result",
          "data": {
            "text/plain": [
              "(-1.5, 1.5)"
            ]
          },
          "metadata": {
            "tags": []
          },
          "execution_count": 210
        },
        {
          "output_type": "display_data",
          "data": {
            "image/png": "[encoded data removed]",
            "text/plain": [
              "<Figure size 576x792 with 4 Axes>"
            ]
          },
          "metadata": {
            "tags": [],
            "needs_background": "light"
          }
        }
      ]
    },
    {
      "cell_type": "markdown",
      "metadata": {
        "id": "3kMjePakrJH9"
      },
      "source": [
        "\n",
        " We would expect one of the  𝑏𝑛  values to be non-zero, and the rest zero. \n",
        "When using 1000 samples, our Nyquist frequency is 50.0 Hz. I played with the N_terms a lot and ended up usuing about 40 to give a close approximation to the original signal."
      ]
    },
    {
      "cell_type": "markdown",
      "metadata": {
        "id": "7NqNJNwgf4FS"
      },
      "source": [
        "## Question 2 - Frogs and Lily Pads"
      ]
    },
    {
      "cell_type": "markdown",
      "metadata": {
        "id": "G3C8kEgUf4FT"
      },
      "source": [
        "Modify the Jupyter Notebook called frogger.ipynb to include the possibility that the frog can jump in either direction (not just forward). Use the following algorithm:\n",
        "\n",
        "From wherever the frog is currently sitting (i.e. anywhere from the starting position to the last lily pad), it can jump to any other available position, including back to the starting position, or to the other side of the stream.  The frog should continue jumping until that moment when it gets to the other side of the stream.  The probability should be uniform/equal for jumping to any available position.\n",
        "\n",
        "The goal here is to calculate the average number of jumps, as function of the number of lily pads.\n",
        "\n",
        "Does the final result surprise you?  \n",
        "\n",
        "As a final check that your simulation is reasonable, plot the DISTRIBUTION of the number of jumps taken for N$_{lily~pads}$ = 30."
      ]
    },
    {
      "cell_type": "code",
      "metadata": {
        "id": "FrCVY7mYknXo"
      },
      "source": [
        "import numpy as np\n",
        "import matplotlib.pyplot as plt\n",
        "import scipy.stats as stats\n",
        "import random"
      ],
      "execution_count": 109,
      "outputs": []
    },
    {
      "cell_type": "code",
      "metadata": {
        "id": "1oi6CjxFknX7"
      },
      "source": [
        "n = 10 #set number lilypads"
      ],
      "execution_count": 110,
      "outputs": []
    },
    {
      "cell_type": "code",
      "metadata": {
        "id": "E6s6f2UbknYK"
      },
      "source": [
        "random.seed(1)"
      ],
      "execution_count": 111,
      "outputs": []
    },
    {
      "cell_type": "code",
      "metadata": {
        "id": "2unOECMOknYR"
      },
      "source": [
        "start = 0\n",
        "jumpsum = 0\n",
        "total_jumps = 0\n",
        "n_trys = 10000\n",
        "\n",
        "x = []\n",
        "y = []\n",
        "eval = []\n",
        "evalr = []\n",
        "evalr2 = []\n",
        "evalr3 = []\n",
        "sigma = []\n",
        "hist_vals= []"
      ],
      "execution_count": 112,
      "outputs": []
    },
    {
      "cell_type": "code",
      "metadata": {
        "id": "WrP5Qoy6knYb",
        "outputId": "2e8b291e-5d65-4c87-a06a-c3d325221aed",
        "colab": {
          "base_uri": "https://localhost:8080/"
        }
      },
      "source": [
        "for npad in range(1,n+1): \n",
        "\n",
        "    if (npad == 1):\n",
        "        eval.append(1)\n",
        "        evalr.append(1)\n",
        "    else:\n",
        "        sum = 0.0\n",
        "        for i in range(1,npad):\n",
        "            #print(i,npad,eval[npad-i-1])\n",
        "            sum = sum + 1.0/npad*(1.0+eval[npad-i-1])\n",
        "        sum = sum + 1.0/npad\n",
        "        eval.append(sum)\n",
        "        #evalr.append(eval[npad-1]/npad)\n",
        "        evalr.append(eval[npad-1])\n",
        "    #print(\"Theory: \",npad,eval[npad-1])\n",
        "    \n",
        "    sum = 0.0\n",
        "    for i in range(1,npad+1):\n",
        "        sum = sum + 1.0/i\n",
        "    evalr2.append(sum)\n",
        "    \n",
        "    x.append(npad)\n",
        "    \n",
        "    sum2 = 1.0/stats.hmean(x)*npad\n",
        "    evalr3.append(sum2)\n",
        "    \n",
        "    #print (npad,sum2)\n",
        "    #endpoint is set equal to npad index\n",
        "    #simulate ntries times\n",
        "    end = npad\n",
        "    #print(\"New being npad: \", npad)\n",
        "    for j in range(n_trys):\n",
        "        while start < npad:\n",
        "            #chose random number between 1,5 (in a 4 pad eample) but when cast \n",
        "            #to an int it is a number either 1,2,3,4\n",
        "            #this must be modified to allow frog to jump backwards (-2-1,1,2 are his new options)\n",
        "            #print(\"random number start: \", (0-start)+1)\n",
        "            #print(\"random number end: \",(end-start+1))\n",
        "            jump = int(random.uniform((0-start)+1,(end-start+1)))\n",
        "            #print (\"Jump = \",jump)\n",
        "            if(jump < 0):\n",
        "                #print(\"Less\")\n",
        "                #print (\"Jump = \",jump)\n",
        "                start = start + jump \n",
        "                #get current pad\n",
        "                #print (\"Now at \",start)\n",
        "                jumpsum = jumpsum + 1\n",
        "            elif(jump > 0):\n",
        "                #print(\"Greater\")\n",
        "                #print (\"Jump = \",jump)\n",
        "                start = start + jump\n",
        "                #get current pad\n",
        "                #print (\"Now at \",start)\n",
        "                jumpsum = jumpsum + 1\n",
        "        if(npad == 30):\n",
        "          hist_vals.append(jumpsum)\n",
        "\n",
        "        start = 0\n",
        "        #print (\"j = %d, Total_jumps = %d\" % (j,jumpsum))\n",
        "        total_jumps = total_jumps + jumpsum\n",
        "        jumpsum = 0\n",
        "    \n",
        "    #print (npad,total_jumps,n_trys)\n",
        "\n",
        "    expectation_value = total_jumps/n_trys*1.0\n",
        "    y.append(expectation_value)\n",
        "    sigma.append(expectation_value*1/np.sqrt(n_trys))\n",
        "    total_jumps = 0\n",
        "    \n",
        "    print (\"Expectation value for n = %d is %f\" % (npad,expectation_value))\n",
        "    "
      ],
      "execution_count": 114,
      "outputs": [
        {
          "output_type": "stream",
          "text": [
            "Expectation value for n = 1 is 1.000000\n",
            "Expectation value for n = 2 is 1.489100\n",
            "Expectation value for n = 3 is 1.842300\n",
            "Expectation value for n = 4 is 2.579700\n",
            "Expectation value for n = 5 is 3.467600\n",
            "Expectation value for n = 6 is 4.319300\n",
            "Expectation value for n = 7 is 5.360700\n",
            "Expectation value for n = 8 is 6.220900\n",
            "Expectation value for n = 9 is 7.282500\n",
            "Expectation value for n = 10 is 8.267400\n"
          ],
          "name": "stdout"
        }
      ]
    },
    {
      "cell_type": "code",
      "metadata": {
        "id": "zOByjvhbknYo",
        "outputId": "3768dea9-8d2a-49cb-fd22-9ab5820a3b5f",
        "colab": {
          "base_uri": "https://localhost:8080/",
          "height": 747
        }
      },
      "source": [
        "def fitfunction(x,*paramlist):\n",
        "    return paramlist[0]+paramlist[1]*x+paramlist[2]*x*x+paramlist[3]*x*x*x\n",
        "\n",
        "\n",
        "fig = plt.figure(figsize=(15,12))\n",
        "ax1 = fig.add_subplot(111)\n",
        "\n",
        "ax1.set_title(\"Frog Problem\")\n",
        "ax1.set_xlabel('N')\n",
        "ax1.set_ylabel('Expected Number of Jumps / N')\n",
        "ax1.set_xlim(0,n+1)\n",
        "#ax1.set_yscale(\"log\")\n",
        "#ax1.set_xscale(\"log\")\n",
        "ax1.grid(True)\n",
        "\n",
        "ax1.errorbar(x,y,yerr=sigma,fmt='o')\n",
        "#ax1.plot(x,evalr,'r--')\n",
        "#ax1.plot(x,evalr2,'b--')\n",
        "#ax1.plot(x,evalr3,'g--')\n"
      ],
      "execution_count": null,
      "outputs": [
        {
          "output_type": "execute_result",
          "data": {
            "text/plain": [
              "<ErrorbarContainer object of 3 artists>"
            ]
          },
          "metadata": {
            "tags": []
          },
          "execution_count": 25
        },
        {
          "output_type": "display_data",
          "data": {
            "image/png": "[encoded data removed]",
            "text/plain": [
              "<Figure size 1080x864 with 1 Axes>"
            ]
          },
          "metadata": {
            "tags": [],
            "needs_background": "light"
          }
        }
      ]
    },
    {
      "cell_type": "markdown",
      "metadata": {
        "id": "Q8lSKqK-M6p5"
      },
      "source": [
        "The abover graph shows the simulation with 10000 tries usuing only 10 lilypads\n"
      ]
    },
    {
      "cell_type": "markdown",
      "metadata": {
        "id": "-jpcL1tDYLA4"
      },
      "source": [
        "This data is surprising to me. I expected the number of jumps to grow exponentially when a frog has the ability to jump backwards as well. I thought the frogs jumps would often exceed the number of lilypads. Secondly, when compared with a frog that can only jump forward, we see this simulations slope increase as the number of lilypads increase, while a forward jumping frog shows a decrease in slope as the number of lilypads increases."
      ]
    },
    {
      "cell_type": "markdown",
      "metadata": {
        "id": "02uD_voU6idQ"
      },
      "source": [
        "The following histragram is done with a simulation that runs 100 times and plots the number of jumps attained during each simulation run with 30 lilypads. The second set of graphs adjust the data for easier readability"
      ]
    },
    {
      "cell_type": "code",
      "metadata": {
        "id": "OcYaBVZkcbfW",
        "outputId": "1cc16537-d8a2-46ae-9fd6-ef3c82293f95",
        "colab": {
          "base_uri": "https://localhost:8080/",
          "height": 332
        }
      },
      "source": [
        "print(hist_vals)\n",
        "plt.hist(hist_vals)\n",
        "plt.title(\"Number of Jumps with 30 Lilypads\")\n",
        "plt.xlabel('Avg Number of Jumps')\n",
        "plt.ylabel('Frequency in Simulation')\n",
        "plt.show()"
      ],
      "execution_count": null,
      "outputs": [
        {
          "output_type": "stream",
          "text": [
            "[93, 2, 32, 19, 8, 8, 56, 47, 58, 10, 37, 2, 28, 21, 14, 20, 11, 46, 18, 4, 37, 37, 132, 18, 47, 1, 16, 10, 12, 63, 30, 100, 39, 5, 55, 22, 16, 15, 1, 19, 9, 16, 3, 27, 2, 7, 69, 61, 2, 50, 42, 8, 80, 4, 29, 1, 45, 32, 46, 28, 23, 15, 11, 13, 2, 11, 42, 1, 32, 11, 62, 10, 18, 24, 2, 13, 6, 106, 8, 12, 32, 11, 4, 7, 25, 36, 38, 3, 8, 31, 13, 29, 52, 36, 17, 50, 3, 57, 13, 6]\n"
          ],
          "name": "stdout"
        },
        {
          "output_type": "display_data",
          "data": {
            "image/png": "[encoded data removed]",
            "text/plain": [
              "<Figure size 432x288 with 1 Axes>"
            ]
          },
          "metadata": {
            "tags": [],
            "needs_background": "light"
          }
        }
      ]
    },
    {
      "cell_type": "code",
      "metadata": {
        "id": "4gHzbWcJ7Qln",
        "outputId": "fa26d09d-c99d-4cb5-ba87-b5f5fc4327b5",
        "colab": {
          "base_uri": "https://localhost:8080/",
          "height": 312
        }
      },
      "source": [
        "less_than_20 = []\n",
        "for i in hist_vals:\n",
        "  if i < 20:\n",
        "    less_than_20.append(i)\n",
        "print(less_than_20)\n",
        "plt.hist(less_than_20)\n",
        "plt.title(\"Number of Jumps with 30 Lilypads (Jumps < 20\")\n",
        "plt.xlabel('Avg Number of Jumps')\n",
        "plt.ylabel('Frequency in Simulation')\n",
        "plt.show()"
      ],
      "execution_count": null,
      "outputs": [
        {
          "output_type": "stream",
          "text": [
            "[2, 19, 8, 8, 10, 2, 14, 11, 18, 4, 18, 1, 16, 10, 12, 5, 16, 15, 1, 19, 9, 16, 3, 2, 7, 2, 8, 4, 1, 15, 11, 13, 2, 11, 1, 11, 10, 18, 2, 13, 6, 8, 12, 11, 4, 7, 3, 8, 13, 17, 3, 13, 6]\n"
          ],
          "name": "stdout"
        },
        {
          "output_type": "display_data",
          "data": {
            "image/png": "[encoded data removed]",
            "text/plain": [
              "<Figure size 432x288 with 1 Axes>"
            ]
          },
          "metadata": {
            "tags": [],
            "needs_background": "light"
          }
        }
      ]
    },
    {
      "cell_type": "code",
      "metadata": {
        "id": "QpJWpoxg8YGI",
        "outputId": "bec70f21-2f4c-4bae-9b5d-eb348754167c",
        "colab": {
          "base_uri": "https://localhost:8080/",
          "height": 312
        }
      },
      "source": [
        "less_than_20 = []\n",
        "for i in hist_vals:\n",
        "  if i > 20 and i < 60:\n",
        "    less_than_20.append(i)\n",
        "print(less_than_20)\n",
        "plt.hist(less_than_20)\n",
        "plt.title(\"Number of Jumps with 30 Lilypads (20 < Jumps < 60\")\n",
        "plt.xlabel('Avg Number of Jumps')\n",
        "plt.ylabel('Frequency in Simulation')\n",
        "plt.show()"
      ],
      "execution_count": null,
      "outputs": [
        {
          "output_type": "stream",
          "text": [
            "[32, 56, 47, 58, 37, 28, 21, 46, 37, 37, 47, 30, 39, 55, 22, 27, 50, 42, 29, 45, 32, 46, 28, 23, 42, 32, 24, 32, 25, 36, 38, 31, 29, 52, 36, 50, 57]\n"
          ],
          "name": "stdout"
        },
        {
          "output_type": "display_data",
          "data": {
            "image/png": "[encoded data removed]",
            "text/plain": [
              "<Figure size 432x288 with 1 Axes>"
            ]
          },
          "metadata": {
            "tags": [],
            "needs_background": "light"
          }
        }
      ]
    },
    {
      "cell_type": "code",
      "metadata": {
        "id": "oGW-aRPY86oy",
        "outputId": "4625a785-3e22-49e0-c9ca-23f333a8d8c0",
        "colab": {
          "base_uri": "https://localhost:8080/"
        }
      },
      "source": [
        "less20 = 0\n",
        "less40 = 0\n",
        "less60 = 0\n",
        "less80= 0\n",
        "greater80= 0\n",
        "for i in hist_vals:\n",
        "  if i < 20 :\n",
        "    less20 += 1\n",
        "  elif i < 40 :\n",
        "    less40 += 1\n",
        "  elif i < 60 :\n",
        "    less60 += 1\n",
        "  elif i < 80 :\n",
        "    less80 += 1\n",
        "  else:\n",
        "    greater80 += 1\n",
        "\n",
        "print(\"Between 0 - 20 jumps\", less20)\n",
        "print(\"Between 20 - 40 jumps\", less40)\n",
        "print(\"Between 40 - 60 jumps\", less60)\n",
        "print(\"Between 60 - 80 jumps\", less80)\n",
        "print(\"Greater than 80 jumps\", greater80)"
      ],
      "execution_count": null,
      "outputs": [
        {
          "output_type": "stream",
          "text": [
            "Between 0 - 20 jumps 53\n",
            "Between 20 - 40 jumps 24\n",
            "Between 40 - 60 jumps 14\n",
            "Between 60 - 80 jumps 4\n",
            "Greater than 80 jumps 5\n"
          ],
          "name": "stdout"
        }
      ]
    },
    {
      "cell_type": "markdown",
      "metadata": {
        "id": "zXmtlEElaw1j"
      },
      "source": [
        "## Question 3 - Random Walk"
      ]
    },
    {
      "cell_type": "markdown",
      "metadata": {
        "id": "4r16rwkcf4FW"
      },
      "source": [
        "Begin with the example Jupyter Notebook called drunken_sailor.ipynb  \n",
        "\n",
        "In the first example, we considered random walk in one dimension.  For each step that a sailor took, we sampled from a random Gaussian distribution with a mean value of 0 and a standard deviation of 1.  \n",
        "\n",
        "In this question, we would like to consider a different underlying distribution for the step size.  Instead of using a Gaussian, choose the step size from a Poisson distribution with an average value of 1.  Remember that the Poisson distribution is defined for positive values of $x$ only, and so you will also have to randomly choose the direction of the step.\n",
        "\n",
        "How do the results compare to choosing a Gaussian distribution of step size?  Do your results agree with the predictions of the central limit theorem?"
      ]
    },
    {
      "cell_type": "markdown",
      "metadata": {
        "id": "fw-XIIgF0tOB"
      },
      "source": [
        "### Drunken sailors leaving a pub that is near a ditch ... 1D\n",
        "\n",
        "A random walk is sometimes described with a drunken sailor who takes a step and then forgets which way he was going and then takes another step.  We start our sailors at $x=0$ (the pub). \n",
        "\n",
        "After $N$ steps we expect that the distribution of a bunch \n",
        "of sailors (all leaving the pub at the same time) and moving in 1 dimension is Gaussian in shape. The basic idea here is that sometimes the sailor will move \"forward\", and sometimes they will move \"backward\".  On average, a sailor will take as many forward as backward steps, and thus the average value will be zero.  Sometimes, though, they will take more forward steps, and sometimes they will take more backward steps, and so there will be some variation around the mean of zero.\n",
        "\n",
        "A normalized Gaussian probability distribution with mean $\\mu=0$ and dispersion $\\sigma$  is \n",
        "$$ p(x) = \\frac{1}{\\sqrt{2 \\pi \\sigma^2}} e^{-x^2/(2 \\sigma^2)} $$\n",
        "Here the dispersion (or standard deviation) $\\sigma$ is the the square root of the variance.\n",
        "The variance of a probability distribution with zero mean is\n",
        "$$\\sigma^2 = \\int p(x) x^2 dx $$\n",
        "\n",
        "If the dispersion of a single step is $\\sigma$ then the distribution of sailors after $N$ steps is\n",
        "well described by a probability distribution\n",
        "$$ p(x,N) = \\frac{1}{\\sqrt{2 \\pi \\sigma_N^2}} e^{-x^2/(2 \\sigma_N^2)} $$\n",
        "with $\\sigma_N = \\sqrt{N}\\sigma$.\n",
        "\n",
        "Below we illustrate a code that does a 1-dimensional random walk using a sum of Gaussian distributions.  The point is here that we have $n_{part}$ sailors, and each takes $n_{steps}$ steps.  So, we just need to first calculate the final position for one sailor taking $n_{steps}$ steps, and then do that $n_{part}$ times.\n",
        "\n",
        "The resulting distribution of drunk sailors matches the predicted Gaussian distribution.\n",
        "\n",
        "One really cool extension of this idea is that there is something called the <b> Central Limit Theorem </b> which states that the sum of a bunch of independent variables should (in most cases)\n",
        "be well described by a normal (Gaussian) distribution.\n",
        "\n",
        "See https://en.wikipedia.org/wiki/Central_limit_theorem \n",
        "\n",
        "So as long as each step is generated by a well\n",
        "behaved probability distribution, it does not matter what we use to generate it.  In other words we should\n",
        "get the same behavior using steps generated from a normal distribution as we would if we had flipped a coin at each step, taking a step of equal length  in either direction.  Here *well behaved* means with finite mean and variance.\n"
      ]
    },
    {
      "cell_type": "code",
      "metadata": {
        "id": "4gQFcD7d0tOC"
      },
      "source": [
        "# example making a random walk and showing that the distribution after a number of\n",
        "# steps is a gaussian \n",
        "import numpy as np\n",
        "%matplotlib inline\n",
        "import matplotlib.pyplot as plt\n",
        "from scipy import stats # has lots of distribution functions in it\n",
        "\n",
        "from math import erfc   # complimentary error function \n",
        "\n",
        "# randomly walk nsteps and return the x value\n",
        "# starting at x=0\n",
        "#\n",
        "# each step has zero mean and a variance of 1\n",
        "#\n",
        "# so, sometimes the steps are forward, and sometimes the steps are backwards, and\n",
        "# the LENGTH of each step is variable, according to a Gaussian with a sigma of 1.\n",
        "\n",
        "def walkn(nsteps):  # random walk using a normal distribution for step sizes\n",
        "  #gaus distr that starts at 0, rvs is rnandom variant sample\n",
        "    # r will be an aray with n eleemnts and each elemnt will be a sample \n",
        "    #each eelement in array represents a s\n",
        "    #change to stats.poison.rvs but also account for negative values. \n",
        "    #See the graph you get of final posiitons\n",
        "    r = stats.poisson.rvs(1, size=nsteps) \n",
        "    #print(type(r))\n",
        "    # r is a vector values randomly generated with a normal distribution\n",
        "    ret = 0\n",
        "    for x in r:\n",
        "      ran = random.randint(0,1)\n",
        "      if ran == 0:\n",
        "        ret += x\n",
        "        flag = False\n",
        "      else:\n",
        "        ret -= x\n",
        "        flag = True\n",
        "    return ret  # the sum of the entire vector!  If we just add up all the steps\n",
        "                   # we will get the final position!!!\n",
        "    #new final pos every time we call it \n",
        "\n",
        "# walk npart numbers of particles (or sailors) nsteps and return a vector of x positions\n",
        "# the function that gives us a randomly generated position is walkn\n",
        "#either a single sialor does this multiple times or x sailors doing this once\n",
        "def npart_walkn(npart,nsteps): \n",
        "    xvec = np.zeros(0)\n",
        "    for i in range(npart):\n",
        "        x = walkn(nsteps)  # a single random walk value\n",
        "        xvec = np.append(xvec,x)  # append each random walk to the vector\n",
        "    return xvec  # we return a vector - each element is the final position of a sailors.\n",
        "\n",
        "nsteps = 100 # number of steps\n",
        "npart = 1000 # number of particles (sailors) to let walk around\n",
        "\n",
        "# fill a vector with npart walkers each walking nsteps\n",
        "xvec = npart_walkn(npart,nsteps)\n"
      ],
      "execution_count": null,
      "outputs": []
    },
    {
      "cell_type": "code",
      "metadata": {
        "id": "HKhKjsXn0tOG",
        "outputId": "a3737874-79e5-46f1-eb00-a3e5d4322960",
        "colab": {
          "base_uri": "https://localhost:8080/",
          "height": 306
        }
      },
      "source": [
        "# plot the histogram, i.e., measured distribution of final positions \n",
        "#   after n steps of random walking \n",
        "n, bins, patches = plt.hist(xvec,bins=20,density=True)\n",
        "#\n",
        "# density = True will make it a normalized probability histogram\n",
        "#\n",
        "# this retuns as n the number of values counted, bins is the x values of the bins, \n",
        "# patches is for plotting the histogram\n",
        "#\n",
        "# bins will be the most important thing here - we will use that below\n",
        "plt.xlabel(\"x\",fontsize=22)\n",
        "plt.ylabel(\"p(x)\",fontsize=22)  # probability!\n"
      ],
      "execution_count": null,
      "outputs": [
        {
          "output_type": "execute_result",
          "data": {
            "text/plain": [
              "Text(0, 0.5, 'p(x)')"
            ]
          },
          "metadata": {
            "tags": []
          },
          "execution_count": 65
        },
        {
          "output_type": "display_data",
          "data": {
            "image/png": "[encoded data removed]",
            "text/plain": [
              "<Figure size 432x288 with 1 Axes>"
            ]
          },
          "metadata": {
            "tags": [],
            "needs_background": "light"
          }
        }
      ]
    },
    {
      "cell_type": "markdown",
      "metadata": {
        "id": "Cjaw73PU0tOK"
      },
      "source": [
        "After 100 steps of random walk 1000 particles show a gaussian distribution with width predicted using\n",
        "the square root of the number of steps (and their sizes)."
      ]
    },
    {
      "cell_type": "code",
      "metadata": {
        "id": "I5_b3EZd0tOL",
        "outputId": "373f7f12-1f3a-4215-8dcd-ae7cbfc26574",
        "colab": {
          "base_uri": "https://localhost:8080/",
          "height": 306
        }
      },
      "source": [
        "# check that if we increase the number of particles we get the same answer\n",
        "nsteps = 400 # number of steps\n",
        "npart = 4000   # number of particles to let walk around\n",
        "xvec = npart_walkn(npart,nsteps)\n",
        "\n",
        "# plot the histogram, i.e., measured distribution of final positions after n steps of random walking around\n",
        "n, bins, patches =plt.hist(xvec,bins=30,density=True)\n",
        "plt.xlabel(\"x\",fontsize=22)\n",
        "plt.ylabel(\"p(x)\",fontsize=22)\n",
        "\n"
      ],
      "execution_count": null,
      "outputs": [
        {
          "output_type": "execute_result",
          "data": {
            "text/plain": [
              "Text(0, 0.5, 'p(x)')"
            ]
          },
          "metadata": {
            "tags": []
          },
          "execution_count": 67
        },
        {
          "output_type": "display_data",
          "data": {
            "image/png": "[encoded data removed]",
            "text/plain": [
              "<Figure size 432x288 with 1 Axes>"
            ]
          },
          "metadata": {
            "tags": [],
            "needs_background": "light"
          }
        }
      ]
    },
    {
      "cell_type": "markdown",
      "metadata": {
        "id": "tH2aJfTx0tOU"
      },
      "source": [
        "\n",
        "### Random walk with a ditch\n",
        "\n",
        "If there is a post at $x_p>0$ the fraction of sailors currently past the post after $N$ steps of size chosen with dispersion $\\sigma$ is\n",
        "\n",
        "\\begin{align*}\n",
        " f(x_p,N) &= \\int_{x_p}^\\infty \\frac{1}{\\sqrt{2 \\pi \\sigma_N^2}} e^{-x^2/(2 \\sigma_N^2)} dx \\\\\n",
        " &= \\int_{x_p/(\\sqrt{2}\\sigma_N)}^\\infty \\frac{1}{\\sqrt{\\pi}}e^{-z^2} dz\\\\\n",
        " &= \\frac{1}{2} {\\rm erfc}\\left( \\frac{x_p}{\\sqrt{2}\\sigma_N} \\right)\n",
        "\\end{align*}\n",
        "with $\\sigma_N = \\sqrt{N} \\sigma$.\n",
        "\n",
        "The complimentary error function is defined as\n",
        "$$ {\\rm erfc}(y) \\equiv \\frac{2}{\\pi} \\int_y^\\infty  e^{-t^2} dt $$\n",
        "\n",
        "<img src=\"https://github.com/brash99/phys421/blob/master/JupyterNotebooks/drunken_sailor.png?raw=1\">\n",
        "\n",
        "We now place a ditch at a particular $x$ \n",
        "location, $x_{ditch}$  which we take to be $>0$.   \n",
        "If a drunken sailor steps into the ditch then he can't get out and sleeps there until morning.\n",
        "\n",
        "<ol> \n",
        "<li>\n",
        "We start by computing a probability distribution of remaining sailors that are not in the ditch after a number of steps $N$.\n",
        "It turns out that the probability distribution is not much different than a Gaussian distribution as long as\n",
        "$ \\sqrt{N}\\sigma \\ll x_{ditch} $, but as $N$ increases, the distribution becomes lopsided.  We shoudl make sure the distribution is normalized (integrates to 1),\n",
        "</li>\n",
        "\n",
        "<li>\n",
        "We can now calculate, as a function of of numbers of steps $N$, the fraction of sailors left in the ditch. \n",
        "</li>\n",
        " \n",
        "We can estimate the fraction of drunk sailors that\n",
        "have fallen into the ditch  by integrating the tail of the  probability density distribution in the absence of the ditch. \n",
        "\n",
        "As above we estimate that the fraction of sailors in the ditch after $N$ steps is described with this function \n",
        "$$ f(x_{ditch},N ) \\sim \\frac{1}{2} {\\rm erfc}\\left( \\frac{x_{ditch}}{\\sqrt{2}\\sigma_N} \\right)$$\n",
        "\n",
        "The erfc function is available as *math.erfc()*\n",
        "\n",
        "<li>\n",
        "As a function of the number of steps $N$, we can compare the numerically measured fraction of sailors in the ditch to\n",
        "the function $f(x_{ditch}, N )$\n",
        " computed with the complimentary error function.\n",
        "\n",
        "We will see that the analytical estimate is incorrect. In fact, many more sailors wind up in the ditch!\n",
        "</li>\n",
        "</ol>\n",
        "\n",
        "For N=60 and $x_{ditch}=10$, we that find that about twice as many sailors wind up in the ditch as incorrectly\n",
        "predicted with this formula.\n",
        "\n",
        "Physicists have exploited this analogy to trap atoms in a potential well using thermal motions.\n",
        "\n"
      ]
    },
    {
      "cell_type": "code",
      "metadata": {
        "id": "tYv9SSWb0tOV",
        "outputId": "408ee7ac-a7fe-497d-ef5e-83592bbb7095",
        "colab": {
          "base_uri": "https://localhost:8080/",
          "height": 520
        }
      },
      "source": [
        "def walk_ditch(xditch,nsteps,sigma):  # random walk using a normal distribution for step sizes\n",
        "    #REPLACE this again with poison\n",
        "    r = stats.poisson.rvs(1, size=nsteps) \n",
        "    #print(type(r))\n",
        "    # r is a vector values randomly generated with a normal distribution\n",
        "    z = []\n",
        "    flag = False\n",
        "    for x in r:\n",
        "      ran = random.randint(0,1)\n",
        "      if(ran == 0):\n",
        "        z.append(x)\n",
        "        flag = False\n",
        "      else:\n",
        "        flip = x*-1\n",
        "        z.append(flip)\n",
        "        flag = True  \n",
        "    \n",
        "    xpos = 0.0\n",
        "    for i in range(nsteps):\n",
        "        xpos += z[i]\n",
        "        if xpos>xditch:\n",
        "            return False\n",
        "    return True\n",
        "    \n",
        "def npart_walk_ditch(npart,xditch,nsteps,sigma):\n",
        "    \n",
        "    survive_sum = 0.0\n",
        "    xvec = np.zeros(0)\n",
        "    for i in range(npart):\n",
        "        survive = walk_ditch(xditch,nsteps,sigma)  # a single random walk result\n",
        "        if survive:\n",
        "            survive_sum += 1\n",
        "\n",
        "    survive_prob = survive_sum/npart\n",
        "    return survive_prob\n",
        "\n",
        "nsteps = 100 # number of steps\n",
        "npart = 1000 # number of particles (sailors) to let walk around\n",
        "\n",
        "# fill a vector with npart walkers each walking nsteps\n",
        "\n",
        "sigma = 1.0\n",
        "xditch = 1.0*np.sqrt(nsteps)*sigma\n",
        "\n",
        "N_trials = 1000\n",
        "\n",
        "sprobdist = []\n",
        "\n",
        "for i in range(N_trials):\n",
        "    prob = npart_walk_ditch(npart,xditch,nsteps,sigma)\n",
        "    sprobdist.append(prob)\n",
        "\n",
        "plt.hist(sprobdist,bins=40,density=True)"
      ],
      "execution_count": null,
      "outputs": [
        {
          "output_type": "execute_result",
          "data": {
            "text/plain": [
              "(array([ 0.85106383,  0.42553191,  0.        ,  0.42553191,  1.70212766,\n",
              "         2.55319149,  2.9787234 ,  2.12765957,  3.40425532,  4.68085106,\n",
              "         2.9787234 , 11.4893617 , 10.63829787, 10.63829787, 22.12765957,\n",
              "        11.4893617 , 16.17021277, 31.91489362, 20.42553191, 34.46808511,\n",
              "        20.85106383, 22.9787234 , 29.78723404, 22.12765957, 20.        ,\n",
              "        27.23404255, 14.89361702, 11.4893617 , 17.87234043, 10.63829787,\n",
              "         8.08510638,  9.78723404,  3.82978723,  5.95744681,  3.40425532,\n",
              "         1.27659574,  0.42553191,  2.12765957,  0.85106383,  0.42553191]),\n",
              " array([0.533  , 0.53535, 0.5377 , 0.54005, 0.5424 , 0.54475, 0.5471 ,\n",
              "        0.54945, 0.5518 , 0.55415, 0.5565 , 0.55885, 0.5612 , 0.56355,\n",
              "        0.5659 , 0.56825, 0.5706 , 0.57295, 0.5753 , 0.57765, 0.58   ,\n",
              "        0.58235, 0.5847 , 0.58705, 0.5894 , 0.59175, 0.5941 , 0.59645,\n",
              "        0.5988 , 0.60115, 0.6035 , 0.60585, 0.6082 , 0.61055, 0.6129 ,\n",
              "        0.61525, 0.6176 , 0.61995, 0.6223 , 0.62465, 0.627  ]),\n",
              " <a list of 40 Patch objects>)"
            ]
          },
          "metadata": {
            "tags": []
          },
          "execution_count": 70
        },
        {
          "output_type": "display_data",
          "data": {
            "image/png": "[encoded data removed]",
            "text/plain": [
              "<Figure size 432x288 with 1 Axes>"
            ]
          },
          "metadata": {
            "tags": [],
            "needs_background": "light"
          }
        }
      ]
    },
    {
      "cell_type": "code",
      "metadata": {
        "id": "4GhtYoZm0tOZ",
        "outputId": "953ba025-8b47-47b4-86f3-5acdaa2a6525",
        "colab": {
          "base_uri": "https://localhost:8080/",
          "height": 282
        }
      },
      "source": [
        "#Use the new poson dis to create these graphs \n",
        "#do not need to go to 2D part\n",
        "nstepsarray = np.array([20,40,60,80,100,120,140,160,180,200]) # number of steps\n",
        "npart = 10000 # number of particles (sailors) to let walk around\n",
        "\n",
        "from math import erfc\n",
        "\n",
        "# fill a vector with npart walkers each walking nsteps\n",
        "\n",
        "sigma = 1.0\n",
        "xditch = 10\n",
        "\n",
        "sprobdist = []\n",
        "sprobtheory = []\n",
        "\n",
        "for nsteps in nstepsarray:\n",
        "    prob = npart_walk_ditch(npart,xditch,nsteps,sigma)\n",
        "    sprobdist.append(1-prob)\n",
        "    \n",
        "    sigma_N = np.sqrt(nsteps)*sigma\n",
        "    sprobtheory.append(0.5*erfc(xditch/(np.sqrt(2)*sigma_N)))\n",
        "\n",
        "plt.plot(nstepsarray,sprobdist)\n",
        "plt.plot(nstepsarray,sprobtheory)\n"
      ],
      "execution_count": null,
      "outputs": [
        {
          "output_type": "execute_result",
          "data": {
            "text/plain": [
              "[<matplotlib.lines.Line2D at 0x7fe2e5ea0748>]"
            ]
          },
          "metadata": {
            "tags": []
          },
          "execution_count": 50
        },
        {
          "output_type": "display_data",
          "data": {
            "image/png": "[encoded data removed]",
            "text/plain": [
              "<Figure size 432x288 with 1 Axes>"
            ]
          },
          "metadata": {
            "tags": [],
            "needs_background": "light"
          }
        }
      ]
    },
    {
      "cell_type": "markdown",
      "metadata": {
        "id": "FE4n0qJPj5oa"
      },
      "source": [
        "As we increase in steps for the drunken sailors our data deviates more and more from the gaussian distribution. It seems the gaussian distribution is better suited for this experiment. I do not believe this agrees with the Central limit theorem as my results as the larger my random samples were from the population the less normal my distribution became."
      ]
    }
  ]
}