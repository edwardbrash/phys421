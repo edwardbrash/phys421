{
 "cells": [
  {
   "cell_type": "markdown",
   "metadata": {
    "colab_type": "text",
    "id": "Qgtiv8q8qMAr"
   },
   "source": [
    "# Assignment 1"
   ]
  },
  {
   "cell_type": "code",
   "execution_count": 1,
   "metadata": {
    "colab": {},
    "colab_type": "code",
    "id": "mwTwR5FevKOK"
   },
   "outputs": [],
   "source": [
    "import numpy as np\n",
    "import pandas as pd\n",
    "import matplotlib.pyplot as plt\n",
    "import statsmodels.formula.api as sm\n",
    "from statsmodels.stats.anova import anova_lm\n",
    "from statsmodels.api import add_constant\n",
    "import scipy.stats as stats\n",
    "from sklearn.linear_model import LinearRegression\n",
    "import math"
   ]
  },
  {
   "cell_type": "markdown",
   "metadata": {
    "colab_type": "text",
    "id": "Ynh-atz9qMAs"
   },
   "source": [
    "## Question 1 - Root finding using bisection method"
   ]
  },
  {
   "cell_type": "markdown",
   "metadata": {
    "colab_type": "text",
    "id": "rHl44gBOqMAt"
   },
   "source": [
    "Begin by considering the polynomial:\n",
    "\n",
    "$f(x) = 1.80 - 4.05x + 0.40x^2 + x^3$\n",
    " \n",
    "which has three real roots at $x=-2.5,0.5,1.5$.\n",
    "\n",
    "a)\tCalculate the roots of this polynomial using the bisection algorithm. You can start with the file called root_find_basic.ipynb and then modify as appropriate.  The program should fill an array of 10,000 data points between $x=-4.0$ and $x=4.0$.  Then, the program should do a sparse search of this array, i.e. once every n_search elements, to look for sign changes, and subsequently using the bisection algorithm to find the root.  The program should also keep track of the time taken to find the roots.\n",
    "\n",
    "b)\tCreate a plot of the time taken to find the roots vs. the sparsification size (n_search), for n_search values between 1 and 10,000.  You can start with root_find_complete.ipynb and then modify it.\n",
    "\n",
    "c)\tDeduce the source of the various patterns that you observe in part b).  Hint:  You might consider adjusting the number of data points in the original array, as well as the coefficients of the polynomial, slightly.\n",
    "\n",
    "d)\tModify the code created in part a) to allow for the possibility to find the roots of other polynomials or functions."
   ]
  },
  {
   "cell_type": "markdown",
   "metadata": {
    "colab_type": "text",
    "id": "8NkhNZRczAne"
   },
   "source": [
    "a)\n",
    "Found root at x = -2.400000\n",
    "\n",
    "Found root at x = 0.500000\n",
    "\n",
    "Found root at x = 1.500000\n",
    "\n",
    "Total number of roots found = 3\n",
    "\n",
    "Time to find roots = 0.0013654232025146484\n"
   ]
  },
  {
   "cell_type": "markdown",
   "metadata": {
    "colab_type": "text",
    "id": "af0e6pzFywoT"
   },
   "source": [
    "![image.png](data:image/png;base64,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)"
   ]
  },
  {
   "cell_type": "markdown",
   "metadata": {
    "colab_type": "text",
    "id": "sjQr68lCy7Fx"
   },
   "source": [
    "b)"
   ]
  },
  {
   "cell_type": "markdown",
   "metadata": {
    "colab_type": "text",
    "id": "xLFuKNauyafT"
   },
   "source": [
    "![image.png](data:image/png;base64,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)\n"
   ]
  },
  {
   "cell_type": "markdown",
   "metadata": {
    "colab_type": "text",
    "id": "QBHGc78F03DA"
   },
   "source": [
    "c) If you increase the number of data points the time will not vary as much with any coefficients. The data points being at 10,000 will yield interesting results around the 3,500 interval.\n"
   ]
  },
  {
   "cell_type": "markdown",
   "metadata": {
    "colab_type": "text",
    "id": "jf4R_q9b9NK9"
   },
   "source": [
    "d)\n"
   ]
  },
  {
   "cell_type": "markdown",
   "metadata": {
    "colab_type": "text",
    "id": "ADjig4NKPRil"
   },
   "source": [
    "The modification of the generator function seen below allows for the user to modify the length of the tuple par, which will allow polynomials to the nth degree."
   ]
  },
  {
   "cell_type": "code",
   "execution_count": 2,
   "metadata": {
    "colab": {},
    "colab_type": "code",
    "id": "31CRm9FrqN4U"
   },
   "outputs": [],
   "source": [
    "def generator_function(x,*par):\n",
    "  y = 0\n",
    "  for i in range(len(par)):\n",
    "    z = par[i]*x**i\n",
    "    y = y + z\n",
    "  return y"
   ]
  },
  {
   "cell_type": "markdown",
   "metadata": {
    "colab_type": "text",
    "id": "gBeT_BgmqMAw"
   },
   "source": [
    "## Question 2 - Fitting data"
   ]
  },
  {
   "cell_type": "markdown",
   "metadata": {
    "colab_type": "text",
    "id": "Up02-GPJqMAw"
   },
   "source": [
    "a) Go to the following site and retrieve data on the density of air as a function of altitude:\n",
    "\n",
    "http://www.engineeringtoolbox.com/standard-atmosphere-d_604.html\n",
    "\n",
    "Make sure to use the second table, in SI units.  \n",
    "\n",
    "b) Modify the Jupyter Notebook that we went through in class for Linear Regression to fit the density data as a function of altitude using a function of the form:\n",
    "\n",
    "$f(x)= Ae^{Bx+C\\sqrt{x}}$\n",
    "\n",
    "c) Determine the parameters A, B, and C, as well as the uncertainties on these parameters.\n",
    "\n",
    "d) Plot the fit, including 95% confidence interval error bands, along with the data.  What is your evaluation of the quality of the fit?  Can you think of a different approach that might yield a better fit?"
   ]
  },
  {
   "cell_type": "markdown",
   "metadata": {
    "colab_type": "text",
    "id": "cx5EiekMZSGl"
   },
   "source": [
    "a)\n"
   ]
  },
  {
   "cell_type": "code",
   "execution_count": 3,
   "metadata": {
    "colab": {
     "base_uri": "https://localhost:8080/",
     "height": 391
    },
    "colab_type": "code",
    "id": "Gt28giiSqMAx",
    "outputId": "e7adb18e-f9dc-4211-9bb2-34d0e409bfed"
   },
   "outputs": [
    {
     "name": "stdout",
     "output_type": "stream",
     "text": [
      "    Altitude   Density\n",
      "0      -1000  1.347000\n",
      "1          0  1.225000\n",
      "2       1000  1.112000\n",
      "3       2000  1.007000\n",
      "4       3000  0.909300\n",
      "5       4000  0.819400\n",
      "6       5000  0.736400\n",
      "7       6000  0.660100\n",
      "8       7000  0.590000\n",
      "9       8000  0.525800\n",
      "10      9000  0.467100\n",
      "11     10000  0.413500\n",
      "12     15000  0.194800\n",
      "13     20000  0.088910\n",
      "14     25000  0.040080\n",
      "15     30000  0.018410\n",
      "16     40000  0.003996\n",
      "17     50000  0.001027\n",
      "18     60000  0.000310\n",
      "19     70000  0.000083\n",
      "20     80000  0.000018\n"
     ]
    }
   ],
   "source": [
    "import pandas as pd\n",
    "df = pd.DataFrame ([(-1000,1.347),(0,1.225),(1000,1.112),(2000,1.007),(3000,0.9093),(4000,0.8194),(5000,0.7364),(6000,0.6601),(7000,0.5900),(8000,0.5258),(9000,0.4671),(10000,0.4135),(15000,0.1948),(20000,0.08891),(25000,0.04008),(30000,0.01841),(40000,0.003996),(50000,0.001027),(60000,0.0003097),(70000,0.00008283),(80000,0.00001846)],\n",
    "                  columns=['Altitude','Density'])\n",
    "print(df)"
   ]
  },
  {
   "cell_type": "markdown",
   "metadata": {
    "colab_type": "text",
    "id": "7pfm0-B6kTIv"
   },
   "source": [
    "b)\n"
   ]
  },
  {
   "cell_type": "code",
   "execution_count": 4,
   "metadata": {
    "colab": {
     "base_uri": "https://localhost:8080/",
     "height": 295
    },
    "colab_type": "code",
    "id": "2irR3CUFu495",
    "outputId": "2d6a295b-83e5-47ff-f349-c17ee6f0e89c"
   },
   "outputs": [
    {
     "data": {
      "image/png": "[encoded data removed]",
      "text/plain": [
       "<Figure size 432x288 with 1 Axes>"
      ]
     },
     "metadata": {
      "needs_background": "light"
     },
     "output_type": "display_data"
    }
   ],
   "source": [
    "# plot the data\n",
    "\n",
    "df.plot('Altitude','Density',style='o')\n",
    "plt.ylabel('Density')\n",
    "plt.title('Altitude(m) versus Density(kg/m^3)')\n",
    "plt.show()"
   ]
  },
  {
   "cell_type": "code",
   "execution_count": 5,
   "metadata": {
    "colab": {
     "base_uri": "https://localhost:8080/",
     "height": 793
    },
    "colab_type": "code",
    "id": "bbhEaH0FqMAz",
    "outputId": "cbe32f8b-2ab0-4ca4-c78b-8b67cc6f9580"
   },
   "outputs": [
    {
     "name": "stderr",
     "output_type": "stream",
     "text": [
      "/usr/lib/python3.6/site-packages/ipykernel_launcher.py:10: RuntimeWarning: invalid value encountered in sqrt\n",
      "  # Remove the CWD from sys.path while we load stuff.\n",
      "/usr/lib/python3.6/site-packages/ipykernel_launcher.py:10: RuntimeWarning: overflow encountered in exp\n",
      "  # Remove the CWD from sys.path while we load stuff.\n",
      "/usr/local/lib64/python3.6/site-packages/scipy/optimize/minpack.py:829: OptimizeWarning: Covariance of the parameters could not be estimated\n",
      "  category=OptimizeWarning)\n"
     ]
    },
    {
     "ename": "LinAlgError",
     "evalue": "SVD did not converge",
     "output_type": "error",
     "traceback": [
      "\u001b[0;31m---------------------------------------------------------------------------\u001b[0m",
      "\u001b[0;31mLinAlgError\u001b[0m                               Traceback (most recent call last)",
      "\u001b[0;32m<ipython-input-5-5138f41fc6e2>\u001b[0m in \u001b[0;36m<module>\u001b[0;34m\u001b[0m\n\u001b[1;32m     16\u001b[0m \u001b[0mxi\u001b[0m \u001b[0;34m=\u001b[0m \u001b[0mnp\u001b[0m\u001b[0;34m.\u001b[0m\u001b[0mlinspace\u001b[0m\u001b[0;34m(\u001b[0m\u001b[0mnp\u001b[0m\u001b[0;34m.\u001b[0m\u001b[0mmin\u001b[0m\u001b[0;34m(\u001b[0m\u001b[0mx\u001b[0m\u001b[0;34m)\u001b[0m\u001b[0;34m,\u001b[0m\u001b[0mnp\u001b[0m\u001b[0;34m.\u001b[0m\u001b[0mmax\u001b[0m\u001b[0;34m(\u001b[0m\u001b[0mx\u001b[0m\u001b[0;34m)\u001b[0m\u001b[0;34m,\u001b[0m\u001b[0;36m100\u001b[0m\u001b[0;34m)\u001b[0m\u001b[0;34m\u001b[0m\u001b[0;34m\u001b[0m\u001b[0m\n\u001b[1;32m     17\u001b[0m \u001b[0mxi\u001b[0m \u001b[0;34m=\u001b[0m \u001b[0mnp\u001b[0m\u001b[0;34m.\u001b[0m\u001b[0mlinspace\u001b[0m\u001b[0;34m(\u001b[0m\u001b[0;36m2.5\u001b[0m\u001b[0;34m,\u001b[0m\u001b[0;36m5.0\u001b[0m\u001b[0;34m,\u001b[0m\u001b[0;36m100\u001b[0m\u001b[0;34m)\u001b[0m\u001b[0;34m\u001b[0m\u001b[0;34m\u001b[0m\u001b[0m\n\u001b[0;32m---> 18\u001b[0;31m \u001b[0mps\u001b[0m \u001b[0;34m=\u001b[0m \u001b[0mnp\u001b[0m\u001b[0;34m.\u001b[0m\u001b[0mrandom\u001b[0m\u001b[0;34m.\u001b[0m\u001b[0mmultivariate_normal\u001b[0m\u001b[0;34m(\u001b[0m\u001b[0mpopt\u001b[0m\u001b[0;34m,\u001b[0m\u001b[0mpcov\u001b[0m\u001b[0;34m,\u001b[0m\u001b[0;36m10000\u001b[0m\u001b[0;34m)\u001b[0m\u001b[0;34m\u001b[0m\u001b[0;34m\u001b[0m\u001b[0m\n\u001b[0m\u001b[1;32m     19\u001b[0m \u001b[0mysample\u001b[0m\u001b[0;34m=\u001b[0m\u001b[0mnp\u001b[0m\u001b[0;34m.\u001b[0m\u001b[0masarray\u001b[0m\u001b[0;34m(\u001b[0m\u001b[0;34m[\u001b[0m\u001b[0mfitfunction\u001b[0m\u001b[0;34m(\u001b[0m\u001b[0mxi\u001b[0m\u001b[0;34m,\u001b[0m\u001b[0;34m*\u001b[0m\u001b[0mpi\u001b[0m\u001b[0;34m)\u001b[0m \u001b[0;32mfor\u001b[0m \u001b[0mpi\u001b[0m \u001b[0;32min\u001b[0m \u001b[0mps\u001b[0m\u001b[0;34m]\u001b[0m\u001b[0;34m)\u001b[0m\u001b[0;34m\u001b[0m\u001b[0;34m\u001b[0m\u001b[0m\n\u001b[1;32m     20\u001b[0m \u001b[0mlower\u001b[0m \u001b[0;34m=\u001b[0m \u001b[0mnp\u001b[0m\u001b[0;34m.\u001b[0m\u001b[0mpercentile\u001b[0m\u001b[0;34m(\u001b[0m\u001b[0mysample\u001b[0m\u001b[0;34m,\u001b[0m\u001b[0;36m2.5\u001b[0m\u001b[0;34m,\u001b[0m\u001b[0maxis\u001b[0m\u001b[0;34m=\u001b[0m\u001b[0;36m0\u001b[0m\u001b[0;34m)\u001b[0m\u001b[0;34m\u001b[0m\u001b[0;34m\u001b[0m\u001b[0m\n",
      "\u001b[0;32mmtrand.pyx\u001b[0m in \u001b[0;36mnumpy.random.mtrand.RandomState.multivariate_normal\u001b[0;34m()\u001b[0m\n",
      "\u001b[0;32m<__array_function__ internals>\u001b[0m in \u001b[0;36msvd\u001b[0;34m(*args, **kwargs)\u001b[0m\n",
      "\u001b[0;32m/usr/local/lib64/python3.6/site-packages/numpy/linalg/linalg.py\u001b[0m in \u001b[0;36msvd\u001b[0;34m(a, full_matrices, compute_uv, hermitian)\u001b[0m\n\u001b[1;32m   1624\u001b[0m \u001b[0;34m\u001b[0m\u001b[0m\n\u001b[1;32m   1625\u001b[0m         \u001b[0msignature\u001b[0m \u001b[0;34m=\u001b[0m \u001b[0;34m'D->DdD'\u001b[0m \u001b[0;32mif\u001b[0m \u001b[0misComplexType\u001b[0m\u001b[0;34m(\u001b[0m\u001b[0mt\u001b[0m\u001b[0;34m)\u001b[0m \u001b[0;32melse\u001b[0m \u001b[0;34m'd->ddd'\u001b[0m\u001b[0;34m\u001b[0m\u001b[0;34m\u001b[0m\u001b[0m\n\u001b[0;32m-> 1626\u001b[0;31m         \u001b[0mu\u001b[0m\u001b[0;34m,\u001b[0m \u001b[0ms\u001b[0m\u001b[0;34m,\u001b[0m \u001b[0mvh\u001b[0m \u001b[0;34m=\u001b[0m \u001b[0mgufunc\u001b[0m\u001b[0;34m(\u001b[0m\u001b[0ma\u001b[0m\u001b[0;34m,\u001b[0m \u001b[0msignature\u001b[0m\u001b[0;34m=\u001b[0m\u001b[0msignature\u001b[0m\u001b[0;34m,\u001b[0m \u001b[0mextobj\u001b[0m\u001b[0;34m=\u001b[0m\u001b[0mextobj\u001b[0m\u001b[0;34m)\u001b[0m\u001b[0;34m\u001b[0m\u001b[0;34m\u001b[0m\u001b[0m\n\u001b[0m\u001b[1;32m   1627\u001b[0m         \u001b[0mu\u001b[0m \u001b[0;34m=\u001b[0m \u001b[0mu\u001b[0m\u001b[0;34m.\u001b[0m\u001b[0mastype\u001b[0m\u001b[0;34m(\u001b[0m\u001b[0mresult_t\u001b[0m\u001b[0;34m,\u001b[0m \u001b[0mcopy\u001b[0m\u001b[0;34m=\u001b[0m\u001b[0;32mFalse\u001b[0m\u001b[0;34m)\u001b[0m\u001b[0;34m\u001b[0m\u001b[0;34m\u001b[0m\u001b[0m\n\u001b[1;32m   1628\u001b[0m         \u001b[0ms\u001b[0m \u001b[0;34m=\u001b[0m \u001b[0ms\u001b[0m\u001b[0;34m.\u001b[0m\u001b[0mastype\u001b[0m\u001b[0;34m(\u001b[0m\u001b[0m_realType\u001b[0m\u001b[0;34m(\u001b[0m\u001b[0mresult_t\u001b[0m\u001b[0;34m)\u001b[0m\u001b[0;34m,\u001b[0m \u001b[0mcopy\u001b[0m\u001b[0;34m=\u001b[0m\u001b[0;32mFalse\u001b[0m\u001b[0;34m)\u001b[0m\u001b[0;34m\u001b[0m\u001b[0;34m\u001b[0m\u001b[0m\n",
      "\u001b[0;32m/usr/local/lib64/python3.6/site-packages/numpy/linalg/linalg.py\u001b[0m in \u001b[0;36m_raise_linalgerror_svd_nonconvergence\u001b[0;34m(err, flag)\u001b[0m\n\u001b[1;32m    104\u001b[0m \u001b[0;34m\u001b[0m\u001b[0m\n\u001b[1;32m    105\u001b[0m \u001b[0;32mdef\u001b[0m \u001b[0m_raise_linalgerror_svd_nonconvergence\u001b[0m\u001b[0;34m(\u001b[0m\u001b[0merr\u001b[0m\u001b[0;34m,\u001b[0m \u001b[0mflag\u001b[0m\u001b[0;34m)\u001b[0m\u001b[0;34m:\u001b[0m\u001b[0;34m\u001b[0m\u001b[0;34m\u001b[0m\u001b[0m\n\u001b[0;32m--> 106\u001b[0;31m     \u001b[0;32mraise\u001b[0m \u001b[0mLinAlgError\u001b[0m\u001b[0;34m(\u001b[0m\u001b[0;34m\"SVD did not converge\"\u001b[0m\u001b[0;34m)\u001b[0m\u001b[0;34m\u001b[0m\u001b[0;34m\u001b[0m\u001b[0m\n\u001b[0m\u001b[1;32m    107\u001b[0m \u001b[0;34m\u001b[0m\u001b[0m\n\u001b[1;32m    108\u001b[0m \u001b[0;32mdef\u001b[0m \u001b[0m_raise_linalgerror_lstsq\u001b[0m\u001b[0;34m(\u001b[0m\u001b[0merr\u001b[0m\u001b[0;34m,\u001b[0m \u001b[0mflag\u001b[0m\u001b[0;34m)\u001b[0m\u001b[0;34m:\u001b[0m\u001b[0;34m\u001b[0m\u001b[0;34m\u001b[0m\u001b[0m\n",
      "\u001b[0;31mLinAlgError\u001b[0m: SVD did not converge"
     ]
    },
    {
     "data": {
      "image/png": "[encoded data removed]",
      "text/plain": [
       "<Figure size 432x288 with 1 Axes>"
      ]
     },
     "metadata": {
      "needs_background": "light"
     },
     "output_type": "display_data"
    }
   ],
   "source": [
    "\n",
    "import seaborn as sns\n",
    "sns.regplot('Altitude', 'Density', df[:-1], ci=95)\n",
    "\n",
    "# Let's do a linear fit using the curve_fit utility from scipy, for comparision with seaborn regplot.\n",
    "\n",
    "from scipy.optimize import curve_fit\n",
    "\n",
    "def fitfunction(x,a,b,c):\n",
    "    return a*np.exp(b*x+c*np.sqrt(x))\n",
    "\n",
    "x = np.array(df['Altitude'][:-1])\n",
    "y = np.array(df['Density'][:-1])\n",
    "popt, pcov = curve_fit(fitfunction,x,y)\n",
    "\n",
    "xi = np.linspace(np.min(x),np.max(x),100)\n",
    "xi = np.linspace(2.5,5.0,100)\n",
    "ps = np.random.multivariate_normal(popt,pcov,10000)\n",
    "ysample=np.asarray([fitfunction(xi,*pi) for pi in ps])\n",
    "lower = np.percentile(ysample,2.5,axis=0)\n",
    "upper = np.percentile(ysample,97.5,axis=0)\n",
    "middle = (lower+upper)/2.0\n",
    "\n",
    "print(\"Coefficients (from curve_fit)\")\n",
    "print (popt)\n",
    "print(\"Covariance Matrix (from curve_fit)\")\n",
    "print (pcov)\n",
    "\n",
    "plt.plot(xi,middle)\n",
    "plt.plot(xi,lower)\n",
    "plt.plot(xi,upper)\n",
    "plt.show()"
   ]
  },
  {
   "cell_type": "code",
   "execution_count": null,
   "metadata": {},
   "outputs": [],
   "source": []
  }
 ],
 "metadata": {
  "colab": {
   "collapsed_sections": [],
   "name": "Assignment1_JackAnderson.ipynb",
   "provenance": []
  },
  "kernelspec": {
   "display_name": "Python 3",
   "language": "python",
   "name": "python3"
  },
  "language_info": {
   "codemirror_mode": {
    "name": "ipython",
    "version": 3
   },
   "file_extension": ".py",
   "mimetype": "text/x-python",
   "name": "python",
   "nbconvert_exporter": "python",
   "pygments_lexer": "ipython3",
   "version": "3.6.8"
  }
 },
 "nbformat": 4,
 "nbformat_minor": 1
}
