{
 "cells": [
  {
   "cell_type": "markdown",
   "metadata": {
    "id": "wdWJON7zK61l"
   },
   "source": [
    "# Assignment 2\n",
    "\n",
    "Due Date:  11:59pm on Friday, October 2nd (for now)"
   ]
  },
  {
   "cell_type": "markdown",
   "metadata": {
    "id": "vrlPGma6K61m"
   },
   "source": [
    "## Question 1 - Fitting Part Deux"
   ]
  },
  {
   "cell_type": "markdown",
   "metadata": {
    "id": "7Efp_fK2K61m"
   },
   "source": [
    "In the Jupyter Notebook called Fitting_Examples.ipynb, the last few examples considered cases where the uncertainty in the data became\n",
    "larger at small x-values.  We considered three scenarios for collecting\n",
    "the data - one where we focused on small x-values, and two others that covered larger ranges of x.\n",
    "\n",
    "For this question, begin with the Jupyter Notebook above, and modify it\n",
    "to consider 10 x-value ranges that keep the minimum value of the range constant (and fairly close to zero) while varying the maximum x-value from small to larger values.  For each x-value range, calculate the uncertainty in the y-intercept, and then create a plot of the uncertainty as a function of that maximum x-value of the range.\n",
    "\n",
    "Now, consider keeping the maximum x-value of the range constant, and vary the minimum value of the range from a small value, close to zero, to a larger value that is close to the maximum value.  Create a plot of the\n",
    "uncertainty in the y-intercept as a function of the minimum x-value of the range.\n",
    "\n",
    "What can you conclude from this study about the optimal experiment design?"
   ]
  },
  {
   "cell_type": "code",
   "execution_count": 1,
   "metadata": {
    "colab": {
     "base_uri": "https://localhost:8080/",
     "height": 282
    },
    "id": "Y4FhjUJqK61n",
    "outputId": "3de0725b-c03d-4b23-ddf6-862d156d3a75"
   },
   "outputs": [
    {
     "data": {
      "text/plain": [
       "[<matplotlib.lines.Line2D at 0x7fdb23cf46d8>]"
      ]
     },
     "execution_count": 1,
     "metadata": {},
     "output_type": "execute_result"
    }
   ],
   "source": [
    "import numpy as np\n",
    "import pandas as pd\n",
    "import matplotlib.pyplot as plt\n",
    "import scipy.stats as stats\n",
    "\n",
    "#x - range 1\n",
    "npts = 11\n",
    "xlow = 0.5\n",
    "xhigh = 1.5\n",
    "\n",
    "xl = xlow + 0.01\n",
    "xmid = (xhigh+xlow)/2.0+0.01\n",
    "\n",
    "xi = np.linspace(xlow,xhigh,npts)\n",
    "yrandom = stats.norm.rvs(size=npts,loc=0,scale=.2)\n",
    "yi = xi + yrandom\n",
    "\n",
    "plt.plot(xi,yi,'o')"
   ]
  },
  {
   "cell_type": "code",
   "execution_count": 2,
   "metadata": {
    "colab": {
     "base_uri": "https://localhost:8080/",
     "height": 384
    },
    "id": "4A8ISsAuQQDu",
    "outputId": "0ce26a0a-2ba6-478f-9674-86aea29038bb"
   },
   "outputs": [
    {
     "name": "stdout",
     "output_type": "stream",
     "text": [
      "Coefficients (from curve_fit)\n",
      "[0.12016943 0.98042418]\n",
      "Covariance Matrix (from curve_fit)\n",
      "[[ 0.06133107 -0.05575552]\n",
      " [-0.05575552  0.05575552]]\n",
      "\n",
      "Final Result: y = (0.98 +/- 0.24) x + (0.12 +/- 0.25)\n"
     ]
    },
    {
     "data": {
      "image/png": "[encoded data removed]",
      "text/plain": [
       "<Figure size 432x288 with 1 Axes>"
      ]
     },
     "metadata": {
      "needs_background": "light"
     },
     "output_type": "display_data"
    }
   ],
   "source": [
    "from scipy.optimize import curve_fit\n",
    "\n",
    "def fitfunction(x,*paramlist):\n",
    "    return paramlist[0]+paramlist[1]*x\n",
    "\n",
    "init_vals = [0.0 for x in range(2)]\n",
    "popt, pcov = curve_fit(fitfunction,xi,yi,p0=init_vals)\n",
    "perr = np.sqrt(np.diag(pcov))\n",
    "\n",
    "ps = np.random.multivariate_normal(popt,pcov,10000)\n",
    "ysample=np.asarray([fitfunction(xi,*pi) for pi in ps])\n",
    "\n",
    "lower = np.percentile(ysample,2.5,axis=0)\n",
    "upper = np.percentile(ysample,97.5,axis=0)\n",
    "middle = (lower+upper)/2.0\n",
    "\n",
    "print(\"Coefficients (from curve_fit)\")\n",
    "print (popt)\n",
    "print(\"Covariance Matrix (from curve_fit)\")\n",
    "print (pcov)\n",
    "\n",
    "print()\n",
    "print (\"Final Result: y = (%0.2f +/- %0.2f) x + (%0.2f +/- %0.2f)\" % (popt[1],perr[1],popt[0],perr[0]))\n",
    "\n",
    "plt.plot(xi,yi,'o')\n",
    "\n",
    "plt.plot(xi,middle)\n",
    "plt.plot(xi,lower)\n",
    "plt.plot(xi,upper)\n",
    "plt.show()\n",
    "\n",
    "slope = []\n",
    "dslope = []\n",
    "yint = []\n",
    "dyint = []\n",
    "type = []\n",
    "\n",
    "slope.append(popt[1])\n",
    "dslope.append(perr[1])\n",
    "yint.append(popt[0])\n",
    "dyint.append(perr[0])\n",
    "type.append('Linear')\n"
   ]
  },
  {
   "cell_type": "code",
   "execution_count": 3,
   "metadata": {
    "colab": {
     "base_uri": "https://localhost:8080/",
     "height": 80
    },
    "id": "_5Qyy7lJQ560",
    "outputId": "00427cca-4a29-41eb-9b00-3c4fbb1ed964"
   },
   "outputs": [
    {
     "data": {
      "text/html": [
       "<div>\n",
       "<style scoped>\n",
       "    .dataframe tbody tr th:only-of-type {\n",
       "        vertical-align: middle;\n",
       "    }\n",
       "\n",
       "    .dataframe tbody tr th {\n",
       "        vertical-align: top;\n",
       "    }\n",
       "\n",
       "    .dataframe thead th {\n",
       "        text-align: right;\n",
       "    }\n",
       "</style>\n",
       "<table border=\"1\" class=\"dataframe\">\n",
       "  <thead>\n",
       "    <tr style=\"text-align: right;\">\n",
       "      <th></th>\n",
       "      <th>Fit Type</th>\n",
       "      <th>Slope</th>\n",
       "      <th>Error in Slope</th>\n",
       "      <th>Y Intercept</th>\n",
       "      <th>Error in Y Intercept</th>\n",
       "    </tr>\n",
       "  </thead>\n",
       "  <tbody>\n",
       "    <tr>\n",
       "      <th>0</th>\n",
       "      <td>Linear</td>\n",
       "      <td>0.980424</td>\n",
       "      <td>0.236126</td>\n",
       "      <td>0.120169</td>\n",
       "      <td>0.247651</td>\n",
       "    </tr>\n",
       "  </tbody>\n",
       "</table>\n",
       "</div>"
      ],
      "text/plain": [
       "  Fit Type     Slope  Error in Slope  Y Intercept  Error in Y Intercept\n",
       "0   Linear  0.980424        0.236126     0.120169              0.247651"
      ]
     },
     "execution_count": 3,
     "metadata": {},
     "output_type": "execute_result"
    }
   ],
   "source": [
    "df = pd.DataFrame({'Fit Type':type, 'Slope':slope, 'Error in Slope':dslope, 'Y Intercept':yint, 'Error in Y Intercept':dyint})\n",
    "df.head()"
   ]
  },
  {
   "cell_type": "code",
   "execution_count": 4,
   "metadata": {
    "colab": {
     "base_uri": "https://localhost:8080/",
     "height": 336
    },
    "id": "1HgZUqCgWblX",
    "outputId": "7a1ce830-fc9e-4627-a672-084146924ef2"
   },
   "outputs": [
    {
     "name": "stderr",
     "output_type": "stream",
     "text": [
      "/usr/lib/python3.6/site-packages/ipykernel_launcher.py:2: MatplotlibDeprecationWarning: Support for passing a (n, 1)-shaped error array to errorbar() is deprecated since Matplotlib 3.1 and will be removed in 3.3; pass a 1D array instead.\n",
      "  \n"
     ]
    },
    {
     "data": {
      "text/plain": [
       "<ErrorbarContainer object of 3 artists>"
      ]
     },
     "execution_count": 4,
     "metadata": {},
     "output_type": "execute_result"
    },
    {
     "data": {
      "image/png": "[encoded data removed]",
      "text/plain": [
       "<Figure size 432x288 with 1 Axes>"
      ]
     },
     "metadata": {
      "needs_background": "light"
     },
     "output_type": "display_data"
    }
   ],
   "source": [
    "sigmai = np.array([dyint for i in range(npts)])\n",
    "plt.errorbar(xi, yi, yerr=sigmai, fmt='o', capsize=5, capthick=2)"
   ]
  },
  {
   "cell_type": "code",
   "execution_count": 5,
   "metadata": {
    "colab": {
     "base_uri": "https://localhost:8080/",
     "height": 282
    },
    "id": "g3rNDD9CXZjr",
    "outputId": "04bf6ebf-3029-4f59-a86a-6bb70db50922"
   },
   "outputs": [
    {
     "data": {
      "text/plain": [
       "[<matplotlib.lines.Line2D at 0x7fdb216f35f8>]"
      ]
     },
     "execution_count": 5,
     "metadata": {},
     "output_type": "execute_result"
    },
    {
     "data": {
      "image/png": "[encoded data removed]",
      "text/plain": [
       "<Figure size 432x288 with 1 Axes>"
      ]
     },
     "metadata": {
      "needs_background": "light"
     },
     "output_type": "display_data"
    }
   ],
   "source": [
    "#x - range 2\n",
    "npts = 11\n",
    "xlow = 0.5\n",
    "xhigh = 2\n",
    "\n",
    "xl = xlow + 0.01\n",
    "xmid = (xhigh+xlow)/2.0+0.01\n",
    "\n",
    "xi = np.linspace(xlow,xhigh,npts)\n",
    "yrandom = stats.norm.rvs(size=npts,loc=0,scale=.2)\n",
    "yi = xi + yrandom\n",
    "\n",
    "plt.plot(xi,yi,'o')"
   ]
  },
  {
   "cell_type": "code",
   "execution_count": 6,
   "metadata": {
    "colab": {
     "base_uri": "https://localhost:8080/",
     "height": 384
    },
    "id": "Px_OUWykXtMn",
    "outputId": "7047638c-7b31-42fe-a805-fecf4001cbb8"
   },
   "outputs": [
    {
     "name": "stdout",
     "output_type": "stream",
     "text": [
      "Coefficients (from curve_fit)\n",
      "[0.07765423 0.890923  ]\n",
      "Covariance Matrix (from curve_fit)\n",
      "[[ 0.01491711 -0.01043155]\n",
      " [-0.01043155  0.00834524]]\n",
      "\n",
      "Final Result: y = (0.89 +/- 0.09) x + (0.08 +/- 0.12)\n"
     ]
    },
    {
     "data": {
      "image/png": "[encoded data removed]",
      "text/plain": [
       "<Figure size 432x288 with 1 Axes>"
      ]
     },
     "metadata": {
      "needs_background": "light"
     },
     "output_type": "display_data"
    }
   ],
   "source": [
    "def fitfunction(x,*paramlist):\n",
    "    return paramlist[0]+paramlist[1]*x\n",
    "\n",
    "init_vals = [0.0 for x in range(2)]\n",
    "popt, pcov = curve_fit(fitfunction,xi,yi,p0=init_vals)\n",
    "perr = np.sqrt(np.diag(pcov))\n",
    "\n",
    "ps = np.random.multivariate_normal(popt,pcov,10000)\n",
    "ysample=np.asarray([fitfunction(xi,*pi) for pi in ps])\n",
    "\n",
    "lower = np.percentile(ysample,2.5,axis=0)\n",
    "upper = np.percentile(ysample,97.5,axis=0)\n",
    "middle = (lower+upper)/2.0\n",
    "\n",
    "print(\"Coefficients (from curve_fit)\")\n",
    "print (popt)\n",
    "print(\"Covariance Matrix (from curve_fit)\")\n",
    "print (pcov)\n",
    "\n",
    "print()\n",
    "print (\"Final Result: y = (%0.2f +/- %0.2f) x + (%0.2f +/- %0.2f)\" % (popt[1],perr[1],popt[0],perr[0]))\n",
    "\n",
    "plt.plot(xi,yi,'o')\n",
    "\n",
    "plt.plot(xi,middle)\n",
    "plt.plot(xi,lower)\n",
    "plt.plot(xi,upper)\n",
    "plt.show()\n",
    "\n",
    "slope = []\n",
    "dslope = []\n",
    "yint = []\n",
    "dyint = []\n",
    "type = []\n",
    "\n",
    "slope.append(popt[1])\n",
    "dslope.append(perr[1])\n",
    "yint.append(popt[0])\n",
    "dyint.append(perr[0])\n",
    "type.append('Linear')"
   ]
  },
  {
   "cell_type": "code",
   "execution_count": 7,
   "metadata": {
    "colab": {
     "base_uri": "https://localhost:8080/",
     "height": 80
    },
    "id": "qbr0QI-fXwyx",
    "outputId": "08c7ec4e-14c7-414b-f8e8-5dc0e350d5b9"
   },
   "outputs": [
    {
     "data": {
      "text/html": [
       "<div>\n",
       "<style scoped>\n",
       "    .dataframe tbody tr th:only-of-type {\n",
       "        vertical-align: middle;\n",
       "    }\n",
       "\n",
       "    .dataframe tbody tr th {\n",
       "        vertical-align: top;\n",
       "    }\n",
       "\n",
       "    .dataframe thead th {\n",
       "        text-align: right;\n",
       "    }\n",
       "</style>\n",
       "<table border=\"1\" class=\"dataframe\">\n",
       "  <thead>\n",
       "    <tr style=\"text-align: right;\">\n",
       "      <th></th>\n",
       "      <th>Fit Type</th>\n",
       "      <th>Slope</th>\n",
       "      <th>Error in Slope</th>\n",
       "      <th>Y Intercept</th>\n",
       "      <th>Error in Y Intercept</th>\n",
       "    </tr>\n",
       "  </thead>\n",
       "  <tbody>\n",
       "    <tr>\n",
       "      <th>0</th>\n",
       "      <td>Linear</td>\n",
       "      <td>0.890923</td>\n",
       "      <td>0.091352</td>\n",
       "      <td>0.077654</td>\n",
       "      <td>0.122136</td>\n",
       "    </tr>\n",
       "  </tbody>\n",
       "</table>\n",
       "</div>"
      ],
      "text/plain": [
       "  Fit Type     Slope  Error in Slope  Y Intercept  Error in Y Intercept\n",
       "0   Linear  0.890923        0.091352     0.077654              0.122136"
      ]
     },
     "execution_count": 7,
     "metadata": {},
     "output_type": "execute_result"
    }
   ],
   "source": [
    "df = pd.DataFrame({'Fit Type':type, 'Slope':slope, 'Error in Slope':dslope, 'Y Intercept':yint, 'Error in Y Intercept':dyint})\n",
    "df.head()"
   ]
  },
  {
   "cell_type": "code",
   "execution_count": 8,
   "metadata": {
    "colab": {
     "base_uri": "https://localhost:8080/",
     "height": 336
    },
    "id": "6sJU1qZIX1tE",
    "outputId": "d6e73b4f-221f-468a-8249-7e09363be4fc"
   },
   "outputs": [
    {
     "name": "stderr",
     "output_type": "stream",
     "text": [
      "/usr/lib/python3.6/site-packages/ipykernel_launcher.py:2: MatplotlibDeprecationWarning: Support for passing a (n, 1)-shaped error array to errorbar() is deprecated since Matplotlib 3.1 and will be removed in 3.3; pass a 1D array instead.\n",
      "  \n"
     ]
    },
    {
     "data": {
      "text/plain": [
       "<ErrorbarContainer object of 3 artists>"
      ]
     },
     "execution_count": 8,
     "metadata": {},
     "output_type": "execute_result"
    },
    {
     "data": {
      "image/png": "[encoded data removed]",
      "text/plain": [
       "<Figure size 432x288 with 1 Axes>"
      ]
     },
     "metadata": {
      "needs_background": "light"
     },
     "output_type": "display_data"
    }
   ],
   "source": [
    "sigmai = np.array([dyint for i in range(npts)])\n",
    "plt.errorbar(xi, yi, yerr=sigmai, fmt='o', capsize=5, capthick=2)"
   ]
  },
  {
   "cell_type": "code",
   "execution_count": 9,
   "metadata": {
    "colab": {
     "base_uri": "https://localhost:8080/",
     "height": 282
    },
    "id": "OkSml7RKYGN5",
    "outputId": "5e79b9ee-d618-4f1c-c490-5048b00dcaca"
   },
   "outputs": [
    {
     "data": {
      "text/plain": [
       "[<matplotlib.lines.Line2D at 0x7fdb21548780>]"
      ]
     },
     "execution_count": 9,
     "metadata": {},
     "output_type": "execute_result"
    },
    {
     "data": {
      "image/png": "[encoded data removed]",
      "text/plain": [
       "<Figure size 432x288 with 1 Axes>"
      ]
     },
     "metadata": {
      "needs_background": "light"
     },
     "output_type": "display_data"
    }
   ],
   "source": [
    "#x - range 3\n",
    "npts = 11\n",
    "xlow = 0.5\n",
    "xhigh = 2.5\n",
    "\n",
    "xl = xlow + 0.01\n",
    "xmid = (xhigh+xlow)/2.0+0.01\n",
    "\n",
    "xi = np.linspace(xlow,xhigh,npts)\n",
    "yrandom = stats.norm.rvs(size=npts,loc=0,scale=.2)\n",
    "yi = xi + yrandom\n",
    "\n",
    "plt.plot(xi,yi,'o')"
   ]
  },
  {
   "cell_type": "code",
   "execution_count": 10,
   "metadata": {
    "colab": {
     "base_uri": "https://localhost:8080/",
     "height": 385
    },
    "id": "_B1kto_NYPpF",
    "outputId": "940ce3e3-5d47-40ba-f900-6366ce9fb865"
   },
   "outputs": [
    {
     "name": "stdout",
     "output_type": "stream",
     "text": [
      "Coefficients (from curve_fit)\n",
      "[-0.07878272  0.94506941]\n",
      "Covariance Matrix (from curve_fit)\n",
      "[[ 0.04682914 -0.02650706]\n",
      " [-0.02650706  0.01767137]]\n",
      "\n",
      "Final Result: y = (0.95 +/- 0.13) x + (-0.08 +/- 0.22)\n"
     ]
    },
    {
     "data": {
      "image/png": "[encoded data removed]",
      "text/plain": [
       "<Figure size 432x288 with 1 Axes>"
      ]
     },
     "metadata": {
      "needs_background": "light"
     },
     "output_type": "display_data"
    }
   ],
   "source": [
    "def fitfunction(x,*paramlist):\n",
    "    return paramlist[0]+paramlist[1]*x\n",
    "\n",
    "init_vals = [0.0 for x in range(2)]\n",
    "popt, pcov = curve_fit(fitfunction,xi,yi,p0=init_vals)\n",
    "perr = np.sqrt(np.diag(pcov))\n",
    "\n",
    "ps = np.random.multivariate_normal(popt,pcov,10000)\n",
    "ysample=np.asarray([fitfunction(xi,*pi) for pi in ps])\n",
    "\n",
    "lower = np.percentile(ysample,2.5,axis=0)\n",
    "upper = np.percentile(ysample,97.5,axis=0)\n",
    "middle = (lower+upper)/2.0\n",
    "\n",
    "print(\"Coefficients (from curve_fit)\")\n",
    "print (popt)\n",
    "print(\"Covariance Matrix (from curve_fit)\")\n",
    "print (pcov)\n",
    "\n",
    "print()\n",
    "print (\"Final Result: y = (%0.2f +/- %0.2f) x + (%0.2f +/- %0.2f)\" % (popt[1],perr[1],popt[0],perr[0]))\n",
    "\n",
    "plt.plot(xi,yi,'o')\n",
    "\n",
    "plt.plot(xi,middle)\n",
    "plt.plot(xi,lower)\n",
    "plt.plot(xi,upper)\n",
    "plt.show()\n",
    "\n",
    "slope = []\n",
    "dslope = []\n",
    "yint = []\n",
    "dyint = []\n",
    "type = []\n",
    "\n",
    "slope.append(popt[1])\n",
    "dslope.append(perr[1])\n",
    "yint.append(popt[0])\n",
    "dyint.append(perr[0])\n",
    "type.append('Linear')"
   ]
  },
  {
   "cell_type": "code",
   "execution_count": 11,
   "metadata": {
    "colab": {
     "base_uri": "https://localhost:8080/",
     "height": 80
    },
    "id": "iRyf64PgYXxd",
    "outputId": "aafa9ec9-5ced-41fb-b172-aa4fdf83ccc7"
   },
   "outputs": [
    {
     "data": {
      "text/html": [
       "<div>\n",
       "<style scoped>\n",
       "    .dataframe tbody tr th:only-of-type {\n",
       "        vertical-align: middle;\n",
       "    }\n",
       "\n",
       "    .dataframe tbody tr th {\n",
       "        vertical-align: top;\n",
       "    }\n",
       "\n",
       "    .dataframe thead th {\n",
       "        text-align: right;\n",
       "    }\n",
       "</style>\n",
       "<table border=\"1\" class=\"dataframe\">\n",
       "  <thead>\n",
       "    <tr style=\"text-align: right;\">\n",
       "      <th></th>\n",
       "      <th>Fit Type</th>\n",
       "      <th>Slope</th>\n",
       "      <th>Error in Slope</th>\n",
       "      <th>Y Intercept</th>\n",
       "      <th>Error in Y Intercept</th>\n",
       "    </tr>\n",
       "  </thead>\n",
       "  <tbody>\n",
       "    <tr>\n",
       "      <th>0</th>\n",
       "      <td>Linear</td>\n",
       "      <td>0.945069</td>\n",
       "      <td>0.132934</td>\n",
       "      <td>-0.078783</td>\n",
       "      <td>0.2164</td>\n",
       "    </tr>\n",
       "  </tbody>\n",
       "</table>\n",
       "</div>"
      ],
      "text/plain": [
       "  Fit Type     Slope  Error in Slope  Y Intercept  Error in Y Intercept\n",
       "0   Linear  0.945069        0.132934    -0.078783                0.2164"
      ]
     },
     "execution_count": 11,
     "metadata": {},
     "output_type": "execute_result"
    }
   ],
   "source": [
    "df = pd.DataFrame({'Fit Type':type, 'Slope':slope, 'Error in Slope':dslope, 'Y Intercept':yint, 'Error in Y Intercept':dyint})\n",
    "df.head()"
   ]
  },
  {
   "cell_type": "code",
   "execution_count": 12,
   "metadata": {
    "colab": {
     "base_uri": "https://localhost:8080/",
     "height": 336
    },
    "id": "vnqCjSikYb7e",
    "outputId": "9a131317-81a7-40df-8e67-bc969dc2db55"
   },
   "outputs": [
    {
     "name": "stderr",
     "output_type": "stream",
     "text": [
      "/usr/lib/python3.6/site-packages/ipykernel_launcher.py:2: MatplotlibDeprecationWarning: Support for passing a (n, 1)-shaped error array to errorbar() is deprecated since Matplotlib 3.1 and will be removed in 3.3; pass a 1D array instead.\n",
      "  \n"
     ]
    },
    {
     "data": {
      "text/plain": [
       "<ErrorbarContainer object of 3 artists>"
      ]
     },
     "execution_count": 12,
     "metadata": {},
     "output_type": "execute_result"
    },
    {
     "data": {
      "image/png": "[encoded data removed]",
      "text/plain": [
       "<Figure size 432x288 with 1 Axes>"
      ]
     },
     "metadata": {
      "needs_background": "light"
     },
     "output_type": "display_data"
    }
   ],
   "source": [
    "sigmai = np.array([dyint for i in range(npts)])\n",
    "plt.errorbar(xi, yi, yerr=sigmai, fmt='o', capsize=5, capthick=2)"
   ]
  },
  {
   "cell_type": "code",
   "execution_count": 13,
   "metadata": {
    "colab": {
     "base_uri": "https://localhost:8080/",
     "height": 282
    },
    "id": "1wejEopyYghV",
    "outputId": "b884d5ab-4f44-4c94-d307-3a3c3fdd0938"
   },
   "outputs": [
    {
     "data": {
      "text/plain": [
       "[<matplotlib.lines.Line2D at 0x7fdb215add30>]"
      ]
     },
     "execution_count": 13,
     "metadata": {},
     "output_type": "execute_result"
    },
    {
     "data": {
      "image/png": "[encoded data removed]",
      "text/plain": [
       "<Figure size 432x288 with 1 Axes>"
      ]
     },
     "metadata": {
      "needs_background": "light"
     },
     "output_type": "display_data"
    }
   ],
   "source": [
    "#x - range 4\n",
    "npts = 11\n",
    "xlow = 0.5\n",
    "xhigh = 5\n",
    "\n",
    "xl = xlow + 0.01\n",
    "xmid = (xhigh+xlow)/2.0+0.01\n",
    "\n",
    "xi = np.linspace(xlow,xhigh,npts)\n",
    "yrandom = stats.norm.rvs(size=npts,loc=0,scale=.2)\n",
    "yi = xi + yrandom\n",
    "\n",
    "plt.plot(xi,yi,'o')"
   ]
  },
  {
   "cell_type": "code",
   "execution_count": 14,
   "metadata": {
    "colab": {
     "base_uri": "https://localhost:8080/",
     "height": 384
    },
    "id": "Kfh95yMRY3u-",
    "outputId": "4c9c0278-74b6-45d0-c8d2-b5dca027c94a"
   },
   "outputs": [
    {
     "name": "stdout",
     "output_type": "stream",
     "text": [
      "Coefficients (from curve_fit)\n",
      "[-0.068962    0.99365609]\n",
      "Covariance Matrix (from curve_fit)\n",
      "[[ 0.01444731 -0.00414395]\n",
      " [-0.00414395  0.00150689]]\n",
      "\n",
      "Final Result: y = (0.99 +/- 0.04) x + (-0.07 +/- 0.12)\n"
     ]
    },
    {
     "data": {
      "image/png": "[encoded data removed]",
      "text/plain": [
       "<Figure size 432x288 with 1 Axes>"
      ]
     },
     "metadata": {
      "needs_background": "light"
     },
     "output_type": "display_data"
    }
   ],
   "source": [
    "def fitfunction(x,*paramlist):\n",
    "    return paramlist[0]+paramlist[1]*x\n",
    "\n",
    "init_vals = [0.0 for x in range(2)]\n",
    "popt, pcov = curve_fit(fitfunction,xi,yi,p0=init_vals)\n",
    "perr = np.sqrt(np.diag(pcov))\n",
    "\n",
    "ps = np.random.multivariate_normal(popt,pcov,10000)\n",
    "ysample=np.asarray([fitfunction(xi,*pi) for pi in ps])\n",
    "\n",
    "lower = np.percentile(ysample,2.5,axis=0)\n",
    "upper = np.percentile(ysample,97.5,axis=0)\n",
    "middle = (lower+upper)/2.0\n",
    "\n",
    "print(\"Coefficients (from curve_fit)\")\n",
    "print (popt)\n",
    "print(\"Covariance Matrix (from curve_fit)\")\n",
    "print (pcov)\n",
    "\n",
    "print()\n",
    "print (\"Final Result: y = (%0.2f +/- %0.2f) x + (%0.2f +/- %0.2f)\" % (popt[1],perr[1],popt[0],perr[0]))\n",
    "\n",
    "plt.plot(xi,yi,'o')\n",
    "\n",
    "plt.plot(xi,middle)\n",
    "plt.plot(xi,lower)\n",
    "plt.plot(xi,upper)\n",
    "plt.show()\n",
    "\n",
    "slope = []\n",
    "dslope = []\n",
    "yint = []\n",
    "dyint = []\n",
    "type = []\n",
    "\n",
    "slope.append(popt[1])\n",
    "dslope.append(perr[1])\n",
    "yint.append(popt[0])\n",
    "dyint.append(perr[0])\n",
    "type.append('Linear')"
   ]
  },
  {
   "cell_type": "code",
   "execution_count": 15,
   "metadata": {
    "colab": {
     "base_uri": "https://localhost:8080/",
     "height": 80
    },
    "id": "1wc07Lp5ZJd5",
    "outputId": "f094903e-0c77-47f3-9414-1820cdc5cd1b"
   },
   "outputs": [
    {
     "data": {
      "text/html": [
       "<div>\n",
       "<style scoped>\n",
       "    .dataframe tbody tr th:only-of-type {\n",
       "        vertical-align: middle;\n",
       "    }\n",
       "\n",
       "    .dataframe tbody tr th {\n",
       "        vertical-align: top;\n",
       "    }\n",
       "\n",
       "    .dataframe thead th {\n",
       "        text-align: right;\n",
       "    }\n",
       "</style>\n",
       "<table border=\"1\" class=\"dataframe\">\n",
       "  <thead>\n",
       "    <tr style=\"text-align: right;\">\n",
       "      <th></th>\n",
       "      <th>Fit Type</th>\n",
       "      <th>Slope</th>\n",
       "      <th>Error in Slope</th>\n",
       "      <th>Y Intercept</th>\n",
       "      <th>Error in Y Intercept</th>\n",
       "    </tr>\n",
       "  </thead>\n",
       "  <tbody>\n",
       "    <tr>\n",
       "      <th>0</th>\n",
       "      <td>Linear</td>\n",
       "      <td>0.993656</td>\n",
       "      <td>0.038819</td>\n",
       "      <td>-0.068962</td>\n",
       "      <td>0.120197</td>\n",
       "    </tr>\n",
       "  </tbody>\n",
       "</table>\n",
       "</div>"
      ],
      "text/plain": [
       "  Fit Type     Slope  Error in Slope  Y Intercept  Error in Y Intercept\n",
       "0   Linear  0.993656        0.038819    -0.068962              0.120197"
      ]
     },
     "execution_count": 15,
     "metadata": {},
     "output_type": "execute_result"
    }
   ],
   "source": [
    "df = pd.DataFrame({'Fit Type':type, 'Slope':slope, 'Error in Slope':dslope, 'Y Intercept':yint, 'Error in Y Intercept':dyint})\n",
    "df.head()"
   ]
  },
  {
   "cell_type": "code",
   "execution_count": 16,
   "metadata": {
    "colab": {
     "base_uri": "https://localhost:8080/",
     "height": 336
    },
    "id": "VaBw3UiQZmYK",
    "outputId": "40c7eb92-8a5d-4016-ede6-d5b4b6658a7c"
   },
   "outputs": [
    {
     "name": "stderr",
     "output_type": "stream",
     "text": [
      "/usr/lib/python3.6/site-packages/ipykernel_launcher.py:2: MatplotlibDeprecationWarning: Support for passing a (n, 1)-shaped error array to errorbar() is deprecated since Matplotlib 3.1 and will be removed in 3.3; pass a 1D array instead.\n",
      "  \n"
     ]
    },
    {
     "data": {
      "text/plain": [
       "<ErrorbarContainer object of 3 artists>"
      ]
     },
     "execution_count": 16,
     "metadata": {},
     "output_type": "execute_result"
    },
    {
     "data": {
      "image/png": "[encoded data removed]",
      "text/plain": [
       "<Figure size 432x288 with 1 Axes>"
      ]
     },
     "metadata": {
      "needs_background": "light"
     },
     "output_type": "display_data"
    }
   ],
   "source": [
    "sigmai = np.array([dyint for i in range(npts)])\n",
    "plt.errorbar(xi, yi, yerr=sigmai, fmt='o', capsize=5, capthick=2)"
   ]
  },
  {
   "cell_type": "code",
   "execution_count": 17,
   "metadata": {
    "colab": {
     "base_uri": "https://localhost:8080/",
     "height": 282
    },
    "id": "scROgcDjZ4wo",
    "outputId": "c4335212-f82d-4450-85c9-d4e65be12559"
   },
   "outputs": [
    {
     "data": {
      "text/plain": [
       "[<matplotlib.lines.Line2D at 0x7fdb21641898>]"
      ]
     },
     "execution_count": 17,
     "metadata": {},
     "output_type": "execute_result"
    },
    {
     "data": {
      "image/png": "[encoded data removed]",
      "text/plain": [
       "<Figure size 432x288 with 1 Axes>"
      ]
     },
     "metadata": {
      "needs_background": "light"
     },
     "output_type": "display_data"
    }
   ],
   "source": [
    "#x - range 5\n",
    "npts = 11\n",
    "xlow = 0.5\n",
    "xhigh = 10\n",
    "\n",
    "xl = xlow + 0.01\n",
    "xmid = (xhigh+xlow)/2.0+0.01\n",
    "\n",
    "xi = np.linspace(xlow,xhigh,npts)\n",
    "yrandom = stats.norm.rvs(size=npts,loc=0,scale=.2)\n",
    "yi = xi + yrandom\n",
    "\n",
    "plt.plot(xi,yi,'o')"
   ]
  },
  {
   "cell_type": "code",
   "execution_count": 18,
   "metadata": {
    "colab": {
     "base_uri": "https://localhost:8080/",
     "height": 384
    },
    "id": "lnwWqssbZ9f3",
    "outputId": "dabefcb8-f313-401b-99d6-8cc8ead83f86"
   },
   "outputs": [
    {
     "name": "stdout",
     "output_type": "stream",
     "text": [
      "Coefficients (from curve_fit)\n",
      "[-0.07639537  1.00239278]\n",
      "Covariance Matrix (from curve_fit)\n",
      "[[ 0.00384673 -0.00055197]\n",
      " [-0.00055197  0.00010514]]\n",
      "\n",
      "Final Result: y = (1.00 +/- 0.01) x + (-0.08 +/- 0.06)\n"
     ]
    },
    {
     "data": {
      "image/png": "[encoded data removed]",
      "text/plain": [
       "<Figure size 432x288 with 1 Axes>"
      ]
     },
     "metadata": {
      "needs_background": "light"
     },
     "output_type": "display_data"
    }
   ],
   "source": [
    "def fitfunction(x,*paramlist):\n",
    "    return paramlist[0]+paramlist[1]*x\n",
    "\n",
    "init_vals = [0.0 for x in range(2)]\n",
    "popt, pcov = curve_fit(fitfunction,xi,yi,p0=init_vals)\n",
    "perr = np.sqrt(np.diag(pcov))\n",
    "\n",
    "ps = np.random.multivariate_normal(popt,pcov,10000)\n",
    "ysample=np.asarray([fitfunction(xi,*pi) for pi in ps])\n",
    "\n",
    "lower = np.percentile(ysample,2.5,axis=0)\n",
    "upper = np.percentile(ysample,97.5,axis=0)\n",
    "middle = (lower+upper)/2.0\n",
    "\n",
    "print(\"Coefficients (from curve_fit)\")\n",
    "print (popt)\n",
    "print(\"Covariance Matrix (from curve_fit)\")\n",
    "print (pcov)\n",
    "\n",
    "print()\n",
    "print (\"Final Result: y = (%0.2f +/- %0.2f) x + (%0.2f +/- %0.2f)\" % (popt[1],perr[1],popt[0],perr[0]))\n",
    "\n",
    "plt.plot(xi,yi,'o')\n",
    "\n",
    "plt.plot(xi,middle)\n",
    "plt.plot(xi,lower)\n",
    "plt.plot(xi,upper)\n",
    "plt.show()\n",
    "\n",
    "slope = []\n",
    "dslope = []\n",
    "yint = []\n",
    "dyint = []\n",
    "type = []\n",
    "\n",
    "slope.append(popt[1])\n",
    "dslope.append(perr[1])\n",
    "yint.append(popt[0])\n",
    "dyint.append(perr[0])\n",
    "type.append('Linear')"
   ]
  },
  {
   "cell_type": "code",
   "execution_count": 19,
   "metadata": {
    "colab": {
     "base_uri": "https://localhost:8080/",
     "height": 80
    },
    "id": "R95vKMt9aFQh",
    "outputId": "ef21d43a-8562-40f0-9568-962dd3b29fcd"
   },
   "outputs": [
    {
     "data": {
      "text/html": [
       "<div>\n",
       "<style scoped>\n",
       "    .dataframe tbody tr th:only-of-type {\n",
       "        vertical-align: middle;\n",
       "    }\n",
       "\n",
       "    .dataframe tbody tr th {\n",
       "        vertical-align: top;\n",
       "    }\n",
       "\n",
       "    .dataframe thead th {\n",
       "        text-align: right;\n",
       "    }\n",
       "</style>\n",
       "<table border=\"1\" class=\"dataframe\">\n",
       "  <thead>\n",
       "    <tr style=\"text-align: right;\">\n",
       "      <th></th>\n",
       "      <th>Fit Type</th>\n",
       "      <th>Slope</th>\n",
       "      <th>Error in Slope</th>\n",
       "      <th>Y Intercept</th>\n",
       "      <th>Error in Y Intercept</th>\n",
       "    </tr>\n",
       "  </thead>\n",
       "  <tbody>\n",
       "    <tr>\n",
       "      <th>0</th>\n",
       "      <td>Linear</td>\n",
       "      <td>1.002393</td>\n",
       "      <td>0.010254</td>\n",
       "      <td>-0.076395</td>\n",
       "      <td>0.062022</td>\n",
       "    </tr>\n",
       "  </tbody>\n",
       "</table>\n",
       "</div>"
      ],
      "text/plain": [
       "  Fit Type     Slope  Error in Slope  Y Intercept  Error in Y Intercept\n",
       "0   Linear  1.002393        0.010254    -0.076395              0.062022"
      ]
     },
     "execution_count": 19,
     "metadata": {},
     "output_type": "execute_result"
    }
   ],
   "source": [
    "df = pd.DataFrame({'Fit Type':type, 'Slope':slope, 'Error in Slope':dslope, 'Y Intercept':yint, 'Error in Y Intercept':dyint})\n",
    "df.head()"
   ]
  },
  {
   "cell_type": "code",
   "execution_count": 20,
   "metadata": {
    "colab": {
     "base_uri": "https://localhost:8080/",
     "height": 336
    },
    "id": "g07YEnMDaJNf",
    "outputId": "a9713246-c4b4-48ac-8cda-1307e7dd2ffc"
   },
   "outputs": [
    {
     "name": "stderr",
     "output_type": "stream",
     "text": [
      "/usr/lib/python3.6/site-packages/ipykernel_launcher.py:2: MatplotlibDeprecationWarning: Support for passing a (n, 1)-shaped error array to errorbar() is deprecated since Matplotlib 3.1 and will be removed in 3.3; pass a 1D array instead.\n",
      "  \n"
     ]
    },
    {
     "data": {
      "text/plain": [
       "<ErrorbarContainer object of 3 artists>"
      ]
     },
     "execution_count": 20,
     "metadata": {},
     "output_type": "execute_result"
    },
    {
     "data": {
      "image/png": "[encoded data removed]",
      "text/plain": [
       "<Figure size 432x288 with 1 Axes>"
      ]
     },
     "metadata": {
      "needs_background": "light"
     },
     "output_type": "display_data"
    }
   ],
   "source": [
    "sigmai = np.array([dyint for i in range(npts)])\n",
    "plt.errorbar(xi, yi, yerr=sigmai, fmt='o', capsize=5, capthick=2)"
   ]
  },
  {
   "cell_type": "code",
   "execution_count": 21,
   "metadata": {
    "colab": {
     "base_uri": "https://localhost:8080/",
     "height": 282
    },
    "id": "QorI0T2daTrB",
    "outputId": "b3a9930e-ce10-4725-dcde-48d0252314d0"
   },
   "outputs": [
    {
     "data": {
      "text/plain": [
       "[<matplotlib.lines.Line2D at 0x7fdb213130b8>]"
      ]
     },
     "execution_count": 21,
     "metadata": {},
     "output_type": "execute_result"
    },
    {
     "data": {
      "image/png": "[encoded data removed]",
      "text/plain": [
       "<Figure size 432x288 with 1 Axes>"
      ]
     },
     "metadata": {
      "needs_background": "light"
     },
     "output_type": "display_data"
    }
   ],
   "source": [
    "#x - range 6\n",
    "npts = 11\n",
    "xlow = 0.5\n",
    "xhigh = 100\n",
    "\n",
    "xl = xlow + 0.01\n",
    "xmid = (xhigh+xlow)/2.0+0.01\n",
    "\n",
    "xi = np.linspace(xlow,xhigh,npts)\n",
    "yrandom = stats.norm.rvs(size=npts,loc=0,scale=.2)\n",
    "yi = xi + yrandom\n",
    "\n",
    "plt.plot(xi,yi,'o')"
   ]
  },
  {
   "cell_type": "code",
   "execution_count": 22,
   "metadata": {
    "colab": {
     "base_uri": "https://localhost:8080/",
     "height": 384
    },
    "id": "NZV1zRkzaYZl",
    "outputId": "ec75f96f-bb82-4142-b688-4b501d122243"
   },
   "outputs": [
    {
     "name": "stdout",
     "output_type": "stream",
     "text": [
      "Coefficients (from curve_fit)\n",
      "[-0.0778141   1.00111655]\n",
      "Covariance Matrix (from curve_fit)\n",
      "[[ 7.32683854e-03 -1.04741121e-04]\n",
      " [-1.04741121e-04  2.08440106e-06]]\n",
      "\n",
      "Final Result: y = (1.00 +/- 0.00) x + (-0.08 +/- 0.09)\n"
     ]
    },
    {
     "data": {
      "image/png": "[encoded data removed]",
      "text/plain": [
       "<Figure size 432x288 with 1 Axes>"
      ]
     },
     "metadata": {
      "needs_background": "light"
     },
     "output_type": "display_data"
    }
   ],
   "source": [
    "def fitfunction(x,*paramlist):\n",
    "    return paramlist[0]+paramlist[1]*x\n",
    "\n",
    "init_vals = [0.0 for x in range(2)]\n",
    "popt, pcov = curve_fit(fitfunction,xi,yi,p0=init_vals)\n",
    "perr = np.sqrt(np.diag(pcov))\n",
    "\n",
    "ps = np.random.multivariate_normal(popt,pcov,10000)\n",
    "ysample=np.asarray([fitfunction(xi,*pi) for pi in ps])\n",
    "\n",
    "lower = np.percentile(ysample,2.5,axis=0)\n",
    "upper = np.percentile(ysample,97.5,axis=0)\n",
    "middle = (lower+upper)/2.0\n",
    "\n",
    "print(\"Coefficients (from curve_fit)\")\n",
    "print (popt)\n",
    "print(\"Covariance Matrix (from curve_fit)\")\n",
    "print (pcov)\n",
    "\n",
    "print()\n",
    "print (\"Final Result: y = (%0.2f +/- %0.2f) x + (%0.2f +/- %0.2f)\" % (popt[1],perr[1],popt[0],perr[0]))\n",
    "\n",
    "plt.plot(xi,yi,'o')\n",
    "\n",
    "plt.plot(xi,middle)\n",
    "plt.plot(xi,lower)\n",
    "plt.plot(xi,upper)\n",
    "plt.show()\n",
    "\n",
    "slope = []\n",
    "dslope = []\n",
    "yint = []\n",
    "dyint = []\n",
    "type = []\n",
    "\n",
    "slope.append(popt[1])\n",
    "dslope.append(perr[1])\n",
    "yint.append(popt[0])\n",
    "dyint.append(perr[0])\n",
    "type.append('Linear')"
   ]
  },
  {
   "cell_type": "code",
   "execution_count": 23,
   "metadata": {
    "colab": {
     "base_uri": "https://localhost:8080/",
     "height": 80
    },
    "id": "ccVZaODPaeL2",
    "outputId": "80b03e29-af92-42a4-d2f3-505a5f2dccf0"
   },
   "outputs": [
    {
     "data": {
      "text/html": [
       "<div>\n",
       "<style scoped>\n",
       "    .dataframe tbody tr th:only-of-type {\n",
       "        vertical-align: middle;\n",
       "    }\n",
       "\n",
       "    .dataframe tbody tr th {\n",
       "        vertical-align: top;\n",
       "    }\n",
       "\n",
       "    .dataframe thead th {\n",
       "        text-align: right;\n",
       "    }\n",
       "</style>\n",
       "<table border=\"1\" class=\"dataframe\">\n",
       "  <thead>\n",
       "    <tr style=\"text-align: right;\">\n",
       "      <th></th>\n",
       "      <th>Fit Type</th>\n",
       "      <th>Slope</th>\n",
       "      <th>Error in Slope</th>\n",
       "      <th>Y Intercept</th>\n",
       "      <th>Error in Y Intercept</th>\n",
       "    </tr>\n",
       "  </thead>\n",
       "  <tbody>\n",
       "    <tr>\n",
       "      <th>0</th>\n",
       "      <td>Linear</td>\n",
       "      <td>1.001117</td>\n",
       "      <td>0.001444</td>\n",
       "      <td>-0.077814</td>\n",
       "      <td>0.085597</td>\n",
       "    </tr>\n",
       "  </tbody>\n",
       "</table>\n",
       "</div>"
      ],
      "text/plain": [
       "  Fit Type     Slope  Error in Slope  Y Intercept  Error in Y Intercept\n",
       "0   Linear  1.001117        0.001444    -0.077814              0.085597"
      ]
     },
     "execution_count": 23,
     "metadata": {},
     "output_type": "execute_result"
    }
   ],
   "source": [
    "df = pd.DataFrame({'Fit Type':type, 'Slope':slope, 'Error in Slope':dslope, 'Y Intercept':yint, 'Error in Y Intercept':dyint})\n",
    "df.head()"
   ]
  },
  {
   "cell_type": "code",
   "execution_count": 24,
   "metadata": {
    "colab": {
     "base_uri": "https://localhost:8080/",
     "height": 336
    },
    "id": "ktirqk2bafs5",
    "outputId": "e64bbccb-1695-43e3-ffd3-2774748f6202"
   },
   "outputs": [
    {
     "name": "stderr",
     "output_type": "stream",
     "text": [
      "/usr/lib/python3.6/site-packages/ipykernel_launcher.py:2: MatplotlibDeprecationWarning: Support for passing a (n, 1)-shaped error array to errorbar() is deprecated since Matplotlib 3.1 and will be removed in 3.3; pass a 1D array instead.\n",
      "  \n"
     ]
    },
    {
     "data": {
      "text/plain": [
       "<ErrorbarContainer object of 3 artists>"
      ]
     },
     "execution_count": 24,
     "metadata": {},
     "output_type": "execute_result"
    },
    {
     "data": {
      "image/png": "[encoded data removed]",
      "text/plain": [
       "<Figure size 432x288 with 1 Axes>"
      ]
     },
     "metadata": {
      "needs_background": "light"
     },
     "output_type": "display_data"
    }
   ],
   "source": [
    "sigmai = np.array([dyint for i in range(npts)])\n",
    "plt.errorbar(xi, yi, yerr=sigmai, fmt='o', capsize=5, capthick=2)"
   ]
  },
  {
   "cell_type": "code",
   "execution_count": 25,
   "metadata": {
    "colab": {
     "base_uri": "https://localhost:8080/",
     "height": 282
    },
    "id": "oktnBTWFaqSd",
    "outputId": "9753ae3e-3f21-4478-c2b3-c2e58ef43997"
   },
   "outputs": [
    {
     "data": {
      "text/plain": [
       "[<matplotlib.lines.Line2D at 0x7fdb211bfa90>]"
      ]
     },
     "execution_count": 25,
     "metadata": {},
     "output_type": "execute_result"
    },
    {
     "data": {
      "image/png": "[encoded data removed]",
      "text/plain": [
       "<Figure size 432x288 with 1 Axes>"
      ]
     },
     "metadata": {
      "needs_background": "light"
     },
     "output_type": "display_data"
    }
   ],
   "source": [
    "#x - range 7\n",
    "npts = 11\n",
    "xlow = 0.5\n",
    "xhigh = 1000\n",
    "\n",
    "xl = xlow + 0.01\n",
    "xmid = (xhigh+xlow)/2.0+0.01\n",
    "\n",
    "xi = np.linspace(xlow,xhigh,npts)\n",
    "yrandom = stats.norm.rvs(size=npts,loc=0,scale=.2)\n",
    "yi = xi + yrandom\n",
    "\n",
    "plt.plot(xi,yi,'o')"
   ]
  },
  {
   "cell_type": "code",
   "execution_count": 26,
   "metadata": {
    "colab": {
     "base_uri": "https://localhost:8080/",
     "height": 384
    },
    "id": "DQcYm3n5avFg",
    "outputId": "fde20e4f-fab4-401b-ba3a-e4bd2e5eb70f"
   },
   "outputs": [
    {
     "name": "stdout",
     "output_type": "stream",
     "text": [
      "Coefficients (from curve_fit)\n",
      "[0.01546926 0.99977302]\n",
      "Covariance Matrix (from curve_fit)\n",
      "[[ 5.13867171e-03 -7.34025406e-06]\n",
      " [-7.34025406e-06  1.46733300e-08]]\n",
      "\n",
      "Final Result: y = (1.00 +/- 0.00) x + (0.02 +/- 0.07)\n"
     ]
    },
    {
     "data": {
      "image/png": "[encoded data removed]",
      "text/plain": [
       "<Figure size 432x288 with 1 Axes>"
      ]
     },
     "metadata": {
      "needs_background": "light"
     },
     "output_type": "display_data"
    }
   ],
   "source": [
    "def fitfunction(x,*paramlist):\n",
    "    return paramlist[0]+paramlist[1]*x\n",
    "\n",
    "init_vals = [0.0 for x in range(2)]\n",
    "popt, pcov = curve_fit(fitfunction,xi,yi,p0=init_vals)\n",
    "perr = np.sqrt(np.diag(pcov))\n",
    "\n",
    "ps = np.random.multivariate_normal(popt,pcov,10000)\n",
    "ysample=np.asarray([fitfunction(xi,*pi) for pi in ps])\n",
    "\n",
    "lower = np.percentile(ysample,2.5,axis=0)\n",
    "upper = np.percentile(ysample,97.5,axis=0)\n",
    "middle = (lower+upper)/2.0\n",
    "\n",
    "print(\"Coefficients (from curve_fit)\")\n",
    "print (popt)\n",
    "print(\"Covariance Matrix (from curve_fit)\")\n",
    "print (pcov)\n",
    "\n",
    "print()\n",
    "print (\"Final Result: y = (%0.2f +/- %0.2f) x + (%0.2f +/- %0.2f)\" % (popt[1],perr[1],popt[0],perr[0]))\n",
    "\n",
    "plt.plot(xi,yi,'o')\n",
    "\n",
    "plt.plot(xi,middle)\n",
    "plt.plot(xi,lower)\n",
    "plt.plot(xi,upper)\n",
    "plt.show()\n",
    "\n",
    "slope = []\n",
    "dslope = []\n",
    "yint = []\n",
    "dyint = []\n",
    "type = []\n",
    "\n",
    "slope.append(popt[1])\n",
    "dslope.append(perr[1])\n",
    "yint.append(popt[0])\n",
    "dyint.append(perr[0])\n",
    "type.append('Linear')"
   ]
  },
  {
   "cell_type": "code",
   "execution_count": 27,
   "metadata": {
    "colab": {
     "base_uri": "https://localhost:8080/",
     "height": 80
    },
    "id": "CnTvssDaa0wZ",
    "outputId": "376e9e9c-e62d-46f6-c288-5a87217a00c8"
   },
   "outputs": [
    {
     "data": {
      "text/html": [
       "<div>\n",
       "<style scoped>\n",
       "    .dataframe tbody tr th:only-of-type {\n",
       "        vertical-align: middle;\n",
       "    }\n",
       "\n",
       "    .dataframe tbody tr th {\n",
       "        vertical-align: top;\n",
       "    }\n",
       "\n",
       "    .dataframe thead th {\n",
       "        text-align: right;\n",
       "    }\n",
       "</style>\n",
       "<table border=\"1\" class=\"dataframe\">\n",
       "  <thead>\n",
       "    <tr style=\"text-align: right;\">\n",
       "      <th></th>\n",
       "      <th>Fit Type</th>\n",
       "      <th>Slope</th>\n",
       "      <th>Error in Slope</th>\n",
       "      <th>Y Intercept</th>\n",
       "      <th>Error in Y Intercept</th>\n",
       "    </tr>\n",
       "  </thead>\n",
       "  <tbody>\n",
       "    <tr>\n",
       "      <th>0</th>\n",
       "      <td>Linear</td>\n",
       "      <td>0.999773</td>\n",
       "      <td>0.000121</td>\n",
       "      <td>0.015469</td>\n",
       "      <td>0.071685</td>\n",
       "    </tr>\n",
       "  </tbody>\n",
       "</table>\n",
       "</div>"
      ],
      "text/plain": [
       "  Fit Type     Slope  Error in Slope  Y Intercept  Error in Y Intercept\n",
       "0   Linear  0.999773        0.000121     0.015469              0.071685"
      ]
     },
     "execution_count": 27,
     "metadata": {},
     "output_type": "execute_result"
    }
   ],
   "source": [
    "df = pd.DataFrame({'Fit Type':type, 'Slope':slope, 'Error in Slope':dslope, 'Y Intercept':yint, 'Error in Y Intercept':dyint})\n",
    "df.head()"
   ]
  },
  {
   "cell_type": "code",
   "execution_count": 28,
   "metadata": {
    "colab": {
     "base_uri": "https://localhost:8080/",
     "height": 336
    },
    "id": "z5MrhtYEa2PK",
    "outputId": "b007e7f6-6749-4e98-c93a-578bfcea7560"
   },
   "outputs": [
    {
     "name": "stderr",
     "output_type": "stream",
     "text": [
      "/usr/lib/python3.6/site-packages/ipykernel_launcher.py:2: MatplotlibDeprecationWarning: Support for passing a (n, 1)-shaped error array to errorbar() is deprecated since Matplotlib 3.1 and will be removed in 3.3; pass a 1D array instead.\n",
      "  \n"
     ]
    },
    {
     "data": {
      "text/plain": [
       "<ErrorbarContainer object of 3 artists>"
      ]
     },
     "execution_count": 28,
     "metadata": {},
     "output_type": "execute_result"
    },
    {
     "data": {
      "image/png": "[encoded data removed]",
      "text/plain": [
       "<Figure size 432x288 with 1 Axes>"
      ]
     },
     "metadata": {
      "needs_background": "light"
     },
     "output_type": "display_data"
    }
   ],
   "source": [
    "sigmai = np.array([dyint for i in range(npts)])\n",
    "plt.errorbar(xi, yi, yerr=sigmai, fmt='o', capsize=5, capthick=2)"
   ]
  },
  {
   "cell_type": "code",
   "execution_count": 29,
   "metadata": {
    "colab": {
     "base_uri": "https://localhost:8080/",
     "height": 282
    },
    "id": "SjEpgdakbR-B",
    "outputId": "153b5ec0-7350-4752-a4a6-dc49c44d3ddd"
   },
   "outputs": [
    {
     "data": {
      "text/plain": [
       "[<matplotlib.lines.Line2D at 0x7fdb2107f4a8>]"
      ]
     },
     "execution_count": 29,
     "metadata": {},
     "output_type": "execute_result"
    },
    {
     "data": {
      "image/png": "[encoded data removed]",
      "text/plain": [
       "<Figure size 432x288 with 1 Axes>"
      ]
     },
     "metadata": {
      "needs_background": "light"
     },
     "output_type": "display_data"
    }
   ],
   "source": [
    "#x - range 8\n",
    "npts = 11\n",
    "xlow = 0.5\n",
    "xhigh = 10000\n",
    "\n",
    "xl = xlow + 0.01\n",
    "xmid = (xhigh+xlow)/2.0+0.01\n",
    "\n",
    "xi = np.linspace(xlow,xhigh,npts)\n",
    "yrandom = stats.norm.rvs(size=npts,loc=0,scale=.2)\n",
    "yi = xi + yrandom\n",
    "\n",
    "plt.plot(xi,yi,'o')"
   ]
  },
  {
   "cell_type": "code",
   "execution_count": 30,
   "metadata": {
    "colab": {
     "base_uri": "https://localhost:8080/",
     "height": 384
    },
    "id": "IMIkUapZbWxW",
    "outputId": "c9a605f1-5f6d-407d-e166-fac980706dd2"
   },
   "outputs": [
    {
     "name": "stdout",
     "output_type": "stream",
     "text": [
      "Coefficients (from curve_fit)\n",
      "[-0.05724721  0.99998961]\n",
      "Covariance Matrix (from curve_fit)\n",
      "[[ 6.61163231e-03 -9.44502343e-07]\n",
      " [-9.44502343e-07  1.88887211e-10]]\n",
      "\n",
      "Final Result: y = (1.00 +/- 0.00) x + (-0.06 +/- 0.08)\n"
     ]
    },
    {
     "data": {
      "image/png": "[encoded data removed]",
      "text/plain": [
       "<Figure size 432x288 with 1 Axes>"
      ]
     },
     "metadata": {
      "needs_background": "light"
     },
     "output_type": "display_data"
    }
   ],
   "source": [
    "def fitfunction(x,*paramlist):\n",
    "    return paramlist[0]+paramlist[1]*x\n",
    "\n",
    "init_vals = [0.0 for x in range(2)]\n",
    "popt, pcov = curve_fit(fitfunction,xi,yi,p0=init_vals)\n",
    "perr = np.sqrt(np.diag(pcov))\n",
    "\n",
    "ps = np.random.multivariate_normal(popt,pcov,10000)\n",
    "ysample=np.asarray([fitfunction(xi,*pi) for pi in ps])\n",
    "\n",
    "lower = np.percentile(ysample,2.5,axis=0)\n",
    "upper = np.percentile(ysample,97.5,axis=0)\n",
    "middle = (lower+upper)/2.0\n",
    "\n",
    "print(\"Coefficients (from curve_fit)\")\n",
    "print (popt)\n",
    "print(\"Covariance Matrix (from curve_fit)\")\n",
    "print (pcov)\n",
    "\n",
    "print()\n",
    "print (\"Final Result: y = (%0.2f +/- %0.2f) x + (%0.2f +/- %0.2f)\" % (popt[1],perr[1],popt[0],perr[0]))\n",
    "\n",
    "plt.plot(xi,yi,'o')\n",
    "\n",
    "plt.plot(xi,middle)\n",
    "plt.plot(xi,lower)\n",
    "plt.plot(xi,upper)\n",
    "plt.show()\n",
    "\n",
    "slope = []\n",
    "dslope = []\n",
    "yint = []\n",
    "dyint = []\n",
    "type = []\n",
    "\n",
    "slope.append(popt[1])\n",
    "dslope.append(perr[1])\n",
    "yint.append(popt[0])\n",
    "dyint.append(perr[0])\n",
    "type.append('Linear')"
   ]
  },
  {
   "cell_type": "code",
   "execution_count": 31,
   "metadata": {
    "colab": {
     "base_uri": "https://localhost:8080/",
     "height": 80
    },
    "id": "J8hi-jQYbc8j",
    "outputId": "7ff62cde-3688-4ffb-c454-ddd5b782d78d"
   },
   "outputs": [
    {
     "data": {
      "text/html": [
       "<div>\n",
       "<style scoped>\n",
       "    .dataframe tbody tr th:only-of-type {\n",
       "        vertical-align: middle;\n",
       "    }\n",
       "\n",
       "    .dataframe tbody tr th {\n",
       "        vertical-align: top;\n",
       "    }\n",
       "\n",
       "    .dataframe thead th {\n",
       "        text-align: right;\n",
       "    }\n",
       "</style>\n",
       "<table border=\"1\" class=\"dataframe\">\n",
       "  <thead>\n",
       "    <tr style=\"text-align: right;\">\n",
       "      <th></th>\n",
       "      <th>Fit Type</th>\n",
       "      <th>Slope</th>\n",
       "      <th>Error in Slope</th>\n",
       "      <th>Y Intercept</th>\n",
       "      <th>Error in Y Intercept</th>\n",
       "    </tr>\n",
       "  </thead>\n",
       "  <tbody>\n",
       "    <tr>\n",
       "      <th>0</th>\n",
       "      <td>Linear</td>\n",
       "      <td>0.99999</td>\n",
       "      <td>0.000014</td>\n",
       "      <td>-0.057247</td>\n",
       "      <td>0.081312</td>\n",
       "    </tr>\n",
       "  </tbody>\n",
       "</table>\n",
       "</div>"
      ],
      "text/plain": [
       "  Fit Type    Slope  Error in Slope  Y Intercept  Error in Y Intercept\n",
       "0   Linear  0.99999        0.000014    -0.057247              0.081312"
      ]
     },
     "execution_count": 31,
     "metadata": {},
     "output_type": "execute_result"
    }
   ],
   "source": [
    "df = pd.DataFrame({'Fit Type':type, 'Slope':slope, 'Error in Slope':dslope, 'Y Intercept':yint, 'Error in Y Intercept':dyint})\n",
    "df.head()"
   ]
  },
  {
   "cell_type": "code",
   "execution_count": 32,
   "metadata": {
    "colab": {
     "base_uri": "https://localhost:8080/",
     "height": 336
    },
    "id": "5Nu17YTAbe5g",
    "outputId": "cf7d850c-d30e-409f-a099-fc361248d70f"
   },
   "outputs": [
    {
     "name": "stderr",
     "output_type": "stream",
     "text": [
      "/usr/lib/python3.6/site-packages/ipykernel_launcher.py:2: MatplotlibDeprecationWarning: Support for passing a (n, 1)-shaped error array to errorbar() is deprecated since Matplotlib 3.1 and will be removed in 3.3; pass a 1D array instead.\n",
      "  \n"
     ]
    },
    {
     "data": {
      "text/plain": [
       "<ErrorbarContainer object of 3 artists>"
      ]
     },
     "execution_count": 32,
     "metadata": {},
     "output_type": "execute_result"
    },
    {
     "data": {
      "image/png": "[encoded data removed]",
      "text/plain": [
       "<Figure size 432x288 with 1 Axes>"
      ]
     },
     "metadata": {
      "needs_background": "light"
     },
     "output_type": "display_data"
    }
   ],
   "source": [
    "sigmai = np.array([dyint for i in range(npts)])\n",
    "plt.errorbar(xi, yi, yerr=sigmai, fmt='o', capsize=5, capthick=2)"
   ]
  },
  {
   "cell_type": "code",
   "execution_count": 33,
   "metadata": {
    "colab": {
     "base_uri": "https://localhost:8080/",
     "height": 282
    },
    "id": "8kGV9iXLbn7t",
    "outputId": "b61dca63-1b00-4a7b-c4c8-3dec99d445fc"
   },
   "outputs": [
    {
     "data": {
      "text/plain": [
       "[<matplotlib.lines.Line2D at 0x7fdb2140f438>]"
      ]
     },
     "execution_count": 33,
     "metadata": {},
     "output_type": "execute_result"
    },
    {
     "data": {
      "image/png": "[encoded data removed]",
      "text/plain": [
       "<Figure size 432x288 with 1 Axes>"
      ]
     },
     "metadata": {
      "needs_background": "light"
     },
     "output_type": "display_data"
    }
   ],
   "source": [
    "#x - range 9\n",
    "npts = 11\n",
    "xlow = 0.5\n",
    "xhigh = 100000\n",
    "\n",
    "xl = xlow + 0.01\n",
    "xmid = (xhigh+xlow)/2.0+0.01\n",
    "\n",
    "xi = np.linspace(xlow,xhigh,npts)\n",
    "yrandom = stats.norm.rvs(size=npts,loc=0,scale=.2)\n",
    "yi = xi + yrandom\n",
    "\n",
    "plt.plot(xi,yi,'o')"
   ]
  },
  {
   "cell_type": "code",
   "execution_count": 34,
   "metadata": {
    "colab": {
     "base_uri": "https://localhost:8080/",
     "height": 384
    },
    "id": "4M-RAdJTbtFw",
    "outputId": "92ab62cc-4cc3-454e-a19f-bbcac447bd4c"
   },
   "outputs": [
    {
     "name": "stdout",
     "output_type": "stream",
     "text": [
      "Coefficients (from curve_fit)\n",
      "[-0.11094088  0.99999996]\n",
      "Covariance Matrix (from curve_fit)\n",
      "[[ 2.62731986e-02 -3.76168717e-07]\n",
      " [-3.76168717e-07  7.52574622e-12]]\n",
      "\n",
      "Final Result: y = (1.00 +/- 0.00) x + (-0.11 +/- 0.16)\n"
     ]
    },
    {
     "data": {
      "image/png": "[encoded data removed]",
      "text/plain": [
       "<Figure size 432x288 with 1 Axes>"
      ]
     },
     "metadata": {
      "needs_background": "light"
     },
     "output_type": "display_data"
    }
   ],
   "source": [
    "def fitfunction(x,*paramlist):\n",
    "    return paramlist[0]+paramlist[1]*x\n",
    "\n",
    "init_vals = [0.0 for x in range(2)]\n",
    "popt, pcov = curve_fit(fitfunction,xi,yi,p0=init_vals)\n",
    "perr = np.sqrt(np.diag(pcov))\n",
    "\n",
    "ps = np.random.multivariate_normal(popt,pcov,10000)\n",
    "ysample=np.asarray([fitfunction(xi,*pi) for pi in ps])\n",
    "\n",
    "lower = np.percentile(ysample,2.5,axis=0)\n",
    "upper = np.percentile(ysample,97.5,axis=0)\n",
    "middle = (lower+upper)/2.0\n",
    "\n",
    "print(\"Coefficients (from curve_fit)\")\n",
    "print (popt)\n",
    "print(\"Covariance Matrix (from curve_fit)\")\n",
    "print (pcov)\n",
    "\n",
    "print()\n",
    "print (\"Final Result: y = (%0.2f +/- %0.2f) x + (%0.2f +/- %0.2f)\" % (popt[1],perr[1],popt[0],perr[0]))\n",
    "\n",
    "plt.plot(xi,yi,'o')\n",
    "\n",
    "plt.plot(xi,middle)\n",
    "plt.plot(xi,lower)\n",
    "plt.plot(xi,upper)\n",
    "plt.show()\n",
    "\n",
    "slope = []\n",
    "dslope = []\n",
    "yint = []\n",
    "dyint = []\n",
    "type = []\n",
    "\n",
    "slope.append(popt[1])\n",
    "dslope.append(perr[1])\n",
    "yint.append(popt[0])\n",
    "dyint.append(perr[0])\n",
    "type.append('Linear')"
   ]
  },
  {
   "cell_type": "code",
   "execution_count": 35,
   "metadata": {
    "colab": {
     "base_uri": "https://localhost:8080/",
     "height": 80
    },
    "id": "Gtj-om5Pbw4e",
    "outputId": "0c88a3c4-94c5-4c50-f189-f05056e03607"
   },
   "outputs": [
    {
     "data": {
      "text/html": [
       "<div>\n",
       "<style scoped>\n",
       "    .dataframe tbody tr th:only-of-type {\n",
       "        vertical-align: middle;\n",
       "    }\n",
       "\n",
       "    .dataframe tbody tr th {\n",
       "        vertical-align: top;\n",
       "    }\n",
       "\n",
       "    .dataframe thead th {\n",
       "        text-align: right;\n",
       "    }\n",
       "</style>\n",
       "<table border=\"1\" class=\"dataframe\">\n",
       "  <thead>\n",
       "    <tr style=\"text-align: right;\">\n",
       "      <th></th>\n",
       "      <th>Fit Type</th>\n",
       "      <th>Slope</th>\n",
       "      <th>Error in Slope</th>\n",
       "      <th>Y Intercept</th>\n",
       "      <th>Error in Y Intercept</th>\n",
       "    </tr>\n",
       "  </thead>\n",
       "  <tbody>\n",
       "    <tr>\n",
       "      <th>0</th>\n",
       "      <td>Linear</td>\n",
       "      <td>1.0</td>\n",
       "      <td>0.000003</td>\n",
       "      <td>-0.110941</td>\n",
       "      <td>0.16209</td>\n",
       "    </tr>\n",
       "  </tbody>\n",
       "</table>\n",
       "</div>"
      ],
      "text/plain": [
       "  Fit Type  Slope  Error in Slope  Y Intercept  Error in Y Intercept\n",
       "0   Linear    1.0        0.000003    -0.110941               0.16209"
      ]
     },
     "execution_count": 35,
     "metadata": {},
     "output_type": "execute_result"
    }
   ],
   "source": [
    "df = pd.DataFrame({'Fit Type':type, 'Slope':slope, 'Error in Slope':dslope, 'Y Intercept':yint, 'Error in Y Intercept':dyint})\n",
    "df.head()"
   ]
  },
  {
   "cell_type": "code",
   "execution_count": 36,
   "metadata": {
    "colab": {
     "base_uri": "https://localhost:8080/",
     "height": 336
    },
    "id": "X3tyPya7b1hz",
    "outputId": "7f9e9f7a-a364-4d13-f7b0-d24990c2b517"
   },
   "outputs": [
    {
     "name": "stderr",
     "output_type": "stream",
     "text": [
      "/usr/lib/python3.6/site-packages/ipykernel_launcher.py:2: MatplotlibDeprecationWarning: Support for passing a (n, 1)-shaped error array to errorbar() is deprecated since Matplotlib 3.1 and will be removed in 3.3; pass a 1D array instead.\n",
      "  \n"
     ]
    },
    {
     "data": {
      "text/plain": [
       "<ErrorbarContainer object of 3 artists>"
      ]
     },
     "execution_count": 36,
     "metadata": {},
     "output_type": "execute_result"
    },
    {
     "data": {
      "image/png": "[encoded data removed]",
      "text/plain": [
       "<Figure size 432x288 with 1 Axes>"
      ]
     },
     "metadata": {
      "needs_background": "light"
     },
     "output_type": "display_data"
    }
   ],
   "source": [
    "sigmai = np.array([dyint for i in range(npts)])\n",
    "plt.errorbar(xi, yi, yerr=sigmai, fmt='o', capsize=5, capthick=2)"
   ]
  },
  {
   "cell_type": "code",
   "execution_count": 37,
   "metadata": {
    "colab": {
     "base_uri": "https://localhost:8080/",
     "height": 306
    },
    "id": "xZBzPI8Ib6RT",
    "outputId": "dc8f777f-14ab-44dd-fc33-b45eac42c5e7"
   },
   "outputs": [
    {
     "data": {
      "text/plain": [
       "[<matplotlib.lines.Line2D at 0x7fdb20fbc080>]"
      ]
     },
     "execution_count": 37,
     "metadata": {},
     "output_type": "execute_result"
    },
    {
     "data": {
      "image/png": "[encoded data removed]",
      "text/plain": [
       "<Figure size 432x288 with 1 Axes>"
      ]
     },
     "metadata": {
      "needs_background": "light"
     },
     "output_type": "display_data"
    }
   ],
   "source": [
    "#x - range 10\n",
    "npts = 11\n",
    "xlow = 0.5\n",
    "xhigh = 1000000\n",
    "\n",
    "xl = xlow + 0.01\n",
    "xmid = (xhigh+xlow)/2.0+0.01\n",
    "\n",
    "xi = np.linspace(xlow,xhigh,npts)\n",
    "yrandom = stats.norm.rvs(size=npts,loc=0,scale=.2)\n",
    "yi = xi + yrandom\n",
    "\n",
    "plt.plot(xi,yi,'o')"
   ]
  },
  {
   "cell_type": "code",
   "execution_count": 38,
   "metadata": {
    "colab": {
     "base_uri": "https://localhost:8080/",
     "height": 408
    },
    "id": "MTnIkTgyb-vV",
    "outputId": "35660ff9-f15a-4c46-e154-bdff08c93962"
   },
   "outputs": [
    {
     "name": "stdout",
     "output_type": "stream",
     "text": [
      "Coefficients (from curve_fit)\n",
      "[0.10523318 0.99999986]\n",
      "Covariance Matrix (from curve_fit)\n",
      "[[ 7.33077635e-03 -1.07968773e-08]\n",
      " [-1.07968773e-08  2.16921872e-14]]\n",
      "\n",
      "Final Result: y = (1.00 +/- 0.00) x + (0.11 +/- 0.09)\n"
     ]
    },
    {
     "data": {
      "image/png": "[encoded data removed]",
      "text/plain": [
       "<Figure size 432x288 with 1 Axes>"
      ]
     },
     "metadata": {
      "needs_background": "light"
     },
     "output_type": "display_data"
    }
   ],
   "source": [
    "def fitfunction(x,*paramlist):\n",
    "    return paramlist[0]+paramlist[1]*x\n",
    "\n",
    "init_vals = [0.0 for x in range(2)]\n",
    "popt, pcov = curve_fit(fitfunction,xi,yi,p0=init_vals)\n",
    "perr = np.sqrt(np.diag(pcov))\n",
    "\n",
    "ps = np.random.multivariate_normal(popt,pcov,10000)\n",
    "ysample=np.asarray([fitfunction(xi,*pi) for pi in ps])\n",
    "\n",
    "lower = np.percentile(ysample,2.5,axis=0)\n",
    "upper = np.percentile(ysample,97.5,axis=0)\n",
    "middle = (lower+upper)/2.0\n",
    "\n",
    "print(\"Coefficients (from curve_fit)\")\n",
    "print (popt)\n",
    "print(\"Covariance Matrix (from curve_fit)\")\n",
    "print (pcov)\n",
    "\n",
    "print()\n",
    "print (\"Final Result: y = (%0.2f +/- %0.2f) x + (%0.2f +/- %0.2f)\" % (popt[1],perr[1],popt[0],perr[0]))\n",
    "\n",
    "plt.plot(xi,yi,'o')\n",
    "\n",
    "plt.plot(xi,middle)\n",
    "plt.plot(xi,lower)\n",
    "plt.plot(xi,upper)\n",
    "plt.show()\n",
    "\n",
    "slope = []\n",
    "dslope = []\n",
    "yint = []\n",
    "dyint = []\n",
    "type = []\n",
    "\n",
    "slope.append(popt[1])\n",
    "dslope.append(perr[1])\n",
    "yint.append(popt[0])\n",
    "dyint.append(perr[0])\n",
    "type.append('Linear')"
   ]
  },
  {
   "cell_type": "code",
   "execution_count": 39,
   "metadata": {
    "colab": {
     "base_uri": "https://localhost:8080/",
     "height": 80
    },
    "id": "rHafefVocDem",
    "outputId": "31b4dd95-030e-4575-ac1e-1ce614295fd7"
   },
   "outputs": [
    {
     "data": {
      "text/html": [
       "<div>\n",
       "<style scoped>\n",
       "    .dataframe tbody tr th:only-of-type {\n",
       "        vertical-align: middle;\n",
       "    }\n",
       "\n",
       "    .dataframe tbody tr th {\n",
       "        vertical-align: top;\n",
       "    }\n",
       "\n",
       "    .dataframe thead th {\n",
       "        text-align: right;\n",
       "    }\n",
       "</style>\n",
       "<table border=\"1\" class=\"dataframe\">\n",
       "  <thead>\n",
       "    <tr style=\"text-align: right;\">\n",
       "      <th></th>\n",
       "      <th>Fit Type</th>\n",
       "      <th>Slope</th>\n",
       "      <th>Error in Slope</th>\n",
       "      <th>Y Intercept</th>\n",
       "      <th>Error in Y Intercept</th>\n",
       "    </tr>\n",
       "  </thead>\n",
       "  <tbody>\n",
       "    <tr>\n",
       "      <th>0</th>\n",
       "      <td>Linear</td>\n",
       "      <td>1.0</td>\n",
       "      <td>1.472827e-07</td>\n",
       "      <td>0.105233</td>\n",
       "      <td>0.08562</td>\n",
       "    </tr>\n",
       "  </tbody>\n",
       "</table>\n",
       "</div>"
      ],
      "text/plain": [
       "  Fit Type  Slope  Error in Slope  Y Intercept  Error in Y Intercept\n",
       "0   Linear    1.0    1.472827e-07     0.105233               0.08562"
      ]
     },
     "execution_count": 39,
     "metadata": {},
     "output_type": "execute_result"
    }
   ],
   "source": [
    "df = pd.DataFrame({'Fit Type':type, 'Slope':slope, 'Error in Slope':dslope, 'Y Intercept':yint, 'Error in Y Intercept':dyint})\n",
    "df.head()"
   ]
  },
  {
   "cell_type": "code",
   "execution_count": 40,
   "metadata": {
    "colab": {
     "base_uri": "https://localhost:8080/",
     "height": 360
    },
    "id": "9vsb0HubcGub",
    "outputId": "88180e87-7684-44d5-ee07-27dc8a2ac6e6"
   },
   "outputs": [
    {
     "name": "stderr",
     "output_type": "stream",
     "text": [
      "/usr/lib/python3.6/site-packages/ipykernel_launcher.py:2: MatplotlibDeprecationWarning: Support for passing a (n, 1)-shaped error array to errorbar() is deprecated since Matplotlib 3.1 and will be removed in 3.3; pass a 1D array instead.\n",
      "  \n"
     ]
    },
    {
     "data": {
      "text/plain": [
       "<ErrorbarContainer object of 3 artists>"
      ]
     },
     "execution_count": 40,
     "metadata": {},
     "output_type": "execute_result"
    },
    {
     "data": {
      "image/png": "[encoded data removed]",
      "text/plain": [
       "<Figure size 432x288 with 1 Axes>"
      ]
     },
     "metadata": {
      "needs_background": "light"
     },
     "output_type": "display_data"
    }
   ],
   "source": [
    "sigmai = np.array([dyint for i in range(npts)])\n",
    "plt.errorbar(xi, yi, yerr=sigmai, fmt='o', capsize=5, capthick=2)"
   ]
  },
  {
   "cell_type": "code",
   "execution_count": 41,
   "metadata": {
    "colab": {
     "base_uri": "https://localhost:8080/",
     "height": 282
    },
    "id": "BpJe1VfpcvJg",
    "outputId": "bd4af02b-d86b-4ea3-dd5c-dbf10c47f9a2"
   },
   "outputs": [
    {
     "data": {
      "text/plain": [
       "[<matplotlib.lines.Line2D at 0x7fdb20eee0b8>]"
      ]
     },
     "execution_count": 41,
     "metadata": {},
     "output_type": "execute_result"
    },
    {
     "data": {
      "image/png": "[encoded data removed]",
      "text/plain": [
       "<Figure size 432x288 with 1 Axes>"
      ]
     },
     "metadata": {
      "needs_background": "light"
     },
     "output_type": "display_data"
    }
   ],
   "source": [
    "#x - range 11\n",
    "npts = 11\n",
    "xlow = 5\n",
    "xhigh = 10000\n",
    "\n",
    "xl = xlow + 0.01\n",
    "xmid = (xhigh+xlow)/2.0+0.01\n",
    "\n",
    "xi = np.linspace(xlow,xhigh,npts)\n",
    "yrandom = stats.norm.rvs(size=npts,loc=0,scale=.2)\n",
    "yi = xi + yrandom\n",
    "\n",
    "plt.plot(xi,yi,'o')"
   ]
  },
  {
   "cell_type": "code",
   "execution_count": 42,
   "metadata": {
    "colab": {
     "base_uri": "https://localhost:8080/",
     "height": 384
    },
    "id": "DG5tDs6rc4GJ",
    "outputId": "f5ef89bc-88ac-4972-dbca-55949ac715eb"
   },
   "outputs": [
    {
     "name": "stdout",
     "output_type": "stream",
     "text": [
      "Coefficients (from curve_fit)\n",
      "[0.14112071 0.99999081]\n",
      "Covariance Matrix (from curve_fit)\n",
      "[[ 1.58565867e-02 -2.26531096e-06]\n",
      " [-2.26531096e-06  4.52826845e-10]]\n",
      "\n",
      "Final Result: y = (1.00 +/- 0.00) x + (0.14 +/- 0.13)\n"
     ]
    },
    {
     "data": {
      "image/png": "[encoded data removed]",
      "text/plain": [
       "<Figure size 432x288 with 1 Axes>"
      ]
     },
     "metadata": {
      "needs_background": "light"
     },
     "output_type": "display_data"
    }
   ],
   "source": [
    "def fitfunction(x,*paramlist):\n",
    "    return paramlist[0]+paramlist[1]*x\n",
    "\n",
    "init_vals = [0.0 for x in range(2)]\n",
    "popt, pcov = curve_fit(fitfunction,xi,yi,p0=init_vals)\n",
    "perr = np.sqrt(np.diag(pcov))\n",
    "\n",
    "ps = np.random.multivariate_normal(popt,pcov,10000)\n",
    "ysample=np.asarray([fitfunction(xi,*pi) for pi in ps])\n",
    "\n",
    "lower = np.percentile(ysample,2.5,axis=0)\n",
    "upper = np.percentile(ysample,97.5,axis=0)\n",
    "middle = (lower+upper)/2.0\n",
    "\n",
    "print(\"Coefficients (from curve_fit)\")\n",
    "print (popt)\n",
    "print(\"Covariance Matrix (from curve_fit)\")\n",
    "print (pcov)\n",
    "\n",
    "print()\n",
    "print (\"Final Result: y = (%0.2f +/- %0.2f) x + (%0.2f +/- %0.2f)\" % (popt[1],perr[1],popt[0],perr[0]))\n",
    "\n",
    "plt.plot(xi,yi,'o')\n",
    "\n",
    "plt.plot(xi,middle)\n",
    "plt.plot(xi,lower)\n",
    "plt.plot(xi,upper)\n",
    "plt.show()\n",
    "\n",
    "slope = []\n",
    "dslope = []\n",
    "yint = []\n",
    "dyint = []\n",
    "type = []\n",
    "\n",
    "slope.append(popt[1])\n",
    "dslope.append(perr[1])\n",
    "yint.append(popt[0])\n",
    "dyint.append(perr[0])\n",
    "type.append('Linear')"
   ]
  },
  {
   "cell_type": "code",
   "execution_count": 43,
   "metadata": {
    "colab": {
     "base_uri": "https://localhost:8080/",
     "height": 80
    },
    "id": "FxJUD30vc7xw",
    "outputId": "4614a10e-ccc2-4228-b90a-c6c6a31371e6"
   },
   "outputs": [
    {
     "data": {
      "text/html": [
       "<div>\n",
       "<style scoped>\n",
       "    .dataframe tbody tr th:only-of-type {\n",
       "        vertical-align: middle;\n",
       "    }\n",
       "\n",
       "    .dataframe tbody tr th {\n",
       "        vertical-align: top;\n",
       "    }\n",
       "\n",
       "    .dataframe thead th {\n",
       "        text-align: right;\n",
       "    }\n",
       "</style>\n",
       "<table border=\"1\" class=\"dataframe\">\n",
       "  <thead>\n",
       "    <tr style=\"text-align: right;\">\n",
       "      <th></th>\n",
       "      <th>Fit Type</th>\n",
       "      <th>Slope</th>\n",
       "      <th>Error in Slope</th>\n",
       "      <th>Y Intercept</th>\n",
       "      <th>Error in Y Intercept</th>\n",
       "    </tr>\n",
       "  </thead>\n",
       "  <tbody>\n",
       "    <tr>\n",
       "      <th>0</th>\n",
       "      <td>Linear</td>\n",
       "      <td>0.999991</td>\n",
       "      <td>0.000021</td>\n",
       "      <td>0.141121</td>\n",
       "      <td>0.125923</td>\n",
       "    </tr>\n",
       "  </tbody>\n",
       "</table>\n",
       "</div>"
      ],
      "text/plain": [
       "  Fit Type     Slope  Error in Slope  Y Intercept  Error in Y Intercept\n",
       "0   Linear  0.999991        0.000021     0.141121              0.125923"
      ]
     },
     "execution_count": 43,
     "metadata": {},
     "output_type": "execute_result"
    }
   ],
   "source": [
    "df = pd.DataFrame({'Fit Type':type, 'Slope':slope, 'Error in Slope':dslope, 'Y Intercept':yint, 'Error in Y Intercept':dyint})\n",
    "df.head()"
   ]
  },
  {
   "cell_type": "code",
   "execution_count": 44,
   "metadata": {
    "colab": {
     "base_uri": "https://localhost:8080/",
     "height": 336
    },
    "id": "fQbsRtQuc-W4",
    "outputId": "0093e987-55a4-4bf8-a97d-9c477cbaf236"
   },
   "outputs": [
    {
     "name": "stderr",
     "output_type": "stream",
     "text": [
      "/usr/lib/python3.6/site-packages/ipykernel_launcher.py:2: MatplotlibDeprecationWarning: Support for passing a (n, 1)-shaped error array to errorbar() is deprecated since Matplotlib 3.1 and will be removed in 3.3; pass a 1D array instead.\n",
      "  \n"
     ]
    },
    {
     "data": {
      "text/plain": [
       "<ErrorbarContainer object of 3 artists>"
      ]
     },
     "execution_count": 44,
     "metadata": {},
     "output_type": "execute_result"
    },
    {
     "data": {
      "image/png": "[encoded data removed]",
      "text/plain": [
       "<Figure size 432x288 with 1 Axes>"
      ]
     },
     "metadata": {
      "needs_background": "light"
     },
     "output_type": "display_data"
    }
   ],
   "source": [
    "sigmai = np.array([dyint for i in range(npts)])\n",
    "plt.errorbar(xi, yi, yerr=sigmai, fmt='o', capsize=5, capthick=2)"
   ]
  },
  {
   "cell_type": "code",
   "execution_count": 45,
   "metadata": {
    "colab": {
     "base_uri": "https://localhost:8080/",
     "height": 282
    },
    "id": "txDUI7BWdCpG",
    "outputId": "0e03401b-4cec-4a5f-be37-8920998a9f8b"
   },
   "outputs": [
    {
     "data": {
      "text/plain": [
       "[<matplotlib.lines.Line2D at 0x7fdb20d99a90>]"
      ]
     },
     "execution_count": 45,
     "metadata": {},
     "output_type": "execute_result"
    },
    {
     "data": {
      "image/png": "[encoded data removed]",
      "text/plain": [
       "<Figure size 432x288 with 1 Axes>"
      ]
     },
     "metadata": {
      "needs_background": "light"
     },
     "output_type": "display_data"
    }
   ],
   "source": [
    "#x - range 12\n",
    "npts = 11\n",
    "xlow = 10\n",
    "xhigh = 10000\n",
    "\n",
    "xl = xlow + 0.01\n",
    "xmid = (xhigh+xlow)/2.0+0.01\n",
    "\n",
    "xi = np.linspace(xlow,xhigh,npts)\n",
    "yrandom = stats.norm.rvs(size=npts,loc=0,scale=.2)\n",
    "yi = xi + yrandom\n",
    "\n",
    "plt.plot(xi,yi,'o')"
   ]
  },
  {
   "cell_type": "code",
   "execution_count": 46,
   "metadata": {
    "colab": {
     "base_uri": "https://localhost:8080/",
     "height": 384
    },
    "id": "4Ovl8XcCdI96",
    "outputId": "fa48460c-61fe-475b-9199-d4f298d0c5a8"
   },
   "outputs": [
    {
     "name": "stdout",
     "output_type": "stream",
     "text": [
      "Coefficients (from curve_fit)\n",
      "[-0.1220778   1.00002187]\n",
      "Covariance Matrix (from curve_fit)\n",
      "[[ 3.47298610e-03 -4.96253016e-07]\n",
      " [-4.96253016e-07  9.91606447e-11]]\n",
      "\n",
      "Final Result: y = (1.00 +/- 0.00) x + (-0.12 +/- 0.06)\n"
     ]
    },
    {
     "data": {
      "image/png": "[encoded data removed]",
      "text/plain": [
       "<Figure size 432x288 with 1 Axes>"
      ]
     },
     "metadata": {
      "needs_background": "light"
     },
     "output_type": "display_data"
    }
   ],
   "source": [
    "def fitfunction(x,*paramlist):\n",
    "    return paramlist[0]+paramlist[1]*x\n",
    "\n",
    "init_vals = [0.0 for x in range(2)]\n",
    "popt, pcov = curve_fit(fitfunction,xi,yi,p0=init_vals)\n",
    "perr = np.sqrt(np.diag(pcov))\n",
    "\n",
    "ps = np.random.multivariate_normal(popt,pcov,10000)\n",
    "ysample=np.asarray([fitfunction(xi,*pi) for pi in ps])\n",
    "\n",
    "lower = np.percentile(ysample,2.5,axis=0)\n",
    "upper = np.percentile(ysample,97.5,axis=0)\n",
    "middle = (lower+upper)/2.0\n",
    "\n",
    "print(\"Coefficients (from curve_fit)\")\n",
    "print (popt)\n",
    "print(\"Covariance Matrix (from curve_fit)\")\n",
    "print (pcov)\n",
    "\n",
    "print()\n",
    "print (\"Final Result: y = (%0.2f +/- %0.2f) x + (%0.2f +/- %0.2f)\" % (popt[1],perr[1],popt[0],perr[0]))\n",
    "\n",
    "plt.plot(xi,yi,'o')\n",
    "\n",
    "plt.plot(xi,middle)\n",
    "plt.plot(xi,lower)\n",
    "plt.plot(xi,upper)\n",
    "plt.show()\n",
    "\n",
    "slope = []\n",
    "dslope = []\n",
    "yint = []\n",
    "dyint = []\n",
    "type = []\n",
    "\n",
    "slope.append(popt[1])\n",
    "dslope.append(perr[1])\n",
    "yint.append(popt[0])\n",
    "dyint.append(perr[0])\n",
    "type.append('Linear')"
   ]
  },
  {
   "cell_type": "code",
   "execution_count": 47,
   "metadata": {
    "colab": {
     "base_uri": "https://localhost:8080/",
     "height": 80
    },
    "id": "onXkMctUdMCM",
    "outputId": "d669b9c8-043f-41d6-8415-57af3214fe87"
   },
   "outputs": [
    {
     "data": {
      "text/html": [
       "<div>\n",
       "<style scoped>\n",
       "    .dataframe tbody tr th:only-of-type {\n",
       "        vertical-align: middle;\n",
       "    }\n",
       "\n",
       "    .dataframe tbody tr th {\n",
       "        vertical-align: top;\n",
       "    }\n",
       "\n",
       "    .dataframe thead th {\n",
       "        text-align: right;\n",
       "    }\n",
       "</style>\n",
       "<table border=\"1\" class=\"dataframe\">\n",
       "  <thead>\n",
       "    <tr style=\"text-align: right;\">\n",
       "      <th></th>\n",
       "      <th>Fit Type</th>\n",
       "      <th>Slope</th>\n",
       "      <th>Error in Slope</th>\n",
       "      <th>Y Intercept</th>\n",
       "      <th>Error in Y Intercept</th>\n",
       "    </tr>\n",
       "  </thead>\n",
       "  <tbody>\n",
       "    <tr>\n",
       "      <th>0</th>\n",
       "      <td>Linear</td>\n",
       "      <td>1.000022</td>\n",
       "      <td>0.00001</td>\n",
       "      <td>-0.122078</td>\n",
       "      <td>0.058932</td>\n",
       "    </tr>\n",
       "  </tbody>\n",
       "</table>\n",
       "</div>"
      ],
      "text/plain": [
       "  Fit Type     Slope  Error in Slope  Y Intercept  Error in Y Intercept\n",
       "0   Linear  1.000022         0.00001    -0.122078              0.058932"
      ]
     },
     "execution_count": 47,
     "metadata": {},
     "output_type": "execute_result"
    }
   ],
   "source": [
    "df = pd.DataFrame({'Fit Type':type, 'Slope':slope, 'Error in Slope':dslope, 'Y Intercept':yint, 'Error in Y Intercept':dyint})\n",
    "df.head()"
   ]
  },
  {
   "cell_type": "code",
   "execution_count": 48,
   "metadata": {
    "colab": {
     "base_uri": "https://localhost:8080/",
     "height": 336
    },
    "id": "PPBsPFsedQlM",
    "outputId": "70f0e7b5-a981-40d9-be75-cefe4a8a5c3c"
   },
   "outputs": [
    {
     "name": "stderr",
     "output_type": "stream",
     "text": [
      "/usr/lib/python3.6/site-packages/ipykernel_launcher.py:2: MatplotlibDeprecationWarning: Support for passing a (n, 1)-shaped error array to errorbar() is deprecated since Matplotlib 3.1 and will be removed in 3.3; pass a 1D array instead.\n",
      "  \n"
     ]
    },
    {
     "data": {
      "text/plain": [
       "<ErrorbarContainer object of 3 artists>"
      ]
     },
     "execution_count": 48,
     "metadata": {},
     "output_type": "execute_result"
    },
    {
     "data": {
      "image/png": "[encoded data removed]",
      "text/plain": [
       "<Figure size 432x288 with 1 Axes>"
      ]
     },
     "metadata": {
      "needs_background": "light"
     },
     "output_type": "display_data"
    }
   ],
   "source": [
    "sigmai = np.array([dyint for i in range(npts)])\n",
    "plt.errorbar(xi, yi, yerr=sigmai, fmt='o', capsize=5, capthick=2)"
   ]
  },
  {
   "cell_type": "code",
   "execution_count": 49,
   "metadata": {
    "colab": {
     "base_uri": "https://localhost:8080/",
     "height": 282
    },
    "id": "M24034LUdUH4",
    "outputId": "dbb18c15-220d-4e1e-c9f4-0bd19062deaa"
   },
   "outputs": [
    {
     "data": {
      "text/plain": [
       "[<matplotlib.lines.Line2D at 0x7fdb2142dda0>]"
      ]
     },
     "execution_count": 49,
     "metadata": {},
     "output_type": "execute_result"
    },
    {
     "data": {
      "image/png": "[encoded data removed]",
      "text/plain": [
       "<Figure size 432x288 with 1 Axes>"
      ]
     },
     "metadata": {
      "needs_background": "light"
     },
     "output_type": "display_data"
    }
   ],
   "source": [
    "#x - range 13\n",
    "npts = 11\n",
    "xlow = 100\n",
    "xhigh = 10000\n",
    "\n",
    "xl = xlow + 0.01\n",
    "xmid = (xhigh+xlow)/2.0+0.01\n",
    "\n",
    "xi = np.linspace(xlow,xhigh,npts)\n",
    "yrandom = stats.norm.rvs(size=npts,loc=0,scale=.2)\n",
    "yi = xi + yrandom\n",
    "\n",
    "plt.plot(xi,yi,'o')"
   ]
  },
  {
   "cell_type": "code",
   "execution_count": 50,
   "metadata": {
    "colab": {
     "base_uri": "https://localhost:8080/",
     "height": 384
    },
    "id": "DFl3ShE6daEC",
    "outputId": "ea9a95de-ee78-4b9d-ff21-8ebf13422184"
   },
   "outputs": [
    {
     "name": "stdout",
     "output_type": "stream",
     "text": [
      "Coefficients (from curve_fit)\n",
      "[0.08903402 0.99999454]\n",
      "Covariance Matrix (from curve_fit)\n",
      "[[ 1.44358683e-02 -2.06439292e-06]\n",
      " [-2.06439292e-06  4.08750484e-10]]\n",
      "\n",
      "Final Result: y = (1.00 +/- 0.00) x + (0.09 +/- 0.12)\n"
     ]
    },
    {
     "data": {
      "image/png": "[encoded data removed]",
      "text/plain": [
       "<Figure size 432x288 with 1 Axes>"
      ]
     },
     "metadata": {
      "needs_background": "light"
     },
     "output_type": "display_data"
    }
   ],
   "source": [
    "def fitfunction(x,*paramlist):\n",
    "    return paramlist[0]+paramlist[1]*x\n",
    "\n",
    "init_vals = [0.0 for x in range(2)]\n",
    "popt, pcov = curve_fit(fitfunction,xi,yi,p0=init_vals)\n",
    "perr = np.sqrt(np.diag(pcov))\n",
    "\n",
    "ps = np.random.multivariate_normal(popt,pcov,10000)\n",
    "ysample=np.asarray([fitfunction(xi,*pi) for pi in ps])\n",
    "\n",
    "lower = np.percentile(ysample,2.5,axis=0)\n",
    "upper = np.percentile(ysample,97.5,axis=0)\n",
    "middle = (lower+upper)/2.0\n",
    "\n",
    "print(\"Coefficients (from curve_fit)\")\n",
    "print (popt)\n",
    "print(\"Covariance Matrix (from curve_fit)\")\n",
    "print (pcov)\n",
    "\n",
    "print()\n",
    "print (\"Final Result: y = (%0.2f +/- %0.2f) x + (%0.2f +/- %0.2f)\" % (popt[1],perr[1],popt[0],perr[0]))\n",
    "\n",
    "plt.plot(xi,yi,'o')\n",
    "\n",
    "plt.plot(xi,middle)\n",
    "plt.plot(xi,lower)\n",
    "plt.plot(xi,upper)\n",
    "plt.show()\n",
    "\n",
    "slope = []\n",
    "dslope = []\n",
    "yint = []\n",
    "dyint = []\n",
    "type = []\n",
    "\n",
    "slope.append(popt[1])\n",
    "dslope.append(perr[1])\n",
    "yint.append(popt[0])\n",
    "dyint.append(perr[0])\n",
    "type.append('Linear')"
   ]
  },
  {
   "cell_type": "code",
   "execution_count": 51,
   "metadata": {
    "colab": {
     "base_uri": "https://localhost:8080/",
     "height": 80
    },
    "id": "AzV8klKOdfmE",
    "outputId": "4e0c3956-7f02-44cf-c94f-a9bebc952dd4"
   },
   "outputs": [
    {
     "data": {
      "text/html": [
       "<div>\n",
       "<style scoped>\n",
       "    .dataframe tbody tr th:only-of-type {\n",
       "        vertical-align: middle;\n",
       "    }\n",
       "\n",
       "    .dataframe tbody tr th {\n",
       "        vertical-align: top;\n",
       "    }\n",
       "\n",
       "    .dataframe thead th {\n",
       "        text-align: right;\n",
       "    }\n",
       "</style>\n",
       "<table border=\"1\" class=\"dataframe\">\n",
       "  <thead>\n",
       "    <tr style=\"text-align: right;\">\n",
       "      <th></th>\n",
       "      <th>Fit Type</th>\n",
       "      <th>Slope</th>\n",
       "      <th>Error in Slope</th>\n",
       "      <th>Y Intercept</th>\n",
       "      <th>Error in Y Intercept</th>\n",
       "    </tr>\n",
       "  </thead>\n",
       "  <tbody>\n",
       "    <tr>\n",
       "      <th>0</th>\n",
       "      <td>Linear</td>\n",
       "      <td>0.999995</td>\n",
       "      <td>0.00002</td>\n",
       "      <td>0.089034</td>\n",
       "      <td>0.120149</td>\n",
       "    </tr>\n",
       "  </tbody>\n",
       "</table>\n",
       "</div>"
      ],
      "text/plain": [
       "  Fit Type     Slope  Error in Slope  Y Intercept  Error in Y Intercept\n",
       "0   Linear  0.999995         0.00002     0.089034              0.120149"
      ]
     },
     "execution_count": 51,
     "metadata": {},
     "output_type": "execute_result"
    }
   ],
   "source": [
    "df = pd.DataFrame({'Fit Type':type, 'Slope':slope, 'Error in Slope':dslope, 'Y Intercept':yint, 'Error in Y Intercept':dyint})\n",
    "df.head()"
   ]
  },
  {
   "cell_type": "code",
   "execution_count": 52,
   "metadata": {
    "colab": {
     "base_uri": "https://localhost:8080/",
     "height": 336
    },
    "id": "whwn84pLdixS",
    "outputId": "92a4f4bc-0548-4e37-c72b-e1410efb176c"
   },
   "outputs": [
    {
     "name": "stderr",
     "output_type": "stream",
     "text": [
      "/usr/lib/python3.6/site-packages/ipykernel_launcher.py:2: MatplotlibDeprecationWarning: Support for passing a (n, 1)-shaped error array to errorbar() is deprecated since Matplotlib 3.1 and will be removed in 3.3; pass a 1D array instead.\n",
      "  \n"
     ]
    },
    {
     "data": {
      "text/plain": [
       "<ErrorbarContainer object of 3 artists>"
      ]
     },
     "execution_count": 52,
     "metadata": {},
     "output_type": "execute_result"
    },
    {
     "data": {
      "image/png": "[encoded data removed]",
      "text/plain": [
       "<Figure size 432x288 with 1 Axes>"
      ]
     },
     "metadata": {
      "needs_background": "light"
     },
     "output_type": "display_data"
    }
   ],
   "source": [
    "sigmai = np.array([dyint for i in range(npts)])\n",
    "plt.errorbar(xi, yi, yerr=sigmai, fmt='o', capsize=5, capthick=2)"
   ]
  },
  {
   "cell_type": "code",
   "execution_count": 53,
   "metadata": {
    "colab": {
     "base_uri": "https://localhost:8080/",
     "height": 282
    },
    "id": "HZhAu1g3duLD",
    "outputId": "7eac3c15-6253-40cb-eee1-baa29d71f0c5"
   },
   "outputs": [
    {
     "data": {
      "text/plain": [
       "[<matplotlib.lines.Line2D at 0x7fdb20f9beb8>]"
      ]
     },
     "execution_count": 53,
     "metadata": {},
     "output_type": "execute_result"
    },
    {
     "data": {
      "image/png": "[encoded data removed]",
      "text/plain": [
       "<Figure size 432x288 with 1 Axes>"
      ]
     },
     "metadata": {
      "needs_background": "light"
     },
     "output_type": "display_data"
    }
   ],
   "source": [
    "#x - range 14\n",
    "npts = 11\n",
    "xlow = 1000\n",
    "xhigh = 10000\n",
    "\n",
    "xl = xlow + 0.01\n",
    "xmid = (xhigh+xlow)/2.0+0.01\n",
    "\n",
    "xi = np.linspace(xlow,xhigh,npts)\n",
    "yrandom = stats.norm.rvs(size=npts,loc=0,scale=.2)\n",
    "yi = xi + yrandom\n",
    "\n",
    "plt.plot(xi,yi,'o')"
   ]
  },
  {
   "cell_type": "code",
   "execution_count": 54,
   "metadata": {
    "colab": {
     "base_uri": "https://localhost:8080/",
     "height": 384
    },
    "id": "e-gk_IU_dy47",
    "outputId": "c1ed3af3-f2bc-4cf3-90f8-0a66a45aaae1"
   },
   "outputs": [
    {
     "name": "stdout",
     "output_type": "stream",
     "text": [
      "Coefficients (from curve_fit)\n",
      "[-0.11070287  1.00003646]\n",
      "Covariance Matrix (from curve_fit)\n",
      "[[ 1.36664683e-02 -1.95945928e-06]\n",
      " [-1.95945928e-06  3.56268489e-10]]\n",
      "\n",
      "Final Result: y = (1.00 +/- 0.00) x + (-0.11 +/- 0.12)\n"
     ]
    },
    {
     "data": {
      "image/png": "[encoded data removed]",
      "text/plain": [
       "<Figure size 432x288 with 1 Axes>"
      ]
     },
     "metadata": {
      "needs_background": "light"
     },
     "output_type": "display_data"
    }
   ],
   "source": [
    "def fitfunction(x,*paramlist):\n",
    "    return paramlist[0]+paramlist[1]*x\n",
    "\n",
    "init_vals = [0.0 for x in range(2)]\n",
    "popt, pcov = curve_fit(fitfunction,xi,yi,p0=init_vals)\n",
    "perr = np.sqrt(np.diag(pcov))\n",
    "\n",
    "ps = np.random.multivariate_normal(popt,pcov,10000)\n",
    "ysample=np.asarray([fitfunction(xi,*pi) for pi in ps])\n",
    "\n",
    "lower = np.percentile(ysample,2.5,axis=0)\n",
    "upper = np.percentile(ysample,97.5,axis=0)\n",
    "middle = (lower+upper)/2.0\n",
    "\n",
    "print(\"Coefficients (from curve_fit)\")\n",
    "print (popt)\n",
    "print(\"Covariance Matrix (from curve_fit)\")\n",
    "print (pcov)\n",
    "\n",
    "print()\n",
    "print (\"Final Result: y = (%0.2f +/- %0.2f) x + (%0.2f +/- %0.2f)\" % (popt[1],perr[1],popt[0],perr[0]))\n",
    "\n",
    "plt.plot(xi,yi,'o')\n",
    "\n",
    "plt.plot(xi,middle)\n",
    "plt.plot(xi,lower)\n",
    "plt.plot(xi,upper)\n",
    "plt.show()\n",
    "\n",
    "slope = []\n",
    "dslope = []\n",
    "yint = []\n",
    "dyint = []\n",
    "type = []\n",
    "\n",
    "slope.append(popt[1])\n",
    "dslope.append(perr[1])\n",
    "yint.append(popt[0])\n",
    "dyint.append(perr[0])\n",
    "type.append('Linear')"
   ]
  },
  {
   "cell_type": "code",
   "execution_count": 55,
   "metadata": {
    "colab": {
     "base_uri": "https://localhost:8080/",
     "height": 80
    },
    "id": "iuPAJK1Td2Hc",
    "outputId": "1ba543bb-0399-4064-ffe8-891fb7302050"
   },
   "outputs": [
    {
     "data": {
      "text/html": [
       "<div>\n",
       "<style scoped>\n",
       "    .dataframe tbody tr th:only-of-type {\n",
       "        vertical-align: middle;\n",
       "    }\n",
       "\n",
       "    .dataframe tbody tr th {\n",
       "        vertical-align: top;\n",
       "    }\n",
       "\n",
       "    .dataframe thead th {\n",
       "        text-align: right;\n",
       "    }\n",
       "</style>\n",
       "<table border=\"1\" class=\"dataframe\">\n",
       "  <thead>\n",
       "    <tr style=\"text-align: right;\">\n",
       "      <th></th>\n",
       "      <th>Fit Type</th>\n",
       "      <th>Slope</th>\n",
       "      <th>Error in Slope</th>\n",
       "      <th>Y Intercept</th>\n",
       "      <th>Error in Y Intercept</th>\n",
       "    </tr>\n",
       "  </thead>\n",
       "  <tbody>\n",
       "    <tr>\n",
       "      <th>0</th>\n",
       "      <td>Linear</td>\n",
       "      <td>1.000036</td>\n",
       "      <td>0.000019</td>\n",
       "      <td>-0.110703</td>\n",
       "      <td>0.116904</td>\n",
       "    </tr>\n",
       "  </tbody>\n",
       "</table>\n",
       "</div>"
      ],
      "text/plain": [
       "  Fit Type     Slope  Error in Slope  Y Intercept  Error in Y Intercept\n",
       "0   Linear  1.000036        0.000019    -0.110703              0.116904"
      ]
     },
     "execution_count": 55,
     "metadata": {},
     "output_type": "execute_result"
    }
   ],
   "source": [
    "df = pd.DataFrame({'Fit Type':type, 'Slope':slope, 'Error in Slope':dslope, 'Y Intercept':yint, 'Error in Y Intercept':dyint})\n",
    "df.head()"
   ]
  },
  {
   "cell_type": "code",
   "execution_count": 56,
   "metadata": {
    "colab": {
     "base_uri": "https://localhost:8080/",
     "height": 336
    },
    "id": "AlYgrsjKd5QI",
    "outputId": "d5acd021-c9a8-4938-b43a-c4f09b72bf5d"
   },
   "outputs": [
    {
     "name": "stderr",
     "output_type": "stream",
     "text": [
      "/usr/lib/python3.6/site-packages/ipykernel_launcher.py:2: MatplotlibDeprecationWarning: Support for passing a (n, 1)-shaped error array to errorbar() is deprecated since Matplotlib 3.1 and will be removed in 3.3; pass a 1D array instead.\n",
      "  \n"
     ]
    },
    {
     "data": {
      "text/plain": [
       "<ErrorbarContainer object of 3 artists>"
      ]
     },
     "execution_count": 56,
     "metadata": {},
     "output_type": "execute_result"
    },
    {
     "data": {
      "image/png": "[encoded data removed]",
      "text/plain": [
       "<Figure size 432x288 with 1 Axes>"
      ]
     },
     "metadata": {
      "needs_background": "light"
     },
     "output_type": "display_data"
    }
   ],
   "source": [
    "sigmai = np.array([dyint for i in range(npts)])\n",
    "plt.errorbar(xi, yi, yerr=sigmai, fmt='o', capsize=5, capthick=2)"
   ]
  },
  {
   "cell_type": "code",
   "execution_count": 57,
   "metadata": {
    "colab": {
     "base_uri": "https://localhost:8080/",
     "height": 282
    },
    "id": "vL5ANMD8d8pF",
    "outputId": "5e9a8f70-246b-44b2-823e-b573462feb12"
   },
   "outputs": [
    {
     "data": {
      "text/plain": [
       "[<matplotlib.lines.Line2D at 0x7fdb20c0ce48>]"
      ]
     },
     "execution_count": 57,
     "metadata": {},
     "output_type": "execute_result"
    },
    {
     "data": {
      "image/png": "[encoded data removed]",
      "text/plain": [
       "<Figure size 432x288 with 1 Axes>"
      ]
     },
     "metadata": {
      "needs_background": "light"
     },
     "output_type": "display_data"
    }
   ],
   "source": [
    "#x - range 15\n",
    "npts = 11\n",
    "xlow = 7500\n",
    "xhigh = 10000\n",
    "\n",
    "xl = xlow + 0.01\n",
    "xmid = (xhigh+xlow)/2.0+0.01\n",
    "\n",
    "xi = np.linspace(xlow,xhigh,npts)\n",
    "yrandom = stats.norm.rvs(size=npts,loc=0,scale=.2)\n",
    "yi = xi + yrandom\n",
    "\n",
    "plt.plot(xi,yi,'o')"
   ]
  },
  {
   "cell_type": "code",
   "execution_count": 58,
   "metadata": {
    "colab": {
     "base_uri": "https://localhost:8080/",
     "height": 384
    },
    "id": "IVmzw-7-eCvJ",
    "outputId": "551feaea-aab5-4dfb-8882-78fc0e6ac574"
   },
   "outputs": [
    {
     "name": "stdout",
     "output_type": "stream",
     "text": [
      "Coefficients (from curve_fit)\n",
      "[0.05927696 0.99999788]\n",
      "Covariance Matrix (from curve_fit)\n",
      "[[ 2.10112919e-01 -2.38145239e-05]\n",
      " [-2.38145239e-05  2.72120913e-09]]\n",
      "\n",
      "Final Result: y = (1.00 +/- 0.00) x + (0.06 +/- 0.46)\n"
     ]
    },
    {
     "data": {
      "image/png": "[encoded data removed]",
      "text/plain": [
       "<Figure size 432x288 with 1 Axes>"
      ]
     },
     "metadata": {
      "needs_background": "light"
     },
     "output_type": "display_data"
    }
   ],
   "source": [
    "def fitfunction(x,*paramlist):\n",
    "    return paramlist[0]+paramlist[1]*x\n",
    "\n",
    "init_vals = [0.0 for x in range(2)]\n",
    "popt, pcov = curve_fit(fitfunction,xi,yi,p0=init_vals)\n",
    "perr = np.sqrt(np.diag(pcov))\n",
    "\n",
    "ps = np.random.multivariate_normal(popt,pcov,10000)\n",
    "ysample=np.asarray([fitfunction(xi,*pi) for pi in ps])\n",
    "\n",
    "lower = np.percentile(ysample,2.5,axis=0)\n",
    "upper = np.percentile(ysample,97.5,axis=0)\n",
    "middle = (lower+upper)/2.0\n",
    "\n",
    "print(\"Coefficients (from curve_fit)\")\n",
    "print (popt)\n",
    "print(\"Covariance Matrix (from curve_fit)\")\n",
    "print (pcov)\n",
    "\n",
    "print()\n",
    "print (\"Final Result: y = (%0.2f +/- %0.2f) x + (%0.2f +/- %0.2f)\" % (popt[1],perr[1],popt[0],perr[0]))\n",
    "\n",
    "plt.plot(xi,yi,'o')\n",
    "\n",
    "plt.plot(xi,middle)\n",
    "plt.plot(xi,lower)\n",
    "plt.plot(xi,upper)\n",
    "plt.show()\n",
    "\n",
    "slope = []\n",
    "dslope = []\n",
    "yint = []\n",
    "dyint = []\n",
    "type = []\n",
    "\n",
    "slope.append(popt[1])\n",
    "dslope.append(perr[1])\n",
    "yint.append(popt[0])\n",
    "dyint.append(perr[0])\n",
    "type.append('Linear')"
   ]
  },
  {
   "cell_type": "code",
   "execution_count": 59,
   "metadata": {
    "colab": {
     "base_uri": "https://localhost:8080/",
     "height": 80
    },
    "id": "3YGXPUB7eGIB",
    "outputId": "db88e6fc-a3f3-4f08-8ea4-aa886515b74d"
   },
   "outputs": [
    {
     "data": {
      "text/html": [
       "<div>\n",
       "<style scoped>\n",
       "    .dataframe tbody tr th:only-of-type {\n",
       "        vertical-align: middle;\n",
       "    }\n",
       "\n",
       "    .dataframe tbody tr th {\n",
       "        vertical-align: top;\n",
       "    }\n",
       "\n",
       "    .dataframe thead th {\n",
       "        text-align: right;\n",
       "    }\n",
       "</style>\n",
       "<table border=\"1\" class=\"dataframe\">\n",
       "  <thead>\n",
       "    <tr style=\"text-align: right;\">\n",
       "      <th></th>\n",
       "      <th>Fit Type</th>\n",
       "      <th>Slope</th>\n",
       "      <th>Error in Slope</th>\n",
       "      <th>Y Intercept</th>\n",
       "      <th>Error in Y Intercept</th>\n",
       "    </tr>\n",
       "  </thead>\n",
       "  <tbody>\n",
       "    <tr>\n",
       "      <th>0</th>\n",
       "      <td>Linear</td>\n",
       "      <td>0.999998</td>\n",
       "      <td>0.000052</td>\n",
       "      <td>0.059277</td>\n",
       "      <td>0.458381</td>\n",
       "    </tr>\n",
       "  </tbody>\n",
       "</table>\n",
       "</div>"
      ],
      "text/plain": [
       "  Fit Type     Slope  Error in Slope  Y Intercept  Error in Y Intercept\n",
       "0   Linear  0.999998        0.000052     0.059277              0.458381"
      ]
     },
     "execution_count": 59,
     "metadata": {},
     "output_type": "execute_result"
    }
   ],
   "source": [
    "df = pd.DataFrame({'Fit Type':type, 'Slope':slope, 'Error in Slope':dslope, 'Y Intercept':yint, 'Error in Y Intercept':dyint})\n",
    "df.head()"
   ]
  },
  {
   "cell_type": "code",
   "execution_count": 60,
   "metadata": {
    "colab": {
     "base_uri": "https://localhost:8080/",
     "height": 336
    },
    "id": "O9Ij4cUpeLiY",
    "outputId": "cd03ef61-63ec-43f5-f34e-22cbfdc0b42f"
   },
   "outputs": [
    {
     "name": "stderr",
     "output_type": "stream",
     "text": [
      "/usr/lib/python3.6/site-packages/ipykernel_launcher.py:2: MatplotlibDeprecationWarning: Support for passing a (n, 1)-shaped error array to errorbar() is deprecated since Matplotlib 3.1 and will be removed in 3.3; pass a 1D array instead.\n",
      "  \n"
     ]
    },
    {
     "data": {
      "text/plain": [
       "<ErrorbarContainer object of 3 artists>"
      ]
     },
     "execution_count": 60,
     "metadata": {},
     "output_type": "execute_result"
    },
    {
     "data": {
      "image/png": "[encoded data removed]",
      "text/plain": [
       "<Figure size 432x288 with 1 Axes>"
      ]
     },
     "metadata": {
      "needs_background": "light"
     },
     "output_type": "display_data"
    }
   ],
   "source": [
    "sigmai = np.array([dyint for i in range(npts)])\n",
    "plt.errorbar(xi, yi, yerr=sigmai, fmt='o', capsize=5, capthick=2)"
   ]
  },
  {
   "cell_type": "markdown",
   "metadata": {
    "id": "q1ongh8XeQG2"
   },
   "source": []
  },
  {
   "cell_type": "markdown",
   "metadata": {
    "id": "x0-HBJwUfj3u"
   },
   "source": [
    "As the x maximum value gets larger the uncertainty value of the y intercept generally gets lower. The y intercept uncertainty will also go up as the x minimum value gets further away from zero. The best way to perform the fit with the lowest y intercept uncertainty would be to have a close x minimum value to zero and a large value of x maximum."
   ]
  },
  {
   "cell_type": "markdown",
   "metadata": {
    "id": "y2KkZB_fK61p"
   },
   "source": [
    "## Question 2 - Why is it cold?"
   ]
  },
  {
   "cell_type": "markdown",
   "metadata": {
    "id": "OP1g4bWRK61p"
   },
   "source": [
    "Modify the Jupyter Notebook called GlobalTemperatures.ipynb to consider the temperature variations over the year for five locations - two in the northern hemisphere, one near the equator, and two in the southern hemisphere.  Do not use any of the same locations already considered.\n",
    "\n",
    "What are the scale factors and offsets required to give a reasonable fit in each case?"
   ]
  },
  {
   "cell_type": "code",
   "execution_count": 61,
   "metadata": {
    "id": "nBBQFGVKK61q"
   },
   "outputs": [],
   "source": [
    "# save this as Sun.py\n",
    "\n",
    "import datetime\n",
    "import numpy as np\n",
    "\n",
    "class Sun:\n",
    "\n",
    "    def getSunriseTime( self, coords ):\n",
    "        return self.calcSunTime( coords, True )\n",
    "\n",
    "    def getSunsetTime( self, coords ):\n",
    "        return self.calcSunTime( coords, False )\n",
    "\n",
    "    def getCurrentUTC( self ):\n",
    "        now = datetime.datetime.now()\n",
    "        return [ now.day, now.month, now.year ]\n",
    "\n",
    "    def calcSunTime( self, coords, isRiseTime, zenith = 90.8 ):\n",
    "\n",
    "        # isRiseTime == False, returns sunsetTime\n",
    "\n",
    "        day, month, year = self.getCurrentUTC()\n",
    "        #print (day,month,year)\n",
    "\n",
    "        longitude = coords['longitude']\n",
    "        latitude = coords['latitude']\n",
    "\n",
    "        TO_RAD = np.pi/180\n",
    "\n",
    "        ##1. first calculate the day of the year\n",
    "        #N1 = math.floor(275 * month / 9)\n",
    "        #N2 = math.floor((month + 9) / 12)\n",
    "        #N3 = (1 + math.floor((year - 4 * math.floor(year / 4) + 2) / 3))\n",
    "        #N = N1 - (N2 * N3) + day - 30\n",
    "\n",
    "\t# EJB:  Modify to calculate the times for all days of the year!!\n",
    "        N = np.array([i for i in range(1,366)])\n",
    "\n",
    "        #2. convert the longitude to hour value and calculate an approximate time\n",
    "        lngHour = longitude / 15\n",
    "\n",
    "        if isRiseTime:\n",
    "            t = N + ((6 - lngHour) / 24)\n",
    "        else: #sunset\n",
    "            t = N + ((18 - lngHour) / 24)\n",
    "\n",
    "        #3. calculate the Sun's mean anomaly\n",
    "        M = (0.9856 * t) - 3.289\n",
    "\n",
    "        #4. calculate the Sun's true longitude\n",
    "        L = M + (1.916 * np.sin(TO_RAD*M)) + (0.020 * np.sin(TO_RAD * 2 * M)) + 282.634\n",
    "        L = self.forceRange( L, 360 ) #NOTE: L adjusted into the range [0,360)\n",
    "\n",
    "        #5a. calculate the Sun's right ascension\n",
    "\n",
    "        RA = (1/TO_RAD) * np.arctan(0.91764 * np.tan(TO_RAD*L))\n",
    "        RA = self.forceRange( RA, 360 ) #NOTE: RA adjusted into the range [0,360)\n",
    "\n",
    "        #5b. right ascension value needs to be in the same quadrant as L\n",
    "        Lquadrant  = (np.floor( L/90)) * 90\n",
    "        RAquadrant = (np.floor(RA/90)) * 90\n",
    "        RA = RA + (Lquadrant - RAquadrant)\n",
    "\n",
    "        #5c. right ascension value needs to be converted into hours\n",
    "        RA = RA / 15\n",
    "\n",
    "        #6. calculate the Sun's declination\n",
    "        sinDec = 0.39782 * np.sin(TO_RAD*L)\n",
    "        cosDec = np.cos(np.arcsin(sinDec))\n",
    "\n",
    "        #7a. calculate the Sun's local hour angle\n",
    "        cosH = (np.cos(TO_RAD*zenith) - (sinDec * np.sin(TO_RAD*latitude))) / (cosDec * np.cos(TO_RAD*latitude))\n",
    "\n",
    "        #if cosH > 1:\n",
    "        #    return {'status': False, 'msg': 'the sun never rises on this location (on the specified date)'}\n",
    "\n",
    "        #if cosH < -1:\n",
    "        #    return {'status': False, 'msg': 'the sun never sets on this location (on the specified date)'}\n",
    "\n",
    "        #7b. finish calculating H and convert into hours\n",
    "\n",
    "        if isRiseTime:\n",
    "            H = 360 - (1/TO_RAD) * np.arccos(cosH)\n",
    "        else: #setting\n",
    "            H = (1/TO_RAD) * np.arccos(cosH)\n",
    "\n",
    "        H = H / 15\n",
    "\n",
    "        #8. calculate local mean time of rising/setting\n",
    "        T = H + RA - (0.06571 * t) - 6.622\n",
    "\n",
    "        #9. adjust back to UTC\n",
    "        UT = T - lngHour\n",
    "        #print (UT)\n",
    "        UT = self.forceRange( UT, 24) # UTC time in decimal format (e.g. 23.23)\n",
    "        #print (UT)\n",
    "\n",
    "        #10. Return\n",
    "        #hr = self.forceRange(UT, 24)\n",
    "        #min = ((UT - UT.astype(int))*60,0)\n",
    "\n",
    "        return {\n",
    "            'status': True,\n",
    "            'decimal': UT\n",
    "            #'hr': hr,\n",
    "            #'min': min \n",
    "        }\n",
    "\n",
    "    def forceRange( self, v, max ):\n",
    "        # force v to be >= 0 and < max\n",
    "        for i in range(len(v)):\n",
    "            if v[i] < 0:\n",
    "                v[i] = v[i] + max\n",
    "            elif v[i] >= max:\n",
    "                v[i] = v[i] - max\n",
    "        return v"
   ]
  },
  {
   "cell_type": "code",
   "execution_count": 62,
   "metadata": {
    "colab": {
     "base_uri": "https://localhost:8080/",
     "height": 367
    },
    "id": "J7ONhLwUyaEf",
    "outputId": "5c1ac66a-f528-4e5a-ef10-8a535754b85d"
   },
   "outputs": [
    {
     "name": "stdout",
     "output_type": "stream",
     "text": [
      "41.8781\n",
      "38.9586\n",
      "0.0356\n",
      "-33.9249\n",
      "-37.8136\n"
     ]
    },
    {
     "data": {
      "text/plain": [
       "[<matplotlib.lines.Line2D at 0x7fdb20a3fd68>]"
      ]
     },
     "execution_count": 62,
     "metadata": {},
     "output_type": "execute_result"
    },
    {
     "data": {
      "image/png": "[encoded data removed]",
      "text/plain": [
       "<Figure size 432x288 with 1 Axes>"
      ]
     },
     "metadata": {
      "needs_background": "light"
     },
     "output_type": "display_data"
    }
   ],
   "source": [
    "# Number of days in the sidereal year\n",
    "daysPerYear = 365.256363\n",
    "\n",
    "# Array to hold day of year\n",
    "\n",
    "dayOfYear = np.array([i for i in range(1,366)])\n",
    "\n",
    "# Earth-Sun Distance in A.U.\n",
    "rES=1.0-0.01672*np.cos(2.0*np.pi/daysPerYear*(dayOfYear-4))\n",
    "relPower=1/rES**2\n",
    "\n",
    "# plt.plot(dayOfYear,relPower,'.')\n",
    "\n",
    "\n",
    "def angleCalc(latitude):\n",
    "  # tilt angle of the earth in 2020\n",
    "  tiltAngle = -23.44*np.pi/180.0\n",
    "  angle = tiltAngle*np.cos(2.0*np.pi/daysPerYear*(dayOfYear+10))\n",
    "  \n",
    "  print(latitude)\n",
    "  return latitude*np.pi/180.0 - angle\n",
    "\n",
    "# LOCATIONS\n",
    "statsChicago = {\"coords\": {'longitude': -87.6298, 'latitude': 41.8781}, 'angle': angleCalc(41.8781)}\n",
    "statsReston = {'coords': {'longitude': -77.3570, 'latitude': 38.9586}, 'angle': angleCalc(38.9586)}\n",
    "statsMapaca = {'coords': {'longitude': -51.0705, 'latitude': 0.0356}, 'angle': angleCalc(0.0356)}\n",
    "statsCapeTown = {'coords': {'longitude': 18.4241, 'latitude': -33.9249}, 'angle': angleCalc(-33.9249)}\n",
    "statsMelbourne = {'coords': {'longitude': 144.9631, 'latitude': -37.8136}, 'angle': angleCalc(-37.8136)}\n",
    "\n",
    "\n",
    "#from Sun import Sun\n",
    "\n",
    "coords = statsChicago[\"coords\"]\n",
    "sun = Sun()\n",
    "sunrise = sun.getSunriseTime(coords)['decimal']\n",
    "sunset = sun.getSunsetTime(coords)['decimal']\n",
    "dayLength = sun.getSunsetTime(coords)['decimal']-sun.getSunriseTime(coords)['decimal']\n",
    "for i in range(len(dayLength)):\n",
    "    if dayLength[i]<0:\n",
    "        dayLength[i] = dayLength[i]+24\n",
    "statsChicago['lengthCorrection'] = dayLength/12.0\n",
    "\n",
    "\n",
    "coords = statsReston[\"coords\"]\n",
    "sun = Sun()\n",
    "sunrise = sun.getSunriseTime(coords)['decimal']\n",
    "sunset = sun.getSunsetTime(coords)['decimal']\n",
    "dayLength = sun.getSunsetTime(coords)['decimal']-sun.getSunriseTime(coords)['decimal']\n",
    "for i in range(len(dayLength)):\n",
    "    if dayLength[i]<0:\n",
    "        dayLength[i] = dayLength[i]+24\n",
    "statsReston['lengthCorrection'] = dayLength/12.0\n",
    "\n",
    "\n",
    "coords = statsMapaca[\"coords\"]\n",
    "sun = Sun()\n",
    "sunrise = sun.getSunriseTime(coords)['decimal']\n",
    "sunset = sun.getSunsetTime(coords)['decimal']\n",
    "dayLength = sun.getSunsetTime(coords)['decimal']-sun.getSunriseTime(coords)['decimal']\n",
    "for i in range(len(dayLength)):\n",
    "    if dayLength[i]<0:\n",
    "        dayLength[i] = dayLength[i]+24\n",
    "statsMapaca['lengthCorrection'] = dayLength/12.0\n",
    "\n",
    "\n",
    "coords = statsCapeTown[\"coords\"]\n",
    "sun = Sun()\n",
    "sunrise = sun.getSunriseTime(coords)['decimal']\n",
    "sunset = sun.getSunsetTime(coords)['decimal']\n",
    "dayLength = sun.getSunsetTime(coords)['decimal']-sun.getSunriseTime(coords)['decimal']\n",
    "for i in range(len(dayLength)):\n",
    "    if dayLength[i]<0:\n",
    "        dayLength[i] = dayLength[i]+24\n",
    "statsCapeTown['lengthCorrection'] = dayLength/12.0\n",
    "\n",
    "\n",
    "coords = statsMelbourne[\"coords\"]\n",
    "sun = Sun()\n",
    "sunrise = sun.getSunriseTime(coords)['decimal']\n",
    "sunset = sun.getSunsetTime(coords)['decimal']\n",
    "dayLength = sun.getSunsetTime(coords)['decimal']-sun.getSunriseTime(coords)['decimal']\n",
    "for i in range(len(dayLength)):\n",
    "    if dayLength[i]<0:\n",
    "        dayLength[i] = dayLength[i]+24\n",
    "statsMelbourne['lengthCorrection'] = dayLength/12.0\n",
    "\n",
    "\n",
    "statsChicago[\"tempTheory\"] = (np.cos(statsChicago['angle'])*relPower*np.sqrt(statsChicago['lengthCorrection']))\n",
    "statsReston[\"tempTheory\"] = (np.cos(statsReston['angle'])*relPower*np.sqrt(statsReston['lengthCorrection']))\n",
    "statsMapaca[\"tempTheory\"] = (np.cos(statsMapaca['angle'])*relPower*np.sqrt(statsMapaca['lengthCorrection']))\n",
    "statsCapeTown[\"tempTheory\"] = (np.cos(statsCapeTown['angle'])*relPower*np.sqrt(statsCapeTown['lengthCorrection']))\n",
    "statsMelbourne[\"tempTheory\"] = (np.cos(statsMelbourne['angle'])*relPower*np.sqrt(statsMelbourne['lengthCorrection']))\n",
    "\n",
    "\n",
    "statsChicago['temp'] = np.array([-5,-2.7,2.8,\t9.2,\t15.2,\t20.7,\t23.5,\t22.6\t,18.4,\t12.1,\t4.8\t,-1.9])+273.15 \n",
    "statsReston['temp'] = np.array([\t-0.2,\t1.4\t,6.3,\t11.7,\t17\t,21.8\t,24.2\t,23.3\t,19.6\t,13.2,\t7.6,\t2.1])+273.15 \n",
    "statsMapaca['temp'] = np.array([26.1,\t26.3,\t26.4,\t26.7,\t26.8,\t26.8,\t27.2,\t27.6,\t27.9,\t27.8\t,27.4\t,26.9])+273.15 \n",
    "statsCapeTown['temp'] = np.array([20.9,\t20.9,\t19.9,\t17.7,\t15.2,\t13.5,\t12.8,\t13.1,\t14.6,\t16.1,\t18.3,\t19.6])+273.15 \n",
    "statsMelbourne['temp'] = np.array([\t20.1,\t20.3,\t18.6,\t15.3,\t12.4,\t10.2,\t9.4,\t10.4,\t12.1,\t14.2,\t16.2,\t18.3])+273.15 \n",
    "\n",
    "error = np.array([1 for i in range(12)])\n",
    "\n",
    "\n",
    "normalization = max([np.amax(statsChicago['temp']),\n",
    "                     np.amax(statsReston['temp']),\n",
    "                     np.amax(statsMapaca['temp']),\n",
    "                     np.amax(statsCapeTown['temp']),\n",
    "                     np.amax(statsMelbourne['temp'])]) \n",
    "\n",
    "\n",
    "# Normalize Temperatures between 0 and 1\n",
    "statsChicago['temp'] /= normalization\n",
    "statsReston['temp'] /= normalization\n",
    "statsMapaca['temp'] /= normalization\n",
    "statsCapeTown['temp'] /= normalization\n",
    "statsMelbourne['temp'] /= normalization\n",
    "error = error/normalization\n",
    "\n",
    "month = np.array([(15+30*(i-2)) for i in range(1,13)])\n",
    "for i in range(len(month)):\n",
    "    if month[i]<0:\n",
    "        month[i]=month[i]+365\n",
    "\n",
    "plt.errorbar(month,statsChicago['temp'],yerr=error,fmt='mo')\n",
    "plt.errorbar(month,statsReston['temp'],yerr=error,fmt='ro')\n",
    "plt.errorbar(month,statsMapaca['temp'],yerr=error,fmt='go')\n",
    "plt.errorbar(month,statsCapeTown['temp'],yerr=error,fmt='bo')\n",
    "plt.errorbar(month,statsMelbourne['temp'],yerr=error,fmt='co')\n",
    "\n",
    "plt.plot(dayOfYear,(statsChicago['tempTheory']-1)/7+.981,'m')\n",
    "plt.plot(dayOfYear,(statsReston['tempTheory']-1)/8+.979,'r')\n",
    "plt.plot(dayOfYear,(statsMapaca['tempTheory']-1)/31+.996,'g')\n",
    "plt.plot(dayOfYear,(statsCapeTown['tempTheory']-1)/22+.972,'b')\n",
    "plt.plot(dayOfYear,(statsMelbourne['tempTheory']-1)/18+.971,'c')"
   ]
  },
  {
   "cell_type": "markdown",
   "metadata": {
    "id": "L_eXctUgJNrc"
   },
   "source": [
    "Scale Factor with Offset\n",
    "\n",
    "*  Chicago 7+.981\n",
    "*  Reston 8+.979\n",
    "*  Mapaca 31+.996\n",
    "*  Cape Town 22+.972\n",
    "*  Melbourne 18+.971\n",
    "\n"
   ]
  },
  {
   "cell_type": "markdown",
   "metadata": {
    "id": "uvOzPIda7NeC"
   },
   "source": []
  },
  {
   "cell_type": "markdown",
   "metadata": {
    "id": "bYO8mB5YK61s"
   },
   "source": [
    "## Question 3 - Kater's Pendulum"
   ]
  },
  {
   "cell_type": "markdown",
   "metadata": {
    "id": "4NmjeQTIK61s"
   },
   "source": [
    "Begin with the example Jupyter Notebook called KaterPendulum.ipynb.  Carry out a full analysis of the data obtained in the subdirectory called ~/KaterPendulum/data/scan2.  The file in this directory called kater_scan2_c2.dat will tell you what the x-positions of the small mass were (they are slightly different than in the example we covered in class).\n",
    "\n",
    "Think about how to \"clean\" the raw data before proceeding with the fits.\n",
    "\n",
    "What value of g is the \"best\" value for this data?  What value of the \"fudge factor\" offset gives the best comparison of the theory to the data? Is this a reasonable offset?"
   ]
  },
  {
   "cell_type": "code",
   "execution_count": 63,
   "metadata": {
    "id": "g0isTG9aK61s"
   },
   "outputs": [],
   "source": [
    "#  position of small mass (in cm)\n",
    "xpos = np.array([1.045,2.044,3.012,4.012,5.061,6.011,7.044])\n",
    "dxpos = np.array([0.003 for i in range(len(xpos))])\n",
    "\n"
   ]
  },
  {
   "cell_type": "code",
   "execution_count": 65,
   "metadata": {
    "colab": {
     "base_uri": "https://localhost:8080/",
     "height": 1000
    },
    "id": "qFLxYxYDTL_F",
    "outputId": "262767b7-f6ca-453c-f191-f9d0c76de34a"
   },
   "outputs": [
    {
     "name": "stdout",
     "output_type": "stream",
     "text": [
      "Periodup = 1.99644 +/- 0.00000821\n",
      "Perioddown = 1.99350 +/- 0.00000855\n",
      "Periodup = 1.99940 +/- 0.00000790\n",
      "Perioddown = 1.99729 +/- 0.00000951\n",
      "Periodup = 2.00225 +/- 0.00000704\n",
      "Perioddown = 2.00111 +/- 0.00000879\n",
      "Periodup = 2.00538 +/- 0.00000830\n",
      "Perioddown = 2.00522 +/- 0.00000694\n",
      "Periodup = 2.00853 +/- 0.00000815\n",
      "Perioddown = 2.00923 +/- 0.00000776\n",
      "Periodup = 2.01135 +/- 0.00000904\n",
      "Perioddown = 2.01295 +/- 0.00000695\n",
      "Periodup = 2.01496 +/- 0.00000739\n",
      "Perioddown = 2.01722 +/- 0.00000901\n"
     ]
    },
    {
     "data": {
      "image/png": "[encoded data removed]",
      "text/plain": [
       "<Figure size 432x864 with 7 Axes>"
      ]
     },
     "metadata": {
      "needs_background": "light"
     },
     "output_type": "display_data"
    }
   ],
   "source": [
    "prefix = 'kater_2_run'\n",
    "suffix = '.txt'\n",
    "\n",
    "tup = []\n",
    "tdown = []\n",
    "dtup = []\n",
    "dtdown = []\n",
    "\n",
    "# Generate the figure and the axes \n",
    "fig, axs = plt.subplots(nrows=7, ncols=1, figsize=(6,12)) \n",
    "\n",
    "for i in range(1,8):\n",
    "    i2 = 2*i\n",
    "    j = 2*i - 1\n",
    "    fname1 = prefix + str(i2) + suffix\n",
    "    fname2 = prefix + str(j) + suffix\n",
    "\n",
    "    dfup = pd.read_csv(fname1,sep='\\t')\n",
    "    dfdown = pd.read_csv(fname2,sep='\\t')\n",
    "    \n",
    "    timeup = np.array(dfup['Time'])\n",
    "    periodup = []\n",
    "    for k in range(2,len(timeup)):\n",
    "        periodup.append(timeup[k]-timeup[k-2])\n",
    "    \n",
    "    periodup=np.array(periodup)\n",
    "\n",
    "    semup = periodup.std()/np.sqrt(len(periodup))\n",
    "    print (\"Periodup = %0.5f +/- %0.8f\" % (periodup.mean(),semup))\n",
    "    \n",
    "    tup.append(periodup.mean())\n",
    "    dtup.append(semup)\n",
    "    \n",
    "    timedown = np.array(dfdown['Time'])\n",
    "    perioddown = []\n",
    "    for k in range(2,len(timedown)):\n",
    "        perioddown.append(timedown[k]-timedown[k-2])\n",
    "    \n",
    "    perioddown=np.array(perioddown)\n",
    "\n",
    "    semdown = perioddown.std()/np.sqrt(len(perioddown))\n",
    "    print (\"Perioddown = %0.5f +/- %0.8f\" % (perioddown.mean(),semdown))\n",
    "    \n",
    "    tdown.append(perioddown.mean())\n",
    "    dtdown.append(semup)\n",
    "\n",
    "    axs[i-1].plot(timeup[2:],periodup,'o')\n",
    "    axs[i-1].plot(timedown[2:],perioddown,'o')\n",
    "    axs[i-1].set_ylabel('Period (s)')\n",
    "    \n",
    "tup = np.array(tup)\n",
    "tdown = np.array(tdown)\n",
    "dtup = np.array(dtup)\n",
    "dtdown = np.array(dtdown)\n",
    "\n",
    "plt.show()"
   ]
  },
  {
   "cell_type": "code",
   "execution_count": 66,
   "metadata": {
    "id": "ejIkzqc8TSZB"
   },
   "outputs": [],
   "source": [
    "up = pd.DataFrame({'Xpos':xpos, 'Period':tup, 'dXpos':dxpos, 'dPeriod':dtup})\n",
    "down = pd.DataFrame({'Xpos':xpos, 'Period':tdown, 'dXpos':dxpos, 'dPeriod':dtdown})"
   ]
  },
  {
   "cell_type": "code",
   "execution_count": 67,
   "metadata": {
    "id": "rimiIoM9TUrE"
   },
   "outputs": [
    {
     "name": "stdout",
     "output_type": "stream",
     "text": [
      "Coefficients (from curve_fit)\n",
      "[1.99350442e+00 2.80858978e-03 3.17652678e-05]\n",
      "Covariance Matrix (from curve_fit)\n",
      "[[ 3.44064474e-08 -1.80812150e-08  1.99607107e-09]\n",
      " [-1.80812150e-08  1.10498147e-08 -1.30715053e-09]\n",
      " [ 1.99607107e-09 -1.30715053e-09  1.61683442e-10]]\n",
      "Coefficients (from curve_fit)\n",
      "[1.98942806e+00 3.85342244e-03 1.23215841e-05]\n",
      "Covariance Matrix (from curve_fit)\n",
      "[[ 2.32017152e-08 -1.21925481e-08  1.34595622e-09]\n",
      " [-1.21925481e-08  7.45091723e-09 -8.81394001e-10]\n",
      " [ 1.34595622e-09 -8.81394001e-10  1.09018871e-10]]\n"
     ]
    },
    {
     "data": {
      "image/png": "[encoded data removed]",
      "text/plain": [
       "<Figure size 576x576 with 1 Axes>"
      ]
     },
     "metadata": {
      "needs_background": "light"
     },
     "output_type": "display_data"
    }
   ],
   "source": [
    "# Let's do linear fits using the curve_fit utility from scipy\n",
    "\n",
    "from scipy.optimize import curve_fit\n",
    "\n",
    "def fitfunction(x,*paramlist):\n",
    "    return paramlist[0]+paramlist[1]*x + paramlist[2]*x*x\n",
    "\n",
    "init_vals = [0.0 for x in range(3)]\n",
    "x = np.array(up['Xpos'])\n",
    "y = np.array(up['Period'])\n",
    "poptu, pcovu = curve_fit(fitfunction,x,y,p0=init_vals)\n",
    "\n",
    "#xi = np.linspace(np.min(x),np.max(x),100)\n",
    "xi = np.linspace(1,7,1000)\n",
    "ps = np.random.multivariate_normal(poptu,pcovu,10000)\n",
    "ysample=np.asarray([fitfunction(xi,*pi) for pi in ps])\n",
    "loweru = np.percentile(ysample,16.0,axis=0)\n",
    "upperu = np.percentile(ysample,84.0,axis=0)\n",
    "middleu = (loweru+upperu)/2.0\n",
    "\n",
    "print(\"Coefficients (from curve_fit)\")\n",
    "print (poptu)\n",
    "print(\"Covariance Matrix (from curve_fit)\")\n",
    "print (pcovu)\n",
    "\n",
    "init_vals = [0.0 for x in range(3)]\n",
    "x = np.array(down['Xpos'])\n",
    "y = np.array(down['Period'])\n",
    "poptd, pcovd = curve_fit(fitfunction,x,y,p0=init_vals)\n",
    "\n",
    "#xi = np.linspace(np.min(x),np.max(x),100)\n",
    "xi = np.linspace(1,7,1000)\n",
    "ps = np.random.multivariate_normal(poptd,pcovd,10000)\n",
    "ysample=np.asarray([fitfunction(xi,*pi) for pi in ps])\n",
    "lowerd = np.percentile(ysample,16.0,axis=0)\n",
    "upperd = np.percentile(ysample,84.0,axis=0)\n",
    "middled = (lowerd+upperd)/2.0\n",
    "\n",
    "print(\"Coefficients (from curve_fit)\")\n",
    "print (poptd)\n",
    "print(\"Covariance Matrix (from curve_fit)\")\n",
    "print (pcovd)\n",
    "\n",
    "fig2, axs2 = plt.subplots(nrows=1, ncols=1, figsize=(8,8)) \n",
    "\n",
    "axs2.errorbar(up.Xpos,up.Period,yerr=up.dPeriod,xerr=up.dXpos,fmt='r.',capsize=5, capthick=2)\n",
    "axs2.errorbar(down.Xpos,down.Period,yerr=down.dPeriod,xerr=down.dXpos,fmt='g.',capsize=5, capthick=2)\n",
    "\n",
    "#axs2.plot(xi,middleu)\n",
    "axs2.plot(xi,loweru,'r')\n",
    "axs2.plot(xi,upperu,'r')\n",
    "\n",
    "#axs2.plot(xi,middle)\n",
    "axs2.plot(xi,lowerd,'g')\n",
    "axs2.plot(xi,upperd,'g')\n",
    "\n",
    "#axs2.set_xlim(3.8,4.3)\n",
    "#axs2.set_ylim(2.003,2.006)\n",
    "\n",
    "plt.show()\n"
   ]
  },
  {
   "cell_type": "code",
   "execution_count": 68,
   "metadata": {
    "id": "JoqYQmVHTVZt"
   },
   "outputs": [
    {
     "name": "stdout",
     "output_type": "stream",
     "text": [
      "Period = 2.00597 +/- 0.00048\n"
     ]
    }
   ],
   "source": [
    "tmin = []\n",
    "for i in range(len(xi)):\n",
    "    if loweru[i] < upperd[i]:\n",
    "        tmin.append(loweru[i])\n",
    "tmin = np.array(tmin)\n",
    "tmin = tmin.min()\n",
    "\n",
    "tmax = []\n",
    "for i in range(len(xi)):\n",
    "    if upperu[i] > lowerd[i]:\n",
    "        tmax.append(upperu[i])\n",
    "tmax = np.array(tmax)\n",
    "tmax = tmax.max()\n",
    "\n",
    "tbar = (tmax+tmin)/2.0\n",
    "dtbar = (tmax-tmin)/2.0\n",
    "\n",
    "print (\"Period = %0.5f +/- %0.5f\" % (tbar,dtbar))"
   ]
  },
  {
   "cell_type": "code",
   "execution_count": 69,
   "metadata": {
    "id": "tJY7UYuhTYEc"
   },
   "outputs": [
    {
     "name": "stdout",
     "output_type": "stream",
     "text": [
      "g = 9.7973 +/- 0.0047\n"
     ]
    }
   ],
   "source": [
    "length = 0.9986\n",
    "dlength = 0.00005\n",
    "\n",
    "g = 4*np.pi**2*length/tbar**2\n",
    "dg = g*np.sqrt((dlength/length)**2+(2*dtbar/tbar)**2)\n",
    "\n",
    "print (\"g = %0.4f +/- %0.4f\" % (g,dg))"
   ]
  },
  {
   "cell_type": "code",
   "execution_count": 70,
   "metadata": {
    "id": "TkSRLEXTTa4R"
   },
   "outputs": [],
   "source": [
    "# Measured distances and masses\n",
    "M=1.35928 # large mass\n",
    "m=0.72705 # small mass\n",
    "Mbar=2.90 # mass of bar (with small and large masses removed)\n",
    "D=0.9986 # distance between knife-edge pivot points\n",
    "L=1.523  # length of bar\n",
    "#\n",
    "#g = 9.799 # value of g in Newport News\n",
    "g = 9.8144\n",
    "\n",
    "# Distance calculations\n",
    "#\n",
    "# The distance between the knife edge pivot and the lower edge of the large mass is 1.35 cm\n",
    "# The distance between the knife edge pivot and the lower edge of the large mass is 1.04 cm\n",
    "# The radius of the large mass is 4.753 cm\n",
    "# The radius of the small mass is 3.498 cm\n",
    "RM = 0.04753\n",
    "Rm = 0.03498\n",
    "offsetM = 0.0135\n",
    "offsetm = 0.0104\n",
    "l1=D/2.0+RM+offsetM\n",
    "\n",
    "# Find the value of x that satisfies the equation above\n",
    "\n",
    "diff = 1.0E+99\n",
    "olddiff = 1.0E+99\n",
    "l2 = []\n",
    "xpos = []\n",
    "t1 = []\n",
    "t2 = []\n",
    "for i in range(1000):\n",
    "    l2.append(D/2.0+Rm+(i/1000.0)*.12)\n",
    "    xpos.append((l2[i]-offsetm-D/2-Rm-0.0000)*100) # distance from the small mass to the knife-edge, in cm.\n",
    "    x=(M*l1-m*l2[i])/(M+m+Mbar)\n",
    "    h2=D/2.0+x\n",
    "    h1=D/2.0-x\n",
    "    lhs=h1*h2;\n",
    "    Icm=1.0/12.0*Mbar*L*L+Mbar*x*x+M*(l1-x)*(l1-x)+m*(l2[i]+x)*(l2[i]+x)+1/2.0*m*Rm**2 + 1.0/2*M*RM**2\n",
    "    rhs=Icm/(M+m+Mbar)\n",
    "    diff = lhs-rhs\n",
    "    if (np.abs(diff)<olddiff):\n",
    "        olddiff=diff\n",
    "        index=i\n",
    "    t1.append(2*np.pi*np.sqrt((h1*h1+rhs)/(g*h1)))\n",
    "    t2.append(2*np.pi*np.sqrt((h2*h2+rhs)/(g*h2)))\n",
    "    \n",
    "#print (l2,t1,t2)"
   ]
  },
  {
   "cell_type": "code",
   "execution_count": 71,
   "metadata": {
    "id": "VSXzoPUnTd28"
   },
   "outputs": [
    {
     "data": {
      "image/png": "[encoded data removed]",
      "text/plain": [
       "<Figure size 576x576 with 1 Axes>"
      ]
     },
     "metadata": {
      "needs_background": "light"
     },
     "output_type": "display_data"
    }
   ],
   "source": [
    "fig2, axs2 = plt.subplots(nrows=1, ncols=1, figsize=(8,8)) \n",
    "\n",
    "axs2.errorbar(up.Xpos,up.Period,yerr=up.dPeriod,xerr=up.dXpos,fmt='r.',capsize=5, capthick=2)\n",
    "axs2.errorbar(down.Xpos,down.Period,yerr=down.dPeriod,xerr=down.dXpos,fmt='g.',capsize=5, capthick=2)\n",
    "\n",
    "axs2.plot(xi,middleu,'--')\n",
    "#axs2.plot(xi,loweru,'r')\n",
    "#axs2.plot(xi,upperu,'r')\n",
    "\n",
    "axs2.plot(xi,middled,'--')\n",
    "#axs2.plot(xi,lowerd,'g')\n",
    "#axs2.plot(xi,upperd,'g')\n",
    "\n",
    "#axs2.set_xlim(3.8,4.3)\n",
    "#axs2.set_ylim(2.003,2.006)\n",
    "\n",
    "axs2.plot(xpos,t1,label='Small Mass Down')\n",
    "axs2.plot(xpos,t2,label='Small Mass Up')\n",
    "\n",
    "plt.show()"
   ]
  },
  {
   "cell_type": "code",
   "execution_count": 74,
   "metadata": {
    "id": "O7QRr-3zTgXr",
    "scrolled": true
   },
   "outputs": [
    {
     "name": "stdout",
     "output_type": "stream",
     "text": [
      "Coefficients (from curve_fit)\n",
      "[9.78012653]\n",
      "Covariance Matrix (from curve_fit)\n",
      "[[5.35212055e-05]]\n",
      "Coefficients (from curve_fit)\n",
      "[9.78847439]\n",
      "Covariance Matrix (from curve_fit)\n",
      "[[5.49601027e-05]]\n"
     ]
    },
    {
     "data": {
      "image/png": "[encoded data removed]",
      "text/plain": [
       "<Figure size 576x576 with 1 Axes>"
      ]
     },
     "metadata": {
      "needs_background": "light"
     },
     "output_type": "display_data"
    }
   ],
   "source": [
    "def theoryfitfunction1(xdata,*paramlist):\n",
    "    \n",
    "    M=1.35928 # large mass\n",
    "    m=0.72705 # small mass\n",
    "    Mbar=2.90 # mass of bar (with small and large masses removed)\n",
    "    D=0.9986 # distance between knife-edge pivot points\n",
    "    L=1.523  # length of bar\n",
    "    \n",
    "    g = paramlist[0]\n",
    "    #fudge_factor = paramlist[1]\n",
    "    fudge_factor=0.0000\n",
    "\n",
    "    # Distance calculations\n",
    "    #\n",
    "    # The distance between the knife edge pivot and the lower edge of the large mass is 1.35 cm\n",
    "    # The distance between the knife edge pivot and the lower edge of the large mass is 1.04 cm\n",
    "    # The radius of the large mass is 4.753 cm\n",
    "    # The radius of the small mass is 3.498 cm\n",
    "    RM = 0.04753\n",
    "    Rm = 0.03498\n",
    "    offsetM = 0.0135\n",
    "    offsetm = 0.0104\n",
    "    l1=D/2.0+RM+offsetM\n",
    "    \n",
    "    l2 = D/2.0+Rm+offsetm+xdata/100.0+fudge_factor\n",
    "    x=(M*l1-m*l2)/(M+m+Mbar)\n",
    "    \n",
    "    h2=D/2.0+x\n",
    "    h1=D/2.0-x\n",
    "    Icm=1.0/12.0*Mbar*L*L+Mbar*x*x+M*(l1-x)*(l1-x)+m*(l2+x)*(l2+x)+1/2.0*m*Rm**2 + 1.0/2*M*RM**2\n",
    "    rhs=Icm/(M+m+Mbar)\n",
    "    \n",
    "    t1 = 2*np.pi*np.sqrt((h1*h1+rhs)/(g*h1))\n",
    "    t2 = 2*np.pi*np.sqrt((h2*h2+rhs)/(g*h2))\n",
    "    \n",
    "    return t1\n",
    "\n",
    "def theoryfitfunction2(xdata,*paramlist):\n",
    "    \n",
    "    M=1.35928 # large mass\n",
    "    m=0.72705 # small mass\n",
    "    Mbar=2.90 # mass of bar (with small and large masses removed)\n",
    "    D=0.9986 # distance between knife-edge pivot points\n",
    "    L=1.523  # length of bar\n",
    "    \n",
    "    g = paramlist[0]\n",
    "    #fudge_factor = paramlist[1]\n",
    "    fudge_factor=0.0000\n",
    "\n",
    "    # Distance calculations\n",
    "    #\n",
    "    # The distance between the knife edge pivot and the lower edge of the large mass is 1.35 cm\n",
    "    # The distance between the knife edge pivot and the lower edge of the large mass is 1.04 cm\n",
    "    # The radius of the large mass is 4.753 cm\n",
    "    # The radius of the small mass is 3.498 cm\n",
    "    RM = 0.04753\n",
    "    Rm = 0.03498\n",
    "    offsetM = 0.0135\n",
    "    offsetm = 0.0104\n",
    "    l1=D/2.0+RM+offsetM\n",
    "    \n",
    "    l2 = D/2.0+Rm+offsetm+xdata/100.0+fudge_factor\n",
    "    x=(M*l1-m*l2)/(M+m+Mbar)\n",
    "    \n",
    "    h2=D/2.0+x\n",
    "    h1=D/2.0-x\n",
    "    Icm=1.0/12.0*Mbar*L*L+Mbar*x*x+M*(l1-x)*(l1-x)+m*(l2+x)*(l2+x)+1/2.0*m*Rm**2 + 1.0/2*M*RM**2\n",
    "    rhs=Icm/(M+m+Mbar)\n",
    "    \n",
    "    t1 = 2*np.pi*np.sqrt((h1*h1+rhs)/(g*h1))\n",
    "    t2 = 2*np.pi*np.sqrt((h2*h2+rhs)/(g*h2))\n",
    "    \n",
    "    return t2\n",
    "\n",
    "init_vals = [9.814]\n",
    "x = np.array(up['Xpos'])\n",
    "y = np.array(up['Period'])\n",
    "poptu, pcovu = curve_fit(theoryfitfunction1,x,y,p0=init_vals)\n",
    "\n",
    "#xi = np.linspace(np.min(x),np.max(x),100)\n",
    "xi = np.linspace(1,7,1000)\n",
    "ps = np.random.multivariate_normal(poptu,pcovu,10000)\n",
    "ysample=np.asarray([theoryfitfunction1(xi,*pi) for pi in ps])\n",
    "loweru = np.percentile(ysample,16.0,axis=0)\n",
    "upperu = np.percentile(ysample,84.0,axis=0)\n",
    "middleu = (loweru+upperu)/2.0\n",
    "\n",
    "print(\"Coefficients (from curve_fit)\")\n",
    "print (poptu)\n",
    "print(\"Covariance Matrix (from curve_fit)\")\n",
    "print (pcovu)\n",
    "\n",
    "init_vals = [9.814]\n",
    "x = np.array(down['Xpos'])\n",
    "y = np.array(down['Period'])\n",
    "poptd, pcovd = curve_fit(theoryfitfunction2,x,y,p0=init_vals)\n",
    "\n",
    "#xi = np.linspace(np.min(x),np.max(x),100)\n",
    "xi = np.linspace(1,7,1000)\n",
    "ps = np.random.multivariate_normal(poptd,pcovd,10000)\n",
    "ysample=np.asarray([theoryfitfunction2(xi,*pi) for pi in ps])\n",
    "lowerd = np.percentile(ysample,16.0,axis=0)\n",
    "upperd = np.percentile(ysample,84.0,axis=0)\n",
    "middled = (lowerd+upperd)/2.0\n",
    "\n",
    "print(\"Coefficients (from curve_fit)\")\n",
    "print (poptd)\n",
    "print(\"Covariance Matrix (from curve_fit)\")\n",
    "print (pcovd)\n",
    "\n",
    "fig2, axs2 = plt.subplots(nrows=1, ncols=1, figsize=(8,8)) \n",
    "\n",
    "axs2.errorbar(up.Xpos,up.Period,yerr=up.dPeriod,xerr=up.dXpos,fmt='r.',capsize=5, capthick=2)\n",
    "axs2.errorbar(down.Xpos,down.Period,yerr=down.dPeriod,xerr=down.dXpos,fmt='g.',capsize=5, capthick=2)\n",
    "\n",
    "axs2.plot(xi,middleu)\n",
    "axs2.plot(xi,loweru,'r')\n",
    "axs2.plot(xi,upperu,'r')\n",
    "\n",
    "axs2.plot(xi,middled)\n",
    "axs2.plot(xi,lowerd,'g')\n",
    "axs2.plot(xi,upperd,'g')\n",
    "\n",
    "#axs2.set_xlim(3.8,4.3)\n",
    "#axs2.set_ylim(2.003,2.006)\n",
    "\n",
    "plt.show()\n",
    "\n"
   ]
  },
  {
   "cell_type": "code",
   "execution_count": 75,
   "metadata": {
    "id": "DVvf58G_Tj6Z"
   },
   "outputs": [
    {
     "name": "stdout",
     "output_type": "stream",
     "text": [
      "Period = 2.00544 +/- 0.01269\n"
     ]
    }
   ],
   "source": [
    "tmin = []\n",
    "for i in range(len(xi)):\n",
    "    if loweru[i] < upperd[i]:\n",
    "        tmin.append(loweru[i])\n",
    "tmin = np.array(tmin)\n",
    "tmin = tmin.min()\n",
    "\n",
    "tmax = []\n",
    "for i in range(len(xi)):\n",
    "    if upperu[i] > lowerd[i]:\n",
    "        tmax.append(upperu[i])\n",
    "tmax = np.array(tmax)\n",
    "tmax = tmax.max()\n",
    "\n",
    "tbar = (tmax+tmin)/2.0\n",
    "dtbar = (tmax-tmin)/2.0\n",
    "\n",
    "print (\"Period = %0.5f +/- %0.5f\" % (tbar,dtbar))\n",
    "            "
   ]
  },
  {
   "cell_type": "code",
   "execution_count": 76,
   "metadata": {
    "id": "FdrxwkhmTmN7"
   },
   "outputs": [
    {
     "name": "stdout",
     "output_type": "stream",
     "text": [
      "g = 9.8024 +/- 0.1240\n"
     ]
    }
   ],
   "source": [
    "length = 0.9986\n",
    "dlength = 0.00005\n",
    "\n",
    "g = 4*np.pi**2*length/tbar**2\n",
    "dg = g*np.sqrt((dlength/length)**2+(2*dtbar/tbar)**2)\n",
    "\n",
    "print (\"g = %0.4f +/- %0.4f\" % (g,dg))"
   ]
  },
  {
   "cell_type": "code",
   "execution_count": null,
   "metadata": {},
   "outputs": [],
   "source": []
  },
  {
   "cell_type": "code",
   "execution_count": null,
   "metadata": {},
   "outputs": [],
   "source": []
  }
 ],
 "metadata": {
  "colab": {
   "collapsed_sections": [],
   "name": "Copy of Assignment2_Template.ipynb",
   "provenance": []
  },
  "kernelspec": {
   "display_name": "Python 3",
   "language": "python",
   "name": "python3"
  },
  "language_info": {
   "codemirror_mode": {
    "name": "ipython",
    "version": 3
   },
   "file_extension": ".py",
   "mimetype": "text/x-python",
   "name": "python",
   "nbconvert_exporter": "python",
   "pygments_lexer": "ipython3",
   "version": "3.6.8"
  }
 },
 "nbformat": 4,
 "nbformat_minor": 1
}
