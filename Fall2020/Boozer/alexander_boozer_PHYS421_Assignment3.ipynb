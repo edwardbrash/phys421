{
  "nbformat": 4,
  "nbformat_minor": 0,
  "metadata": {
    "kernelspec": {
      "display_name": "Python 3",
      "language": "python",
      "name": "python3"
    },
    "language_info": {
      "codemirror_mode": {
        "name": "ipython",
        "version": 3
      },
      "file_extension": ".py",
      "mimetype": "text/x-python",
      "name": "python",
      "nbconvert_exporter": "python",
      "pygments_lexer": "ipython3",
      "version": "3.6.8"
    },
    "colab": {
      "name": "alexander_boozer_PHYS421_Assignment3.ipynb",
      "provenance": []
    }
  },
  "cells": [
    {
      "cell_type": "markdown",
      "metadata": {
        "id": "9IH3sFWCEsqg"
      },
      "source": [
        "Alexander Boozer\n",
        "PHYS421 Assignment 3"
      ]
    },
    {
      "cell_type": "markdown",
      "metadata": {
        "id": "FrgQ7IvP8dHy"
      },
      "source": [
        "# Assignment 3\n",
        "\n",
        "Due Date:  11:59pm on Friday, November 13th (for now)\n",
        "\n",
        "There are some subtle issues to worry about in each of these questions, and thus I\n",
        "will be discussing each problem in class on Monday, November 9th."
      ]
    },
    {
      "cell_type": "markdown",
      "metadata": {
        "id": "W_MbMNmQ8dH1"
      },
      "source": [
        "## Question 1 - Fourier Analysis"
      ]
    },
    {
      "cell_type": "markdown",
      "metadata": {
        "id": "4SPHledp8dH3"
      },
      "source": [
        "Consider the following triangular pulse signal:"
      ]
    },
    {
      "cell_type": "code",
      "metadata": {
        "id": "BhhvRgvV8dH5",
        "outputId": "b3088549-23f2-4d97-f415-1a9cd79fe61c",
        "colab": {
          "base_uri": "https://localhost:8080/",
          "height": 282
        }
      },
      "source": [
        "import numpy as np\n",
        "from scipy.fftpack import fft\n",
        "import matplotlib.pyplot as plt\n",
        "import random\n",
        "\n",
        "N_samples = 1000\n",
        "t_low = -np.pi\n",
        "t_high = 2.0*np.pi\n",
        "\n",
        "t = np.linspace(t_low,t_high,N_samples)\n",
        "y = np.zeros(N_samples)\n",
        "\n",
        "for i in range(N_samples):\n",
        "    if t[i] < 0.0:\n",
        "        y[i] = 0.0 + 0.1*random.uniform(-1,1)\n",
        "    if t[i] >= 0.0 and t[i] < np.pi:\n",
        "        y[i] = t[i] + 0.1*random.uniform(-1,1)\n",
        "    if t[i] >= np.pi:\n",
        "        y[i] = 0.0 + 0.1*random.uniform(-1,1)\n",
        "    \n",
        "plt.plot(t,y)"
      ],
      "execution_count": 1,
      "outputs": [
        {
          "output_type": "execute_result",
          "data": {
            "text/plain": [
              "[<matplotlib.lines.Line2D at 0x7fb550767630>]"
            ]
          },
          "metadata": {
            "tags": []
          },
          "execution_count": 1
        },
        {
          "output_type": "display_data",
          "data": {
            "image/png": "[encoded data removed]",
            "text/plain": [
              "<Figure size 432x288 with 1 Axes>"
            ]
          },
          "metadata": {
            "tags": [],
            "needs_background": "light"
          }
        }
      ]
    },
    {
      "cell_type": "markdown",
      "metadata": {
        "id": "7D9Xv7sB8dIG"
      },
      "source": [
        "(a) Using the jupyter notebooks called graph_fourier_basic.ipynb and graph_fourier_guitar.ipynb to help you, calcuate the Fourier transform of this signal.\n",
        "\n",
        "You should create plots of both the real and imaginary Fourier components as a function\n",
        "of frequency, a plot of the Fourier power spectrum as a function of frequency, and also\n",
        "a plot of the time spectrum using the Fourier components as compared to the original time spectrum.\n",
        "\n",
        "(b) Discuss the resulting Fourier spectrum. Which Fourier components do you expect to be small (or zero), based on the theory?  What is the Nyquist frequency, and how many terms in the Fourier series is necessary to give a good approximation to the original signal?"
      ]
    },
    {
      "cell_type": "markdown",
      "metadata": {
        "id": "jdAwhyPGFOam"
      },
      "source": [
        " **Answer for part b: The Nyquist frequency is 53.05 Hz. 500 terms is enough for the approximation since is is half of the given number of samples which is 1000. The components that are expected to be close to zero are the period and the time spacing**"
      ]
    },
    {
      "cell_type": "code",
      "metadata": {
        "id": "9T73Zwda_N-0"
      },
      "source": [
        "N_terms = int(N_samples/2)\n",
        "T = t_high-t_low\n",
        "random.seed(1)\n",
        "dt = T/N_samples\n",
        "f_s = 1.0/dt\n",
        "#print(\"period:\", 1/f_s)\n",
        "#print(\"time spacing:\", dt)"
      ],
      "execution_count": 2,
      "outputs": []
    },
    {
      "cell_type": "code",
      "metadata": {
        "id": "Ubw1IsRSrt4W"
      },
      "source": [
        "f = np.zeros(N_terms)\n",
        "\n",
        "yhigh = np.zeros(1000)\n",
        "ylow = np.zeros(1000)\n",
        "time = np.zeros(1000)\n",
        "\n",
        "ytReal = np.zeros(N_terms)\n",
        "ytImag = np.zeros(N_terms)\n",
        "\n",
        "yfftReal = np.zeros(N_terms)\n",
        "yfftImag = np.zeros(N_terms)\n",
        "\n",
        "power = np.zeros(N_terms)\n",
        "powerfft = np.zeros(N_terms)"
      ],
      "execution_count": 3,
      "outputs": []
    },
    {
      "cell_type": "code",
      "metadata": {
        "id": "QUADhhakS6Q3"
      },
      "source": [
        "for i in range(N_terms):\n",
        "    f[i] = i/(N_terms*dt)"
      ],
      "execution_count": 4,
      "outputs": []
    },
    {
      "cell_type": "code",
      "metadata": {
        "id": "oSQKYFQ6PiXB",
        "outputId": "38f1826d-5b0b-4466-dd16-4a2e3f4e66b8",
        "colab": {
          "base_uri": "https://localhost:8080/"
        }
      },
      "source": [
        "from timeit import default_timer as timer\n",
        "\n",
        "start = timer()\n",
        "\n",
        "\n",
        "\n",
        "twopiT=2.0*np.pi/T\n",
        "\n",
        "\n",
        "epsilon = 0.000001\n",
        "\n",
        "for n in range(N_terms):\n",
        "    ytReal[n]=epsilon\n",
        "    ytImag[n]=epsilon\n",
        "    for i in range(N_samples):\n",
        "        ytReal[n] = ytReal[n] + 2.0/T*y[i]*np.cos(twopiT*n*i*dt)*dt\n",
        "        ytImag[n] = ytImag[n] + 2.0/T*y[i]*np.sin(twopiT*n*i*dt)*dt  \n",
        "    power[n]=(ytReal[n]**2+ytImag[n]**2)\n",
        "    \n",
        "end = timer()\n",
        "btime = end-start\n",
        "print (\"Alex: \",btime)\n",
        "ymaxr = max(ytReal)\n",
        "ymaxi = max(ytImag)\n",
        "ymax = 1.2*max(ymaxr,ymaxi)"
      ],
      "execution_count": 5,
      "outputs": [
        {
          "output_type": "stream",
          "text": [
            "Alex:  2.059354819999996\n"
          ],
          "name": "stdout"
        }
      ]
    },
    {
      "cell_type": "code",
      "metadata": {
        "id": "LqyptixlPrRG",
        "outputId": "895d43cf-3cfc-43d8-edfd-df7bbbcab661",
        "colab": {
          "base_uri": "https://localhost:8080/"
        }
      },
      "source": [
        "integral = 0.0\n",
        "N_real = int(N_terms)\n",
        "\n",
        "for n in range(N_real):\n",
        "    integral = integral + power[n]\n",
        "print(\"Average Power = %.2f Watts.\" % (integral/2.0))\n",
        "\n",
        "\n",
        "f_nyquist = 0.5*(1.0/dt)\n",
        "print(\"Nyquist frequency = %.2f Hz.\" % f_nyquist)\n",
        "\n",
        "for i in range(1000):\n",
        "    time[i] = i*T/1000.0\n",
        "    ylow[i] = np.sin(2.0*np.pi*time[i]*f_s)\n",
        "    yhigh[i] = -np.sin(2.0*np.pi*time[i]*(2.0*f_nyquist-f_s))"
      ],
      "execution_count": 6,
      "outputs": [
        {
          "output_type": "stream",
          "text": [
            "Average Power = 1.36 Watts.\n",
            "Nyquist frequency = 53.05 Hz.\n"
          ],
          "name": "stdout"
        }
      ]
    },
    {
      "cell_type": "code",
      "metadata": {
        "id": "v8SAaWzrPzYy"
      },
      "source": [
        "start = timer()\n",
        "N_fft = len(y)\n",
        "yfft = fft(y)\n",
        "yfftReal = 2.0/N_fft*yfft.real\n",
        "yfftImag = 2.0/N_fft*yfft.imag\n",
        "powerfft = 4.0/N_fft**2*abs(yfft)**2\n",
        "end = timer()\n"
      ],
      "execution_count": 7,
      "outputs": []
    },
    {
      "cell_type": "code",
      "metadata": {
        "id": "dj8RxvGo9L2l",
        "outputId": "260efdd1-b74a-4339-d785-e19022433285",
        "colab": {
          "base_uri": "https://localhost:8080/",
          "height": 681
        }
      },
      "source": [
        "fig2, axs2 = plt.subplots(nrows=2, ncols=2, figsize=(8,11))\n",
        "\n",
        "axs2[0,0].plot(t,y,'.-')\n",
        "axs2[0,0].set_ylabel('Time')\n",
        "axs2[0,0].set_xlabel('Frequency')\n",
        "axs2[0,0].set_ylim(-1.5,1.5)\n",
        "\n",
        "axs2[0,1].plot(f,yfftReal[0:N_terms],'r-')\n",
        "axs2[0,1].plot(f,ytReal,'.')\n",
        "axs2[0,1].set_ylabel('Real')\n",
        "axs2[0,1].set_xlabel('Frequency')\n",
        "axs2[0,1].set_ylim(-1.5,1.5)\n",
        "\n",
        "axs2[1,0].plot(f,-yfftImag[0:N_terms],'r-')\n",
        "axs2[1,0].plot(f,ytImag,'.')\n",
        "axs2[1,0].set_ylabel('Imaginary')\n",
        "axs2[1,0].set_xlabel('Frequency')\n",
        "axs2[1,0].set_ylim(-1.5,1.5)\n",
        "\n",
        "axs2[1,1].plot(f,powerfft[0:N_terms],'r-')\n",
        "axs2[1,1].plot(f,power,'.')\n",
        "axs2[1,1].set_ylabel('Power')\n",
        "axs2[1,1].set_xlabel('Frequency')\n",
        "axs2[1,1].set_ylim(-1.5,1.5)"
      ],
      "execution_count": 8,
      "outputs": [
        {
          "output_type": "execute_result",
          "data": {
            "text/plain": [
              "(-1.5, 1.5)"
            ]
          },
          "metadata": {
            "tags": []
          },
          "execution_count": 8
        },
        {
          "output_type": "display_data",
          "data": {
            "image/png": "[encoded data removed]",
            "text/plain": [
              "<Figure size 576x792 with 4 Axes>"
            ]
          },
          "metadata": {
            "tags": [],
            "needs_background": "light"
          }
        }
      ]
    },
    {
      "cell_type": "markdown",
      "metadata": {
        "id": "7L47jIw48dII"
      },
      "source": [
        "## Question 2 - Frogs and Lily Pads"
      ]
    },
    {
      "cell_type": "markdown",
      "metadata": {
        "id": "SipZFUdP8dIM"
      },
      "source": [
        "Modify the Jupyter Notebook called frogger.ipynb to include the possibility that the frog can jump in either direction (not just forward). Use the following algorithm:\n",
        "\n",
        "From wherever the frog is currently sitting (i.e. anywhere from the starting position to the last lily pad), it can jump to any other available position, including back to the starting position, or to the other side of the stream.  The frog should continue jumping until that moment when it gets to the other side of the stream.  The probability should be uniform/equal for jumping to any available position.\n",
        "\n",
        "The goal here is to calculate the average number of jumps, as function of the number of lily pads.\n",
        "\n",
        "Does the final result surprise you?  \n",
        "\n",
        "As a final check that your simulation is reasonable, plot the DISTRIBUTION of the number of jumps taken for N$_{lily~pads}$ = 30."
      ]
    },
    {
      "cell_type": "code",
      "metadata": {
        "id": "7uDrwO0PxY2p"
      },
      "source": [
        "import scipy.stats as stats"
      ],
      "execution_count": 9,
      "outputs": []
    },
    {
      "cell_type": "code",
      "metadata": {
        "id": "fd0S0-0KwtTN"
      },
      "source": [
        "n = 31 #for 30 lilypads since n is the number of lilypads+1"
      ],
      "execution_count": 10,
      "outputs": []
    },
    {
      "cell_type": "code",
      "metadata": {
        "id": "p_tq7B78wur1"
      },
      "source": [
        "random.seed(1)"
      ],
      "execution_count": 11,
      "outputs": []
    },
    {
      "cell_type": "code",
      "metadata": {
        "id": "0_oJOF9uxM0L"
      },
      "source": [
        "start = 0\n",
        "jumpsum = 0\n",
        "total_jumps = 0\n",
        "#n_trys = 10000\n",
        "n_trys = 4\n",
        "\n",
        "x = []\n",
        "y = []\n",
        "eval = []\n",
        "evalr = []\n",
        "evalr2 = []\n",
        "evalr3 = []\n",
        "sigma = []"
      ],
      "execution_count": 12,
      "outputs": []
    },
    {
      "cell_type": "code",
      "metadata": {
        "id": "I6mk5Ar0lkrt",
        "outputId": "e6c6ddba-219f-4aa4-a831-7703e5d93db4",
        "colab": {
          "base_uri": "https://localhost:8080/"
        }
      },
      "source": [
        "for npad in range(1,n+1): \n",
        "\n",
        "    if (npad == 1):\n",
        "        eval.append(1)\n",
        "        evalr.append(1)\n",
        "    else:\n",
        "        s = 0.0\n",
        "        for i in range(1,npad):\n",
        "            #print(i,npad,eval[npad-i-1])\n",
        "            s = s + 1.0/npad*(1.0+eval[npad-i-1])\n",
        "        s = s + 1.0/npad\n",
        "        eval.append(s)\n",
        "        #evalr.append(eval[npad-1]/npad)\n",
        "        evalr.append(eval[npad-1])\n",
        "    #print(\"Theory: \",npad,eval[npad-1])\n",
        "    \n",
        "    s = 0.0\n",
        "    for i in range(1,npad+1):\n",
        "        s = s + 1.0/i\n",
        "    evalr2.append(s)\n",
        "    \n",
        "    x.append(npad)\n",
        "    \n",
        "    sum2 = 1.0/stats.hmean(x)*npad\n",
        "    evalr3.append(sum2)\n",
        "    \n",
        "    #print (npad,sum2)\n",
        "    \n",
        "    end = npad\n",
        "    for j in range(n_trys):\n",
        "        while start < npad:\n",
        "            numToJump = (end-start+1)\n",
        "            \n",
        "            if start == 0:\n",
        "              jump = int(random.uniform(1,numToJump))\n",
        "            else:\n",
        "              jump = 0\n",
        "              while jump == 0:\n",
        "                jump = int(random.uniform((-1*start),numToJump))\n",
        "\n",
        "            \n",
        "            \n",
        "            #print (\"Jump = \",jump)\n",
        "            start = start + jump\n",
        "            #print (\"Now at \",start)\n",
        "            jumpsum = jumpsum + 1\n",
        "            if start == 0:\n",
        "              break\n",
        "        start = 0\n",
        "        #print (\"j = %d, Total_jumps = %d\" % (j,jumpsum))\n",
        "        total_jumps = total_jumps + jumpsum\n",
        "        jumpsum = 0\n",
        "    \n",
        "    #print (npad,total_jumps,n_trys)\n",
        "\n",
        "    expectation_value = total_jumps/n_trys*1.0\n",
        "    y.append(expectation_value)\n",
        "    sigma.append(expectation_value*1/np.sqrt(n_trys))\n",
        "    total_jumps = 0\n",
        "    \n",
        "    print (\"Expectation value for n = %d is %f\" % (npad,expectation_value))"
      ],
      "execution_count": 13,
      "outputs": [
        {
          "output_type": "stream",
          "text": [
            "Expectation value for n = 1 is 1.000000\n",
            "Expectation value for n = 2 is 2.000000\n",
            "Expectation value for n = 3 is 2.250000\n",
            "Expectation value for n = 4 is 2.250000\n",
            "Expectation value for n = 5 is 5.500000\n",
            "Expectation value for n = 6 is 3.250000\n",
            "Expectation value for n = 7 is 13.250000\n",
            "Expectation value for n = 8 is 7.500000\n",
            "Expectation value for n = 9 is 4.750000\n",
            "Expectation value for n = 10 is 10.500000\n",
            "Expectation value for n = 11 is 4.000000\n",
            "Expectation value for n = 12 is 3.750000\n",
            "Expectation value for n = 13 is 24.000000\n",
            "Expectation value for n = 14 is 8.000000\n",
            "Expectation value for n = 15 is 14.250000\n",
            "Expectation value for n = 16 is 20.500000\n",
            "Expectation value for n = 17 is 24.250000\n",
            "Expectation value for n = 18 is 15.500000\n",
            "Expectation value for n = 19 is 13.250000\n",
            "Expectation value for n = 20 is 8.500000\n",
            "Expectation value for n = 21 is 12.250000\n",
            "Expectation value for n = 22 is 10.750000\n",
            "Expectation value for n = 23 is 42.250000\n",
            "Expectation value for n = 24 is 15.000000\n",
            "Expectation value for n = 25 is 33.000000\n",
            "Expectation value for n = 26 is 15.750000\n",
            "Expectation value for n = 27 is 17.250000\n",
            "Expectation value for n = 28 is 34.500000\n",
            "Expectation value for n = 29 is 46.250000\n",
            "Expectation value for n = 30 is 19.250000\n",
            "Expectation value for n = 31 is 17.500000\n"
          ],
          "name": "stdout"
        }
      ]
    },
    {
      "cell_type": "code",
      "metadata": {
        "id": "9bgb7tVCm7YO",
        "outputId": "edef0812-e2a2-4f5b-8999-c67cef4e90d6",
        "colab": {
          "base_uri": "https://localhost:8080/",
          "height": 747
        }
      },
      "source": [
        "def fitfunction(x,*paramlist):\n",
        "    return paramlist[0]+paramlist[1]*x+paramlist[2]*x*x+paramlist[3]*x*x*x\n",
        "\n",
        "\n",
        "fig = plt.figure(figsize=(15,12))\n",
        "ax1 = fig.add_subplot(111)\n",
        "\n",
        "ax1.set_title(\"Frog Problem\")\n",
        "ax1.set_xlabel('N')\n",
        "ax1.set_ylabel('Expected Number of Jumps / N')\n",
        "ax1.set_xlim(0,n+1)\n",
        "#ax1.set_yscale(\"log\")\n",
        "#ax1.set_xscale(\"log\")\n",
        "ax1.grid(True)\n",
        "\n",
        "ax1.errorbar(x,y,yerr=sigma,fmt='o')\n",
        "ax1.plot(x,evalr,'r--')\n",
        "ax1.plot(x,evalr2,'b--')\n",
        "ax1.plot(x,evalr3,'g--')"
      ],
      "execution_count": 14,
      "outputs": [
        {
          "output_type": "execute_result",
          "data": {
            "text/plain": [
              "[<matplotlib.lines.Line2D at 0x7fb547065048>]"
            ]
          },
          "metadata": {
            "tags": []
          },
          "execution_count": 14
        },
        {
          "output_type": "display_data",
          "data": {
            "image/png": "[encoded data removed]",
            "text/plain": [
              "<Figure size 1080x864 with 1 Axes>"
            ]
          },
          "metadata": {
            "tags": [],
            "needs_background": "light"
          }
        }
      ]
    },
    {
      "cell_type": "markdown",
      "metadata": {
        "id": "lIC_nX338dIP"
      },
      "source": [
        "## Question 3 - Random Walk"
      ]
    },
    {
      "cell_type": "markdown",
      "metadata": {
        "id": "Ztx-cInO8dIR"
      },
      "source": [
        "Begin with the example Jupyter Notebook called drunken_sailor.ipynb  \n",
        "\n",
        "In the first example, we considered random walk in one dimension.  For each step that a sailor took, we sampled from a random Gaussian distribution with a mean value of 0 and a standard deviation of 1.  \n",
        "\n",
        "In this question, we would like to consider a different underlying distribution for the step size.  Instead of using a Gaussian, choose the step size from a Poisson distribution with an average value of 1.  Remember that the Poisson distribution is defined for positive values of $x$ only, and so you will also have to randomly choose the direction of the step.\n",
        "\n",
        "How do the results compare to choosing a Gaussian distribution of step size?  Do your results agree with the predictions of the central limit theorem?"
      ]
    },
    {
      "cell_type": "markdown",
      "metadata": {
        "id": "Z-DH4ZuEPTzU"
      },
      "source": [
        "**The poisson distribution plot is has a similar shape as the gaussian distribution. The results do agree with the central limit theorem.**"
      ]
    },
    {
      "cell_type": "code",
      "metadata": {
        "id": "fFP7L2T3v__k"
      },
      "source": [
        "# example making a random walk and showing that the distribution after a number of\n",
        "# steps is a gaussian \n",
        "import numpy as np\n",
        "%matplotlib inline\n",
        "import matplotlib.pyplot as plt\n",
        "from scipy import stats # has lots of distribution functions in it\n",
        "\n",
        "from math import erfc   # complimentary error function \n",
        "\n",
        "# randomly walk nsteps and return the x value\n",
        "# starting at x=0\n",
        "#\n",
        "# each step has zero mean and a variance of 1\n",
        "#\n",
        "\n",
        "\n",
        "def walkn(nsteps):  # random walk using a poisson distribution for step sizes\n",
        "    r = stats.poisson.rvs(mu=1,size=nsteps)  # poisson distribution mean=0 variance=1\n",
        "    # r is a vector values randomly generated with a poisson distribution\n",
        "    return sum(r)  # the sum of the entire vector!  If we just add up all the steps\n",
        "                   # we will get the final position!!!\n",
        "\n",
        "# walk npart numbers of particles (or sailors) nsteps and return a vector of x positions\n",
        "# the function that gives us a randomly generated position is walkn\n",
        "def npart_walkn(npart,nsteps):\n",
        "    xvec = np.zeros(0)\n",
        "    for i in range(npart):\n",
        "        x = walkn(nsteps)  # a single random walk value\n",
        "        xvec = np.append(xvec,x)  # append each random walk to the vector\n",
        "    return xvec  # we return a vector - each element is the final position of a sailors.\n",
        "\n",
        "nsteps = 100 # number of steps\n",
        "npart = 1000 # number of particles (sailors) to let walk around\n",
        "\n",
        "# fill a vector with npart walkers each walking nsteps\n",
        "xvec = npart_walkn(npart,nsteps)\n"
      ],
      "execution_count": 15,
      "outputs": []
    },
    {
      "cell_type": "code",
      "metadata": {
        "id": "MYwdRrJmv__8",
        "outputId": "3a88dc6c-6fda-4b46-f3b6-50bc70173123",
        "colab": {
          "base_uri": "https://localhost:8080/",
          "height": 309
        }
      },
      "source": [
        "# plot the histogram, i.e., measured distribution of final positions \n",
        "#   after n steps of random walking \n",
        "n, bins, patches = plt.hist(xvec,bins=20,density=False)\n",
        "#\n",
        "# density = True will make it a normalized probability histogram\n",
        "#\n",
        "# this retuns as n the number of values counted, bins is the x values of the bins, \n",
        "# patches is for plotting the histogram\n",
        "#\n",
        "# bins will be the most important thing here - we will use that below\n",
        "#\n",
        "plt.xlabel(\"x\",fontsize=22)\n",
        "plt.ylabel(\"p(x)\",fontsize=22)  # probability!\n",
        "\n",
        "# a poisson probability mass distribution, this is a function!\n",
        "mypois = stats.poisson(0.0, np.sqrt(nsteps))  # should scale with sqrt(nsteps)\n",
        "y = mypois.pmf(bins)  # evaluate the function at the bin locations\n",
        "plt.plot(bins,y,\"r\", lw=3)  #plot the expected mass distribution as a black line"
      ],
      "execution_count": 16,
      "outputs": [
        {
          "output_type": "execute_result",
          "data": {
            "text/plain": [
              "[<matplotlib.lines.Line2D at 0x7fb546fd9320>]"
            ]
          },
          "metadata": {
            "tags": []
          },
          "execution_count": 16
        },
        {
          "output_type": "display_data",
          "data": {
            "image/png": "[encoded data removed]",
            "text/plain": [
              "<Figure size 432x288 with 1 Axes>"
            ]
          },
          "metadata": {
            "tags": [],
            "needs_background": "light"
          }
        }
      ]
    }
  ]
}